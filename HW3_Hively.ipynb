{
  "cells": [
    {
      "cell_type": "markdown",
      "metadata": {
        "id": "view-in-github",
        "colab_type": "text"
      },
      "source": [
        "<a href=\"https://colab.research.google.com/github/danhively/CS4499/blob/main/HW3_Hively.ipynb\" target=\"_parent\"><img src=\"https://colab.research.google.com/assets/colab-badge.svg\" alt=\"Open In Colab\"/></a>"
      ]
    },
    {
      "cell_type": "markdown",
      "metadata": {
        "id": "4ChUHtY3xSDN"
      },
      "source": [
        "# Homework 3\n",
        "Due: 2/13/23 Worth 100 pts \n",
        "Dan Hively"
      ]
    },
    {
      "cell_type": "markdown",
      "metadata": {
        "id": "1aHqNQ0txeOk"
      },
      "source": [
        "First use one of the techniques we used in class to import the United_States_COVID-19_Community_Levels_by_County dataset. (The dataset is under the assignment item in moodle). "
      ]
    },
    {
      "cell_type": "code",
      "source": [
        "# Import packages \n",
        "# import os\n",
        "import pandas as pd \n",
        "import numpy as np \n",
        "import matplotlib.pyplot as plt \n",
        "\n",
        "# Make sure we can get to the notebook and data file.\n",
        "# Mount my Google Drive\n",
        "# from google.colab import drive\n",
        "# drive.mount('/content/drive/', force_remount=True)\n",
        "# os.chdir(\"/content/drive/My Drive/CS4499\")\n",
        "# !ls -al"
      ],
      "metadata": {
        "id": "L68TEdoD1Byy"
      },
      "execution_count": 23,
      "outputs": []
    },
    {
      "cell_type": "code",
      "execution_count": 24,
      "metadata": {
        "id": "RQL2X725okW1"
      },
      "outputs": [],
      "source": [
        "# Bring in the data \n",
        "# https://raw.githubusercontent.com/danhively/CS4499/main/United_States_COVID-19_Community_Levels_by_County.csv\n",
        "us_covid_df = pd.read_csv('https://raw.githubusercontent.com/danhively/CS4499/main/United_States_COVID-19_Community_Levels_by_County.csv')"
      ]
    },
    {
      "cell_type": "code",
      "source": [
        "# What does the data look like?\n",
        "us_covid_df.describe() "
      ],
      "metadata": {
        "colab": {
          "base_uri": "https://localhost:8080/",
          "height": 300
        },
        "id": "OTVw16oQ8wHE",
        "outputId": "d668c394-62cf-48e0-b164-9813a5df1d75"
      },
      "execution_count": 25,
      "outputs": [
        {
          "output_type": "execute_result",
          "data": {
            "text/plain": [
              "        county_fips  county_population  health_service_area_number  \\\n",
              "count  112836.00000       1.128350e+05               112836.000000   \n",
              "mean    31438.02789       1.029200e+05                  400.462033   \n",
              "std     16331.50567       3.293638e+05                  243.444960   \n",
              "min      1001.00000       8.600000e+01                    1.000000   \n",
              "25%     19033.00000       1.113100e+04                  186.000000   \n",
              "50%     30027.00000       2.611800e+04                  409.000000   \n",
              "75%     46111.00000       6.721500e+04                  587.000000   \n",
              "max     78000.00000       1.003911e+07                  905.000000   \n",
              "\n",
              "       health_service_area_population  covid_inpatient_bed_utilization  \\\n",
              "count                    1.128290e+05                     112648.00000   \n",
              "mean                     5.808604e+05                          3.25508   \n",
              "std                      9.952625e+05                          2.66225   \n",
              "min                      2.274000e+03                          0.00000   \n",
              "25%                      9.021200e+04                          1.30000   \n",
              "50%                      2.249140e+05                          2.80000   \n",
              "75%                      5.545570e+05                          4.50000   \n",
              "max                      1.321480e+07                         36.00000   \n",
              "\n",
              "       covid_hospital_admissions_per_100k  covid_cases_per_100k  \n",
              "count                       112778.000000         112836.000000  \n",
              "mean                             7.716028            144.930991  \n",
              "std                              6.788769            186.263383  \n",
              "min                              0.000000              0.000000  \n",
              "25%                              3.000000             44.817500  \n",
              "50%                              6.500000            106.760000  \n",
              "75%                             10.700000            194.200000  \n",
              "max                            171.200000          13017.750000  "
            ],
            "text/html": [
              "\n",
              "  <div id=\"df-acfd786f-8e67-4418-b9f1-5eaa601cbd0b\">\n",
              "    <div class=\"colab-df-container\">\n",
              "      <div>\n",
              "<style scoped>\n",
              "    .dataframe tbody tr th:only-of-type {\n",
              "        vertical-align: middle;\n",
              "    }\n",
              "\n",
              "    .dataframe tbody tr th {\n",
              "        vertical-align: top;\n",
              "    }\n",
              "\n",
              "    .dataframe thead th {\n",
              "        text-align: right;\n",
              "    }\n",
              "</style>\n",
              "<table border=\"1\" class=\"dataframe\">\n",
              "  <thead>\n",
              "    <tr style=\"text-align: right;\">\n",
              "      <th></th>\n",
              "      <th>county_fips</th>\n",
              "      <th>county_population</th>\n",
              "      <th>health_service_area_number</th>\n",
              "      <th>health_service_area_population</th>\n",
              "      <th>covid_inpatient_bed_utilization</th>\n",
              "      <th>covid_hospital_admissions_per_100k</th>\n",
              "      <th>covid_cases_per_100k</th>\n",
              "    </tr>\n",
              "  </thead>\n",
              "  <tbody>\n",
              "    <tr>\n",
              "      <th>count</th>\n",
              "      <td>112836.00000</td>\n",
              "      <td>1.128350e+05</td>\n",
              "      <td>112836.000000</td>\n",
              "      <td>1.128290e+05</td>\n",
              "      <td>112648.00000</td>\n",
              "      <td>112778.000000</td>\n",
              "      <td>112836.000000</td>\n",
              "    </tr>\n",
              "    <tr>\n",
              "      <th>mean</th>\n",
              "      <td>31438.02789</td>\n",
              "      <td>1.029200e+05</td>\n",
              "      <td>400.462033</td>\n",
              "      <td>5.808604e+05</td>\n",
              "      <td>3.25508</td>\n",
              "      <td>7.716028</td>\n",
              "      <td>144.930991</td>\n",
              "    </tr>\n",
              "    <tr>\n",
              "      <th>std</th>\n",
              "      <td>16331.50567</td>\n",
              "      <td>3.293638e+05</td>\n",
              "      <td>243.444960</td>\n",
              "      <td>9.952625e+05</td>\n",
              "      <td>2.66225</td>\n",
              "      <td>6.788769</td>\n",
              "      <td>186.263383</td>\n",
              "    </tr>\n",
              "    <tr>\n",
              "      <th>min</th>\n",
              "      <td>1001.00000</td>\n",
              "      <td>8.600000e+01</td>\n",
              "      <td>1.000000</td>\n",
              "      <td>2.274000e+03</td>\n",
              "      <td>0.00000</td>\n",
              "      <td>0.000000</td>\n",
              "      <td>0.000000</td>\n",
              "    </tr>\n",
              "    <tr>\n",
              "      <th>25%</th>\n",
              "      <td>19033.00000</td>\n",
              "      <td>1.113100e+04</td>\n",
              "      <td>186.000000</td>\n",
              "      <td>9.021200e+04</td>\n",
              "      <td>1.30000</td>\n",
              "      <td>3.000000</td>\n",
              "      <td>44.817500</td>\n",
              "    </tr>\n",
              "    <tr>\n",
              "      <th>50%</th>\n",
              "      <td>30027.00000</td>\n",
              "      <td>2.611800e+04</td>\n",
              "      <td>409.000000</td>\n",
              "      <td>2.249140e+05</td>\n",
              "      <td>2.80000</td>\n",
              "      <td>6.500000</td>\n",
              "      <td>106.760000</td>\n",
              "    </tr>\n",
              "    <tr>\n",
              "      <th>75%</th>\n",
              "      <td>46111.00000</td>\n",
              "      <td>6.721500e+04</td>\n",
              "      <td>587.000000</td>\n",
              "      <td>5.545570e+05</td>\n",
              "      <td>4.50000</td>\n",
              "      <td>10.700000</td>\n",
              "      <td>194.200000</td>\n",
              "    </tr>\n",
              "    <tr>\n",
              "      <th>max</th>\n",
              "      <td>78000.00000</td>\n",
              "      <td>1.003911e+07</td>\n",
              "      <td>905.000000</td>\n",
              "      <td>1.321480e+07</td>\n",
              "      <td>36.00000</td>\n",
              "      <td>171.200000</td>\n",
              "      <td>13017.750000</td>\n",
              "    </tr>\n",
              "  </tbody>\n",
              "</table>\n",
              "</div>\n",
              "      <button class=\"colab-df-convert\" onclick=\"convertToInteractive('df-acfd786f-8e67-4418-b9f1-5eaa601cbd0b')\"\n",
              "              title=\"Convert this dataframe to an interactive table.\"\n",
              "              style=\"display:none;\">\n",
              "        \n",
              "  <svg xmlns=\"http://www.w3.org/2000/svg\" height=\"24px\"viewBox=\"0 0 24 24\"\n",
              "       width=\"24px\">\n",
              "    <path d=\"M0 0h24v24H0V0z\" fill=\"none\"/>\n",
              "    <path d=\"M18.56 5.44l.94 2.06.94-2.06 2.06-.94-2.06-.94-.94-2.06-.94 2.06-2.06.94zm-11 1L8.5 8.5l.94-2.06 2.06-.94-2.06-.94L8.5 2.5l-.94 2.06-2.06.94zm10 10l.94 2.06.94-2.06 2.06-.94-2.06-.94-.94-2.06-.94 2.06-2.06.94z\"/><path d=\"M17.41 7.96l-1.37-1.37c-.4-.4-.92-.59-1.43-.59-.52 0-1.04.2-1.43.59L10.3 9.45l-7.72 7.72c-.78.78-.78 2.05 0 2.83L4 21.41c.39.39.9.59 1.41.59.51 0 1.02-.2 1.41-.59l7.78-7.78 2.81-2.81c.8-.78.8-2.07 0-2.86zM5.41 20L4 18.59l7.72-7.72 1.47 1.35L5.41 20z\"/>\n",
              "  </svg>\n",
              "      </button>\n",
              "      \n",
              "  <style>\n",
              "    .colab-df-container {\n",
              "      display:flex;\n",
              "      flex-wrap:wrap;\n",
              "      gap: 12px;\n",
              "    }\n",
              "\n",
              "    .colab-df-convert {\n",
              "      background-color: #E8F0FE;\n",
              "      border: none;\n",
              "      border-radius: 50%;\n",
              "      cursor: pointer;\n",
              "      display: none;\n",
              "      fill: #1967D2;\n",
              "      height: 32px;\n",
              "      padding: 0 0 0 0;\n",
              "      width: 32px;\n",
              "    }\n",
              "\n",
              "    .colab-df-convert:hover {\n",
              "      background-color: #E2EBFA;\n",
              "      box-shadow: 0px 1px 2px rgba(60, 64, 67, 0.3), 0px 1px 3px 1px rgba(60, 64, 67, 0.15);\n",
              "      fill: #174EA6;\n",
              "    }\n",
              "\n",
              "    [theme=dark] .colab-df-convert {\n",
              "      background-color: #3B4455;\n",
              "      fill: #D2E3FC;\n",
              "    }\n",
              "\n",
              "    [theme=dark] .colab-df-convert:hover {\n",
              "      background-color: #434B5C;\n",
              "      box-shadow: 0px 1px 3px 1px rgba(0, 0, 0, 0.15);\n",
              "      filter: drop-shadow(0px 1px 2px rgba(0, 0, 0, 0.3));\n",
              "      fill: #FFFFFF;\n",
              "    }\n",
              "  </style>\n",
              "\n",
              "      <script>\n",
              "        const buttonEl =\n",
              "          document.querySelector('#df-acfd786f-8e67-4418-b9f1-5eaa601cbd0b button.colab-df-convert');\n",
              "        buttonEl.style.display =\n",
              "          google.colab.kernel.accessAllowed ? 'block' : 'none';\n",
              "\n",
              "        async function convertToInteractive(key) {\n",
              "          const element = document.querySelector('#df-acfd786f-8e67-4418-b9f1-5eaa601cbd0b');\n",
              "          const dataTable =\n",
              "            await google.colab.kernel.invokeFunction('convertToInteractive',\n",
              "                                                     [key], {});\n",
              "          if (!dataTable) return;\n",
              "\n",
              "          const docLinkHtml = 'Like what you see? Visit the ' +\n",
              "            '<a target=\"_blank\" href=https://colab.research.google.com/notebooks/data_table.ipynb>data table notebook</a>'\n",
              "            + ' to learn more about interactive tables.';\n",
              "          element.innerHTML = '';\n",
              "          dataTable['output_type'] = 'display_data';\n",
              "          await google.colab.output.renderOutput(dataTable, element);\n",
              "          const docLink = document.createElement('div');\n",
              "          docLink.innerHTML = docLinkHtml;\n",
              "          element.appendChild(docLink);\n",
              "        }\n",
              "      </script>\n",
              "    </div>\n",
              "  </div>\n",
              "  "
            ]
          },
          "metadata": {},
          "execution_count": 25
        }
      ]
    },
    {
      "cell_type": "markdown",
      "metadata": {
        "id": "nk3QPbO3K5SO"
      },
      "source": [
        "**Question 1**<br/>\n",
        "How many samples (i.e. data points) are in this dataset?"
      ]
    },
    {
      "cell_type": "code",
      "execution_count": 26,
      "metadata": {
        "id": "u7p92T4UxzxL",
        "colab": {
          "base_uri": "https://localhost:8080/"
        },
        "outputId": "bc34c3a7-5b8b-4aa3-ab22-9b0076598036"
      },
      "outputs": [
        {
          "output_type": "stream",
          "name": "stdout",
          "text": [
            "How many samples: 112836\n"
          ]
        }
      ],
      "source": [
        "sample_num = len(us_covid_df)\n",
        "print(\"How many samples: \" + str(sample_num))\n",
        "#us_covid_df.info"
      ]
    },
    {
      "cell_type": "markdown",
      "metadata": {
        "id": "fNaNWYFdMMdI"
      },
      "source": [
        "**Question 2** <br/>\n",
        "What is the average population of all the counties in this dataset? \n",
        "\n"
      ]
    },
    {
      "cell_type": "code",
      "execution_count": 27,
      "metadata": {
        "id": "31SMMv3Vx1K_",
        "colab": {
          "base_uri": "https://localhost:8080/"
        },
        "outputId": "6148d149-ab8f-4c51-ad05-7ec2b3b2dcff"
      },
      "outputs": [
        {
          "output_type": "stream",
          "name": "stdout",
          "text": [
            "Average Population: 102919.9695395932\n"
          ]
        }
      ],
      "source": [
        "# Check if there are any NANs in the data.\n",
        "#count_nan = us_covid_df['county_population'].isnull().sum()\n",
        "#print('Number of NaN values present: ' + str(count_nan))\n",
        "\n",
        "# Drop entries in row that have NAN values.\n",
        "#us_covid_df = us_covid_df.dropna()\n",
        "#print(us_covid_df)\n",
        "#county_pop  = us_covid_df['county_population'].values\n",
        "#b = np.sum(county_pop)\n",
        "#b\n",
        "#print(str(county_pop))\n",
        "\n",
        "b = us_covid_df['county_population'].mean()\n",
        "print(\"Average Population: \" + str(b))"
      ]
    },
    {
      "cell_type": "markdown",
      "metadata": {
        "id": "2U3letmyNG3r"
      },
      "source": [
        "**Question 3**\n",
        "Create a histogram of the **Health Service Population** using 100 bins. Make sure to add a title to your plot. "
      ]
    },
    {
      "cell_type": "code",
      "execution_count": 28,
      "metadata": {
        "id": "VN_YSi3ox8ki",
        "colab": {
          "base_uri": "https://localhost:8080/",
          "height": 294
        },
        "outputId": "fde5b38a-744b-4ab2-88dd-f0987962a8d3"
      },
      "outputs": [
        {
          "output_type": "display_data",
          "data": {
            "text/plain": [
              "<Figure size 432x288 with 1 Axes>"
            ],
            "image/png": "[encoded data removed]"
          },
          "metadata": {
            "needs_background": "light"
          }
        }
      ],
      "source": [
        "# Plot a histogram of the Health Service Population with 100 bins\n",
        "plt.hist(us_covid_df['health_service_area_population'], bins=100)\n",
        "\n",
        "# Add a title to the plot\n",
        "plt.title(\"Health Service Population Histogram\")\n",
        "\n",
        "# Display the plot\n",
        "plt.show()"
      ]
    },
    {
      "cell_type": "markdown",
      "metadata": {
        "id": "H2q8LNvVOgIN"
      },
      "source": [
        "**Question 4** <br/>\n",
        "Using Python code, how many of the counties have a County Population greater than 100,000"
      ]
    },
    {
      "cell_type": "markdown",
      "metadata": {
        "id": "K1fDfh2wS1ft"
      },
      "source": [
        "**Question 5**<br/>\n",
        "Of the counties sampled, what is the highest **Healtth Service Area Population**?"
      ]
    },
    {
      "cell_type": "code",
      "execution_count": 29,
      "metadata": {
        "id": "yBWxYcrgx91t",
        "colab": {
          "base_uri": "https://localhost:8080/"
        },
        "outputId": "3e3bb8ce-9125-48bc-812e-c551b5883ee8"
      },
      "outputs": [
        {
          "output_type": "stream",
          "name": "stdout",
          "text": [
            "Number of counties with population greater than 100,000:  21207\n"
          ]
        }
      ],
      "source": [
        "# Count the number of counties where population is greater than 100,000\n",
        "count = us_covid_df[us_covid_df['county_population'] > 100000].shape[0]\n",
        "\n",
        "print(\"Number of counties with population greater than 100,000: \", count)"
      ]
    },
    {
      "cell_type": "code",
      "execution_count": 30,
      "metadata": {
        "id": "PFyrQvAYx_P5",
        "colab": {
          "base_uri": "https://localhost:8080/"
        },
        "outputId": "e080a04e-e25d-4dfd-9de7-38d9a602f4b0"
      },
      "outputs": [
        {
          "output_type": "stream",
          "name": "stdout",
          "text": [
            "The highest Health Service Area Population is:  13214799.0\n"
          ]
        }
      ],
      "source": [
        "# Find the maximum value of the Health Service Area Population\n",
        "max_population = us_covid_df['health_service_area_population'].max()\n",
        "\n",
        "print(\"The highest Health Service Area Population is: \", max_population)"
      ]
    },
    {
      "cell_type": "markdown",
      "metadata": {
        "id": "hbuplEfNese9"
      },
      "source": [
        "**Question 6** <br/> \n",
        "Which county appeared the most times in this dataset? <br/>\n",
        "*Hint: There are multiple ways to approach this problem, the easiest is likely using your basic statistic functions. "
      ]
    },
    {
      "cell_type": "code",
      "execution_count": 31,
      "metadata": {
        "id": "hhnPs28iyEpY",
        "colab": {
          "base_uri": "https://localhost:8080/"
        },
        "outputId": "0ccfa148-bd2b-488c-c1df-005045d00902"
      },
      "outputs": [
        {
          "output_type": "stream",
          "name": "stdout",
          "text": [
            "The county that appeared the most times in the dataset is:  Washington County\n"
          ]
        }
      ],
      "source": [
        "# Find the county that appeared the most times in the dataset\n",
        "most_frequent_county = us_covid_df['county'].value_counts().idxmax()\n",
        "\n",
        "print(\"The county that appeared the most times in the dataset is: \", most_frequent_county)"
      ]
    },
    {
      "cell_type": "markdown",
      "metadata": {
        "id": "wFP0iKQVgiwy"
      },
      "source": [
        "**Question 7** <br/> \n",
        "How many states/territories  are preesnt in this dataset? <br/>"
      ]
    },
    {
      "cell_type": "code",
      "execution_count": 32,
      "metadata": {
        "id": "hTTUnAAYyMOS",
        "colab": {
          "base_uri": "https://localhost:8080/"
        },
        "outputId": "43e707e8-97b0-421b-af55-031d625edfc3"
      },
      "outputs": [
        {
          "output_type": "stream",
          "name": "stdout",
          "text": [
            "The number of unique states/territories in the dataset is:  56\n"
          ]
        }
      ],
      "source": [
        "# Find the number of unique states/territories\n",
        "num_states = us_covid_df['state'].nunique()\n",
        "\n",
        "print(\"The number of unique states/territories in the dataset is: \", num_states)"
      ]
    },
    {
      "cell_type": "markdown",
      "metadata": {
        "id": "vZc6Eju4llHs"
      },
      "source": [
        "#Now let's focus on the final week measured on our dataset (October 20th)"
      ]
    },
    {
      "cell_type": "markdown",
      "metadata": {
        "id": "fcNKV6sFmUc4"
      },
      "source": [
        "**Question 8** <br/>\n",
        "What is the datatype of the 'date_updated' column?"
      ]
    },
    {
      "cell_type": "code",
      "execution_count": 33,
      "metadata": {
        "id": "Bjj7xLVjyOks",
        "colab": {
          "base_uri": "https://localhost:8080/"
        },
        "outputId": "d644e67d-df3e-4ffa-cf06-1945873aca72"
      },
      "outputs": [
        {
          "output_type": "stream",
          "name": "stdout",
          "text": [
            "The data type of the 'date_updated' column is:  object\n"
          ]
        }
      ],
      "source": [
        "# Check the data type of the 'date_updated' column\n",
        "date_updated_dtype = us_covid_df['date_updated'].dtype\n",
        "\n",
        "print(\"The data type of the 'date_updated' column is: \", date_updated_dtype)"
      ]
    },
    {
      "cell_type": "markdown",
      "metadata": {
        "id": "5greFtKIoUvh"
      },
      "source": [
        "In reality pandas treats all non-primative classes as objects. Lucky for us, pandas has a datetime object we can work with (and a built-in method to work with). "
      ]
    },
    {
      "cell_type": "markdown",
      "metadata": {
        "id": "xUyVEkpgongj"
      },
      "source": [
        "**Question 9** <br/>\n",
        "Convert the 'date_updated' from it's current type to datetime. Print the head of the column and the data type of the column. \n"
      ]
    },
    {
      "cell_type": "code",
      "execution_count": 34,
      "metadata": {
        "id": "bqOr0H64yU2J",
        "colab": {
          "base_uri": "https://localhost:8080/"
        },
        "outputId": "24d8b386-389e-41c9-c448-90d5585952f8"
      },
      "outputs": [
        {
          "output_type": "stream",
          "name": "stdout",
          "text": [
            "Head of the 'date_updated' column: \n",
            " 0   2022-08-18\n",
            "1   2022-08-18\n",
            "2   2022-08-18\n",
            "3   2022-08-18\n",
            "4   2022-08-18\n",
            "Name: date_updated, dtype: datetime64[ns]\n",
            "\n",
            "Data type of the 'date_updated' column:  datetime64[ns]\n"
          ]
        }
      ],
      "source": [
        "# Convert the 'date_updated' column to datetime\n",
        "us_covid_df['date_updated'] = pd.to_datetime(us_covid_df['date_updated'])\n",
        "\n",
        "# Print the head of the 'date_updated' column and its data type\n",
        "print(\"Head of the 'date_updated' column: \\n\", us_covid_df['date_updated'].head())\n",
        "print(\"\\nData type of the 'date_updated' column: \", us_covid_df['date_updated'].dtype)"
      ]
    },
    {
      "cell_type": "markdown",
      "metadata": {
        "id": "0gRgTH7zq8pU"
      },
      "source": [
        "**Question 10**\n",
        "Create a new DataFrame with only data points updated on October 20th, 2022 <br/>\n",
        "Print the head of this new DataFrame. <br/>\n",
        "*Hint: Use .loc to do this and specify  your dates.* \n"
      ]
    },
    {
      "cell_type": "code",
      "execution_count": 35,
      "metadata": {
        "id": "YiBvIm0qyWEQ",
        "colab": {
          "base_uri": "https://localhost:8080/"
        },
        "outputId": "9b9b2624-1648-457f-ef92-a2eb45665884"
      },
      "outputs": [
        {
          "output_type": "stream",
          "name": "stdout",
          "text": [
            "Data points updated on October 20th, 2022: \n",
            "                county  county_fips       state  county_population  \\\n",
            "109612  Neosho County        20133      Kansas            16007.0   \n",
            "109613  Uvalde County        48463       Texas            26741.0   \n",
            "109614  Pierce County        53053  Washington           904980.0   \n",
            "109615   Alger County        26003    Michigan             9108.0   \n",
            "109616    Hill County        30041     Montana            16484.0   \n",
            "\n",
            "        health_service_area_number        health_service_area  \\\n",
            "109612                         601   Labette, KS - Neosho, KS   \n",
            "109613                         536                 Uvalde, TX   \n",
            "109614                         794                 Pierce, WA   \n",
            "109615                         293  Marquette, MI - Delta, MI   \n",
            "109616                         712      Hill, MT - Blaine, MT   \n",
            "\n",
            "        health_service_area_population  covid_inpatient_bed_utilization  \\\n",
            "109612                         51132.0                              1.2   \n",
            "109613                         26741.0                              0.0   \n",
            "109614                        904980.0                              4.6   \n",
            "109615                        125914.0                              5.4   \n",
            "109616                         29456.0                              0.0   \n",
            "\n",
            "        covid_hospital_admissions_per_100k  covid_cases_per_100k  \\\n",
            "109612                                 7.8                 81.21   \n",
            "109613                                 0.0                 14.96   \n",
            "109614                                 1.8                 54.03   \n",
            "109615                                 8.7                 43.92   \n",
            "109616                                 0.0                157.73   \n",
            "\n",
            "       covid-19_community_level date_updated  \n",
            "109612                      Low   2022-10-20  \n",
            "109613                      Low   2022-10-20  \n",
            "109614                      Low   2022-10-20  \n",
            "109615                      Low   2022-10-20  \n",
            "109616                      Low   2022-10-20  \n"
          ]
        }
      ],
      "source": [
        "# Convert the 'date_updated' column to datetime\n",
        "us_covid_df['date_updated'] = pd.to_datetime(us_covid_df['date_updated'])\n",
        "\n",
        "# Create a new DataFrame with only data points updated on October 20th, 2022\n",
        "oct_20_2022 = us_covid_df.loc[us_covid_df['date_updated'] == '2022-10-20']\n",
        "\n",
        "# Print the head of the new DataFrame\n",
        "print(\"Data points updated on October 20th, 2022: \\n\", oct_20_2022.head())"
      ]
    },
    {
      "cell_type": "markdown",
      "metadata": {
        "id": "5iG4Zad1w10c"
      },
      "source": [
        "**Question 11**<br/>\n",
        "Which county has the hightest population? What state is it in? Print both as strings.<br/>\n",
        "*Note: use 1 block of code to complete this.*<br/>\n",
        "*Hint: Find the index of the max value first then use .loc*"
      ]
    },
    {
      "cell_type": "code",
      "execution_count": 36,
      "metadata": {
        "id": "WXOdUw32yX8M",
        "colab": {
          "base_uri": "https://localhost:8080/"
        },
        "outputId": "4bec4e3f-f3cb-4c52-d7d1-98245dd0fcdb"
      },
      "outputs": [
        {
          "output_type": "stream",
          "name": "stdout",
          "text": [
            "The county with the highest population is Los Angeles County in the state of California.\n"
          ]
        }
      ],
      "source": [
        "# Find the index of the county with the highest population\n",
        "index = us_covid_df[\"county_population\"].idxmax()\n",
        "\n",
        "# Use .loc to access the county and state\n",
        "highest_population_county = us_covid_df.loc[index, \"county\"]\n",
        "highest_population_state = us_covid_df.loc[index, \"state\"]\n",
        "\n",
        "# Print the result\n",
        "print(f\"The county with the highest population is {highest_population_county} in the state of {highest_population_state}.\")"
      ]
    },
    {
      "cell_type": "markdown",
      "metadata": {
        "id": "CNEQkCRq22lW"
      },
      "source": [
        "**Question 12** <br/>\n",
        "What was the population of all the counties sampled in Puerto Rico during this week?"
      ]
    },
    {
      "cell_type": "code",
      "execution_count": 37,
      "metadata": {
        "id": "eOLBTXHlyZb3",
        "colab": {
          "base_uri": "https://localhost:8080/"
        },
        "outputId": "4448b45b-3ed2-4b6a-8735-7a92ef1e5de5"
      },
      "outputs": [
        {
          "output_type": "stream",
          "name": "stdout",
          "text": [
            "Population of all the counties in Puerto Rico:  111779290.0\n"
          ]
        }
      ],
      "source": [
        "# Convert the 'date_updated' column to datetime\n",
        "us_covid_df['date_updated'] = pd.to_datetime(us_covid_df['date_updated'])\n",
        "\n",
        "# Create a new DataFrame with only the data for Puerto Rico\n",
        "puerto_rico = us_covid_df[us_covid_df['state'] == 'Puerto Rico']\n",
        "\n",
        "# Sum the population of all the counties in Puerto Rico\n",
        "population = puerto_rico['county_population'].sum()\n",
        "\n",
        "# Print the population of all the counties in Puerto Rico\n",
        "print(\"Population of all the counties in Puerto Rico: \", population)"
      ]
    },
    {
      "cell_type": "markdown",
      "metadata": {
        "id": "5VZsnS3T4DwO"
      },
      "source": [
        "**Question 13** <br/>\n",
        "Create a histogram of the population of Puerto Rico using 50 bins. \n"
      ]
    },
    {
      "cell_type": "code",
      "execution_count": 38,
      "metadata": {
        "id": "WQHrm7aZybEm",
        "colab": {
          "base_uri": "https://localhost:8080/",
          "height": 295
        },
        "outputId": "94337709-76af-4e55-9f06-980c19835432"
      },
      "outputs": [
        {
          "output_type": "display_data",
          "data": {
            "text/plain": [
              "<Figure size 432x288 with 1 Axes>"
            ],
            "image/png": "[encoded data removed]"
          },
          "metadata": {
            "needs_background": "light"
          }
        }
      ],
      "source": [
        "# Convert the 'date_updated' column to datetime\n",
        "us_covid_df['date_updated'] = pd.to_datetime(us_covid_df['date_updated'])\n",
        "\n",
        "# Create a new DataFrame with only the data for Puerto Rico\n",
        "puerto_rico = us_covid_df[us_covid_df['state'] == 'Puerto Rico']\n",
        "\n",
        "# Plot a histogram of the population of all the counties in Puerto Rico\n",
        "plt.hist(puerto_rico['county_population'], bins=50, edgecolor='black')\n",
        "\n",
        "# Add a title to the plot\n",
        "plt.title(\"Histogram of County Population in Puerto Rico\")\n",
        "\n",
        "# Label the x-axis\n",
        "plt.xlabel(\"County Population\")\n",
        "\n",
        "# Label the y-axis\n",
        "plt.ylabel(\"Frequency\")\n",
        "\n",
        "# Display the plot\n",
        "plt.show()"
      ]
    },
    {
      "cell_type": "markdown",
      "metadata": {
        "id": "QhG4Ploo6ZJz"
      },
      "source": [
        "**Question 14** <br/>\n",
        "During this time period how many counties had 'covid-19_community_level' labeled High? How many medium? How many low? "
      ]
    },
    {
      "cell_type": "code",
      "execution_count": 39,
      "metadata": {
        "id": "pu3RmuAtyeB_",
        "colab": {
          "base_uri": "https://localhost:8080/"
        },
        "outputId": "23ab486d-018a-4ebd-9939-f9c957b7f97f"
      },
      "outputs": [
        {
          "output_type": "stream",
          "name": "stdout",
          "text": [
            "Number of counties with 'High': 16467\n",
            "Number of counties with 'Medium': 28993\n",
            "Number of counties with 'Low': 67250\n"
          ]
        }
      ],
      "source": [
        "# Convert the 'date_updated' column to datetime\n",
        "us_covid_df['date_updated'] = pd.to_datetime(us_covid_df['date_updated'])\n",
        "\n",
        "# Count the number of 'High' values\n",
        "high = us_covid_df[us_covid_df['covid-19_community_level'] == 'High'].count()['covid-19_community_level']\n",
        "\n",
        "# Count the number of 'Medium' values\n",
        "medium = us_covid_df[us_covid_df['covid-19_community_level'] == 'Medium'].count()['covid-19_community_level']\n",
        "\n",
        "# Count the number of 'Low' values\n",
        "low = us_covid_df[us_covid_df['covid-19_community_level'] == 'Low'].count()['covid-19_community_level']\n",
        "\n",
        "# Print the results\n",
        "print(\"Number of counties with 'High':\", high)\n",
        "print(\"Number of counties with 'Medium':\", medium)\n",
        "print(\"Number of counties with 'Low':\", low)"
      ]
    },
    {
      "cell_type": "markdown",
      "metadata": {
        "id": "ONMpGN4Y7sBf"
      },
      "source": [
        "**Question 15** <br/>\n",
        "Using only code create a Pie chart to visualize your results from Question 14. Make sure to use proper labels (show either the counts or a %) and add a title. \n",
        "*Hint: The pandas plot methods will make this much easier.*"
      ]
    },
    {
      "cell_type": "code",
      "execution_count": 40,
      "metadata": {
        "id": "u4zEbsmUyftM",
        "colab": {
          "base_uri": "https://localhost:8080/",
          "height": 620
        },
        "outputId": "0d12c862-b297-4cb5-e0dc-c54b1515f770"
      },
      "outputs": [
        {
          "output_type": "display_data",
          "data": {
            "text/plain": [
              "<Figure size 432x288 with 1 Axes>"
            ],
            "image/png": "[encoded data removed]"
          },
          "metadata": {}
        },
        {
          "output_type": "display_data",
          "data": {
            "text/plain": [
              "<Figure size 432x432 with 1 Axes>"
            ],
            "image/png": "[encoded data removed]"
          },
          "metadata": {}
        }
      ],
      "source": [
        "# Convert the 'date_updated' column to datetime\n",
        "us_covid_df['date_updated'] = pd.to_datetime(us_covid_df['date_updated'])\n",
        "\n",
        "# Count the number of 'High' values\n",
        "high = us_covid_df[us_covid_df['covid-19_community_level'] == 'High'].count()['covid-19_community_level']\n",
        "\n",
        "# Count the number of 'Medium' values\n",
        "medium = us_covid_df[us_covid_df['covid-19_community_level'] == 'Medium'].count()['covid-19_community_level']\n",
        "\n",
        "# Count the number of 'Low' values\n",
        "low = us_covid_df[us_covid_df['covid-19_community_level'] == 'Low'].count()['covid-19_community_level']\n",
        "\n",
        "# Using matplotlib to plot the data\n",
        "labels = ['High', 'Medium', 'Low']\n",
        "sizes = [high, medium, low]\n",
        "\n",
        "fig1, ax1 = plt.subplots()\n",
        "ax1.pie(sizes, labels=labels, autopct='%1.1f%%', shadow=True, startangle=90)\n",
        "ax1.axis('equal')\n",
        "\n",
        "plt.title(\"Community Level of Covid-19 in Counties\")\n",
        "plt.show()\n",
        "\n",
        "#############################\n",
        "\n",
        "# Using Pandas to plot the data\n",
        "df2 = pd.DataFrame({'labels': labels, 'sizes': sizes})\n",
        "df2.plot.pie(y='sizes', labels=df2['labels'], autopct='%1.1f%%', shadow=True, startangle=90, legend=False, figsize=(6, 6))\n",
        "\n",
        "plt.title(\"Community Level of Covid-19 in Counties\")\n",
        "plt.show()"
      ]
    },
    {
      "cell_type": "markdown",
      "metadata": {
        "id": "U2kr2UboLqXR"
      },
      "source": [
        "**Question 16 (Graduate Students Only)** <br/>\n",
        "Using only code, identify the 10 counties with the highest COVID Caes by 100k for October 20th, 2020. Again, only using code, visualize this information with a bar graph. Make sure to use appropriate lables and add a title to the graph. "
      ]
    },
    {
      "cell_type": "code",
      "execution_count": 41,
      "metadata": {
        "id": "JfplXy7Xylsy",
        "colab": {
          "base_uri": "https://localhost:8080/",
          "height": 454
        },
        "outputId": "769669f9-905f-494a-c4d6-88823b366621"
      },
      "outputs": [
        {
          "output_type": "display_data",
          "data": {
            "text/plain": [
              "<Figure size 720x360 with 1 Axes>"
            ],
            "image/png": "[encoded data removed]"
          },
          "metadata": {
            "needs_background": "light"
          }
        }
      ],
      "source": [
        "# Filter data to only include data for October 20th, 2022\n",
        "oct_20_data = us_covid_df.loc[us_covid_df['date_updated'] == '2022-10-20']\n",
        "\n",
        "# Sort the data in descending order of covid_cases_per_100k\n",
        "oct_20_data = oct_20_data.sort_values(by='covid_cases_per_100k', ascending=False)\n",
        "#print(oct_20_data)\n",
        "\n",
        "# Select the top 10 counties\n",
        "top_10_counties = oct_20_data[:10]\n",
        "\n",
        "# Plot the top 10 counties as a bar graph\n",
        "top_10_counties.plot(kind='bar', x='county', y='covid_cases_per_100k', figsize=(10,5), title='Top 10 Counties with Highest COVID Cases per 100k (October 20th, 2022)')\n",
        "\n",
        "# Add x and y axis labels\n",
        "plt.xlabel('County')\n",
        "plt.ylabel('COVID Cases per 100k')\n",
        "\n",
        "# Show the plot\n",
        "plt.show()\n"
      ]
    }
  ],
  "metadata": {
    "colab": {
      "provenance": [],
      "include_colab_link": true
    },
    "kernelspec": {
      "display_name": "Python 3 (ipykernel)",
      "language": "python",
      "name": "python3"
    },
    "language_info": {
      "codemirror_mode": {
        "name": "ipython",
        "version": 3
      },
      "file_extension": ".py",
      "mimetype": "text/x-python",
      "name": "python",
      "nbconvert_exporter": "python",
      "pygments_lexer": "ipython3",
      "version": "3.9.12"
    }
  },
  "nbformat": 4,
  "nbformat_minor": 0
}