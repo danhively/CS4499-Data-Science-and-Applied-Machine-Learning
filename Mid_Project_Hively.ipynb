{
  "nbformat": 4,
  "nbformat_minor": 0,
  "metadata": {
    "colab": {
      "provenance": [],
      "include_colab_link": true
    },
    "kernelspec": {
      "name": "python3",
      "display_name": "Python 3"
    }
  },
  "cells": [
    {
      "cell_type": "markdown",
      "metadata": {
        "id": "view-in-github",
        "colab_type": "text"
      },
      "source": [
        "<a href=\"https://colab.research.google.com/github/danhively/CS4499-Data-Science-and-Applied-Machine-Learning/blob/main/Mid_Project_Hively.ipynb\" target=\"_parent\"><img src=\"https://colab.research.google.com/assets/colab-badge.svg\" alt=\"Open In Colab\"/></a>"
      ]
    },
    {
      "cell_type": "markdown",
      "metadata": {
        "id": "BUObW5ghDCAf"
      },
      "source": [
        "# Mid-Project: Predicting Sports Winners\n",
        "Data Science and Applied Machine Learning \\\\\n",
        "Adpopted from material from Dr. Kerby \\\\\n",
        "Student Name: Dan Hively \\\\\n",
        "Date Due: April 5, 2023, 11:59 PM"
      ]
    },
    {
      "cell_type": "markdown",
      "metadata": {
        "id": "NY3xR1MFAXpT"
      },
      "source": [
        "### Question 1: Gather Data from 2021-2022\n",
        "*Gather* data from [Basketball Reference](https://www.basketball-reference.com/leagues/NBA_2022.html) <br>\n",
        "\n",
        "Data can be downloaded by clicking on the `Share and Export` drop-down list at the middle top of available tables. Start off by clicking `Schedule and Results` and downloading the monthly games tables. Combine these into one table. Then import the full games-results table into python. \n"
      ]
    },
    {
      "cell_type": "code",
      "metadata": {
        "id": "B1Z2YckpDCdb"
      },
      "source": [
        "# Imports\n",
        "import numpy as np\n",
        "import pandas as pd\n",
        "from sklearn.model_selection import train_test_split\n",
        "from sklearn.tree import DecisionTreeClassifier\n",
        "from sklearn.metrics import classification_report, accuracy_score, confusion_matrix\n",
        "\n",
        "# Gather data - This will be the baseline data.\n",
        "# 2021-22 Season.\n",
        "csv_202122 = 'https://raw.github.com/danhively/CS4499/main/Mid-Poject/NBA_2021-22.csv'\n",
        "\n",
        "# 202-21 Season.\n",
        "csv_202021 = 'https://raw.github.com/danhively/CS4499/main/Mid-Poject/NBA_2020-21.csv'\n",
        "\n",
        "#######################################\n",
        "#   Useful Functions                  #\n",
        "#######################################\n",
        "\n",
        "# Function to rename a column by position\n",
        "def rename_column_by_position(df, position, new_name):\n",
        "    if 0 <= position < len(df.columns):\n",
        "        columns = df.columns.tolist()\n",
        "        columns[position] = new_name\n",
        "        df.columns = columns\n",
        "    else:\n",
        "        raise ValueError(f\"Invalid position. DataFrame has {len(df.columns)} columns.\")\n",
        "\n",
        "# Function to compare PTS1 and PTS\n",
        "def compare_scores(row):\n",
        "    if row['PTS.1'] > row['PTS']:\n",
        "        return True\n",
        "    else:\n",
        "        return False\n",
        "\n",
        "# Drop specified columns from a DataFrame.\n",
        "def drop_columns(df, columns_to_drop):\n",
        "    return df.drop(columns=columns_to_drop)        \n",
        "\n",
        "# Reads a CSV file from the given URL and returns a pandas DataFrame.\n",
        "def read_csv_to_dataframe(csv_url):\n",
        "    return pd.read_csv(csv_url)    \n",
        "\n",
        "\n",
        "dfNBA202122 = read_csv_to_dataframe(csv_202122)\n",
        "\n",
        "# This will be commented out before submission.\n",
        "# Mount my Google Drive\n",
        "# I want to save a CSV after manipulations to check it.\n",
        "#from google.colab import drive\n",
        "#mntPath = '/content/drive/'\n",
        "#drive.mount(mntPath, force_remount=True)\n",
        "#svPath = mntPath + \"My Drive/CS4499/Mid-Project/\"\n",
        "#dfNBA202122.to_csv(svPath + \"dfNBA202122.csv\")\n",
        "\n"
      ],
      "execution_count": 19,
      "outputs": []
    },
    {
      "cell_type": "markdown",
      "metadata": {
        "id": "GQlzygd-ElTB"
      },
      "source": [
        "### Question 2: EDA and Preprocessing\n",
        "Explore your dataset and make any preprocessing adjustments necessary. You must perform at least 3 operations on exploring your data. Each one must provide unqiue insight to the data. At the bottom of this problem, write a paragraph (at least 5 sentences) explaining what you did and found out. "
      ]
    },
    {
      "cell_type": "code",
      "metadata": {
        "id": "BTTyBz27RxAb",
        "colab": {
          "base_uri": "https://localhost:8080/"
        },
        "outputId": "adb02903-05d1-4369-a5c2-212a71aed768"
      },
      "source": [
        "# Print some basic information about the dataset.\n",
        "# Print the shape of the DataFrame\n",
        "print('----------------------------')\n",
        "print('Shape')\n",
        "print('----------------------------')\n",
        "print(dfNBA202122.shape)\n",
        "\n",
        "# Print some summary statistics of the DataFrame\n",
        "print('----------------------------')\n",
        "print('statistics')\n",
        "print('----------------------------')\n",
        "print(dfNBA202122.describe())\n",
        "\n",
        "# Print the list of columns in the CSV file.\n",
        "print('----------------------------')\n",
        "print('Columns')\n",
        "print('----------------------------')\n",
        "print(dfNBA202122.columns)\n",
        "\n",
        "# Print the first five rows of the DataFrame\n",
        "print('----------------------------')\n",
        "print('First 5 rows')\n",
        "print('----------------------------')\n",
        "print(dfNBA202122.head())\n",
        "\n",
        "# Count the number of NaN values in each column\n",
        "print('----------------------------')\n",
        "print('Number of NaN values')\n",
        "print('----------------------------')\n",
        "nan_count = dfNBA202122.isna().sum()\n",
        "print(nan_count)\n",
        "\n",
        "# Find columns with NaN values\n",
        "null_columns = dfNBA202122.columns[dfNBA202122.isna().any()].tolist()\n",
        "\n",
        "# Display column headings with null values\n",
        "print('----------------------------')\n",
        "print('Column headings with null values')\n",
        "print('----------------------------')\n",
        "print(null_columns)"
      ],
      "execution_count": 20,
      "outputs": [
        {
          "output_type": "stream",
          "name": "stdout",
          "text": [
            "----------------------------\n",
            "Shape\n",
            "----------------------------\n",
            "(1171, 11)\n",
            "----------------------------\n",
            "statistics\n",
            "----------------------------\n",
            "               PTS        PTS.1  Notes\n",
            "count  1171.000000  1171.000000    0.0\n",
            "mean    111.382579   112.558497    NaN\n",
            "std      12.563364    12.510739    NaN\n",
            "min      75.000000    73.000000    NaN\n",
            "25%     103.000000   104.000000    NaN\n",
            "50%     111.000000   112.000000    NaN\n",
            "75%     120.000000   121.000000    NaN\n",
            "max     154.000000   154.000000    NaN\n",
            "----------------------------\n",
            "Columns\n",
            "----------------------------\n",
            "Index(['Date', 'Start (ET)', 'Visitor/Neutral', 'PTS', 'Home/Neutral', 'PTS.1',\n",
            "       'Unnamed: 6', 'Unnamed: 7', 'Attend.', 'Arena', 'Notes'],\n",
            "      dtype='object')\n",
            "----------------------------\n",
            "First 5 rows\n",
            "----------------------------\n",
            "                Date Start (ET)        Visitor/Neutral  PTS  \\\n",
            "0  Tue, Dec 22, 2020      7:00p  Golden State Warriors   99   \n",
            "1  Tue, Dec 22, 2020     10:00p   Los Angeles Clippers  116   \n",
            "2  Wed, Dec 23, 2020      7:00p      Charlotte Hornets  114   \n",
            "3  Wed, Dec 23, 2020      7:00p        New York Knicks  107   \n",
            "4  Wed, Dec 23, 2020      7:00p             Miami Heat  107   \n",
            "\n",
            "          Home/Neutral  PTS.1 Unnamed: 6 Unnamed: 7 Attend.  \\\n",
            "0        Brooklyn Nets    125  Box Score        NaN       0   \n",
            "1   Los Angeles Lakers    109  Box Score        NaN       0   \n",
            "2  Cleveland Cavaliers    121  Box Score        NaN     300   \n",
            "3       Indiana Pacers    121  Box Score        NaN       0   \n",
            "4        Orlando Magic    113  Box Score        NaN   3,396   \n",
            "\n",
            "                        Arena  Notes  \n",
            "0             Barclays Center    NaN  \n",
            "1              STAPLES Center    NaN  \n",
            "2  Rocket Mortgage Fieldhouse    NaN  \n",
            "3     Bankers Life Fieldhouse    NaN  \n",
            "4                Amway Center    NaN  \n",
            "----------------------------\n",
            "Number of NaN values\n",
            "----------------------------\n",
            "Date                  0\n",
            "Start (ET)            0\n",
            "Visitor/Neutral       0\n",
            "PTS                   0\n",
            "Home/Neutral          0\n",
            "PTS.1                 0\n",
            "Unnamed: 6            0\n",
            "Unnamed: 7         1111\n",
            "Attend.               7\n",
            "Arena                 0\n",
            "Notes              1171\n",
            "dtype: int64\n",
            "----------------------------\n",
            "Column headings with null values\n",
            "----------------------------\n",
            "['Unnamed: 7', 'Attend.', 'Notes']\n"
          ]
        }
      ]
    },
    {
      "cell_type": "markdown",
      "source": [
        "What I discoverwed about the data.\n"
      ],
      "metadata": {
        "id": "B76rTx6M4gaZ"
      }
    },
    {
      "cell_type": "markdown",
      "source": [
        "The data"
      ],
      "metadata": {
        "id": "0UKoiBC4cbGK"
      }
    },
    {
      "cell_type": "markdown",
      "metadata": {
        "id": "a5xtkc6wHoSr"
      },
      "source": [
        "### Question 3: Feature Engineering\n",
        "\n",
        "Create a column for whether or not the home team won the game; call it `HomeWin`. Use Pandas and your knowledge of Python to fill in this data. This will become our target -- ie what we are trying to predict. "
      ]
    },
    {
      "cell_type": "code",
      "metadata": {
        "id": "jVxGLY4uDCj5",
        "colab": {
          "base_uri": "https://localhost:8080/"
        },
        "outputId": "6f847ce1-a247-4be1-c66c-138c58820c91"
      },
      "source": [
        "# Create a copy of the dfNBA202122 DataFrame\n",
        "winsdf = dfNBA202122.copy()\n",
        "\n",
        "# We have 2 columns that have the same name. Let's rename them.\n",
        "# Rename the columns\n",
        "#rename_column_by_position(winsdf, 3, 'V_Score')\n",
        "#rename_column_by_position(winsdf, 5, 'H_Score')\n",
        "\n",
        "# Create a new column 'HomeWin' based on whether 'PTS.1' is greater than 'PTS' .\n",
        "# True if PTS.1 is greater than PTS otherwise False.\n",
        "winsdf['HomeWin'] = winsdf.apply(compare_scores, axis=1)\n",
        "\n",
        "# Display the new DataFrame with the added column.\n",
        "print(\"\\nNew DataFrame with 'HomeWin' column (winsdf):\")\n",
        "print(winsdf.columns.tolist())\n",
        "print(winsdf.head())\n",
        "print(winsdf['HomeWin'])"
      ],
      "execution_count": 21,
      "outputs": [
        {
          "output_type": "stream",
          "name": "stdout",
          "text": [
            "\n",
            "New DataFrame with 'HomeWin' column (winsdf):\n",
            "['Date', 'Start (ET)', 'Visitor/Neutral', 'PTS', 'Home/Neutral', 'PTS.1', 'Unnamed: 6', 'Unnamed: 7', 'Attend.', 'Arena', 'Notes', 'HomeWin']\n",
            "                Date Start (ET)        Visitor/Neutral  PTS  \\\n",
            "0  Tue, Dec 22, 2020      7:00p  Golden State Warriors   99   \n",
            "1  Tue, Dec 22, 2020     10:00p   Los Angeles Clippers  116   \n",
            "2  Wed, Dec 23, 2020      7:00p      Charlotte Hornets  114   \n",
            "3  Wed, Dec 23, 2020      7:00p        New York Knicks  107   \n",
            "4  Wed, Dec 23, 2020      7:00p             Miami Heat  107   \n",
            "\n",
            "          Home/Neutral  PTS.1 Unnamed: 6 Unnamed: 7 Attend.  \\\n",
            "0        Brooklyn Nets    125  Box Score        NaN       0   \n",
            "1   Los Angeles Lakers    109  Box Score        NaN       0   \n",
            "2  Cleveland Cavaliers    121  Box Score        NaN     300   \n",
            "3       Indiana Pacers    121  Box Score        NaN       0   \n",
            "4        Orlando Magic    113  Box Score        NaN   3,396   \n",
            "\n",
            "                        Arena  Notes  HomeWin  \n",
            "0             Barclays Center    NaN     True  \n",
            "1              STAPLES Center    NaN    False  \n",
            "2  Rocket Mortgage Fieldhouse    NaN     True  \n",
            "3     Bankers Life Fieldhouse    NaN     True  \n",
            "4                Amway Center    NaN     True  \n",
            "0        True\n",
            "1       False\n",
            "2        True\n",
            "3        True\n",
            "4        True\n",
            "        ...  \n",
            "1166     True\n",
            "1167     True\n",
            "1168     True\n",
            "1169    False\n",
            "1170     True\n",
            "Name: HomeWin, Length: 1171, dtype: bool\n"
          ]
        }
      ]
    },
    {
      "cell_type": "markdown",
      "metadata": {
        "id": "7l9si_prIwwa"
      },
      "source": [
        "### Question 4: Feature Engineering II\n",
        "Create two columns for how many games the home and visitor teams have won thus far in the season. Call them `HomeNumWins` and `VisitorNumWins`.\n",
        " \n",
        "For example Game 1 for the Utah Jazz was against the OKC Thunder. The Jazz were the home team, OKC was the road team. Since this is game 1 for both teams `HomeNumWins` and `VisitorNumWins` will be 0. The Jazz won this game and were the road team for their next game (against the Sacramento Kings),  `VisitorNumWins` should be a 1 for this value. OKC would go on to lose their second game (on the road to Houston), Game 3 was their first home game. So for OKC's 3rd game (against the 76ers) `HomeNumWins` would be 0. \n",
        "\n",
        "Hint: Store each team and the number of intial wins (0) in a Python dictionary. You can then increment this value as you go through the dataset and use this information to update your feature. \n",
        "\n"
      ]
    },
    {
      "cell_type": "code",
      "metadata": {
        "id": "lg-yhWC0DCnd"
      },
      "source": [
        "# Create two new columns 'HomeNumWins' and 'VisitorNumWins'\n",
        "winsdf['HomeNumWins'] = 0\n",
        "winsdf['VisitorNumWins'] = 0\n",
        "\n",
        "# Dictionary to store wins for each team\n",
        "team_wins = {}\n",
        "\n",
        "# Get all team names and print them.\n",
        "teams = set(winsdf['Home/Neutral']).union(winsdf['Visitor/Neutral'])\n",
        "print(teams)\n",
        "\n",
        "\n",
        "# Initialize the dictionary with 0 wins for each team\n",
        "for team in teams:\n",
        "    team_wins[team] = 0\n",
        "\n",
        "for index, row in winsdf.iterrows():\n",
        "    home_team = row['Home/Neutral']\n",
        "    visitor_team = row['Visitor/Neutral']\n",
        "    home_win = row['HomeWin']\n",
        "    \n",
        "    if home_win:\n",
        "        team_wins[home_team] += 1\n",
        "        winsdf.at[index, 'HomeNumWins'] = team_wins[home_team]\n",
        "        winsdf.at[index, 'VisitorNumWins'] = team_wins[visitor_team]\n",
        "    else:\n",
        "        team_wins[visitor_team] += 1\n",
        "        winsdf.at[index, 'HomeNumWins'] = team_wins[home_team]\n",
        "        winsdf.at[index, 'VisitorNumWins'] = team_wins[visitor_team]\n",
        "\n",
        "print(winsdf.head())\n",
        "print(winsdf.columns.tolist())\n",
        "\n",
        "# Save the resulting DataFrame to a CSV file just to check it has been\n",
        "# modified properly. This will be commented out before submission.\n",
        "#print('===========================================')\n",
        "#winsdf.to_csv(svPath + \"winsdf.csv\")\n",
        "#print(\"CSV file saved as 'winsdf.csv'\")"
      ],
      "execution_count": null,
      "outputs": []
    },
    {
      "cell_type": "code",
      "metadata": {
        "id": "_0Gy244sfV18"
      },
      "source": [
        "# Example with old, 2018-2019, season data\n",
        "import pandas as pd\n",
        "import numpy as np\n",
        "\n",
        "sports = pd.read_csv(\"https://gitlab.com/CEADS/DrKerby/python/-/raw/master/basketball.csv\")\n",
        "sports"
      ],
      "execution_count": null,
      "outputs": []
    },
    {
      "cell_type": "code",
      "metadata": {
        "id": "KO5psnHAc2tp",
        "colab": {
          "base_uri": "https://localhost:8080/"
        },
        "outputId": "e1cf1876-3ec6-419c-f043-cb468936c5bc"
      },
      "source": [
        "sports['Unnamed: 6'].unique()"
      ],
      "execution_count": 24,
      "outputs": [
        {
          "output_type": "execute_result",
          "data": {
            "text/plain": [
              "array(['Box Score'], dtype=object)"
            ]
          },
          "metadata": {},
          "execution_count": 24
        }
      ]
    },
    {
      "cell_type": "code",
      "metadata": {
        "id": "6IMMM0izn40s",
        "colab": {
          "base_uri": "https://localhost:8080/"
        },
        "outputId": "8476d0cd-aee9-4cb0-822d-bd02150af4b2"
      },
      "source": [
        "sports['Unnamed: 7'].unique()"
      ],
      "execution_count": 25,
      "outputs": [
        {
          "output_type": "execute_result",
          "data": {
            "text/plain": [
              "array([nan, 'OT', '2OT', '3OT', '4OT'], dtype=object)"
            ]
          },
          "metadata": {},
          "execution_count": 25
        }
      ]
    },
    {
      "cell_type": "code",
      "metadata": {
        "id": "UYv-NiAMn-AM",
        "colab": {
          "base_uri": "https://localhost:8080/"
        },
        "outputId": "3bac3544-716e-46e7-8ac6-eca586e2baca"
      },
      "source": [
        "sports['Notes'].unique()"
      ],
      "execution_count": 26,
      "outputs": [
        {
          "output_type": "execute_result",
          "data": {
            "text/plain": [
              "array([nan, 'at Mexico City Mexico', 'at London England'], dtype=object)"
            ]
          },
          "metadata": {},
          "execution_count": 26
        }
      ]
    },
    {
      "cell_type": "code",
      "metadata": {
        "id": "pc1iRcHsi-UZ"
      },
      "source": [
        "from collections import defaultdict\n",
        "won_last = defaultdict(int)\n",
        "\n",
        "won_last\n",
        "# Create HomeWin column\n",
        "sports['HomeWin'] = sports['PTS.1'] > sports['PTS']\n",
        "sports.head()\n",
        "# Create new columns and initialize with zero\n",
        "sports['HomeLastWin'] = 0\n",
        "sports['VisitorLastWin'] = 0\n",
        "\n",
        "sports.head()\n",
        "\n",
        "# Take a slice first, sports[:5]\n",
        "for index, row in sports.iterrows():\n",
        "  #print(index, row['Home/Neutral'], row['PTS.1'])\n",
        "  home_team = row['Home/Neutral']\n",
        "  visitor_team = row['Visitor/Neutral']\n",
        "  sports.loc[index,'HomeLastWin'] = won_last[home_team]\n",
        "  sports.loc[index,'VisitorLastWin'] = won_last[visitor_team]\n",
        "\n",
        "  # Who won this game, to record it in the next game?\n",
        "  #print(int(row['HomeWin']))  # typecast boolean to int (false->0, true->1)\n",
        "  won_last[home_team] = int(row['HomeWin'])\n",
        "  won_last[visitor_team] = 1 - int(row['HomeWin'])\n",
        "\n",
        "sports.head(50)\n",
        "#type(sports['Date'][0])"
      ],
      "execution_count": null,
      "outputs": []
    },
    {
      "cell_type": "code",
      "metadata": {
        "id": "zWtO1qTxoCbf"
      },
      "source": [],
      "execution_count": 27,
      "outputs": []
    },
    {
      "cell_type": "markdown",
      "metadata": {
        "id": "SvnTCgJIfTRT"
      },
      "source": [
        "### Question 5: Model\n",
        "\n",
        "Train a decision tree model to determine if the home team won (a 1 is a win and a 0 is a loss. Evaluate your model. At the bottom of this problem write 2 paragraphs explaining your models, its performance and any possible issues you see with it. Comment on the most \"important\" features in the model.\n",
        "\n",
        "Remember to split the dataset into training and testing sets and delete any columns that you deem unuseful. (Hint: Do not use any information that you wouldn't know before the game is played, the idea is to create a model that predicts wins)\n",
        "\n"
      ]
    },
    {
      "cell_type": "code",
      "metadata": {
        "id": "Rxjpy1rWIfc0"
      },
      "source": [
        "# Remove some columns\n",
        "\n",
        "# Duplicate the dataframe with only columns we need for the model.\n",
        "new22 = dfNBA202122[['Visitor/Neutral', 'Home/Neutral', 'PTS', 'PTS.1']].copy()\n",
        "\n",
        "# Create 'HomeWin' column\n",
        "new22.loc[:, 'HomeWin'] = (new22['PTS'] < new22['PTS.1']).astype(int)\n",
        "#print(new22)\n",
        "\n",
        "# Prepare the data for training and testing.\n",
        "X = new22.drop(columns='HomeWin')\n",
        "X = pd.get_dummies(X)  \n",
        "y = new22['HomeWin']\n",
        "\n",
        "#print(X)\n",
        "#print(y)\n",
        "\n",
        "# Split the data into training and testing sets\n",
        "Xtrain, Xtest, ytrain, ytest = train_test_split(X, y, test_size=0.7, random_state=35)\n",
        "\n",
        "# Train the decision tree model\n",
        "clf = DecisionTreeClassifier(random_state=42)\n",
        "clf.fit(Xtrain, ytrain)\n",
        "\n",
        "# Predict the outcomes for the test set\n",
        "y_pred = clf.predict(Xtest)\n",
        "\n",
        "importances = clf.feature_importances_\n",
        "feature_importances = pd.Series(importances, index=X.columns)\n",
        "top_features = feature_importances.nlargest(5)\n",
        "print('-----------------------------------------')\n",
        "print(\"Top features\")\n",
        "print(top_features)\n",
        "print('-----------------------------------------')\n",
        "# Evaluate the model\n",
        "print(\"Accuracy:\", accuracy_score(ytest, y_pred))\n",
        "print(\"Confusion Matrix:\\n\", confusion_matrix(ytest, y_pred))\n",
        "print(\"Classification Report:\\n\", classification_report(ytest, y_pred))"
      ],
      "execution_count": null,
      "outputs": []
    },
    {
      "cell_type": "markdown",
      "source": [],
      "metadata": {
        "id": "AGsBKzePNzCl"
      }
    },
    {
      "cell_type": "markdown",
      "metadata": {
        "id": "BWWSx1qoT9He"
      },
      "source": [
        "### Question 6: Add data from the previous season\n",
        "Go back to the website and download the team standings from the PREVIOUS season. You will find it in the `Standings` tab. Keep just the number of wins and create two new columns called `HomeWins2020` and `VisitorWins2020`."
      ]
    },
    {
      "cell_type": "code",
      "metadata": {
        "id": "GULVrOrEIfhp"
      },
      "source": [
        "# Load the data for the 2021-22 NBA season\n",
        "#dfNBA202122 = read_csv_to_dataframe(csv_202122)\n",
        "\n",
        "# Load the data for the 2020-21 NBA season\n",
        "dfNBA202021 = read_csv_to_dataframe(csv_202021)\n",
        "\n",
        "# Duplicate the dataframe with only columns we need for the model.\n",
        "new20 = dfNBA202021[['Visitor/Neutral', 'Home/Neutral', 'PTS', 'PTS.1']].copy()\n",
        "\n",
        "# Create 'HomeWin' column\n",
        "new20.loc[:, 'HomeWin'] = (new20['PTS'] < new20['PTS.1']).astype(int)\n",
        "#print(new20)\n",
        "\n",
        "# Duplicate the dataframe with only columns we need for the model.\n",
        "#new22 = dfNBA202122[['Visitor/Neutral', 'Home/Neutral', 'PTS', 'PTS.1']].copy()\n",
        "# Create 'HomeWin' column\n",
        "#new22.loc[:, 'HomeWin'] = (new22['PTS'] < new22['PTS.1']).astype(int)\n",
        "#print(new22)\n",
        "\n",
        "# Combine the data from both seasons\n",
        "#fulldf = pd.concat([new22, new20], ignore_index=True)\n",
        "#print(fulldf)\n",
        "\n",
        "# Calculate home wins and visitor wins for each team in season 2020-21.\n",
        "home_wins = new20.groupby('Home/Neutral')['HomeWin'].sum()\n",
        "visitor_wins = new20.groupby('Visitor/Neutral')['HomeWin'].apply(lambda x: x.shape[0] - x.sum())\n",
        "\n",
        "# Combine home wins and visitor wins into a single DataFrame\n",
        "wins_2020 = pd.DataFrame({'HomeWins2020': home_wins, 'VisitorWins2020': visitor_wins}).reset_index()\n",
        "print(wins_2020)"
      ],
      "execution_count": null,
      "outputs": []
    },
    {
      "cell_type": "markdown",
      "metadata": {
        "id": "9TQyljLzkY9n"
      },
      "source": [
        "### Question 7: Repeat Model\n",
        "\n",
        "Repeat your analysis from Question 5."
      ]
    },
    {
      "cell_type": "code",
      "metadata": {
        "id": "zF4Dt9XnUJvF",
        "colab": {
          "base_uri": "https://localhost:8080/"
        },
        "outputId": "4ee1345c-b2e9-48ec-c202-3b42d61a700b"
      },
      "source": [
        "# Prepare the data for training and testing.\n",
        "X = new20.drop(columns='HomeWin')\n",
        "X = pd.get_dummies(X)  \n",
        "y = new20['HomeWin']\n",
        "\n",
        "#print(X)\n",
        "#print(y)\n",
        "\n",
        "# Split the data into training and testing sets\n",
        "Xtrain, Xtest, ytrain, ytest = train_test_split(X, y, test_size=0.7, random_state=35)\n",
        "\n",
        "# Train the decision tree model\n",
        "clf = DecisionTreeClassifier(random_state=42)\n",
        "clf.fit(Xtrain, ytrain)\n",
        "\n",
        "# Predict the outcomes for the test set\n",
        "y_pred = clf.predict(Xtest)\n",
        "\n",
        "importances = clf.feature_importances_\n",
        "feature_importances = pd.Series(importances, index=X.columns)\n",
        "top_features = feature_importances.nlargest(5)\n",
        "print('-----------------------------------------')\n",
        "print(\"Top features\")\n",
        "print(top_features)\n",
        "print('-----------------------------------------')\n",
        "# Evaluate the model\n",
        "print(\"Accuracy:\", accuracy_score(ytest, y_pred))\n",
        "print(\"Confusion Matrix:\\n\", confusion_matrix(ytest, y_pred))\n",
        "print(\"Classification Report:\\n\", classification_report(ytest, y_pred))"
      ],
      "execution_count": 45,
      "outputs": [
        {
          "output_type": "stream",
          "name": "stdout",
          "text": [
            "-----------------------------------------\n",
            "Top features\n",
            "PTS.1                                  0.474876\n",
            "PTS                                    0.422808\n",
            "Home/Neutral_Portland Trail Blazers    0.018745\n",
            "Visitor/Neutral_Boston Celtics         0.013062\n",
            "Home/Neutral_Minnesota Timberwolves    0.011026\n",
            "dtype: float64\n",
            "-----------------------------------------\n",
            "Accuracy: 0.9219512195121952\n",
            "Confusion Matrix:\n",
            " [[333  38]\n",
            " [ 26 423]]\n",
            "Classification Report:\n",
            "               precision    recall  f1-score   support\n",
            "\n",
            "           0       0.93      0.90      0.91       371\n",
            "           1       0.92      0.94      0.93       449\n",
            "\n",
            "    accuracy                           0.92       820\n",
            "   macro avg       0.92      0.92      0.92       820\n",
            "weighted avg       0.92      0.92      0.92       820\n",
            "\n"
          ]
        }
      ]
    },
    {
      "cell_type": "markdown",
      "metadata": {
        "id": "kmD1osUakn5b"
      },
      "source": [
        "### Question 8: Analysis and Discussion\n",
        "What was your best-performing model? \\\\\n",
        "How well did it do? \\\\\n",
        "Was it overfit? \\\\\n",
        "What seems to be the most important feature(s)? \\\\\n",
        "How well did your model perform compared to blindly guessing the Home Team won?"
      ]
    }
  ]
}