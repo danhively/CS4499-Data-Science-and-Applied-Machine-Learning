{
  "nbformat": 4,
  "nbformat_minor": 0,
  "metadata": {
    "kernelspec": {
      "display_name": "Python 3",
      "language": "python",
      "name": "python3"
    },
    "language_info": {
      "codemirror_mode": {
        "name": "ipython",
        "version": 3
      },
      "file_extension": ".py",
      "mimetype": "text/x-python",
      "name": "python",
      "nbconvert_exporter": "python",
      "pygments_lexer": "ipython3",
      "version": "3.6.5"
    },
    "colab": {
      "provenance": [],
      "include_colab_link": true
    }
  },
  "cells": [
    {
      "cell_type": "markdown",
      "metadata": {
        "id": "view-in-github",
        "colab_type": "text"
      },
      "source": [
        "<a href=\"https://colab.research.google.com/github/danhively/CS4499/blob/main/HW6_Hively.ipynb\" target=\"_parent\"><img src=\"https://colab.research.google.com/assets/colab-badge.svg\" alt=\"Open In Colab\"/></a>"
      ]
    },
    {
      "cell_type": "markdown",
      "metadata": {
        "id": "gve5L-vE2vBr"
      },
      "source": [
        "# Homework 6\n",
        "Dr. Kerby <br>\n",
        "Data Science and Applied Machine Learning <br>\n",
        "Due March 15th, 2023 at 3 PM <br>\n",
        "Worth 100 pts <br>\n",
        "Student's name: Dan Hively\n",
        "\n",
        "For a description of the HousePrices.csv dataset, visit:</br>\n",
        "https://gitlab.com/CEADS/DrKerby/python/blob/master/HousePrices_description.txt"
      ]
    },
    {
      "cell_type": "code",
      "metadata": {
        "id": "_EHzZR4d2vBt",
        "colab": {
          "base_uri": "https://localhost:8080/",
          "height": 236
        },
        "outputId": "057f2320-d521-4014-fd0f-e425825f64e8"
      },
      "source": [
        "# Just execute this cell\n",
        "import numpy as np\n",
        "import pandas as pd\n",
        "import matplotlib\n",
        "import matplotlib.pyplot as plt\n",
        "%matplotlib inline\n",
        "import math\n",
        "from sklearn.model_selection import train_test_split\n",
        "from sklearn.linear_model import LinearRegression\n",
        "from sklearn.metrics import mean_squared_error\n",
        "\n",
        "fulldf = pd.read_csv('https://raw.githubusercontent.com/LGKerby/Python/master/HousePrices.csv')\n",
        "fulldf.head()"
      ],
      "execution_count": 29,
      "outputs": [
        {
          "output_type": "execute_result",
          "data": {
            "text/plain": [
              "   Id  MSSubClass MSZoning  LotFrontage  LotArea Street Alley LotShape  \\\n",
              "0   1          60       RL         65.0     8450   Pave   NaN      Reg   \n",
              "1   2          20       RL         80.0     9600   Pave   NaN      Reg   \n",
              "2   3          60       RL         68.0    11250   Pave   NaN      IR1   \n",
              "3   4          70       RL         60.0     9550   Pave   NaN      IR1   \n",
              "4   5          60       RL         84.0    14260   Pave   NaN      IR1   \n",
              "\n",
              "  LandContour Utilities  ... PoolArea PoolQC Fence MiscFeature MiscVal MoSold  \\\n",
              "0         Lvl    AllPub  ...        0    NaN   NaN         NaN       0      2   \n",
              "1         Lvl    AllPub  ...        0    NaN   NaN         NaN       0      5   \n",
              "2         Lvl    AllPub  ...        0    NaN   NaN         NaN       0      9   \n",
              "3         Lvl    AllPub  ...        0    NaN   NaN         NaN       0      2   \n",
              "4         Lvl    AllPub  ...        0    NaN   NaN         NaN       0     12   \n",
              "\n",
              "  YrSold  SaleType  SaleCondition  SalePrice  \n",
              "0   2008        WD         Normal     208500  \n",
              "1   2007        WD         Normal     181500  \n",
              "2   2008        WD         Normal     223500  \n",
              "3   2006        WD        Abnorml     140000  \n",
              "4   2008        WD         Normal     250000  \n",
              "\n",
              "[5 rows x 81 columns]"
            ],
            "text/html": [
              "\n",
              "  <div id=\"df-16d8a14e-df04-47fe-afaa-3ba7fcd770a5\">\n",
              "    <div class=\"colab-df-container\">\n",
              "      <div>\n",
              "<style scoped>\n",
              "    .dataframe tbody tr th:only-of-type {\n",
              "        vertical-align: middle;\n",
              "    }\n",
              "\n",
              "    .dataframe tbody tr th {\n",
              "        vertical-align: top;\n",
              "    }\n",
              "\n",
              "    .dataframe thead th {\n",
              "        text-align: right;\n",
              "    }\n",
              "</style>\n",
              "<table border=\"1\" class=\"dataframe\">\n",
              "  <thead>\n",
              "    <tr style=\"text-align: right;\">\n",
              "      <th></th>\n",
              "      <th>Id</th>\n",
              "      <th>MSSubClass</th>\n",
              "      <th>MSZoning</th>\n",
              "      <th>LotFrontage</th>\n",
              "      <th>LotArea</th>\n",
              "      <th>Street</th>\n",
              "      <th>Alley</th>\n",
              "      <th>LotShape</th>\n",
              "      <th>LandContour</th>\n",
              "      <th>Utilities</th>\n",
              "      <th>...</th>\n",
              "      <th>PoolArea</th>\n",
              "      <th>PoolQC</th>\n",
              "      <th>Fence</th>\n",
              "      <th>MiscFeature</th>\n",
              "      <th>MiscVal</th>\n",
              "      <th>MoSold</th>\n",
              "      <th>YrSold</th>\n",
              "      <th>SaleType</th>\n",
              "      <th>SaleCondition</th>\n",
              "      <th>SalePrice</th>\n",
              "    </tr>\n",
              "  </thead>\n",
              "  <tbody>\n",
              "    <tr>\n",
              "      <th>0</th>\n",
              "      <td>1</td>\n",
              "      <td>60</td>\n",
              "      <td>RL</td>\n",
              "      <td>65.0</td>\n",
              "      <td>8450</td>\n",
              "      <td>Pave</td>\n",
              "      <td>NaN</td>\n",
              "      <td>Reg</td>\n",
              "      <td>Lvl</td>\n",
              "      <td>AllPub</td>\n",
              "      <td>...</td>\n",
              "      <td>0</td>\n",
              "      <td>NaN</td>\n",
              "      <td>NaN</td>\n",
              "      <td>NaN</td>\n",
              "      <td>0</td>\n",
              "      <td>2</td>\n",
              "      <td>2008</td>\n",
              "      <td>WD</td>\n",
              "      <td>Normal</td>\n",
              "      <td>208500</td>\n",
              "    </tr>\n",
              "    <tr>\n",
              "      <th>1</th>\n",
              "      <td>2</td>\n",
              "      <td>20</td>\n",
              "      <td>RL</td>\n",
              "      <td>80.0</td>\n",
              "      <td>9600</td>\n",
              "      <td>Pave</td>\n",
              "      <td>NaN</td>\n",
              "      <td>Reg</td>\n",
              "      <td>Lvl</td>\n",
              "      <td>AllPub</td>\n",
              "      <td>...</td>\n",
              "      <td>0</td>\n",
              "      <td>NaN</td>\n",
              "      <td>NaN</td>\n",
              "      <td>NaN</td>\n",
              "      <td>0</td>\n",
              "      <td>5</td>\n",
              "      <td>2007</td>\n",
              "      <td>WD</td>\n",
              "      <td>Normal</td>\n",
              "      <td>181500</td>\n",
              "    </tr>\n",
              "    <tr>\n",
              "      <th>2</th>\n",
              "      <td>3</td>\n",
              "      <td>60</td>\n",
              "      <td>RL</td>\n",
              "      <td>68.0</td>\n",
              "      <td>11250</td>\n",
              "      <td>Pave</td>\n",
              "      <td>NaN</td>\n",
              "      <td>IR1</td>\n",
              "      <td>Lvl</td>\n",
              "      <td>AllPub</td>\n",
              "      <td>...</td>\n",
              "      <td>0</td>\n",
              "      <td>NaN</td>\n",
              "      <td>NaN</td>\n",
              "      <td>NaN</td>\n",
              "      <td>0</td>\n",
              "      <td>9</td>\n",
              "      <td>2008</td>\n",
              "      <td>WD</td>\n",
              "      <td>Normal</td>\n",
              "      <td>223500</td>\n",
              "    </tr>\n",
              "    <tr>\n",
              "      <th>3</th>\n",
              "      <td>4</td>\n",
              "      <td>70</td>\n",
              "      <td>RL</td>\n",
              "      <td>60.0</td>\n",
              "      <td>9550</td>\n",
              "      <td>Pave</td>\n",
              "      <td>NaN</td>\n",
              "      <td>IR1</td>\n",
              "      <td>Lvl</td>\n",
              "      <td>AllPub</td>\n",
              "      <td>...</td>\n",
              "      <td>0</td>\n",
              "      <td>NaN</td>\n",
              "      <td>NaN</td>\n",
              "      <td>NaN</td>\n",
              "      <td>0</td>\n",
              "      <td>2</td>\n",
              "      <td>2006</td>\n",
              "      <td>WD</td>\n",
              "      <td>Abnorml</td>\n",
              "      <td>140000</td>\n",
              "    </tr>\n",
              "    <tr>\n",
              "      <th>4</th>\n",
              "      <td>5</td>\n",
              "      <td>60</td>\n",
              "      <td>RL</td>\n",
              "      <td>84.0</td>\n",
              "      <td>14260</td>\n",
              "      <td>Pave</td>\n",
              "      <td>NaN</td>\n",
              "      <td>IR1</td>\n",
              "      <td>Lvl</td>\n",
              "      <td>AllPub</td>\n",
              "      <td>...</td>\n",
              "      <td>0</td>\n",
              "      <td>NaN</td>\n",
              "      <td>NaN</td>\n",
              "      <td>NaN</td>\n",
              "      <td>0</td>\n",
              "      <td>12</td>\n",
              "      <td>2008</td>\n",
              "      <td>WD</td>\n",
              "      <td>Normal</td>\n",
              "      <td>250000</td>\n",
              "    </tr>\n",
              "  </tbody>\n",
              "</table>\n",
              "<p>5 rows × 81 columns</p>\n",
              "</div>\n",
              "      <button class=\"colab-df-convert\" onclick=\"convertToInteractive('df-16d8a14e-df04-47fe-afaa-3ba7fcd770a5')\"\n",
              "              title=\"Convert this dataframe to an interactive table.\"\n",
              "              style=\"display:none;\">\n",
              "        \n",
              "  <svg xmlns=\"http://www.w3.org/2000/svg\" height=\"24px\"viewBox=\"0 0 24 24\"\n",
              "       width=\"24px\">\n",
              "    <path d=\"M0 0h24v24H0V0z\" fill=\"none\"/>\n",
              "    <path d=\"M18.56 5.44l.94 2.06.94-2.06 2.06-.94-2.06-.94-.94-2.06-.94 2.06-2.06.94zm-11 1L8.5 8.5l.94-2.06 2.06-.94-2.06-.94L8.5 2.5l-.94 2.06-2.06.94zm10 10l.94 2.06.94-2.06 2.06-.94-2.06-.94-.94-2.06-.94 2.06-2.06.94z\"/><path d=\"M17.41 7.96l-1.37-1.37c-.4-.4-.92-.59-1.43-.59-.52 0-1.04.2-1.43.59L10.3 9.45l-7.72 7.72c-.78.78-.78 2.05 0 2.83L4 21.41c.39.39.9.59 1.41.59.51 0 1.02-.2 1.41-.59l7.78-7.78 2.81-2.81c.8-.78.8-2.07 0-2.86zM5.41 20L4 18.59l7.72-7.72 1.47 1.35L5.41 20z\"/>\n",
              "  </svg>\n",
              "      </button>\n",
              "      \n",
              "  <style>\n",
              "    .colab-df-container {\n",
              "      display:flex;\n",
              "      flex-wrap:wrap;\n",
              "      gap: 12px;\n",
              "    }\n",
              "\n",
              "    .colab-df-convert {\n",
              "      background-color: #E8F0FE;\n",
              "      border: none;\n",
              "      border-radius: 50%;\n",
              "      cursor: pointer;\n",
              "      display: none;\n",
              "      fill: #1967D2;\n",
              "      height: 32px;\n",
              "      padding: 0 0 0 0;\n",
              "      width: 32px;\n",
              "    }\n",
              "\n",
              "    .colab-df-convert:hover {\n",
              "      background-color: #E2EBFA;\n",
              "      box-shadow: 0px 1px 2px rgba(60, 64, 67, 0.3), 0px 1px 3px 1px rgba(60, 64, 67, 0.15);\n",
              "      fill: #174EA6;\n",
              "    }\n",
              "\n",
              "    [theme=dark] .colab-df-convert {\n",
              "      background-color: #3B4455;\n",
              "      fill: #D2E3FC;\n",
              "    }\n",
              "\n",
              "    [theme=dark] .colab-df-convert:hover {\n",
              "      background-color: #434B5C;\n",
              "      box-shadow: 0px 1px 3px 1px rgba(0, 0, 0, 0.15);\n",
              "      filter: drop-shadow(0px 1px 2px rgba(0, 0, 0, 0.3));\n",
              "      fill: #FFFFFF;\n",
              "    }\n",
              "  </style>\n",
              "\n",
              "      <script>\n",
              "        const buttonEl =\n",
              "          document.querySelector('#df-16d8a14e-df04-47fe-afaa-3ba7fcd770a5 button.colab-df-convert');\n",
              "        buttonEl.style.display =\n",
              "          google.colab.kernel.accessAllowed ? 'block' : 'none';\n",
              "\n",
              "        async function convertToInteractive(key) {\n",
              "          const element = document.querySelector('#df-16d8a14e-df04-47fe-afaa-3ba7fcd770a5');\n",
              "          const dataTable =\n",
              "            await google.colab.kernel.invokeFunction('convertToInteractive',\n",
              "                                                     [key], {});\n",
              "          if (!dataTable) return;\n",
              "\n",
              "          const docLinkHtml = 'Like what you see? Visit the ' +\n",
              "            '<a target=\"_blank\" href=https://colab.research.google.com/notebooks/data_table.ipynb>data table notebook</a>'\n",
              "            + ' to learn more about interactive tables.';\n",
              "          element.innerHTML = '';\n",
              "          dataTable['output_type'] = 'display_data';\n",
              "          await google.colab.output.renderOutput(dataTable, element);\n",
              "          const docLink = document.createElement('div');\n",
              "          docLink.innerHTML = docLinkHtml;\n",
              "          element.appendChild(docLink);\n",
              "        }\n",
              "      </script>\n",
              "    </div>\n",
              "  </div>\n",
              "  "
            ]
          },
          "metadata": {},
          "execution_count": 29
        }
      ]
    },
    {
      "cell_type": "markdown",
      "metadata": {
        "id": "syjQhSKk2vBx"
      },
      "source": [
        "**Question 1** (10 points)<br/>\n",
        "Explore the dataset using at least three different methods "
      ]
    },
    {
      "cell_type": "code",
      "metadata": {
        "id": "IbrFklAc2vBy",
        "colab": {
          "base_uri": "https://localhost:8080/"
        },
        "outputId": "8f55eebc-bda5-4262-b4ac-b5f873daf331"
      },
      "source": [
        "# Print some basic information about the dataset.\n",
        "\n",
        "# Print the list of columns in the CSV file.\n",
        "print('----------------------------')\n",
        "print('Columns')\n",
        "print('----------------------------')\n",
        "print(fulldf.columns)\n",
        "\n",
        "# Print the first five rows of the DataFrame\n",
        "print('----------------------------')\n",
        "print('First 5 rows')\n",
        "print('----------------------------')\n",
        "print(fulldf.head())\n",
        "\n",
        "# Print the shape of the DataFrame\n",
        "print('----------------------------')\n",
        "print('Shape')\n",
        "print('----------------------------')\n",
        "print(fulldf.shape)\n",
        "\n",
        "# Print some summary statistics of the DataFrame\n",
        "print('----------------------------')\n",
        "print('statistics')\n",
        "print('----------------------------')\n",
        "print(fulldf.describe())"
      ],
      "execution_count": 30,
      "outputs": [
        {
          "output_type": "stream",
          "name": "stdout",
          "text": [
            "----------------------------\n",
            "Columns\n",
            "----------------------------\n",
            "Index(['Id', 'MSSubClass', 'MSZoning', 'LotFrontage', 'LotArea', 'Street',\n",
            "       'Alley', 'LotShape', 'LandContour', 'Utilities', 'LotConfig',\n",
            "       'LandSlope', 'Neighborhood', 'Condition1', 'Condition2', 'BldgType',\n",
            "       'HouseStyle', 'OverallQual', 'OverallCond', 'YearBuilt', 'YearRemodAdd',\n",
            "       'RoofStyle', 'RoofMatl', 'Exterior1st', 'Exterior2nd', 'MasVnrType',\n",
            "       'MasVnrArea', 'ExterQual', 'ExterCond', 'Foundation', 'BsmtQual',\n",
            "       'BsmtCond', 'BsmtExposure', 'BsmtFinType1', 'BsmtFinSF1',\n",
            "       'BsmtFinType2', 'BsmtFinSF2', 'BsmtUnfSF', 'TotalBsmtSF', 'Heating',\n",
            "       'HeatingQC', 'CentralAir', 'Electrical', '1stFlrSF', '2ndFlrSF',\n",
            "       'LowQualFinSF', 'GrLivArea', 'BsmtFullBath', 'BsmtHalfBath', 'FullBath',\n",
            "       'HalfBath', 'BedroomAbvGr', 'KitchenAbvGr', 'KitchenQual',\n",
            "       'TotRmsAbvGrd', 'Functional', 'Fireplaces', 'FireplaceQu', 'GarageType',\n",
            "       'GarageYrBlt', 'GarageFinish', 'GarageCars', 'GarageArea', 'GarageQual',\n",
            "       'GarageCond', 'PavedDrive', 'WoodDeckSF', 'OpenPorchSF',\n",
            "       'EnclosedPorch', '3SsnPorch', 'ScreenPorch', 'PoolArea', 'PoolQC',\n",
            "       'Fence', 'MiscFeature', 'MiscVal', 'MoSold', 'YrSold', 'SaleType',\n",
            "       'SaleCondition', 'SalePrice'],\n",
            "      dtype='object')\n",
            "----------------------------\n",
            "First 5 rows\n",
            "----------------------------\n",
            "   Id  MSSubClass MSZoning  LotFrontage  LotArea Street Alley LotShape  \\\n",
            "0   1          60       RL         65.0     8450   Pave   NaN      Reg   \n",
            "1   2          20       RL         80.0     9600   Pave   NaN      Reg   \n",
            "2   3          60       RL         68.0    11250   Pave   NaN      IR1   \n",
            "3   4          70       RL         60.0     9550   Pave   NaN      IR1   \n",
            "4   5          60       RL         84.0    14260   Pave   NaN      IR1   \n",
            "\n",
            "  LandContour Utilities  ... PoolArea PoolQC Fence MiscFeature MiscVal MoSold  \\\n",
            "0         Lvl    AllPub  ...        0    NaN   NaN         NaN       0      2   \n",
            "1         Lvl    AllPub  ...        0    NaN   NaN         NaN       0      5   \n",
            "2         Lvl    AllPub  ...        0    NaN   NaN         NaN       0      9   \n",
            "3         Lvl    AllPub  ...        0    NaN   NaN         NaN       0      2   \n",
            "4         Lvl    AllPub  ...        0    NaN   NaN         NaN       0     12   \n",
            "\n",
            "  YrSold  SaleType  SaleCondition  SalePrice  \n",
            "0   2008        WD         Normal     208500  \n",
            "1   2007        WD         Normal     181500  \n",
            "2   2008        WD         Normal     223500  \n",
            "3   2006        WD        Abnorml     140000  \n",
            "4   2008        WD         Normal     250000  \n",
            "\n",
            "[5 rows x 81 columns]\n",
            "----------------------------\n",
            "Shape\n",
            "----------------------------\n",
            "(1460, 81)\n",
            "----------------------------\n",
            "statistics\n",
            "----------------------------\n",
            "                Id   MSSubClass  LotFrontage        LotArea  OverallQual  \\\n",
            "count  1460.000000  1460.000000  1201.000000    1460.000000  1460.000000   \n",
            "mean    730.500000    56.897260    70.049958   10516.828082     6.099315   \n",
            "std     421.610009    42.300571    24.284752    9981.264932     1.382997   \n",
            "min       1.000000    20.000000    21.000000    1300.000000     1.000000   \n",
            "25%     365.750000    20.000000    59.000000    7553.500000     5.000000   \n",
            "50%     730.500000    50.000000    69.000000    9478.500000     6.000000   \n",
            "75%    1095.250000    70.000000    80.000000   11601.500000     7.000000   \n",
            "max    1460.000000   190.000000   313.000000  215245.000000    10.000000   \n",
            "\n",
            "       OverallCond    YearBuilt  YearRemodAdd   MasVnrArea   BsmtFinSF1  ...  \\\n",
            "count  1460.000000  1460.000000   1460.000000  1452.000000  1460.000000  ...   \n",
            "mean      5.575342  1971.267808   1984.865753   103.685262   443.639726  ...   \n",
            "std       1.112799    30.202904     20.645407   181.066207   456.098091  ...   \n",
            "min       1.000000  1872.000000   1950.000000     0.000000     0.000000  ...   \n",
            "25%       5.000000  1954.000000   1967.000000     0.000000     0.000000  ...   \n",
            "50%       5.000000  1973.000000   1994.000000     0.000000   383.500000  ...   \n",
            "75%       6.000000  2000.000000   2004.000000   166.000000   712.250000  ...   \n",
            "max       9.000000  2010.000000   2010.000000  1600.000000  5644.000000  ...   \n",
            "\n",
            "        WoodDeckSF  OpenPorchSF  EnclosedPorch    3SsnPorch  ScreenPorch  \\\n",
            "count  1460.000000  1460.000000    1460.000000  1460.000000  1460.000000   \n",
            "mean     94.244521    46.660274      21.954110     3.409589    15.060959   \n",
            "std     125.338794    66.256028      61.119149    29.317331    55.757415   \n",
            "min       0.000000     0.000000       0.000000     0.000000     0.000000   \n",
            "25%       0.000000     0.000000       0.000000     0.000000     0.000000   \n",
            "50%       0.000000    25.000000       0.000000     0.000000     0.000000   \n",
            "75%     168.000000    68.000000       0.000000     0.000000     0.000000   \n",
            "max     857.000000   547.000000     552.000000   508.000000   480.000000   \n",
            "\n",
            "          PoolArea       MiscVal       MoSold       YrSold      SalePrice  \n",
            "count  1460.000000   1460.000000  1460.000000  1460.000000    1460.000000  \n",
            "mean      2.758904     43.489041     6.321918  2007.815753  180921.195890  \n",
            "std      40.177307    496.123024     2.703626     1.328095   79442.502883  \n",
            "min       0.000000      0.000000     1.000000  2006.000000   34900.000000  \n",
            "25%       0.000000      0.000000     5.000000  2007.000000  129975.000000  \n",
            "50%       0.000000      0.000000     6.000000  2008.000000  163000.000000  \n",
            "75%       0.000000      0.000000     8.000000  2009.000000  214000.000000  \n",
            "max     738.000000  15500.000000    12.000000  2010.000000  755000.000000  \n",
            "\n",
            "[8 rows x 38 columns]\n"
          ]
        }
      ]
    },
    {
      "cell_type": "code",
      "metadata": {
        "id": "g2AAiAo12vB0",
        "colab": {
          "base_uri": "https://localhost:8080/",
          "height": 820
        },
        "outputId": "52dcb246-b76b-4da3-b023-dd946f1f50c8"
      },
      "source": [
        "# Create a histogram of the 'SalePrice' \n",
        "plt.hist(fulldf['SalePrice'], bins=20)\n",
        "plt.xlabel('SalePrice')\n",
        "plt.ylabel('Count')\n",
        "plt.show()\n",
        "\n",
        "# Create a bar plot of the YrSold \n",
        "fulldf['YrSold'].value_counts().sort_index().plot(kind='bar')\n",
        "plt.xlabel('Year Sold')\n",
        "plt.ylabel('Count')\n",
        "plt.show()\n",
        "\n",
        "# Create a scatter plot of the dataset\n",
        "fulldf.plot(kind='scatter', x='GrLivArea', y='SalePrice')\n",
        "plt.xlabel('Above Ground Living Area (sqft)')\n",
        "plt.ylabel('Sale Price ($)')\n",
        "plt.show()"
      ],
      "execution_count": 31,
      "outputs": [
        {
          "output_type": "display_data",
          "data": {
            "text/plain": [
              "<Figure size 432x288 with 1 Axes>"
            ],
            "image/png": "[encoded data removed]"
          },
          "metadata": {
            "needs_background": "light"
          }
        },
        {
          "output_type": "display_data",
          "data": {
            "text/plain": [
              "<Figure size 432x288 with 1 Axes>"
            ],
            "image/png": "[encoded data removed]"
          },
          "metadata": {
            "needs_background": "light"
          }
        },
        {
          "output_type": "display_data",
          "data": {
            "text/plain": [
              "<Figure size 432x288 with 1 Axes>"
            ],
            "image/png": "[encoded data removed]"
          },
          "metadata": {
            "needs_background": "light"
          }
        }
      ]
    },
    {
      "cell_type": "code",
      "metadata": {
        "id": "tOzwB_0A2vB2"
      },
      "source": [],
      "execution_count": 31,
      "outputs": []
    },
    {
      "cell_type": "markdown",
      "metadata": {
        "id": "V8C1OfL62vB5"
      },
      "source": [
        "There are 81 columns in our dataset. One column is the ID (which is not valuable data but an after-label), and another column is the Sale Price, which is what we will try to predict with machine learning. Therefore, we have 79 possible factors to use to create our model. Of these, we will keep the following 16:<br/>\n",
        "*MSZoning, LotArea, Neighborhood, BldgType, OverallQual, OverallCond, YearBuilt, TotalBsmtSF, GrLivArea, BsmtFullBath, BsmtHalfBath, FullBath, HalfBath, BedroomAbvGr, GarageCars, SaleCondition*\n",
        "\n",
        "**Question 2** (10 points)<br/>\n",
        "Create a DataFrame `housedf` which keeps only these 16 columns from `fulldf`. Print `housedf.head()` and `housedf.shape` to show you did it right."
      ]
    },
    {
      "cell_type": "code",
      "metadata": {
        "id": "EkMkiQCu2vB5"
      },
      "source": [
        "# Select the desired columns and create a new DataFrame.\n",
        "housedf = fulldf[['MSZoning', 'LotArea', 'Neighborhood', 'BldgType', 'OverallQual', 'OverallCond', 'YearBuilt', 'TotalBsmtSF', \n",
        "                  'GrLivArea', 'BsmtFullBath', 'BsmtHalfBath', 'FullBath', 'HalfBath', 'BedroomAbvGr', 'GarageCars', 'SaleCondition']]\n",
        "\n"
      ],
      "execution_count": 32,
      "outputs": []
    },
    {
      "cell_type": "code",
      "metadata": {
        "id": "I6Cc_7wC2vB8",
        "colab": {
          "base_uri": "https://localhost:8080/"
        },
        "outputId": "e5609d0e-2f91-4cb7-b1d6-157744b74d33"
      },
      "source": [
        "\n",
        "# Print the first five rows of the new DataFrame.\n",
        "print(housedf.head())\n",
        "\n",
        "# Print the shape of the new DataFrame.\n",
        "print(housedf.shape)\n",
        "\n",
        "print('----------------------------')\n",
        "print('Columns')\n",
        "print('----------------------------')\n",
        "print(len(housedf.columns))\n",
        "print(housedf.columns)"
      ],
      "execution_count": 33,
      "outputs": [
        {
          "output_type": "stream",
          "name": "stdout",
          "text": [
            "  MSZoning  LotArea Neighborhood BldgType  OverallQual  OverallCond  \\\n",
            "0       RL     8450      CollgCr     1Fam            7            5   \n",
            "1       RL     9600      Veenker     1Fam            6            8   \n",
            "2       RL    11250      CollgCr     1Fam            7            5   \n",
            "3       RL     9550      Crawfor     1Fam            7            5   \n",
            "4       RL    14260      NoRidge     1Fam            8            5   \n",
            "\n",
            "   YearBuilt  TotalBsmtSF  GrLivArea  BsmtFullBath  BsmtHalfBath  FullBath  \\\n",
            "0       2003          856       1710             1             0         2   \n",
            "1       1976         1262       1262             0             1         2   \n",
            "2       2001          920       1786             1             0         2   \n",
            "3       1915          756       1717             1             0         1   \n",
            "4       2000         1145       2198             1             0         2   \n",
            "\n",
            "   HalfBath  BedroomAbvGr  GarageCars SaleCondition  \n",
            "0         1             3           2        Normal  \n",
            "1         0             3           2        Normal  \n",
            "2         1             3           2        Normal  \n",
            "3         0             3           3       Abnorml  \n",
            "4         1             4           3        Normal  \n",
            "(1460, 16)\n",
            "----------------------------\n",
            "Columns\n",
            "----------------------------\n",
            "16\n",
            "Index(['MSZoning', 'LotArea', 'Neighborhood', 'BldgType', 'OverallQual',\n",
            "       'OverallCond', 'YearBuilt', 'TotalBsmtSF', 'GrLivArea', 'BsmtFullBath',\n",
            "       'BsmtHalfBath', 'FullBath', 'HalfBath', 'BedroomAbvGr', 'GarageCars',\n",
            "       'SaleCondition'],\n",
            "      dtype='object')\n"
          ]
        }
      ]
    },
    {
      "cell_type": "markdown",
      "metadata": {
        "id": "z76YNmAa2vB_"
      },
      "source": [
        "**Question 3** (10 points) <br/>\n",
        "Place the `SalePrice` column (from `fulldf`) into a variable called `target`. Show `target.head()`."
      ]
    },
    {
      "cell_type": "code",
      "metadata": {
        "id": "f_d0l_Wy2vCA",
        "colab": {
          "base_uri": "https://localhost:8080/"
        },
        "outputId": "ccceba3c-7f5c-4799-a5f1-c50bb2a3f718"
      },
      "source": [
        "# Place the SalePrice column (from fulldf) into a variable called target. \n",
        "target = fulldf['SalePrice']\n",
        "\n",
        "# Print the first five rows of the target variable\n",
        "print(target.head())"
      ],
      "execution_count": 34,
      "outputs": [
        {
          "output_type": "stream",
          "name": "stdout",
          "text": [
            "0    208500\n",
            "1    181500\n",
            "2    223500\n",
            "3    140000\n",
            "4    250000\n",
            "Name: SalePrice, dtype: int64\n"
          ]
        }
      ]
    },
    {
      "cell_type": "markdown",
      "metadata": {
        "id": "wkHQgBxS2vCC"
      },
      "source": [
        "**Question 4** (10 points) <br/>\n",
        "12 of our factors in `housedf` are numeric. 4 are categorical. The 4 categorical factors (MSZoning, Neighborhood, BldgType, and SaleCondition) need to be converted using `pandas` `get_dummies`. Do this and assign the result into a new DataFrame called `df`. Print `df.head()` to make sure you completed it correctly. `df` should now have 53 columns. In a separate cell, print `df.columns` so you can see how `get_dummies` handled the categorical factors, and what our 53 factors now are.\n",
        "\n",
        "*Note:* OverallQual and OverallCond are ordinal. They are rankings from 1 to 10 on the overall quality and condition of the home, respectively. As a ranking of 10 (very excellent) should contribute more to the value of a home than a ranking of 1 (very poor), it is an acceptable approximation to keep these as numeric factors rather than use `get_dummies` and add another 18 factors to our model. However, this means the relationship within OverallQual and OverallCond will be forced to be linear among the rankings and may not represent its real impact on value. You are welcome to also analyze converting these factors using `get_dummies` if you are curious about it, but you do not have to."
      ]
    },
    {
      "cell_type": "code",
      "metadata": {
        "id": "RKT0_uVE2vCD",
        "colab": {
          "base_uri": "https://localhost:8080/"
        },
        "outputId": "41f1dabf-fdd8-4e0f-f647-8b83f77df238"
      },
      "source": [
        "# Convert the categorical features to dummy variables\n",
        "df = pd.get_dummies(housedf, columns=['MSZoning', 'Neighborhood', 'BldgType', 'SaleCondition'])\n",
        "\n",
        "# Print the first five rows of the new DataFrame\n",
        "print(df.head())"
      ],
      "execution_count": 35,
      "outputs": [
        {
          "output_type": "stream",
          "name": "stdout",
          "text": [
            "   LotArea  OverallQual  OverallCond  YearBuilt  TotalBsmtSF  GrLivArea  \\\n",
            "0     8450            7            5       2003          856       1710   \n",
            "1     9600            6            8       1976         1262       1262   \n",
            "2    11250            7            5       2001          920       1786   \n",
            "3     9550            7            5       1915          756       1717   \n",
            "4    14260            8            5       2000         1145       2198   \n",
            "\n",
            "   BsmtFullBath  BsmtHalfBath  FullBath  HalfBath  ...  BldgType_2fmCon  \\\n",
            "0             1             0         2         1  ...                0   \n",
            "1             0             1         2         0  ...                0   \n",
            "2             1             0         2         1  ...                0   \n",
            "3             1             0         1         0  ...                0   \n",
            "4             1             0         2         1  ...                0   \n",
            "\n",
            "   BldgType_Duplex  BldgType_Twnhs  BldgType_TwnhsE  SaleCondition_Abnorml  \\\n",
            "0                0               0                0                      0   \n",
            "1                0               0                0                      0   \n",
            "2                0               0                0                      0   \n",
            "3                0               0                0                      1   \n",
            "4                0               0                0                      0   \n",
            "\n",
            "   SaleCondition_AdjLand  SaleCondition_Alloca  SaleCondition_Family  \\\n",
            "0                      0                     0                     0   \n",
            "1                      0                     0                     0   \n",
            "2                      0                     0                     0   \n",
            "3                      0                     0                     0   \n",
            "4                      0                     0                     0   \n",
            "\n",
            "   SaleCondition_Normal  SaleCondition_Partial  \n",
            "0                     1                      0  \n",
            "1                     1                      0  \n",
            "2                     1                      0  \n",
            "3                     0                      0  \n",
            "4                     1                      0  \n",
            "\n",
            "[5 rows x 53 columns]\n"
          ]
        }
      ]
    },
    {
      "cell_type": "code",
      "metadata": {
        "id": "D22qSil22vCG",
        "colab": {
          "base_uri": "https://localhost:8080/"
        },
        "outputId": "fd287ce5-ab73-4ba8-87b1-7d5126dcaac7"
      },
      "source": [
        "df.columns"
      ],
      "execution_count": 36,
      "outputs": [
        {
          "output_type": "execute_result",
          "data": {
            "text/plain": [
              "Index(['LotArea', 'OverallQual', 'OverallCond', 'YearBuilt', 'TotalBsmtSF',\n",
              "       'GrLivArea', 'BsmtFullBath', 'BsmtHalfBath', 'FullBath', 'HalfBath',\n",
              "       'BedroomAbvGr', 'GarageCars', 'MSZoning_C (all)', 'MSZoning_FV',\n",
              "       'MSZoning_RH', 'MSZoning_RL', 'MSZoning_RM', 'Neighborhood_Blmngtn',\n",
              "       'Neighborhood_Blueste', 'Neighborhood_BrDale', 'Neighborhood_BrkSide',\n",
              "       'Neighborhood_ClearCr', 'Neighborhood_CollgCr', 'Neighborhood_Crawfor',\n",
              "       'Neighborhood_Edwards', 'Neighborhood_Gilbert', 'Neighborhood_IDOTRR',\n",
              "       'Neighborhood_MeadowV', 'Neighborhood_Mitchel', 'Neighborhood_NAmes',\n",
              "       'Neighborhood_NPkVill', 'Neighborhood_NWAmes', 'Neighborhood_NoRidge',\n",
              "       'Neighborhood_NridgHt', 'Neighborhood_OldTown', 'Neighborhood_SWISU',\n",
              "       'Neighborhood_Sawyer', 'Neighborhood_SawyerW', 'Neighborhood_Somerst',\n",
              "       'Neighborhood_StoneBr', 'Neighborhood_Timber', 'Neighborhood_Veenker',\n",
              "       'BldgType_1Fam', 'BldgType_2fmCon', 'BldgType_Duplex', 'BldgType_Twnhs',\n",
              "       'BldgType_TwnhsE', 'SaleCondition_Abnorml', 'SaleCondition_AdjLand',\n",
              "       'SaleCondition_Alloca', 'SaleCondition_Family', 'SaleCondition_Normal',\n",
              "       'SaleCondition_Partial'],\n",
              "      dtype='object')"
            ]
          },
          "metadata": {},
          "execution_count": 36
        }
      ]
    },
    {
      "cell_type": "markdown",
      "metadata": {
        "id": "kJFzO5ub2vCJ"
      },
      "source": [
        "**Question 5** (10 points) <br/>\n",
        "Now split your `df` and `target` dataset into a training and testing set, using `train_test_split`. Call the results `Xtrain`, `Xtest`, `ytrain`, and `ytest`. Print `head()` and `shape` for each to ensure the data was split correctly."
      ]
    },
    {
      "cell_type": "code",
      "metadata": {
        "id": "GgkPxV0K2vCK"
      },
      "source": [
        "# Split the data into training and testing sets\n",
        "Xtrain, Xtest, ytrain, ytest = train_test_split(df, target, test_size=0.7, random_state=35)"
      ],
      "execution_count": 37,
      "outputs": []
    },
    {
      "cell_type": "code",
      "metadata": {
        "id": "zsNOAJd_2vCN",
        "colab": {
          "base_uri": "https://localhost:8080/"
        },
        "outputId": "b6685a7f-1c22-431e-b832-9acbdf155f7e"
      },
      "source": [
        "# Print the first five rows and shape of the training set\n",
        "print('Xtrain:')\n",
        "print(Xtrain.head())\n",
        "print(Xtrain.shape)"
      ],
      "execution_count": 38,
      "outputs": [
        {
          "output_type": "stream",
          "name": "stdout",
          "text": [
            "Xtrain:\n",
            "      LotArea  OverallQual  OverallCond  YearBuilt  TotalBsmtSF  GrLivArea  \\\n",
            "1225    10482            6            8       1958          588       1138   \n",
            "155      9600            6            5       1924          572       1096   \n",
            "170     12358            5            6       1941          720       1382   \n",
            "936     10083            7            5       2003         1176       1200   \n",
            "777     13350            5            5       1974          864        894   \n",
            "\n",
            "      BsmtFullBath  BsmtHalfBath  FullBath  HalfBath  ...  BldgType_2fmCon  \\\n",
            "1225             0             1         1         0  ...                0   \n",
            "155              0             0         1         0  ...                0   \n",
            "170              0             0         1         1  ...                0   \n",
            "936              1             0         2         0  ...                0   \n",
            "777              1             0         1         0  ...                0   \n",
            "\n",
            "      BldgType_Duplex  BldgType_Twnhs  BldgType_TwnhsE  SaleCondition_Abnorml  \\\n",
            "1225                0               0                0                      0   \n",
            "155                 0               0                0                      0   \n",
            "170                 0               0                0                      0   \n",
            "936                 0               0                0                      0   \n",
            "777                 0               0                0                      0   \n",
            "\n",
            "      SaleCondition_AdjLand  SaleCondition_Alloca  SaleCondition_Family  \\\n",
            "1225                      0                     0                     0   \n",
            "155                       0                     0                     0   \n",
            "170                       0                     0                     0   \n",
            "936                       0                     0                     0   \n",
            "777                       0                     0                     0   \n",
            "\n",
            "      SaleCondition_Normal  SaleCondition_Partial  \n",
            "1225                     1                      0  \n",
            "155                      1                      0  \n",
            "170                      1                      0  \n",
            "936                      1                      0  \n",
            "777                      1                      0  \n",
            "\n",
            "[5 rows x 53 columns]\n",
            "(438, 53)\n"
          ]
        }
      ]
    },
    {
      "cell_type": "code",
      "metadata": {
        "id": "BIs7ovQo2vCP",
        "colab": {
          "base_uri": "https://localhost:8080/"
        },
        "outputId": "a7cb9fe2-0c82-48a9-a167-87e4a32537a8"
      },
      "source": [
        "# Print the first five rows and shape of the training set\n",
        "print('ytrain:')\n",
        "print(ytrain.head())\n",
        "print(ytrain.shape)"
      ],
      "execution_count": 39,
      "outputs": [
        {
          "output_type": "stream",
          "name": "stdout",
          "text": [
            "ytrain:\n",
            "1225    145000\n",
            "155      79000\n",
            "170     128500\n",
            "936     184900\n",
            "777     142500\n",
            "Name: SalePrice, dtype: int64\n",
            "(438,)\n"
          ]
        }
      ]
    },
    {
      "cell_type": "code",
      "metadata": {
        "id": "kBUry7V32vCQ",
        "colab": {
          "base_uri": "https://localhost:8080/"
        },
        "outputId": "05d78cd2-ddd2-46b5-95bc-8f8db7669c55"
      },
      "source": [
        "# Print the first five rows and shape of the testing set\n",
        "print('Xtest:')\n",
        "print(Xtest.head())\n",
        "print(Xtest.shape)"
      ],
      "execution_count": 40,
      "outputs": [
        {
          "output_type": "stream",
          "name": "stdout",
          "text": [
            "Xtest:\n",
            "      LotArea  OverallQual  OverallCond  YearBuilt  TotalBsmtSF  GrLivArea  \\\n",
            "594      7990            5            6       1975          924        924   \n",
            "486     10289            5            7       1965         1073       1073   \n",
            "645     10530            6            5       1971          981        981   \n",
            "40       8658            6            5       1965         1088       1324   \n",
            "1140     7350            5            7       1951          952        952   \n",
            "\n",
            "      BsmtFullBath  BsmtHalfBath  FullBath  HalfBath  ...  BldgType_2fmCon  \\\n",
            "594              0             0         1         0  ...                0   \n",
            "486              1             0         1         1  ...                0   \n",
            "645              1             0         1         1  ...                0   \n",
            "40               0             0         2         0  ...                0   \n",
            "1140             1             0         1         0  ...                0   \n",
            "\n",
            "      BldgType_Duplex  BldgType_Twnhs  BldgType_TwnhsE  SaleCondition_Abnorml  \\\n",
            "594                 0               0                0                      0   \n",
            "486                 0               0                0                      0   \n",
            "645                 0               0                0                      0   \n",
            "40                  0               0                0                      1   \n",
            "1140                0               0                0                      1   \n",
            "\n",
            "      SaleCondition_AdjLand  SaleCondition_Alloca  SaleCondition_Family  \\\n",
            "594                       0                     0                     0   \n",
            "486                       0                     0                     0   \n",
            "645                       0                     0                     0   \n",
            "40                        0                     0                     0   \n",
            "1140                      0                     0                     0   \n",
            "\n",
            "      SaleCondition_Normal  SaleCondition_Partial  \n",
            "594                      1                      0  \n",
            "486                      1                      0  \n",
            "645                      1                      0  \n",
            "40                       0                      0  \n",
            "1140                     0                      0  \n",
            "\n",
            "[5 rows x 53 columns]\n",
            "(1022, 53)\n"
          ]
        }
      ]
    },
    {
      "cell_type": "code",
      "metadata": {
        "id": "a-uNQ6vK2vCS",
        "colab": {
          "base_uri": "https://localhost:8080/"
        },
        "outputId": "a954f14b-8df0-4710-896d-2bdbb05878b7"
      },
      "source": [
        "# Print the first five rows and shape of the testing set\n",
        "print('ytest:')\n",
        "print(ytest.head())\n",
        "print(ytest.shape)"
      ],
      "execution_count": 41,
      "outputs": [
        {
          "output_type": "stream",
          "name": "stdout",
          "text": [
            "ytest:\n",
            "594     110000\n",
            "486     156000\n",
            "645     143250\n",
            "40      160000\n",
            "1140    139000\n",
            "Name: SalePrice, dtype: int64\n",
            "(1022,)\n"
          ]
        }
      ]
    },
    {
      "cell_type": "markdown",
      "metadata": {
        "id": "8u23CWI52vCU"
      },
      "source": [
        "**Question 6** (25 points) <br/>\n",
        "**a)** Now create your linear regression model, using `LinearRegression().fit` on your training data. Assign it to `regmodel`. <br/>\n",
        "**b)** Calculate the predictions the model gives for your test dataset, assigning it to the variable `predictions`. <br/>\n",
        "**c)** Print the $RMSE$ and $R^2$ values (for both the training and testing data). <br/>\n",
        "**d)** Copy your `train_test_split` command from Question 5 to the top of the next cell, so that you can run that cell and do one complete random sampling of the train/test data, linear model generation, model statistics, and model equation.  "
      ]
    },
    {
      "cell_type": "code",
      "metadata": {
        "id": "UwT1Xlyk2vCV",
        "colab": {
          "base_uri": "https://localhost:8080/"
        },
        "outputId": "3d63042b-4387-4b73-b6f8-90ebcd6b01da"
      },
      "source": [
        "# Imports\n",
        "from sklearn.metrics import r2_score\n",
        "\n",
        "# Split the data into training and testing sets - copied from Question 5.\n",
        "Xtrain, Xtest, ytrain, ytest = train_test_split(df, target, test_size=0.7, random_state=32)\n",
        "\n",
        "# Create a linear regression model and fit it to the training data\n",
        "regmodel = LinearRegression().fit(Xtrain, ytrain)\n",
        "\n",
        "# Calculate the predictions for the training and test data\n",
        "train_predictions = regmodel.predict(Xtrain)\n",
        "test_predictions = regmodel.predict(Xtest)\n",
        "\n",
        "# Calculate the RMSE and R2 values for the training data\n",
        "train_rmse = np.sqrt(mean_squared_error(ytrain, train_predictions))\n",
        "train_r2 = r2_score(ytrain, train_predictions)\n",
        "\n",
        "# Calculate the RMSE and R2 values for the test data\n",
        "test_rmse = np.sqrt(mean_squared_error(ytest, test_predictions))\n",
        "test_r2 = r2_score(ytest, test_predictions)\n",
        "\n",
        "# Print the results\n",
        "print('Training set RMSE:', train_rmse)\n",
        "print('Training set R2:', train_r2)\n",
        "print('Testing set RMSE:', test_rmse)\n",
        "print('Testing set R2:', test_r2)"
      ],
      "execution_count": 42,
      "outputs": [
        {
          "output_type": "stream",
          "name": "stdout",
          "text": [
            "Training set RMSE: 24259.315111019718\n",
            "Training set R2: 0.9010564602115188\n",
            "Testing set RMSE: 37848.86003184104\n",
            "Testing set R2: 0.778263658354015\n"
          ]
        }
      ]
    },
    {
      "cell_type": "markdown",
      "metadata": {
        "id": "e5KqTpDM2vCW"
      },
      "source": [
        "**Question 7** (25 points) <br/>\n",
        "Run the `train_test_split` and `LinearRegression().fit` several times, noting the RMSE and R^2 train and test results, along with the regression equation found by the model. Answer the following questions.\n",
        "\n",
        "What appears to be the rough average for RMSE? <br/>\n",
        "What appears to be the rough averages for R^2? <br/>\n",
        "\n",
        "Name three things that make sense in your model.<br/>\n",
        "Name two things that don't make sense in your model.<br/>\n",
        "\n",
        "Based on your model, which neighborhoods gave the most premium to home prices? Do these correspond to the wealthiest neighborhoods? <br/>\n",
        "What neighborhoods incurred the greatest penalties in home prices? Do these correspond to the poorest neighborhoods? \n",
        "\n",
        "Are you concerned you overfit your model? "
      ]
    },
    {
      "cell_type": "markdown",
      "metadata": {
        "id": "noxsLzXG2vCX"
      },
      "source": [
        "Put your answers here.\n",
        "\n",
        "Rough average for RMSE is 24259.31.<br/>\n",
        "Rough averages for R^2 is 0.901.\n",
        "\n",
        "Three things that make sense in my model.\n",
        "1. Living area (GrLivArea) having a positive effect on sale price.\n",
        "2. The number of cars that can fit in the garage (GarageCars) having a positive effect on sale price.\n",
        "3. Overall quality rating (OverallQual) having a positive effect on sale price.\n",
        "\n",
        "Two things that don't make sense in my model.\n",
        "1. Variables such as LowQualFinSF having high coefficients despite looking less important or irrelevant.\n",
        "2. Variables such as YearBuilt having negligible or negative effects on sale price despite seeming important."
      ]
    },
    {
      "cell_type": "markdown",
      "metadata": {
        "id": "Q-rm70zU2vCY"
      },
      "source": [
        "*One final note:* If we had more than just ~1500 homes, we could create machine learning models using all of the factors available in `fulldf`. "
      ]
    },
    {
      "cell_type": "markdown",
      "metadata": {
        "id": "As_RnF8Ohr8u"
      },
      "source": [
        "**Graduate Students Only:** \\\\\n",
        "Try adding and/or subtracting features, or creating your own, and building a new linear regression model with those features. Also try different variations of linear regression (ie Lasso or Ridge etc), or try One Hot Encoding instead of get_dummies. Discuss advantages and disadvantages and try to explain what you found. Did you get a better model?"
      ]
    },
    {
      "cell_type": "code",
      "metadata": {
        "id": "t7Waab1whsOt"
      },
      "source": [],
      "execution_count": 42,
      "outputs": []
    }
  ]
}