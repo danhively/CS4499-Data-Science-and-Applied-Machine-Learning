{
  "nbformat": 4,
  "nbformat_minor": 0,
  "metadata": {
    "colab": {
      "provenance": [],
      "include_colab_link": true
    },
    "kernelspec": {
      "name": "python3",
      "display_name": "Python 3"
    }
  },
  "cells": [
    {
      "cell_type": "markdown",
      "metadata": {
        "id": "view-in-github",
        "colab_type": "text"
      },
      "source": [
        "<a href=\"https://colab.research.google.com/github/danhively/CS4499-Data-Science-and-Applied-Machine-Learning/blob/main/HW7_Hively.ipynb\" target=\"_parent\"><img src=\"https://colab.research.google.com/assets/colab-badge.svg\" alt=\"Open In Colab\"/></a>"
      ]
    },
    {
      "cell_type": "markdown",
      "metadata": {
        "id": "BUObW5ghDCAf"
      },
      "source": [
        "# Homework 7: Logistic Regression\n",
        "Data Science and Applied Machine Learning \\\\\n",
        "Dr. Kerby \\\\\n",
        "Due 4-17-23 \\\\\n",
        "Worth 100 Points \\\\\n",
        "Student Name: Dan Hively"
      ]
    },
    {
      "cell_type": "markdown",
      "metadata": {
        "id": "NY3xR1MFAXpT"
      },
      "source": [
        "### Question 1\n",
        "Take your dataset from the mid-project (the final dataset with the most features, including your engineered features). Train a logistic regression ML model on your data to predict whether the home or visitor team will win.   \n"
      ]
    },
    {
      "cell_type": "code",
      "metadata": {
        "id": "B1Z2YckpDCdb"
      },
      "source": [
        "# Import some stuff\n",
        "import pandas as pd\n",
        "from sklearn.model_selection import train_test_split\n",
        "from sklearn.linear_model import LogisticRegression\n",
        "from sklearn.metrics import classification_report, accuracy_score\n"
      ],
      "execution_count": null,
      "outputs": []
    },
    {
      "cell_type": "markdown",
      "metadata": {
        "id": "GQlzygd-ElTB"
      },
      "source": [
        "### Question 2\n",
        "What is the training and testing accuracy of your logistic regression prediction model? \\\\\n",
        "How does this compare to the best model from the mid-project? \\\\\n",
        "What, according to the logistic regression model, are the most important features? "
      ]
    },
    {
      "cell_type": "code",
      "metadata": {
        "id": "BTTyBz27RxAb"
      },
      "source": [],
      "execution_count": null,
      "outputs": []
    },
    {
      "cell_type": "markdown",
      "metadata": {
        "id": "a5xtkc6wHoSr"
      },
      "source": [
        "### Question 3\n",
        "\n",
        "Normalize your feature set with StandardScaler and repeat questions 1 and 2."
      ]
    },
    {
      "cell_type": "code",
      "metadata": {
        "id": "jVxGLY4uDCj5"
      },
      "source": [],
      "execution_count": null,
      "outputs": []
    },
    {
      "cell_type": "markdown",
      "source": [
        "# Question 4 \n",
        "Select a different Machine Learning Model from the ones we have covered in class. Train the model and report the results. "
      ],
      "metadata": {
        "id": "sfd0K4gFX6Ig"
      }
    },
    {
      "cell_type": "markdown",
      "source": [
        "# Question 5 \n",
        "Now scale your data with a preprocessing method of your choice. Repeat question 4. "
      ],
      "metadata": {
        "id": "ZRD637qOYN_E"
      }
    },
    {
      "cell_type": "markdown",
      "source": [
        "# Question 6 \n",
        "In a parapgraph or 2 summarize the results of your work. Compare these models with your DT from the midproject. "
      ],
      "metadata": {
        "id": "BSm923W5YXWw"
      }
    }
  ]
}