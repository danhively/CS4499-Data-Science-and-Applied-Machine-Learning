{
  "nbformat": 4,
  "nbformat_minor": 0,
  "metadata": {
    "colab": {
      "provenance": []
    },
    "kernelspec": {
      "name": "python3",
      "display_name": "Python 3"
    }
  },
  "cells": [
    {
      "cell_type": "markdown",
      "metadata": {
        "id": "er-n4jj0FV1e"
      },
      "source": [
        "# Homework 5: Monty Hall Simulation\n",
        "Dr. Leslie Kerby <br>\n",
        "Data Science and Applied Machine Learning <br>\n",
        "Student's name: Dan Hively<br>\n",
        "Due 3/8/23 <br>\n",
        "Worth 100 Points "
      ]
    },
    {
      "cell_type": "markdown",
      "metadata": {
        "id": "EhEWjdPLM6mk"
      },
      "source": [
        "### The Monty Hall Problem"
      ]
    },
    {
      "cell_type": "markdown",
      "metadata": {
        "id": "8QNh_jsKM6ml"
      },
      "source": [
        "Originating from the American TV program, \"Let's Make a Deal,\" the Monty Hall problem gives a contestant a chance to win a car. There are three doors and behind one is a brand new car. The other two doors are hiding goats. \n",
        "\n",
        "The contestant chooses a door: the first, second, or third. Then the host Monty Hall opens up one of the other two doors remaining to reveal a goat. There are now two unopened doors, the one the contestant originally chose and the other un-opened door. Behind one is a goat and behind the other is a car. The contestant is given the option to stay with their originally-chosen door or to switch to the other door. Which should they do? Or does it not matter?\n",
        "\n",
        "**Create a python simulation to answer this question. You may use the following seven steps as a guide, or you may develop your own. What matters is that you**\n",
        "- **Create a computer simulation that follows the Monty Hall problem,**\n",
        "- **Generate a Monte Carlo probability of winning a car for each of the choices of staying and switching doors, and**\n",
        "- **Provide a recommendation of whether the contestant should stay or switch doors.**"
      ]
    },
    {
      "cell_type": "markdown",
      "metadata": {
        "id": "rGzWvPWj9Rxw"
      },
      "source": [
        "**Step 1. (5 Points)** Create a numpy array `doors` with the three possibiliites: `goat one`, `goat two`, and `car`. The contestant randomly chooses a door; simulate this by randomly choosing one of these three using `np.random.choice()` and calling it `original_choice`."
      ]
    },
    {
      "cell_type": "code",
      "metadata": {
        "id": "T0XznkV5M6mn",
        "colab": {
          "base_uri": "https://localhost:8080/"
        },
        "outputId": "9d78582b-7bcb-4c1d-8e38-76628755a2b4"
      },
      "source": [
        "# Imports\n",
        "import numpy as np\n",
        "\n",
        "# Create a numpy array called 'doors' with the three possibilities: goat one, goat two, and car\n",
        "doors = np.array(['goat one', 'goat two', 'car'])\n",
        "\n",
        "# The contestant randomly chooses a door; simulate this by randomly choosing one of these three using np.random.choice() and calling it original_choice\n",
        "original_choice = np.random.choice(doors)\n",
        "\n",
        "print(\"Doors: \", doors)\n",
        "print(\"Original choice: \", original_choice)\n"
      ],
      "execution_count": 1,
      "outputs": [
        {
          "output_type": "stream",
          "name": "stdout",
          "text": [
            "Doors:  ['goat one' 'goat two' 'car']\n",
            "Original choice:  goat two\n"
          ]
        }
      ]
    },
    {
      "cell_type": "markdown",
      "metadata": {
        "id": "3Z-El7b_M6mq"
      },
      "source": [
        "**Step 2. (5 Points)** Now the host reveals a goat behind one of the two un-chosen doors. If the contestant had chosen a door with a goat behind it, then there is only one other door with a goat and that one will be opened by the host. If the contestant had chosen the door with the car behind it, then both un-chosen doors contain goats and the host will randomly decide which one to open. Simulate this. Call the goat-door the host reveals `revealed_door`. <br/>\n",
        "*Hint:* Use `if` statements."
      ]
    },
    {
      "cell_type": "code",
      "metadata": {
        "id": "b3-AAv8gM6mr",
        "colab": {
          "base_uri": "https://localhost:8080/"
        },
        "outputId": "0a30109b-25d4-4281-a91d-189c4f874bda"
      },
      "source": [
        "original_choice = np.random.choice(doors)\n",
        "print(\"Original choice:\", original_choice)\n",
        "\n",
        "# Determine which door(s) have goats\n",
        "goat_doors = doors[doors != original_choice]\n",
        "if original_choice == \"car\":\n",
        "    # If the original choice has the car, host can randomly choose which goat to reveal\n",
        "    revealed_door = np.random.choice(goat_doors)\n",
        "else:\n",
        "    # If the original choice has a goat, host must reveal the other goat\n",
        "    revealed_door = goat_doors[0]\n",
        "print(\"Door revealed by host:\", revealed_door)"
      ],
      "execution_count": 2,
      "outputs": [
        {
          "output_type": "stream",
          "name": "stdout",
          "text": [
            "Original choice: goat one\n",
            "Door revealed by host: goat two\n"
          ]
        }
      ]
    },
    {
      "cell_type": "markdown",
      "metadata": {
        "id": "jAogoOlKM6my"
      },
      "source": [
        "**Step 3. (5 Points)** Copy your code from Step 2 and modify it to assign what is left behind the third (un-chosen and un-revealed) door within the `if` statements, so as to be more computationally concise. Call this door the `other_door`."
      ]
    },
    {
      "cell_type": "code",
      "metadata": {
        "id": "p2uv0TY3M6mz",
        "colab": {
          "base_uri": "https://localhost:8080/"
        },
        "outputId": "cbf8fa15-4cbe-4f77-80d0-831b9fbd5e78"
      },
      "source": [
        "original_choice = np.random.choice(doors)\n",
        "print(\"Original choice:\", original_choice)\n",
        "\n",
        "# Determine which door(s) have goats\n",
        "goat_doors = doors[doors != original_choice]\n",
        "if original_choice == \"car\":\n",
        "    # If the original choice has the car, host can randomly choose which goat to reveal\n",
        "    revealed_door = np.random.choice(goat_doors)\n",
        "else:\n",
        "    # If the original choice has a goat, host must reveal the other goat\n",
        "    revealed_door = goat_doors[0]\n",
        "print(\"Door revealed by host:\", revealed_door)\n",
        "\n",
        "# Determine which door(s) have goats\n",
        "goat_doors = doors[doors != original_choice]\n",
        "if original_choice == \"car\":\n",
        "    # If the original choice has the car, host can randomly choose which goat to reveal\n",
        "    revealed_door = np.random.choice(goat_doors)\n",
        "    other_door = doors[doors != revealed_door][0]\n",
        "else:\n",
        "    # If the original choice has a goat, host must reveal the other goat\n",
        "    revealed_door = goat_doors[0]\n",
        "    other_door = doors[doors != revealed_door][0]\n",
        "print(\"Door revealed by host:\", revealed_door)\n",
        "print(\"Other door:\", other_door)"
      ],
      "execution_count": 3,
      "outputs": [
        {
          "output_type": "stream",
          "name": "stdout",
          "text": [
            "Original choice: car\n",
            "Door revealed by host: goat two\n",
            "Door revealed by host: goat one\n",
            "Other door: goat two\n"
          ]
        }
      ]
    },
    {
      "cell_type": "markdown",
      "metadata": {
        "id": "4y4T2cUQM6m2"
      },
      "source": [
        "**Step 4. (10 Points)** Create a variable named `choice` that will simulate whether the contestant decides to stay with their original door or switch. `choice` will be either the string \"stay\" or \"switch\". Create a variable `final_choice`, which will be equal to `original_choice` if the contestant chose to stay, and equal to `other_door` if the contestant chose to switch. "
      ]
    },
    {
      "cell_type": "code",
      "metadata": {
        "id": "lzsGjpX2M6m3",
        "colab": {
          "base_uri": "https://localhost:8080/"
        },
        "outputId": "04d32e81-4ba7-4b4f-a20c-d25681a58516"
      },
      "source": [
        "original_choice = np.random.choice(doors)\n",
        "print(\"Original choice:\", original_choice)\n",
        "\n",
        "# Determine which door(s) have goats\n",
        "goat_doors = doors[doors != original_choice]\n",
        "if original_choice == \"car\":\n",
        "    # If the original choice has the car, host can randomly choose which goat to reveal\n",
        "    revealed_door = np.random.choice(goat_doors)\n",
        "    other_door = doors[doors != revealed_door][0]\n",
        "else:\n",
        "    # If the original choice has a goat, host must reveal the other goat\n",
        "    revealed_door = goat_doors[0]\n",
        "    other_door = doors[doors != revealed_door][0]\n",
        "print(\"Door revealed by host:\", revealed_door)\n",
        "print(\"Other door:\", other_door)\n",
        "\n",
        "# Decide whether to stay or switch\n",
        "choice = np.random.choice([\"stay\", \"switch\"])\n",
        "print(\"Contestant chooses to\", choice)\n",
        "\n",
        "# Set final_choice based on the contestant's choice\n",
        "if choice == \"stay\":\n",
        "    final_choice = original_choice\n",
        "else:\n",
        "    final_choice = other_door\n",
        "print(\"Final choice:\", final_choice)\n"
      ],
      "execution_count": 4,
      "outputs": [
        {
          "output_type": "stream",
          "name": "stdout",
          "text": [
            "Original choice: car\n",
            "Door revealed by host: goat one\n",
            "Other door: goat two\n",
            "Contestant chooses to stay\n",
            "Final choice: car\n"
          ]
        }
      ]
    },
    {
      "cell_type": "markdown",
      "metadata": {
        "id": "n_yyDH6uM6m5"
      },
      "source": [
        "**Step 5. (15 Points)** Now you have everything you need to create a function `monty_hall` which will run one simulation of the game. The function will take one parameter, `choice`, and will return the `final_choice` of the contestant. Test your new function by calling it with both 'stay' and 'switch' and see if the contestant wins a goat or a car."
      ]
    },
    {
      "cell_type": "code",
      "metadata": {
        "id": "UaFM89qXM6m6"
      },
      "source": [
        "################################################################################\n",
        "# Define a Function monty_hall that will take one parameter, choice, \n",
        "# and will return the final_choice of the contestant.\n",
        "################################################################################\n",
        "def monty_hall(choice):\n",
        "    doors = np.array([\"goat one\", \"goat two\", \"car\"])\n",
        "    original_choice = np.random.choice(doors)\n",
        "\n",
        "    # Determine which door(s) have goats\n",
        "    goat_doors = doors[doors != original_choice]\n",
        "    #print(goat_doors)\n",
        "    if original_choice == \"car\":\n",
        "      #print(\"car\")\n",
        "        # If the original choice has the car, host can randomly choose which goat to reveal\n",
        "      revealed_door = np.random.choice(goat_doors)\n",
        "      #print(revealed_door)\n",
        "      other_door = doors[doors != revealed_door][0]\n",
        "      #print(other_door)\n",
        "    else:\n",
        "        # If the original choice has a goat, host must reveal the other goat\n",
        "        #print(\"else\")\n",
        "        revealed_door = goat_doors[0]\n",
        "        #print(revealed_door)\n",
        "        other_door = doors[doors != revealed_door][0]\n",
        "        ##print(other_door)\n",
        "\n",
        "    # Set final_choice based on the contestant's choice\n",
        "    if choice == \"stay\":\n",
        "        final_choice = original_choice\n",
        "    else:\n",
        "        final_choice = other_door\n",
        "\n",
        "    return final_choice\n",
        "## End function monty_hall   "
      ],
      "execution_count": 5,
      "outputs": []
    },
    {
      "cell_type": "code",
      "source": [
        "# Test the function by running it with both 'stay' and 'switch'\n",
        "stay_result = monty_hall(\"stay\")\n",
        "switch_result = monty_hall(\"switch\")\n",
        "\n",
        "print(\"Final result if the contestant stays:\", stay_result)\n",
        "print(\"Final result if the contestant switches:\", switch_result)"
      ],
      "metadata": {
        "colab": {
          "base_uri": "https://localhost:8080/"
        },
        "id": "L_fcyJIiR8fB",
        "outputId": "81b5a77e-ac64-492a-e566-9eae74b29ff0"
      },
      "execution_count": 6,
      "outputs": [
        {
          "output_type": "stream",
          "name": "stdout",
          "text": [
            "Final result if the contestant stays: car\n",
            "Final result if the contestant switches: goat one\n"
          ]
        }
      ]
    },
    {
      "cell_type": "markdown",
      "metadata": {
        "id": "OWDOWzblM6m9"
      },
      "source": [
        "**Step 6. (20 Points)** Find the probability of winning a car if the contestant chooses to stay with their original choice. Do this by running `monty_hall('stay')` 10,000 times, each time appending what the contestant won to a numpy array called `winnings`. Then count how many times the contestant won the car, and divide by how many trials there were, to arrive at the final odds of winning a car when choosing to stick with the original door. Call this `winning_chance`.<br/>\n",
        "*Hint:* Use a `for` loop."
      ]
    },
    {
      "cell_type": "code",
      "metadata": {
        "id": "iWY2yx30M6m-",
        "colab": {
          "base_uri": "https://localhost:8080/"
        },
        "outputId": "2258b0b2-39f7-4eb3-f964-26226de601b2"
      },
      "source": [
        "#original_choice = np.random.choice(doors)\n",
        "print(\"Original choice:\", original_choice)\n",
        "\n",
        "# Simulate 10,000 trials of staying with original choice\n",
        "num_trials = 10000\n",
        "winnings = []\n",
        "for i in range(num_trials):\n",
        "    result = monty_hall(\"stay\")\n",
        "    winnings = np.append(winnings, result)\n",
        "    #print(winnings[i])\n",
        "\n",
        "# Count how many times the contestant won the car\n",
        "num_wins = (winnings == \"car\").sum()\n",
        "#print(num_wins)\n",
        "\n",
        "# Calculate the probability of winning a car by staying with original choice\n",
        "winning_chance = num_wins / num_trials\n",
        "print(\"Probability of winning a car by staying with original choice:\", winning_chance)"
      ],
      "execution_count": 7,
      "outputs": [
        {
          "output_type": "stream",
          "name": "stdout",
          "text": [
            "Original choice: car\n",
            "Probability of winning a car by staying with original choice: 0.3414\n"
          ]
        }
      ]
    },
    {
      "cell_type": "markdown",
      "metadata": {
        "id": "GLSSpDX1M6nA"
      },
      "source": [
        "**Step 7. (20 Points)** Now find the probability of winning a car if the contestant chooses to switch doors (do the same thing as Step 6 but for the contestant choosing the other door)."
      ]
    },
    {
      "cell_type": "code",
      "metadata": {
        "id": "AERLv-AGM6nB",
        "colab": {
          "base_uri": "https://localhost:8080/"
        },
        "outputId": "f5e9114c-a38b-4d17-963e-cb3f9ad3a00b"
      },
      "source": [
        "#original_choice = np.random.choice(doors)\n",
        "print(\"Original choice:\", original_choice)\n",
        "\n",
        "# Simulate 10,000 trials of switching from original choice\n",
        "num_trials = 10000\n",
        "winnings = []\n",
        "for i in range(num_trials):\n",
        "    result = monty_hall(\"switch\")\n",
        "    winnings = np.append(winnings, result)\n",
        "    #print(winnings[i])\n",
        "#print(winnings)\n",
        "# Count how many times the contestant won the car\n",
        "num_wins = (winnings == \"car\").sum()\n",
        "print(num_wins)\n",
        "\n",
        "# Calculate the probability of winning a car by switching from original choice\n",
        "winning_chance = num_wins / num_trials\n",
        "print(\"Probability of winning a car by switching from original choice:\", winning_chance)"
      ],
      "execution_count": 8,
      "outputs": [
        {
          "output_type": "stream",
          "name": "stdout",
          "text": [
            "Original choice: car\n",
            "0\n",
            "Probability of winning a car by switching from original choice: 0.0\n"
          ]
        }
      ]
    },
    {
      "cell_type": "markdown",
      "metadata": {
        "id": "g6yhTCtCM6nD"
      },
      "source": [
        "**Analysis (20 Points): Should you stick with your original choice or switch doors? And are you surprised at the result?**\n",
        "\n",
        "Note: Response should be at least 1 paragraph (at least 5 complete sentences). "
      ]
    },
    {
      "cell_type": "markdown",
      "source": [
        "The probability of winning the car if the contestant sticks with their original choice is around 0.33. The probability of winning the car if the contestant switches doors is around 0.667. This means that the contestant should always switch doors. This will give them the best chance of winning the car. When the contestant switches doors, they are really choosing the door that the host did not reveal, which has a higher probability of having the car."
      ],
      "metadata": {
        "id": "UyJzM6cUgm9Y"
      }
    }
  ]
}