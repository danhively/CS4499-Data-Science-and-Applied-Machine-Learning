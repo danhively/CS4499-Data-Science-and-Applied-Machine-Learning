{
  "nbformat": 4,
  "nbformat_minor": 0,
  "metadata": {
    "colab": {
      "provenance": []
    },
    "kernelspec": {
      "name": "python3",
      "display_name": "Python 3"
    },
    "language_info": {
      "name": "python"
    }
  },
  "cells": [
    {
      "cell_type": "markdown",
      "source": [
        "# Homework 4: Practice with GroupBy\n",
        "\n",
        " Due 2/22/23,\n",
        " Worth 100 Pts\n",
        " Dan Hively"
      ],
      "metadata": {
        "id": "XNc7XqbgwUuq"
      }
    },
    {
      "cell_type": "markdown",
      "source": [
        "For this assignment we will re-use the COVID Dataset from Homework 3 "
      ],
      "metadata": {
        "id": "TQwe8LzWweY0"
      }
    },
    {
      "cell_type": "code",
      "source": [
        "# Import packages \n",
        "import pandas as pd \n",
        "import numpy as np \n",
        "import scipy.stats as spy\n",
        "import matplotlib.pyplot as plt \n"
      ],
      "metadata": {
        "id": "hTDS6J6eJXsB"
      },
      "execution_count": null,
      "outputs": []
    },
    {
      "cell_type": "code",
      "source": [
        "# Bring in the data \n",
        "# https://raw.githubusercontent.com/danhively/CS4499/main/United_States_COVID-19_Community_Levels_by_County.csv\n",
        "us_covid_df = pd.read_csv('https://raw.githubusercontent.com/danhively/CS4499/main/United_States_COVID-19_Community_Levels_by_County.csv')"
      ],
      "metadata": {
        "id": "WzuSbxpaDldd"
      },
      "execution_count": null,
      "outputs": []
    },
    {
      "cell_type": "markdown",
      "source": [
        "# **Question 1**\n",
        "Use .grouby on state to create a subset of this dataframe only containing entries from Washington. Then create another dataframe only containing entries from Florida. "
      ],
      "metadata": {
        "id": "z_SAynpVx5E5"
      }
    },
    {
      "cell_type": "code",
      "source": [
        "# These DataFrames will be used to complete the other questions.\n",
        "\n",
        "# Create DataFrame for Washington only.\n",
        "washington_df = us_covid_df.groupby('state').get_group('Washington')\n",
        "\n",
        "# Create DataFrame for Florida only.\n",
        "florida_df = us_covid_df.groupby('state').get_group('Florida')"
      ],
      "metadata": {
        "id": "l4j_Nq4t67ov"
      },
      "execution_count": null,
      "outputs": []
    },
    {
      "cell_type": "markdown",
      "source": [
        "# **Question 2**\n",
        "Using whichever approach you prefer, calculate the average covid hospital admissions per 100k for each state. Then calculate the standard deviations for each state. Finally, create a single histogram containing the counts from each state. Below, in 3-4 sentences, explain your observations.  \t"
      ],
      "metadata": {
        "id": "3Y14g0gs3_uJ"
      }
    },
    {
      "cell_type": "code",
      "source": [
        "# Calculate the average covid hospital admissions per 100k for each state.\n",
        "avg_admissions = us_covid_df.groupby('state')['covid_hospital_admissions_per_100k'].mean()\n",
        "\n",
        "# Calculate the standard deviation for each state.\n",
        "std_devs = us_covid_df.groupby('state')['covid_hospital_admissions_per_100k'].std()\n",
        "\n",
        "# Print the std deviation and the mean.\n",
        "print(\"Average Covid hospital admissions per 100k by state:\")\n",
        "print(avg_admissions)\n",
        "print(\"\\nStandard deviation of Covid hospital admissions per 100k by state:\")\n",
        "print(std_devs)\n",
        "\n",
        "# Create a single histogram containing the counts from each state.\n",
        "plt.hist(us_covid_df['covid_hospital_admissions_per_100k'], bins=53)\n",
        "plt.xlabel('Covid Hospital Admissions per 100k')\n",
        "plt.ylabel('Count')\n",
        "plt.show()\n"
      ],
      "metadata": {
        "id": "xVypsT_P7AjE",
        "colab": {
          "base_uri": "https://localhost:8080/",
          "height": 1000
        },
        "outputId": "bc5b763b-f271-4ba9-8c66-1bb1fdc018cb"
      },
      "execution_count": null,
      "outputs": [
        {
          "output_type": "stream",
          "name": "stdout",
          "text": [
            "Average Covid hospital admissions per 100k by state:\n",
            "state\n",
            "Alabama                                          7.755949\n",
            "Alaska                                           7.658522\n",
            "American Samoa                                  13.650000\n",
            "Arizona                                          8.377905\n",
            "Arkansas                                         7.715053\n",
            "California                                       7.858571\n",
            "Colorado                                         5.642366\n",
            "Commonwealth of the Northern Mariana Islands     2.194737\n",
            "Connecticut                                      9.712143\n",
            "Delaware                                        10.655238\n",
            "District of Columbia                             6.291429\n",
            "Florida                                         12.335991\n",
            "Georgia                                          7.314699\n",
            "Guam                                            22.006250\n",
            "Hawaii                                           9.332571\n",
            "Idaho                                            6.055130\n",
            "Illinois                                         7.805630\n",
            "Indiana                                          7.654689\n",
            "Iowa                                             7.022915\n",
            "Kansas                                           6.779728\n",
            "Kentucky                                        10.562571\n",
            "Louisiana                                        9.185134\n",
            "Maine                                            8.565893\n",
            "Maryland                                         7.316548\n",
            "Massachusetts                                    8.437143\n",
            "Michigan                                         8.327298\n",
            "Minnesota                                        6.894187\n",
            "Mississippi                                      5.836341\n",
            "Missouri                                         7.732170\n",
            "Montana                                         12.139133\n",
            "Nebraska                                         6.951889\n",
            "Nevada                                           5.861345\n",
            "New Hampshire                                    7.194000\n",
            "New Jersey                                       9.598095\n",
            "New Mexico                                       4.934719\n",
            "New York                                        10.102304\n",
            "North Carolina                                   7.354457\n",
            "North Dakota                                     6.589596\n",
            "Ohio                                             8.526851\n",
            "Oklahoma                                         7.027236\n",
            "Oregon                                           7.419127\n",
            "Pennsylvania                                     8.900810\n",
            "Puerto Rico                                      5.585714\n",
            "Rhode Island                                     6.681143\n",
            "South Carolina                                   7.003106\n",
            "South Dakota                                     7.079134\n",
            "Tennessee                                        6.287000\n",
            "Texas                                            6.507651\n",
            "United States Virgin Islands                     5.348485\n",
            "Utah                                             6.322167\n",
            "Vermont                                          8.174898\n",
            "Virginia                                         8.510340\n",
            "Washington                                       6.367399\n",
            "West Virginia                                   12.463117\n",
            "Wisconsin                                        7.463016\n",
            "Wyoming                                          6.977888\n",
            "Name: covid_hospital_admissions_per_100k, dtype: float64\n",
            "\n",
            "Standard deviation of Covid hospital admissions per 100k by state:\n",
            "state\n",
            "Alabama                                          6.658133\n",
            "Alaska                                           5.259848\n",
            "American Samoa                                  21.621665\n",
            "Arizona                                          6.357901\n",
            "Arkansas                                         7.552645\n",
            "California                                       4.679278\n",
            "Colorado                                         4.446438\n",
            "Commonwealth of the Northern Mariana Islands     3.462253\n",
            "Connecticut                                      3.515995\n",
            "Delaware                                         4.946152\n",
            "District of Columbia                             2.717089\n",
            "Florida                                          9.260087\n",
            "Georgia                                          6.487243\n",
            "Guam                                            28.118458\n",
            "Hawaii                                           5.380106\n",
            "Idaho                                            5.860252\n",
            "Illinois                                         5.524058\n",
            "Indiana                                          5.403141\n",
            "Iowa                                             5.578412\n",
            "Kansas                                           8.318610\n",
            "Kentucky                                         9.248799\n",
            "Louisiana                                        8.230886\n",
            "Maine                                            3.913382\n",
            "Maryland                                         4.577478\n",
            "Massachusetts                                    3.376244\n",
            "Michigan                                         4.340283\n",
            "Minnesota                                        4.434661\n",
            "Mississippi                                      5.990128\n",
            "Missouri                                         6.255566\n",
            "Montana                                         14.606319\n",
            "Nebraska                                         7.633436\n",
            "Nevada                                           4.344056\n",
            "New Hampshire                                    3.601360\n",
            "New Jersey                                       5.127460\n",
            "New Mexico                                       5.001348\n",
            "New York                                         4.803441\n",
            "North Carolina                                   5.839014\n",
            "North Dakota                                     7.172385\n",
            "Ohio                                             5.449487\n",
            "Oklahoma                                         7.200641\n",
            "Oregon                                           6.527354\n",
            "Pennsylvania                                     5.303700\n",
            "Puerto Rico                                      2.783945\n",
            "Rhode Island                                     2.426468\n",
            "South Carolina                                   4.912163\n",
            "South Dakota                                     6.645676\n",
            "Tennessee                                        6.043025\n",
            "Texas                                            7.210904\n",
            "United States Virgin Islands                     4.748034\n",
            "Utah                                             4.062110\n",
            "Vermont                                          4.995720\n",
            "Virginia                                         5.867733\n",
            "Washington                                       3.500320\n",
            "West Virginia                                    8.334232\n",
            "Wisconsin                                        5.185284\n",
            "Wyoming                                          7.963520\n",
            "Name: covid_hospital_admissions_per_100k, dtype: float64\n"
          ]
        },
        {
          "output_type": "display_data",
          "data": {
            "text/plain": [
              "<Figure size 432x288 with 1 Axes>"
            ],
            "image/png": "[encoded data removed]"
          },
          "metadata": {
            "needs_background": "light"
          }
        }
      ]
    },
    {
      "cell_type": "markdown",
      "source": [
        "Observations\n"
      ],
      "metadata": {
        "id": "JmJSpHf5GTWE"
      }
    },
    {
      "cell_type": "markdown",
      "source": [
        "# **Question 3**\n",
        "Use .groupby again to determine average number of covid cases per 100k in each county for Florida during this time period. Which had the highest? The lowest? Use a bar graph to plot the top 20 counties.  Repeat this for Washington. Do a quick internet serach on the top county for each state. Is there anything based on this information that may explain why both of these counties had the highest rate? \n"
      ],
      "metadata": {
        "id": "jGiy_GML9T79"
      }
    },
    {
      "cell_type": "code",
      "source": [
        "############################################\n",
        "## Florida\n",
        "############################################\n",
        "for_state = 'Florida'\n",
        "\n",
        "# Get the average or mean.\n",
        "avg_cases = florida_df.groupby('county')['covid_cases_per_100k'].mean()\n",
        "\n",
        "# Highest\n",
        "highest_county = avg_cases.idxmax()\n",
        "\n",
        "# Lowest\n",
        "lowest_county = avg_cases.idxmin()\n",
        "\n",
        "# Print the data.\n",
        "print(\"Average Covid cases per 100k by county in \" + for_state + ':')\n",
        "print(avg_cases)\n",
        "print(\"\\nCounty with the highest average Covid cases per 100k in \" + for_state + ':')\n",
        "print(highest_county)\n",
        "print(\"\\nCounty with the lowest average Covid cases per 100k in \" + for_state + ':')\n",
        "print(lowest_county)\n",
        "\n",
        "# Make the graph.\n",
        "#top_20_cases = avg_cases.nlargest(20)\n",
        "#top_20_cases.plot(kind='bar')\n",
        "#plt.xlabel('County')\n",
        "#plt.ylabel('Average Covid Cases per 100k')\n",
        "#plt.title('Top 20 Counties in ' + for_state + ' by Average Covid Cases per 100k')\n",
        "#plt.show()\n",
        "\n",
        "print('--------------------------------------------------')\n",
        "\n",
        "############################################\n",
        "## Washington\n",
        "############################################\n",
        "for_state = 'Washington'\n",
        "\n",
        "# Get the average or mean.\n",
        "avg_cases = washington_df.groupby('county')['covid_cases_per_100k'].mean()\n",
        "\n",
        "# Highest\n",
        "highest_county = avg_cases.idxmax()\n",
        "\n",
        "# Lowest\n",
        "lowest_county = avg_cases.idxmin()\n",
        "\n",
        "# Print the data.\n",
        "print(\"Average Covid cases per 100k by county in \" + for_state + ':')\n",
        "print(avg_cases)\n",
        "print(\"\\nCounty with the highest average Covid cases per 100k in \" + for_state + ':')\n",
        "print(highest_county)\n",
        "print(\"\\nCounty with the lowest average Covid cases per 100k in \" + for_state + ':')\n",
        "print(lowest_county)\n",
        "\n",
        "# Make the graph.\n",
        "#top_20_cases = avg_cases.nlargest(20)\n",
        "#top_20_cases.plot(kind='bar')\n",
        "#plt.xlabel('County')\n",
        "#plt.ylabel('Average Covid Cases per 100k')\n",
        "#plt.title('Top 20 Counties in Washington by Average Covid Cases per 100k')\n",
        "#plt.show()\n",
        "\n",
        "#############################\n",
        "# Filter data for Florida and Washington\n",
        "states_data = us_covid_df[us_covid_df['state'].isin(['Florida', 'Washington'])]\n",
        "\n",
        "# Average Calculate Covid cases per 100k by county\n",
        "avg_hospital_admissions = states_data.groupby(['state', 'county'])['covid_cases_per_100k'].mean()\n",
        "\n",
        "# Calculate standard deviations\n",
        "std_admissions = states_data.groupby('state')['covid_cases_per_100k'].std()\n",
        "\n",
        "# Create a histogram including bot states\n",
        "plt.hist(states_data[states_data['state'] == 'Florida']['covid_cases_per_100k'], alpha=0.5, label='Florida')\n",
        "plt.hist(states_data[states_data['state'] == 'Washington']['covid_cases_per_100k'], alpha=0.5, label='Washington')\n",
        "plt.xlabel('COVID Cases per 100k')\n",
        "plt.ylabel('Count')\n",
        "plt.legend(loc='upper right')\n",
        "plt.show()"
      ],
      "metadata": {
        "id": "H-wQ0yE07HIv",
        "colab": {
          "base_uri": "https://localhost:8080/",
          "height": 1000
        },
        "outputId": "ffa45613-0a91-4c18-eeb2-4d2fb7e0c604"
      },
      "execution_count": null,
      "outputs": [
        {
          "output_type": "stream",
          "name": "stdout",
          "text": [
            "Average Covid cases per 100k by county in Florida:\n",
            "county\n",
            "Alachua County       193.819143\n",
            "Baker County         161.294286\n",
            "Bay County           130.604286\n",
            "Bradford County      142.143714\n",
            "Brevard County       170.951143\n",
            "                        ...    \n",
            "Union County         126.008571\n",
            "Volusia County       148.897143\n",
            "Wakulla County       159.798000\n",
            "Walton County        101.601714\n",
            "Washington County     98.928571\n",
            "Name: covid_cases_per_100k, Length: 67, dtype: float64\n",
            "\n",
            "County with the highest average Covid cases per 100k in Florida:\n",
            "Miami-Dade County\n",
            "\n",
            "County with the lowest average Covid cases per 100k in Florida:\n",
            "Glades County\n",
            "--------------------------------------------------\n",
            "Average Covid cases per 100k by county in Washington:\n",
            "county\n",
            "Adams County            99.512571\n",
            "Asotin County          110.074000\n",
            "Benton County          122.372000\n",
            "Chelan County          134.937429\n",
            "Clallam County         137.442286\n",
            "Clark County           128.713429\n",
            "Columbia County         82.452286\n",
            "Cowlitz County         112.872286\n",
            "Douglas County         135.327143\n",
            "Ferry County           113.880857\n",
            "Franklin County        120.470286\n",
            "Garfield County        116.853429\n",
            "Grant County           138.628286\n",
            "Grays Harbor County    137.678286\n",
            "Island County          100.573143\n",
            "Jefferson County       129.639429\n",
            "King County            190.162857\n",
            "Kitsap County          110.992571\n",
            "Kittitas County        111.399714\n",
            "Klickitat County        88.549429\n",
            "Lewis County           100.788000\n",
            "Lincoln County         104.475143\n",
            "Mason County           136.293143\n",
            "Okanogan County        119.242286\n",
            "Pacific County         156.391714\n",
            "Pend Oreille County     77.654000\n",
            "Pierce County          144.172571\n",
            "San Juan County        107.902571\n",
            "Skagit County          110.057429\n",
            "Skamania County         64.553429\n",
            "Snohomish County       158.357143\n",
            "Spokane County         135.715143\n",
            "Stevens County          98.042857\n",
            "Thurston County        128.432000\n",
            "Wahkiakum County        66.207714\n",
            "Walla Walla County     143.562571\n",
            "Whatcom County         126.290286\n",
            "Whitman County          64.494857\n",
            "Yakima County          116.097714\n",
            "Name: covid_cases_per_100k, dtype: float64\n",
            "\n",
            "County with the highest average Covid cases per 100k in Washington:\n",
            "King County\n",
            "\n",
            "County with the lowest average Covid cases per 100k in Washington:\n",
            "Whitman County\n"
          ]
        },
        {
          "output_type": "display_data",
          "data": {
            "text/plain": [
              "<Figure size 432x288 with 1 Axes>"
            ],
            "image/png": "[encoded data removed]"
          },
          "metadata": {
            "needs_background": "light"
          }
        }
      ]
    },
    {
      "cell_type": "markdown",
      "source": [
        "# **Question 4** \n",
        "\n",
        "Using 1 of the 3 numerical COVID fields (covid_inpatient_bed_utilization \tcovid_hospital_admissions_per_100k \tcovid_cases_per_100k) for Florida. Plot a scatterplot of that feature vs.county_population. Then using Scipy, calculate the correlation coefficent for these two varaibles. Repeat for Washington dataset. In 1 to 2 paragraphs, analyze the results. Is there any correlation between the two varialbes, what kind? To what magnitude? Is this surprising or expected? \n",
        "\n"
      ],
      "metadata": {
        "id": "-lIVtUuuHkv1"
      }
    },
    {
      "cell_type": "code",
      "source": [
        "############################################\n",
        "## Florida\n",
        "############################################\n",
        "x = florida_df['county_population']\n",
        "y = florida_df['covid_hospital_admissions_per_100k']\n",
        "plt.scatter(x, y)\n",
        "plt.xlabel('County Population')\n",
        "plt.ylabel('Covid Hospital Admissions per 100k')\n",
        "plt.title('Covid Hospital Admissions per 100k vs. County Population in Florida')\n",
        "plt.show()\n",
        "\n",
        "# Calculate the correlation coefficent\n",
        "corr, _  = spy.pearsonr(x, y) \n",
        "print('Pearsons correlation coefficient: %.3f' % corr)\n",
        "print('--------------------------------------------------')\n",
        "\n",
        "############################################\n",
        "## Washington\n",
        "############################################\n",
        "x = washington_df['county_population']\n",
        "y = washington_df['covid_hospital_admissions_per_100k']\n",
        "plt.scatter(x, y)\n",
        "plt.xlabel('County Population')\n",
        "plt.ylabel('Covid Hospital Admissions per 100k')\n",
        "plt.title('Covid Hospital Admissions per 100k vs. County Population in Washington')\n",
        "plt.show()\n",
        "\n",
        "# Calculate the correlation coefficent\n",
        "corr, _  = spy.pearsonr(x, y) \n",
        "print('Pearsons correlation coefficient: %.3f' % corr)"
      ],
      "metadata": {
        "id": "70l2yJBI7OXK",
        "colab": {
          "base_uri": "https://localhost:8080/",
          "height": 625
        },
        "outputId": "073c114e-0b5b-4884-89d0-4833928d426b"
      },
      "execution_count": null,
      "outputs": [
        {
          "output_type": "display_data",
          "data": {
            "text/plain": [
              "<Figure size 432x288 with 1 Axes>"
            ],
            "image/png": "[encoded data removed]"
          },
          "metadata": {
            "needs_background": "light"
          }
        },
        {
          "output_type": "stream",
          "name": "stdout",
          "text": [
            "Pearsons correlation coefficient: 0.012\n",
            "--------------------------------------------------\n"
          ]
        },
        {
          "output_type": "display_data",
          "data": {
            "text/plain": [
              "<Figure size 432x288 with 1 Axes>"
            ],
            "image/png": "[encoded data removed]"
          },
          "metadata": {
            "needs_background": "light"
          }
        },
        {
          "output_type": "stream",
          "name": "stdout",
          "text": [
            "Pearsons correlation coefficient: -0.009\n"
          ]
        }
      ]
    },
    {
      "cell_type": "markdown",
      "source": [
        "Florida has a correlation coefficient of 0.12. There is a weak positive correlation between county population and Covid hospital admissions per 100k.\n",
        "Washington has a correlation coefficient of -0.09. There is a weak negative correlation between county population and Covid hospital admissions per 100k.\n",
        "\n",
        "It may be that the relationship between county population and Covid hospital admissions per 100k is not linear. Perhaps other facors have a greater impact on the relationship between these two variables."
      ],
      "metadata": {
        "id": "ODecFIqtFaVv"
      }
    },
    {
      "cell_type": "markdown",
      "source": [
        "# Question 5\n",
        "Using the Florida Dataset calculate the average covid_cases_per_100k for each of the covid-19_community_level catergories (High, Medium & Low). Plot the average value for each category using a bar plot. Repeat for Washinton and summarize your findings. \n",
        "\n",
        "*Hint: If we explore the dataset we will notice that the covid level was entered in both upper and lower case (High and high). Use your Python and/or Pandas knowledge to fix this.*"
      ],
      "metadata": {
        "id": "mSLtI0hhxq25"
      }
    },
    {
      "cell_type": "code",
      "source": [
        "############################################\n",
        "## Florida\n",
        "############################################\n",
        "\n",
        "# Fix the inconsistent data in the covid-19_community_level column.\n",
        "fl_df = florida_df['covid-19_community_level'].replace({'high': 'High', 'medium': 'Medium', 'low': 'Low'}, inplace=True)\n",
        "\n",
        "# Find the mean.\n",
        "avg_cases = florida_df.groupby('covid-19_community_level')['covid_cases_per_100k'].mean()\n",
        "print(avg_cases)\n",
        "\n",
        "# Create the graph.\n",
        "avg_cases.plot(kind='bar')\n",
        "plt.xlabel('Covid-19 Community Level')\n",
        "plt.ylabel('Average Covid Cases per 100k')\n",
        "plt.title('Average Covid Cases per 100k by Covid-19 Community Level in Florida')\n",
        "plt.show()\n",
        "\n",
        "print('--------------------------------------------------')\n",
        "\n",
        "############################################\n",
        "## Washington\n",
        "############################################\n",
        "\n",
        "# Find the mean\n",
        "avg_cases = washington_df.groupby('covid-19_community_level')['covid_cases_per_100k'].mean()\n",
        "print(avg_cases)\n",
        "\n",
        "# Create the graph.\n",
        "avg_cases.plot(kind='bar')\n",
        "plt.xlabel('Covid-19 Community Level')\n",
        "plt.ylabel('Average Covid Cases per 100k')\n",
        "plt.title('Average Covid Cases per 100k by Covid-19 Community Level in Washington')\n",
        "plt.show()"
      ],
      "metadata": {
        "colab": {
          "base_uri": "https://localhost:8080/",
          "height": 911
        },
        "id": "EQm5LARaOsWk",
        "outputId": "76c3f764-2b4c-4184-b938-473b8b80fd15"
      },
      "execution_count": null,
      "outputs": [
        {
          "output_type": "stream",
          "name": "stdout",
          "text": [
            "covid-19_community_level\n",
            "High      280.663794\n",
            "Low        59.300614\n",
            "Medium    136.698816\n",
            "Name: covid_cases_per_100k, dtype: float64\n"
          ]
        },
        {
          "output_type": "stream",
          "name": "stderr",
          "text": [
            "<ipython-input-29-353dc5a9cf26>:6: SettingWithCopyWarning: \n",
            "A value is trying to be set on a copy of a slice from a DataFrame\n",
            "\n",
            "See the caveats in the documentation: https://pandas.pydata.org/pandas-docs/stable/user_guide/indexing.html#returning-a-view-versus-a-copy\n",
            "  fl_df = florida_df['covid-19_community_level'].replace({'high': 'High', 'medium': 'Medium', 'low': 'Low'}, inplace=True)\n"
          ]
        },
        {
          "output_type": "display_data",
          "data": {
            "text/plain": [
              "<Figure size 432x288 with 1 Axes>"
            ],
            "image/png": "[encoded data removed]"
          },
          "metadata": {
            "needs_background": "light"
          }
        },
        {
          "output_type": "stream",
          "name": "stdout",
          "text": [
            "--------------------------------------------------\n",
            "covid-19_community_level\n",
            "High      250.427191\n",
            "Low        84.987487\n",
            "Medium    191.890469\n",
            "Name: covid_cases_per_100k, dtype: float64\n"
          ]
        },
        {
          "output_type": "display_data",
          "data": {
            "text/plain": [
              "<Figure size 432x288 with 1 Axes>"
            ],
            "image/png": "[encoded data removed]"
          },
          "metadata": {
            "needs_background": "light"
          }
        }
      ]
    },
    {
      "cell_type": "markdown",
      "source": [
        "Covid-19 Community Levels per 100k are comparable between Washington and Florida."
      ],
      "metadata": {
        "id": "tnIzu9FRzCxc"
      }
    }
  ]
}