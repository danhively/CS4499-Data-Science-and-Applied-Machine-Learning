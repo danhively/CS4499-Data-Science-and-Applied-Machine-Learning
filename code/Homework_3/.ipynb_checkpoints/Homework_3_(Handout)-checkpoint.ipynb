{
 "cells": [
  {
   "cell_type": "markdown",
   "metadata": {
    "id": "4ChUHtY3xSDN"
   },
   "source": [
    "# Homework 3\n",
    "Due: 2/13/23 Worth 100 pts "
   ]
  },
  {
   "cell_type": "markdown",
   "metadata": {
    "id": "1aHqNQ0txeOk"
   },
   "source": [
    "First use one of the techniques we used in class to import the United_States_COVID-19_Community_Levels_by_County dataset. (The dataset is under the assignment item in moodle). "
   ]
  },
  {
   "cell_type": "markdown",
   "metadata": {
    "id": "nk3QPbO3K5SO"
   },
   "source": [
    "**Question 1**<br/>\n",
    "How many samples (i.e. data points) are in this dataset?"
   ]
  },
  {
   "cell_type": "code",
   "execution_count": null,
   "metadata": {
    "id": "u7p92T4UxzxL"
   },
   "outputs": [],
   "source": []
  },
  {
   "cell_type": "markdown",
   "metadata": {
    "id": "fNaNWYFdMMdI"
   },
   "source": [
    "**Question 2** <br/>\n",
    "What is the average population of all the counties in this dataset? \n",
    "\n"
   ]
  },
  {
   "cell_type": "code",
   "execution_count": null,
   "metadata": {
    "id": "31SMMv3Vx1K_"
   },
   "outputs": [],
   "source": []
  },
  {
   "cell_type": "markdown",
   "metadata": {
    "id": "2U3letmyNG3r"
   },
   "source": [
    "**Question 3**\n",
    "Create a histogram of the **Health Service Population** using 100 bins. Make sure to add a title to your plot. "
   ]
  },
  {
   "cell_type": "code",
   "execution_count": null,
   "metadata": {
    "id": "VN_YSi3ox8ki"
   },
   "outputs": [],
   "source": []
  },
  {
   "cell_type": "markdown",
   "metadata": {
    "id": "H2q8LNvVOgIN"
   },
   "source": [
    "**Question 4** <br/>\n",
    "Using Python code, how many of the counties have a County Population greater than 100,000"
   ]
  },
  {
   "cell_type": "code",
   "execution_count": null,
   "metadata": {
    "id": "yBWxYcrgx91t"
   },
   "outputs": [],
   "source": []
  },
  {
   "cell_type": "markdown",
   "metadata": {
    "id": "K1fDfh2wS1ft"
   },
   "source": [
    "**Question 5**<br/>\n",
    "Of the counties sampled, what is the highest **Healtth Service Area Population**?"
   ]
  },
  {
   "cell_type": "code",
   "execution_count": null,
   "metadata": {
    "id": "PFyrQvAYx_P5"
   },
   "outputs": [],
   "source": []
  },
  {
   "cell_type": "markdown",
   "metadata": {
    "id": "hbuplEfNese9"
   },
   "source": [
    "**Question 6** <br/> \n",
    "Which county appeared the most times in this dataset? <br/>\n",
    "*Hint: There are multiple ways to approach this problem, the easiest is likely using your basic statistic functions. "
   ]
  },
  {
   "cell_type": "code",
   "execution_count": null,
   "metadata": {
    "id": "hhnPs28iyEpY"
   },
   "outputs": [],
   "source": []
  },
  {
   "cell_type": "markdown",
   "metadata": {
    "id": "wFP0iKQVgiwy"
   },
   "source": [
    "**Question 7** <br/> \n",
    "How many states/territories  are preesnt in this dataset? <br/>"
   ]
  },
  {
   "cell_type": "code",
   "execution_count": null,
   "metadata": {
    "id": "hTTUnAAYyMOS"
   },
   "outputs": [],
   "source": []
  },
  {
   "cell_type": "markdown",
   "metadata": {
    "id": "vZc6Eju4llHs"
   },
   "source": [
    "#Now let's focus on the final week measured on our dataset (October 20th)"
   ]
  },
  {
   "cell_type": "markdown",
   "metadata": {
    "id": "fcNKV6sFmUc4"
   },
   "source": [
    "**Question 8** <br/>\n",
    "What is the datatype of the 'date_updated' column?"
   ]
  },
  {
   "cell_type": "code",
   "execution_count": null,
   "metadata": {
    "id": "Bjj7xLVjyOks"
   },
   "outputs": [],
   "source": []
  },
  {
   "cell_type": "markdown",
   "metadata": {
    "id": "5greFtKIoUvh"
   },
   "source": [
    "In reality pandas treats all non-primative classes as objects. Lucky for us, pandas has a datetime object we can work with (and a built-in method to work with). "
   ]
  },
  {
   "cell_type": "markdown",
   "metadata": {
    "id": "xUyVEkpgongj"
   },
   "source": [
    "**Question 9** <br/>\n",
    "Convert the 'date_updated' from it's current type to datetime. Print the head of the column and the data type of the column. \n"
   ]
  },
  {
   "cell_type": "code",
   "execution_count": null,
   "metadata": {
    "id": "bqOr0H64yU2J"
   },
   "outputs": [],
   "source": []
  },
  {
   "cell_type": "markdown",
   "metadata": {
    "id": "0gRgTH7zq8pU"
   },
   "source": [
    "**Question 10**\n",
    "Create a new DataFrame with only data points updated on October 20th, 2022 <br/>\n",
    "Print the head of this new DataFrame. <br/>\n",
    "*Hint: Use .loc to do this and specify  your dates.* \n"
   ]
  },
  {
   "cell_type": "code",
   "execution_count": null,
   "metadata": {
    "id": "YiBvIm0qyWEQ"
   },
   "outputs": [],
   "source": []
  },
  {
   "cell_type": "markdown",
   "metadata": {
    "id": "5iG4Zad1w10c"
   },
   "source": [
    "**Question 11**<br/>\n",
    "Which county has the hightest population? What state is it in? Print both as strings.<br/>\n",
    "*Note: use 1 block of code to complete this.*<br/>\n",
    "*Hint: Find the index of the max value first then use .loc*"
   ]
  },
  {
   "cell_type": "code",
   "execution_count": null,
   "metadata": {
    "id": "WXOdUw32yX8M"
   },
   "outputs": [],
   "source": []
  },
  {
   "cell_type": "markdown",
   "metadata": {
    "id": "CNEQkCRq22lW"
   },
   "source": [
    "**Question 12** <br/>\n",
    "What was the population of all the counties sampled in Puerto Rico during this week?"
   ]
  },
  {
   "cell_type": "code",
   "execution_count": null,
   "metadata": {
    "id": "eOLBTXHlyZb3"
   },
   "outputs": [],
   "source": []
  },
  {
   "cell_type": "markdown",
   "metadata": {
    "id": "5VZsnS3T4DwO"
   },
   "source": [
    "**Question 13** <br/>\n",
    "Create a histogram of the population of Puerto Rico using 50 bins. \n"
   ]
  },
  {
   "cell_type": "code",
   "execution_count": null,
   "metadata": {
    "id": "WQHrm7aZybEm"
   },
   "outputs": [],
   "source": []
  },
  {
   "cell_type": "markdown",
   "metadata": {
    "id": "QhG4Ploo6ZJz"
   },
   "source": [
    "**Question 14** <br/>\n",
    "During this time period how many counties had 'covid-19_community_level' labeled High? How many medium? How many low? "
   ]
  },
  {
   "cell_type": "code",
   "execution_count": null,
   "metadata": {
    "id": "pu3RmuAtyeB_"
   },
   "outputs": [],
   "source": []
  },
  {
   "cell_type": "markdown",
   "metadata": {
    "id": "ONMpGN4Y7sBf"
   },
   "source": [
    "**Question 15** <br/>\n",
    "Using only code create a Pie chart to visualize your results from Question 14. Make sure to use proper labels (show either the counts or a %) and add a title. \n",
    "*Hint: The pandas plot methods will make this much easier.*"
   ]
  },
  {
   "cell_type": "code",
   "execution_count": null,
   "metadata": {
    "id": "u4zEbsmUyftM"
   },
   "outputs": [],
   "source": []
  },
  {
   "cell_type": "markdown",
   "metadata": {
    "id": "U2kr2UboLqXR"
   },
   "source": [
    "**Question 16 (Graduate Students Only)** <br/>\n",
    "Using only code, identify the 10 counties with the highest COVID Caes by 100k for October 20th, 2020. Again, only using code, visualize this information with a bar graph. Make sure to use appropriate lables and add a title to the graph. "
   ]
  },
  {
   "cell_type": "code",
   "execution_count": null,
   "metadata": {
    "id": "JfplXy7Xylsy"
   },
   "outputs": [],
   "source": []
  }
 ],
 "metadata": {
  "colab": {
   "provenance": []
  },
  "kernelspec": {
   "display_name": "Python 3 (ipykernel)",
   "language": "python",
   "name": "python3"
  },
  "language_info": {
   "codemirror_mode": {
    "name": "ipython",
    "version": 3
   },
   "file_extension": ".py",
   "mimetype": "text/x-python",
   "name": "python",
   "nbconvert_exporter": "python",
   "pygments_lexer": "ipython3",
   "version": "3.9.12"
  }
 },
 "nbformat": 4,
 "nbformat_minor": 1
}
