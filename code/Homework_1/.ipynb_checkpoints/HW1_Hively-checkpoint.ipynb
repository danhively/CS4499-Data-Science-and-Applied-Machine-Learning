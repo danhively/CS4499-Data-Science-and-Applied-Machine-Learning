{
 "cells": [
  {
   "cell_type": "code",
   "execution_count": null,
   "metadata": {
    "id": "lYNNd0NDJqFV"
   },
   "outputs": [],
   "source": [
    "# Data Science and Applied Machine Learning: Homework 1\n",
    "# Dan Hively\n",
    "Due January 18th by 3:00 PM\n",
    "\n",
    "50 Points \n",
    "\n",
    "Start by creating a copy of this Jupyter Notebook with the name HW1_`YourLastname`.ipynb. "
   ]
  },
  {
   "cell_type": "markdown",
   "metadata": {
    "id": "Kk_uaxfiJqFY"
   },
   "source": [
    "## Question 1: Arithmetic"
   ]
  },
  {
   "cell_type": "markdown",
   "metadata": {
    "id": "YbnasgVFJqFZ"
   },
   "source": [
    "Write a Python expression in this next cell that's equal to \n",
    "\n",
    "$$1113 + (7 \\frac{10}{11}) \\times (49 \\frac{1}{3}) + 2^{0.75 \\times 16} - \\frac{6}{33}.$$\n",
    "\n",
    "*Hint:* The correct output should be a familiar number."
   ]
  },
  {
   "cell_type": "code",
   "execution_count": 4,
   "metadata": {
    "id": "e9JJXbQ7JqFa",
    "scrolled": true
   },
   "outputs": [
    {
     "name": "stdout",
     "output_type": "stream",
     "text": [
      "a = 1113\n",
      "b = 7.909090909090909\n",
      "c = 49.333333333333336\n",
      "d = 4096.0\n",
      "e = 0.18181818181818182\n",
      "The answer is 5599\n"
     ]
    }
   ],
   "source": [
    "# Create some variables to hold stuff.\n",
    "a = 1113\n",
    "b = 7 + (10/11)\n",
    "c = 49 + (1/3)\n",
    "d = (2**(0.75*16))\n",
    "e = 6/33\n",
    "\n",
    "# Now do some maths.\n",
    "x = a + (b * c) + d - e\n",
    "\n",
    "# Print the ouput\n",
    "print(\"a = \" + str(a))\n",
    "print(\"b = \" + str(b))\n",
    "print(\"c = \" + str(c))\n",
    "print(\"d = \" + str(d))\n",
    "print(\"e = \" + str(e))\n",
    "\n",
    "print(\"The answer is \" + str(round(x)))\n"
   ]
  },
  {
   "cell_type": "markdown",
   "metadata": {
    "id": "2z6CHeMQJqFf"
   },
   "source": [
    "## Question 2: Seconds"
   ]
  },
  {
   "cell_type": "markdown",
   "metadata": {
    "id": "2ez6UpiMJqFg"
   },
   "source": [
    "Assign the name `seconds_in_a_decade` to the number of seconds between midnight January 1, **2020** and midnight January 1, **2030**. Use Python to perform any required arithmetic."
   ]
  },
  {
   "cell_type": "code",
   "execution_count": 9,
   "metadata": {
    "id": "VjNhGL3hJqFh",
    "scrolled": true
   },
   "outputs": [
    {
     "name": "stdout",
     "output_type": "stream",
     "text": [
      "There are 315619200.0 seconds in a decade.\n",
      "There are 3.156192e+08 seconds in a decade.\n"
     ]
    }
   ],
   "source": [
    "# Calculate the number of secods in a decade.\n",
    "import datetime\n",
    "\n",
    "start_date = datetime.datetime(2020, 1, 1)\n",
    "end_date = datetime.datetime(2030, 1, 1)\n",
    "\n",
    "# Do the maths.\n",
    "seconds_in_a_decade = (end_date - start_date).total_seconds()\n",
    "\n",
    "# Do it using scientific notation.\n",
    "value = \"{:e}\".format(seconds_in_a_decade)\n",
    "\n",
    "print( \"There are \" + str(seconds_in_a_decade) + \" seconds in a decade.\")\n",
    "print( \"There are \" + str(value) + \" seconds in a decade.\")"
   ]
  },
  {
   "cell_type": "markdown",
   "metadata": {
    "id": "7ns92iIlJqFk"
   },
   "source": [
    "## Question 3: Gravity"
   ]
  },
  {
   "cell_type": "markdown",
   "metadata": {
    "id": "B72VBLGQJqFk"
   },
   "source": [
    "**Newton's Law.** Newton's law of universal gravitation predicts that any object dropped near the surface of the Moon should fall\n",
    "\n",
    "$$\\frac{1}{2} G \\frac{M}{R^2} t^2 \\text{ meters}$$\n",
    "\n",
    "after $t$ seconds, where $G$ is a universal constant, $M$ is the moon's mass in kilograms, and $R$ is the moon's radius in meters.  So if we know $G$, $M$, and $R$, then Newton's laws let us predict how far an object will fall over any amount of time.\n",
    "\n",
    "In the cell below, use Python to estimate how far a feather will fall in 1.5 seconds if dropped near the surface of the Moon. "
   ]
  },
  {
   "cell_type": "code",
   "execution_count": 23,
   "metadata": {
    "id": "pfTQXqqqJqFl",
    "scrolled": true
   },
   "outputs": [
    {
     "name": "stdout",
     "output_type": "stream",
     "text": [
      "predicted_distance_m 1.8284745229051635\n"
     ]
    }
   ],
   "source": [
    "# We've written down the values of the 3 universal\n",
    "# constants that show up in Newton's formula.\n",
    "\n",
    "# G, the universal constant measuring the strength of gravity.\n",
    "gravity_constant = 6.674 * 10**-11\n",
    "\n",
    "# M, the moon's mass, in kilograms.\n",
    "moon_mass_kg = 7.34767309 * 10**22\n",
    "\n",
    "# R, the radius of the moon, in meters.\n",
    "moon_radius_m = 1.737 * 10**6\n",
    "\n",
    "# Fill this in.\n",
    "time = 1.5 # seconds\n",
    "\n",
    "# The distance the feather should fall over the\n",
    "# duration of the fall, in meters, according to Newton's\n",
    "# law of gravity.  The text above describes the formula\n",
    "# for this distance given by Newton's law.\n",
    "# **YOU FILL THIS PART IN.**\n",
    "predicted_distance_m = (1/2) * gravity_constant * (moon_mass_kg / (moon_radius_m**2)) * time**2\n",
    "\n",
    "print (\"predicted_distance_m \" + str(predicted_distance_m))"
   ]
  },
  {
   "cell_type": "markdown",
   "metadata": {
    "id": "NMJL_U3XJqFo"
   },
   "source": [
    "## Question 4: Height "
   ]
  },
  {
   "cell_type": "markdown",
   "metadata": {
    "id": "DFyX5os5JqFp"
   },
   "source": [
    "The 2020 Tokyo Olympics was this summer. Three of the players on the U.S. womens soccer team are Carli Lloyd, Tobin Heath, and Crystal Dunn. Their heights are given in the cell below.\n",
    "\n",
    "In the cell below, use Python to find the **maximum** difference in their height."
   ]
  },
  {
   "cell_type": "code",
   "execution_count": 5,
   "metadata": {
    "id": "7n0_Lo9vJqFq",
    "scrolled": true
   },
   "outputs": [
    {
     "name": "stdout",
     "output_type": "stream",
     "text": [
      "carli_tobin_height_diff = 0.050000000000000044\n",
      "carli_crystal_height_diff = 0.17999999999999994\n",
      "tobin_crystal_height_diff = 0.1299999999999999\n",
      "--------------------\n",
      "Largest absolute difference: 0.17999999999999994\n"
     ]
    }
   ],
   "source": [
    "# The three players' heights, in meters:\n",
    "carli =  1.73 # Carli Lloyd is 5'8\"\n",
    "tobin = 1.68 # Tobin Heath is 5'6\"\n",
    "crystal = 1.55 # Crystal Dunn is 5'1\"\n",
    "\n",
    "# We'd like to look at all 3 pairs of heights, compute the absolute\n",
    "# difference between each pair, and then find the largest of those\n",
    "# 3 absolute differences.  This is left to you!  If you're stuck,\n",
    "# try computing the value for each step of the process (like the\n",
    "# difference between Carli's height and Tobin's height) on a separate\n",
    "# line and giving it a name (like carli_tobin_height_diff).\n",
    "\n",
    "carli_tobin_height_diff = abs(carli - tobin)\n",
    "carli_crystal_height_diff = abs(carli - crystal)\n",
    "tobin_crystal_height_diff = abs(tobin - crystal)\n",
    "                              \n",
    "#max_height_difference\n",
    "\n",
    "print (\"carli_tobin_height_diff = \" + str(carli_tobin_height_diff))\n",
    "print (\"carli_crystal_height_diff = \" + str(carli_crystal_height_diff))\n",
    "print (\"tobin_crystal_height_diff = \" + str(tobin_crystal_height_diff))\n",
    "\n",
    "# Make a list of the differences between each pair.\n",
    "diff_list = [carli_tobin_height_diff, carli_crystal_height_diff, tobin_crystal_height_diff]\n",
    "print (\"--------------------\")\n",
    "print(\"Largest absolute difference: \" + str(max(diff_list)))\n"
   ]
  },
  {
   "cell_type": "markdown",
   "metadata": {
    "id": "FPSAXlMeJqFt"
   },
   "source": [
    "## Completion"
   ]
  },
  {
   "cell_type": "markdown",
   "metadata": {
    "id": "XxGWHSsMJqFu"
   },
   "source": [
    "Congratulations, you're done with Homework 1! "
   ]
  },
  {
   "cell_type": "markdown",
   "metadata": {
    "id": "N0RtZtT8JqFv"
   },
   "source": [
    "Download as an *.ipynb and submit your notebook on Moodle."
   ]
  }
 ],
 "metadata": {
  "anaconda-cloud": {},
  "colab": {
   "provenance": []
  },
  "kernelspec": {
   "display_name": "Python 3 (ipykernel)",
   "language": "python",
   "name": "python3"
  },
  "language_info": {
   "codemirror_mode": {
    "name": "ipython",
    "version": 3
   },
   "file_extension": ".py",
   "mimetype": "text/x-python",
   "name": "python",
   "nbconvert_exporter": "python",
   "pygments_lexer": "ipython3",
   "version": "3.9.12"
  },
  "vscode": {
   "interpreter": {
    "hash": "0d5e8c01b0961bedf72973fceaa88545b051ee967d4cfa53d0fd94de790d1f19"
   }
  }
 },
 "nbformat": 4,
 "nbformat_minor": 1
}
