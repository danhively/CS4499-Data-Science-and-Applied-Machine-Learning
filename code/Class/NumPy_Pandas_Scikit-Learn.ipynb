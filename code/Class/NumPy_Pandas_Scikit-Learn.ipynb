{
 "cells": [
  {
   "cell_type": "markdown",
   "metadata": {
    "id": "cfuxfRl0916A"
   },
   "source": [
    "# NumPy, Pandas, and Scikit-Learn: Prediction with Decision Trees\n",
    "by [Leslie Kerby](https://www.isu.edu/cs/faculty--staff/staffdirectoryentries/leslie-kerby.html)"
   ]
  },
  {
   "cell_type": "markdown",
   "metadata": {
    "id": "iIHsiRwMpMVe"
   },
   "source": [
    "# Part 1: Python Introduction and NumPy"
   ]
  },
  {
   "cell_type": "markdown",
   "metadata": {
    "id": "mbxMUNWXpMWJ"
   },
   "source": [
    "## 1.1 Python basics\n",
    "Python is a weakly typed language: data types do not have to be explicitly declared. However, python WILL automatically assign a type to a new variable, and that type matters. "
   ]
  },
  {
   "cell_type": "code",
   "execution_count": 48,
   "metadata": {
    "colab": {
     "base_uri": "https://localhost:8080/"
    },
    "executionInfo": {
     "elapsed": 132,
     "status": "ok",
     "timestamp": 1626117203448,
     "user": {
      "displayName": "Leslie Kerby",
      "photoUrl": "https://lh3.googleusercontent.com/a-/AOh14GjN8SnHoanmo435DxiVf-rB_w00WFdyFzUqH3TuM30=s64",
      "userId": "13736524897897077884"
     },
     "user_tz": 360
    },
    "id": "pmm7uDM6pMW2",
    "outputId": "66dc13b1-6833-4e56-e7fa-726e98011010",
    "scrolled": true
   },
   "outputs": [
    {
     "data": {
      "text/plain": [
       "int"
      ]
     },
     "execution_count": 48,
     "metadata": {
      "tags": []
     },
     "output_type": "execute_result"
    }
   ],
   "source": [
    "eight = 2**3\n",
    "type(eight)"
   ]
  },
  {
   "cell_type": "markdown",
   "metadata": {
    "id": "gpv_iKVUpMXT"
   },
   "source": [
    "Variables in Python can have letters (upper- and lower-case letters are both okay and count as different letters), underscores, and numbers.  The first character can't be a number (otherwise a name might look like a number). \n",
    "\n",
    "Note that `#` is used to create a comment. You can place it at the end of code to create a partial-line comment as well."
   ]
  },
  {
   "cell_type": "markdown",
   "metadata": {
    "id": "QrddQTlLiXRL"
   },
   "source": [
    "**Lists, Tuples, and Dictionaries**\n",
    "\n",
    "A **list** is created with square brackets `[]`. "
   ]
  },
  {
   "cell_type": "code",
   "execution_count": 49,
   "metadata": {
    "colab": {
     "base_uri": "https://localhost:8080/"
    },
    "executionInfo": {
     "elapsed": 142,
     "status": "ok",
     "timestamp": 1626117295836,
     "user": {
      "displayName": "Leslie Kerby",
      "photoUrl": "https://lh3.googleusercontent.com/a-/AOh14GjN8SnHoanmo435DxiVf-rB_w00WFdyFzUqH3TuM30=s64",
      "userId": "13736524897897077884"
     },
     "user_tz": 360
    },
    "id": "DkAxPVimimvJ",
    "outputId": "b23783dd-2251-4b19-fddc-5031215f1763"
   },
   "outputs": [
    {
     "data": {
      "text/plain": [
       "[1, 2, 3, 4, 5]"
      ]
     },
     "execution_count": 49,
     "metadata": {
      "tags": []
     },
     "output_type": "execute_result"
    }
   ],
   "source": [
    "sample_list = [1,2,3,4,5]\n",
    "sample_list"
   ]
  },
  {
   "cell_type": "markdown",
   "metadata": {
    "id": "TRvDQxkBitJW"
   },
   "source": [
    "A list can contain numbers, letters, or a combination. They can also include functions and objects."
   ]
  },
  {
   "cell_type": "code",
   "execution_count": 50,
   "metadata": {
    "colab": {
     "base_uri": "https://localhost:8080/"
    },
    "executionInfo": {
     "elapsed": 181,
     "status": "ok",
     "timestamp": 1626117424102,
     "user": {
      "displayName": "Leslie Kerby",
      "photoUrl": "https://lh3.googleusercontent.com/a-/AOh14GjN8SnHoanmo435DxiVf-rB_w00WFdyFzUqH3TuM30=s64",
      "userId": "13736524897897077884"
     },
     "user_tz": 360
    },
    "id": "NrCTIu4Li0fm",
    "outputId": "ec2e3f27-ea13-41cf-f178-4b546a711e55"
   },
   "outputs": [
    {
     "data": {
      "text/plain": [
       "['a', 'b', 3, 4, <function max>]"
      ]
     },
     "execution_count": 50,
     "metadata": {
      "tags": []
     },
     "output_type": "execute_result"
    }
   ],
   "source": [
    "second_list = ['a','b',3,4, max]\n",
    "second_list"
   ]
  },
  {
   "cell_type": "markdown",
   "metadata": {
    "id": "dDWm0xLAjsAR"
   },
   "source": [
    "Lists are referenced with `[]`, where zero is the first element."
   ]
  },
  {
   "cell_type": "code",
   "execution_count": 51,
   "metadata": {
    "colab": {
     "base_uri": "https://localhost:8080/",
     "height": 34
    },
    "executionInfo": {
     "elapsed": 145,
     "status": "ok",
     "timestamp": 1626117460550,
     "user": {
      "displayName": "Leslie Kerby",
      "photoUrl": "https://lh3.googleusercontent.com/a-/AOh14GjN8SnHoanmo435DxiVf-rB_w00WFdyFzUqH3TuM30=s64",
      "userId": "13736524897897077884"
     },
     "user_tz": 360
    },
    "id": "ubxg1LUbjpvY",
    "outputId": "1686d1d6-d36b-4f68-f0dd-f4e42b231e77"
   },
   "outputs": [
    {
     "data": {
      "application/vnd.google.colaboratory.intrinsic+json": {
       "type": "string"
      },
      "text/plain": [
       "'b'"
      ]
     },
     "execution_count": 51,
     "metadata": {
      "tags": []
     },
     "output_type": "execute_result"
    }
   ],
   "source": [
    "second_list[1]"
   ]
  },
  {
   "cell_type": "code",
   "execution_count": 52,
   "metadata": {
    "colab": {
     "base_uri": "https://localhost:8080/"
    },
    "executionInfo": {
     "elapsed": 138,
     "status": "ok",
     "timestamp": 1626117474742,
     "user": {
      "displayName": "Leslie Kerby",
      "photoUrl": "https://lh3.googleusercontent.com/a-/AOh14GjN8SnHoanmo435DxiVf-rB_w00WFdyFzUqH3TuM30=s64",
      "userId": "13736524897897077884"
     },
     "user_tz": 360
    },
    "id": "0mknLK2xjzYf",
    "outputId": "f1c7ff1b-8b93-41bd-a0a6-a7e22a65a221"
   },
   "outputs": [
    {
     "data": {
      "text/plain": [
       "['a', 'c', 3, 4, <function max>]"
      ]
     },
     "execution_count": 52,
     "metadata": {
      "tags": []
     },
     "output_type": "execute_result"
    }
   ],
   "source": [
    "second_list[1] = 'c'\n",
    "second_list"
   ]
  },
  {
   "cell_type": "markdown",
   "metadata": {
    "id": "SuRtk-NPkcpT"
   },
   "source": [
    "Elements of a list can also be a list."
   ]
  },
  {
   "cell_type": "code",
   "execution_count": 53,
   "metadata": {
    "colab": {
     "base_uri": "https://localhost:8080/"
    },
    "executionInfo": {
     "elapsed": 132,
     "status": "ok",
     "timestamp": 1626117483158,
     "user": {
      "displayName": "Leslie Kerby",
      "photoUrl": "https://lh3.googleusercontent.com/a-/AOh14GjN8SnHoanmo435DxiVf-rB_w00WFdyFzUqH3TuM30=s64",
      "userId": "13736524897897077884"
     },
     "user_tz": 360
    },
    "id": "ULdmCm5Kkezw",
    "outputId": "fb233065-8390-4468-ea5c-ba287fb453c0"
   },
   "outputs": [
    {
     "data": {
      "text/plain": [
       "[[1, 2], [3, 4]]"
      ]
     },
     "execution_count": 53,
     "metadata": {
      "tags": []
     },
     "output_type": "execute_result"
    }
   ],
   "source": [
    "third_list = [ [1,2],[3,4] ]\n",
    "third_list"
   ]
  },
  {
   "cell_type": "code",
   "execution_count": 56,
   "metadata": {
    "colab": {
     "base_uri": "https://localhost:8080/"
    },
    "executionInfo": {
     "elapsed": 139,
     "status": "ok",
     "timestamp": 1626117553825,
     "user": {
      "displayName": "Leslie Kerby",
      "photoUrl": "https://lh3.googleusercontent.com/a-/AOh14GjN8SnHoanmo435DxiVf-rB_w00WFdyFzUqH3TuM30=s64",
      "userId": "13736524897897077884"
     },
     "user_tz": 360
    },
    "id": "5qnW_t_vKEU9",
    "outputId": "c3910ac2-1bf0-4c51-c41f-932bf04641af"
   },
   "outputs": [
    {
     "data": {
      "text/plain": [
       "2"
      ]
     },
     "execution_count": 56,
     "metadata": {
      "tags": []
     },
     "output_type": "execute_result"
    }
   ],
   "source": [
    "third_list[0][1]"
   ]
  },
  {
   "cell_type": "markdown",
   "metadata": {
    "id": "ow7uH_STjX-K"
   },
   "source": [
    "A **tuple** is like a list but it is immutable (cannot be changed). Tuples are created with curved braces `()`."
   ]
  },
  {
   "cell_type": "code",
   "execution_count": 57,
   "metadata": {
    "colab": {
     "base_uri": "https://localhost:8080/"
    },
    "executionInfo": {
     "elapsed": 131,
     "status": "ok",
     "timestamp": 1626117567714,
     "user": {
      "displayName": "Leslie Kerby",
      "photoUrl": "https://lh3.googleusercontent.com/a-/AOh14GjN8SnHoanmo435DxiVf-rB_w00WFdyFzUqH3TuM30=s64",
      "userId": "13736524897897077884"
     },
     "user_tz": 360
    },
    "id": "NCFx9hcWjfPc",
    "outputId": "4eaec39d-966d-49e3-ccdd-55cee25abe5a"
   },
   "outputs": [
    {
     "data": {
      "text/plain": [
       "('a', 'b', 3, 4, <function max>)"
      ]
     },
     "execution_count": 57,
     "metadata": {
      "tags": []
     },
     "output_type": "execute_result"
    }
   ],
   "source": [
    "sample_tuple = ('a','b',3,4,max)\n",
    "sample_tuple"
   ]
  },
  {
   "cell_type": "code",
   "execution_count": 58,
   "metadata": {
    "colab": {
     "base_uri": "https://localhost:8080/",
     "height": 34
    },
    "executionInfo": {
     "elapsed": 153,
     "status": "ok",
     "timestamp": 1626117573069,
     "user": {
      "displayName": "Leslie Kerby",
      "photoUrl": "https://lh3.googleusercontent.com/a-/AOh14GjN8SnHoanmo435DxiVf-rB_w00WFdyFzUqH3TuM30=s64",
      "userId": "13736524897897077884"
     },
     "user_tz": 360
    },
    "id": "sksdNo7_j8m3",
    "outputId": "50da534f-8401-49f6-d001-00d6f98ac8b5"
   },
   "outputs": [
    {
     "data": {
      "application/vnd.google.colaboratory.intrinsic+json": {
       "type": "string"
      },
      "text/plain": [
       "'b'"
      ]
     },
     "execution_count": 58,
     "metadata": {
      "tags": []
     },
     "output_type": "execute_result"
    }
   ],
   "source": [
    "sample_tuple[1]"
   ]
  },
  {
   "cell_type": "code",
   "execution_count": 59,
   "metadata": {
    "colab": {
     "base_uri": "https://localhost:8080/",
     "height": 184
    },
    "executionInfo": {
     "elapsed": 144,
     "status": "error",
     "timestamp": 1626117578853,
     "user": {
      "displayName": "Leslie Kerby",
      "photoUrl": "https://lh3.googleusercontent.com/a-/AOh14GjN8SnHoanmo435DxiVf-rB_w00WFdyFzUqH3TuM30=s64",
      "userId": "13736524897897077884"
     },
     "user_tz": 360
    },
    "id": "8AdUbw7xkItX",
    "outputId": "9164b7f2-9dcb-4fd4-e4bb-f2049f100700"
   },
   "outputs": [
    {
     "ename": "TypeError",
     "evalue": "ignored",
     "output_type": "error",
     "traceback": [
      "\u001b[0;31m---------------------------------------------------------------------------\u001b[0m",
      "\u001b[0;31mTypeError\u001b[0m                                 Traceback (most recent call last)",
      "\u001b[0;32m<ipython-input-59-2e938e1939d3>\u001b[0m in \u001b[0;36m<module>\u001b[0;34m()\u001b[0m\n\u001b[0;32m----> 1\u001b[0;31m \u001b[0msample_tuple\u001b[0m\u001b[0;34m[\u001b[0m\u001b[0;36m1\u001b[0m\u001b[0;34m]\u001b[0m \u001b[0;34m=\u001b[0m \u001b[0;34m'c'\u001b[0m\u001b[0;34m\u001b[0m\u001b[0;34m\u001b[0m\u001b[0m\n\u001b[0m\u001b[1;32m      2\u001b[0m \u001b[0msample_tuple\u001b[0m\u001b[0;34m\u001b[0m\u001b[0;34m\u001b[0m\u001b[0m\n",
      "\u001b[0;31mTypeError\u001b[0m: 'tuple' object does not support item assignment"
     ]
    }
   ],
   "source": [
    "sample_tuple[1] = 'c'\n",
    "sample_tuple"
   ]
  },
  {
   "cell_type": "markdown",
   "metadata": {
    "id": "FIlec8AYkrmg"
   },
   "source": [
    "Remember that square brackets `[]` are also used to index variables and objects. Curved braces `()` are also used to pass parameters to a method or function."
   ]
  },
  {
   "cell_type": "markdown",
   "metadata": {
    "id": "bqRcehDBkNHt"
   },
   "source": [
    "A **dictionary** is a set of key-value pairs and is created with curly braces, `{ key : value }`."
   ]
  },
  {
   "cell_type": "code",
   "execution_count": 60,
   "metadata": {
    "colab": {
     "base_uri": "https://localhost:8080/"
    },
    "executionInfo": {
     "elapsed": 131,
     "status": "ok",
     "timestamp": 1626117623495,
     "user": {
      "displayName": "Leslie Kerby",
      "photoUrl": "https://lh3.googleusercontent.com/a-/AOh14GjN8SnHoanmo435DxiVf-rB_w00WFdyFzUqH3TuM30=s64",
      "userId": "13736524897897077884"
     },
     "user_tz": 360
    },
    "id": "9bYw5InIkU4r",
    "outputId": "300d2fd0-d334-4f14-fb69-22820acdaea9"
   },
   "outputs": [
    {
     "data": {
      "text/plain": [
       "{'Data Science': 'CS 5599', 'Python': 'CS 1181'}"
      ]
     },
     "execution_count": 60,
     "metadata": {
      "tags": []
     },
     "output_type": "execute_result"
    }
   ],
   "source": [
    "sample_dict = { 'Data Science' : 'CS 5599', 'Python' : 'CS 1181'}\n",
    "sample_dict"
   ]
  },
  {
   "cell_type": "markdown",
   "metadata": {
    "id": "21JgwE2VlAmL"
   },
   "source": [
    "You can reference dictionaries by their `keys`."
   ]
  },
  {
   "cell_type": "code",
   "execution_count": 61,
   "metadata": {
    "colab": {
     "base_uri": "https://localhost:8080/",
     "height": 34
    },
    "executionInfo": {
     "elapsed": 153,
     "status": "ok",
     "timestamp": 1626117635472,
     "user": {
      "displayName": "Leslie Kerby",
      "photoUrl": "https://lh3.googleusercontent.com/a-/AOh14GjN8SnHoanmo435DxiVf-rB_w00WFdyFzUqH3TuM30=s64",
      "userId": "13736524897897077884"
     },
     "user_tz": 360
    },
    "id": "wADZD51xlBd-",
    "outputId": "fae60f85-9ea6-4316-9c8a-d6b082099cce"
   },
   "outputs": [
    {
     "data": {
      "application/vnd.google.colaboratory.intrinsic+json": {
       "type": "string"
      },
      "text/plain": [
       "'CS 5599'"
      ]
     },
     "execution_count": 61,
     "metadata": {
      "tags": []
     },
     "output_type": "execute_result"
    }
   ],
   "source": [
    "sample_dict['Data Science']"
   ]
  },
  {
   "cell_type": "markdown",
   "metadata": {
    "id": "FtYWg-YwlMY1"
   },
   "source": [
    "And again, the `keys` or `values` can also be lists. "
   ]
  },
  {
   "cell_type": "code",
   "execution_count": 62,
   "metadata": {
    "colab": {
     "base_uri": "https://localhost:8080/"
    },
    "executionInfo": {
     "elapsed": 137,
     "status": "ok",
     "timestamp": 1626117649892,
     "user": {
      "displayName": "Leslie Kerby",
      "photoUrl": "https://lh3.googleusercontent.com/a-/AOh14GjN8SnHoanmo435DxiVf-rB_w00WFdyFzUqH3TuM30=s64",
      "userId": "13736524897897077884"
     },
     "user_tz": 360
    },
    "id": "Vt7nzKW9lRZX",
    "outputId": "8113391a-6d82-401d-a7c5-810d83d3ab72"
   },
   "outputs": [
    {
     "data": {
      "text/plain": [
       "{'Data Science': ['CS 5599', 'CS 4499'], 'Python': 'CS 1181'}"
      ]
     },
     "execution_count": 62,
     "metadata": {
      "tags": []
     },
     "output_type": "execute_result"
    }
   ],
   "source": [
    "sample_dict['Data Science'] = ['CS 5599', 'CS 4499']\n",
    "sample_dict"
   ]
  },
  {
   "cell_type": "markdown",
   "metadata": {
    "id": "zU3Idh1tpMYK"
   },
   "source": [
    "## 1.2 NumPy ndarrays\n",
    "\n",
    "[NumPy](https://www.numpy.org) ndarrays are the most utilized object in numpy. They are also used in many other data science packages (ie pandas, scikit-learn, and TensorFlow), so it's important to understand how they work.\n",
    "\n",
    "To create an ndarray, call the method `array`. Notice both curved and square brackets are needed. This is because you pass the `array` method a list, which is denoted with `[]` brackets. Run this cell to see an example:"
   ]
  },
  {
   "cell_type": "code",
   "execution_count": 63,
   "metadata": {
    "colab": {
     "base_uri": "https://localhost:8080/"
    },
    "executionInfo": {
     "elapsed": 143,
     "status": "ok",
     "timestamp": 1626117749056,
     "user": {
      "displayName": "Leslie Kerby",
      "photoUrl": "https://lh3.googleusercontent.com/a-/AOh14GjN8SnHoanmo435DxiVf-rB_w00WFdyFzUqH3TuM30=s64",
      "userId": "13736524897897077884"
     },
     "user_tz": 360
    },
    "id": "AXIm0vgMpMYP",
    "outputId": "cf01e8e5-0edd-4e63-9576-721bdecd3af4",
    "scrolled": true
   },
   "outputs": [
    {
     "data": {
      "text/plain": [
       "array([ 0.125,  4.75 , -1.3  ])"
      ]
     },
     "execution_count": 63,
     "metadata": {
      "tags": []
     },
     "output_type": "execute_result"
    }
   ],
   "source": [
    "import numpy as np\n",
    "np.array([0.125, 4.75, -1.3])"
   ]
  },
  {
   "cell_type": "markdown",
   "metadata": {
    "id": "EIHZQ149pMYT"
   },
   "source": [
    "To create a multi-dimensional array, pass lists within a list:"
   ]
  },
  {
   "cell_type": "code",
   "execution_count": 64,
   "metadata": {
    "colab": {
     "base_uri": "https://localhost:8080/"
    },
    "executionInfo": {
     "elapsed": 134,
     "status": "ok",
     "timestamp": 1626117775066,
     "user": {
      "displayName": "Leslie Kerby",
      "photoUrl": "https://lh3.googleusercontent.com/a-/AOh14GjN8SnHoanmo435DxiVf-rB_w00WFdyFzUqH3TuM30=s64",
      "userId": "13736524897897077884"
     },
     "user_tz": 360
    },
    "id": "6zlwaSe-pMYU",
    "outputId": "4364bbea-d3fe-4f03-b363-7d32574694b0"
   },
   "outputs": [
    {
     "data": {
      "text/plain": [
       "array([[0, 1, 2],\n",
       "       [3, 4, 5],\n",
       "       [6, 7, 8]])"
      ]
     },
     "execution_count": 64,
     "metadata": {
      "tags": []
     },
     "output_type": "execute_result"
    }
   ],
   "source": [
    "np.array([[0,1,2],[3,4,5],[6,7,8]])"
   ]
  },
  {
   "cell_type": "markdown",
   "metadata": {
    "id": "Tm9-10EtpMYZ"
   },
   "source": [
    "**Question 1.2.1.** <br/> Make an ndarray containing the numbers 0, 1, -1, $\\pi$, and $e$, in that order.  Name it `cool_numbers`. <br/> \n",
    "*Hint:* $\\pi$ and $e$ are available in the `math` library as `math.pi` and `math.e`"
   ]
  },
  {
   "cell_type": "code",
   "execution_count": 66,
   "metadata": {
    "colab": {
     "base_uri": "https://localhost:8080/"
    },
    "executionInfo": {
     "elapsed": 127,
     "status": "ok",
     "timestamp": 1626117930439,
     "user": {
      "displayName": "Leslie Kerby",
      "photoUrl": "https://lh3.googleusercontent.com/a-/AOh14GjN8SnHoanmo435DxiVf-rB_w00WFdyFzUqH3TuM30=s64",
      "userId": "13736524897897077884"
     },
     "user_tz": 360
    },
    "id": "Esig3ORLpMYa",
    "outputId": "3af9a0b6-6dfa-4f5f-9a72-f841d267d7a3"
   },
   "outputs": [
    {
     "data": {
      "text/plain": [
       "numpy.ndarray"
      ]
     },
     "execution_count": 66,
     "metadata": {
      "tags": []
     },
     "output_type": "execute_result"
    }
   ],
   "source": [
    "import math\n",
    "cool_numbers = np.array([0, 1, -1, math.pi, math.e])\n",
    "type(cool_numbers)"
   ]
  },
  {
   "cell_type": "markdown",
   "metadata": {
    "id": "D2Ft_zR9pMYg"
   },
   "source": [
    "**np.arange** <br/>\n",
    "Very often in data science, we want to work with many numbers that are evenly spaced within some range.  NumPy provides a special function for this called `arange`.  `np.arange(start, stop, space)` produces an array with all the numbers starting at `start` and counting up by `space`, stopping *before* `stop` is reached.\n",
    "\n",
    "For example, the value of `np.arange(1, 6, 2)` is an array with elements 1, 3, and 5 -- it starts at 1 and counts up by 2, then stops before 6.  In other words, it's equivalent to `np.array([1, 3, 5])`.\n",
    "\n",
    "`np.arange(4, 9, 1)` is an array with elements 4, 5, 6, 7, and 8.  (It doesn't contain 9 because `np.arange` stops *before* the stop value is reached.)"
   ]
  },
  {
   "cell_type": "code",
   "execution_count": 69,
   "metadata": {
    "colab": {
     "base_uri": "https://localhost:8080/"
    },
    "executionInfo": {
     "elapsed": 144,
     "status": "ok",
     "timestamp": 1626118066221,
     "user": {
      "displayName": "Leslie Kerby",
      "photoUrl": "https://lh3.googleusercontent.com/a-/AOh14GjN8SnHoanmo435DxiVf-rB_w00WFdyFzUqH3TuM30=s64",
      "userId": "13736524897897077884"
     },
     "user_tz": 360
    },
    "id": "JJclcmPlpMYh",
    "outputId": "ccea44ba-cda2-4650-b096-aa618247eb7e"
   },
   "outputs": [
    {
     "data": {
      "text/plain": [
       "array([4, 5, 6, 7, 8])"
      ]
     },
     "execution_count": 69,
     "metadata": {
      "tags": []
     },
     "output_type": "execute_result"
    }
   ],
   "source": [
    "np.arange(4, 9, 1)\n",
    "# packages it as ndarray for us"
   ]
  },
  {
   "cell_type": "markdown",
   "metadata": {
    "id": "8YObYCuQW9HH"
   },
   "source": [
    "**Question 1.2.2.** <br/>Import `numpy` as `np` and then use `np.arange` to create an array with the multiples of 99 from 0 up to (**and including**) 9999.  (So its elements are 0, 99, 198, 297, etc.)"
   ]
  },
  {
   "cell_type": "code",
   "execution_count": 70,
   "metadata": {
    "colab": {
     "base_uri": "https://localhost:8080/"
    },
    "executionInfo": {
     "elapsed": 152,
     "status": "ok",
     "timestamp": 1626118147944,
     "user": {
      "displayName": "Leslie Kerby",
      "photoUrl": "https://lh3.googleusercontent.com/a-/AOh14GjN8SnHoanmo435DxiVf-rB_w00WFdyFzUqH3TuM30=s64",
      "userId": "13736524897897077884"
     },
     "user_tz": 360
    },
    "id": "IGjrTLUoW7zq",
    "outputId": "60f86a7a-36bf-4176-e55b-c40b0dc8a2ef"
   },
   "outputs": [
    {
     "data": {
      "text/plain": [
       "array([   0,   99,  198,  297,  396,  495,  594,  693,  792,  891,  990,\n",
       "       1089, 1188, 1287, 1386, 1485, 1584, 1683, 1782, 1881, 1980, 2079,\n",
       "       2178, 2277, 2376, 2475, 2574, 2673, 2772, 2871, 2970, 3069, 3168,\n",
       "       3267, 3366, 3465, 3564, 3663, 3762, 3861, 3960, 4059, 4158, 4257,\n",
       "       4356, 4455, 4554, 4653, 4752, 4851, 4950, 5049, 5148, 5247, 5346,\n",
       "       5445, 5544, 5643, 5742, 5841, 5940, 6039, 6138, 6237, 6336, 6435,\n",
       "       6534, 6633, 6732, 6831, 6930, 7029, 7128, 7227, 7326, 7425, 7524,\n",
       "       7623, 7722, 7821, 7920, 8019, 8118, 8217, 8316, 8415, 8514, 8613,\n",
       "       8712, 8811, 8910, 9009, 9108, 9207, 9306, 9405, 9504, 9603, 9702,\n",
       "       9801, 9900, 9999])"
      ]
     },
     "execution_count": 70,
     "metadata": {
      "tags": []
     },
     "output_type": "execute_result"
    }
   ],
   "source": [
    "np.arange(0, 10000, 99)"
   ]
  },
  {
   "cell_type": "markdown",
   "metadata": {
    "id": "QumDQXtbpMYs"
   },
   "source": [
    "## 1.3 Array indexing and slicing\n",
    "The NBA salaries for the 573 players in the 2017-18 season are in the file \"NBA_season1718_salary.csv\", which is loaded into the `salaries` array for you below."
   ]
  },
  {
   "cell_type": "code",
   "execution_count": 71,
   "metadata": {
    "colab": {
     "base_uri": "https://localhost:8080/"
    },
    "executionInfo": {
     "elapsed": 181,
     "status": "ok",
     "timestamp": 1626118241451,
     "user": {
      "displayName": "Leslie Kerby",
      "photoUrl": "https://lh3.googleusercontent.com/a-/AOh14GjN8SnHoanmo435DxiVf-rB_w00WFdyFzUqH3TuM30=s64",
      "userId": "13736524897897077884"
     },
     "user_tz": 360
    },
    "id": "LkKu4De5pMYs",
    "outputId": "d33b00bf-ee53-4a81-cbb8-164593605017"
   },
   "outputs": [
    {
     "data": {
      "text/plain": [
       "array([3.4682550e+07, 3.3285709e+07, 3.1269231e+07, 2.9727900e+07,\n",
       "       2.9512900e+07, 2.8703704e+07, 2.8530608e+07, 2.8530608e+07,\n",
       "       2.8299399e+07, 2.7739975e+07, 2.7734405e+07, 2.6243760e+07,\n",
       "       2.6153057e+07, 2.5686667e+07, 2.5289390e+07, 2.5000000e+07,\n",
       "       2.4773250e+07, 2.4599495e+07, 2.3962573e+07, 2.3775506e+07,\n",
       "       2.3775506e+07, 2.3775506e+07, 2.3775506e+07, 2.3500000e+07,\n",
       "       2.3112004e+07, 2.3112004e+07, 2.3000000e+07, 2.2642350e+07,\n",
       "       2.2642350e+07, 2.2642350e+07, 2.2642350e+07, 2.2471910e+07,\n",
       "       2.2471910e+07, 2.2434783e+07, 2.1974719e+07, 2.1461010e+07,\n",
       "       2.1000000e+07, 2.0566802e+07, 2.0559599e+07, 2.0061729e+07,\n",
       "       2.0000000e+07, 1.9578455e+07, 1.9508958e+07, 1.9332500e+07,\n",
       "       1.9301070e+07, 1.9000000e+07, 1.8868625e+07, 1.8868625e+07,\n",
       "       1.8063850e+07, 1.8063850e+07, 1.7884176e+07, 1.7884176e+07,\n",
       "       1.7826150e+07, 1.7765000e+07, 1.7745894e+07, 1.7190000e+07,\n",
       "       1.7131148e+07, 1.7000450e+07, 1.7000000e+07, 1.7000000e+07,\n",
       "       1.6910113e+07, 1.6698103e+07, 1.6661641e+07, 1.6500000e+07,\n",
       "       1.6400000e+07, 1.6400000e+07, 1.6000000e+07, 1.6000000e+07,\n",
       "       1.6000000e+07, 1.5550000e+07, 1.5500000e+07, 1.5460675e+07,\n",
       "       1.5453126e+07, 1.5280000e+07, 1.4814815e+07, 1.4800000e+07,\n",
       "       1.4796348e+07, 1.4500000e+07, 1.4275000e+07, 1.4136364e+07,\n",
       "       1.4112360e+07, 1.4100000e+07, 1.4041096e+07, 1.4000000e+07,\n",
       "       1.3954000e+07, 1.3788500e+07, 1.3760000e+07, 1.3618750e+07,\n",
       "       1.3168750e+07, 1.3000000e+07, 1.3000000e+07, 1.2943020e+07,\n",
       "       1.2921348e+07, 1.2782609e+07, 1.2584270e+07, 1.2500000e+07,\n",
       "       1.2500000e+07, 1.2307692e+07, 1.2250000e+07, 1.2236535e+07,\n",
       "       1.2016854e+07, 1.2000000e+07, 1.2000000e+07, 1.2000000e+07,\n",
       "       1.1825000e+07, 1.1747890e+07, 1.1600000e+07, 1.1562500e+07,\n",
       "       1.1422536e+07, 1.1000000e+07, 1.1000000e+07, 1.0942762e+07,\n",
       "       1.0845506e+07, 1.0714286e+07, 1.0607169e+07, 1.0595505e+07,\n",
       "       1.0500000e+07, 1.0500000e+07, 1.0500000e+07, 1.0497319e+07,\n",
       "       1.0337079e+07, 1.0162922e+07, 1.0000000e+07, 1.0000000e+07,\n",
       "       1.0000000e+07, 9.9044950e+06, 9.8214290e+06, 9.7698210e+06,\n",
       "       9.6075000e+06, 9.5050000e+06, 9.4706140e+06, 9.2592590e+06,\n",
       "       9.1250000e+06, 9.0031250e+06, 9.0000000e+06, 8.8089890e+06,\n",
       "       8.5333330e+06, 8.4450240e+06, 8.4060000e+06, 8.3930000e+06,\n",
       "       8.0000000e+06, 8.0000000e+06, 8.0000000e+06, 7.9365090e+06,\n",
       "       7.8435000e+06, 7.6923080e+06, 7.6300000e+06, 7.5900350e+06,\n",
       "       7.5793660e+06, 7.5743220e+06, 7.4649120e+06, 7.4209120e+06,\n",
       "       7.4209120e+06, 7.3190350e+06, 7.3000000e+06, 7.2500000e+06,\n",
       "       7.0262400e+06, 7.0000000e+06, 7.0000000e+06, 7.0000000e+06,\n",
       "       7.0000000e+06, 6.7961170e+06, 6.7823920e+06, 6.6666670e+06,\n",
       "       6.6553250e+06, 6.3525310e+06, 6.3060600e+06, 6.3000000e+06,\n",
       "       6.2865600e+06, 6.2700000e+06, 6.2613950e+06, 6.2168400e+06,\n",
       "       6.1688400e+06, 6.1002660e+06, 6.0211750e+06, 6.0211750e+06,\n",
       "       6.0000000e+06, 6.0000000e+06, 6.0000000e+06, 6.0000000e+06,\n",
       "       6.0000000e+06, 6.0000000e+06, 5.8812600e+06, 5.8812600e+06,\n",
       "       5.7250000e+06, 5.6454000e+06, 5.5623600e+06, 5.5194000e+06,\n",
       "       5.5135140e+06, 5.5044200e+06, 5.5000000e+06, 5.4000000e+06,\n",
       "       5.2500000e+06, 5.2250000e+06, 5.2000000e+06, 5.1920000e+06,\n",
       "       5.1920000e+06, 5.1797600e+06, 5.0900400e+06, 5.0000000e+06,\n",
       "       5.0000000e+06, 5.0000000e+06, 5.0000000e+06, 4.9951200e+06,\n",
       "       4.9923850e+06, 4.9617980e+06, 4.9564800e+06, 4.7360500e+06,\n",
       "       4.6665000e+06, 4.6153850e+06, 4.6092000e+06, 4.5380200e+06,\n",
       "       4.5036000e+06, 4.4688000e+06, 4.4025460e+06, 4.3280000e+06,\n",
       "       4.3280000e+06, 4.3280000e+06, 4.1875990e+06, 4.1875990e+06,\n",
       "       4.1863200e+06, 4.1800000e+06, 4.1492420e+06, 4.0875000e+06,\n",
       "       4.0783200e+06, 4.0467600e+06, 4.0000000e+06, 3.9499990e+06,\n",
       "       3.9039000e+06, 3.8539310e+06, 3.8216400e+06, 3.8071460e+06,\n",
       "       3.7041600e+06, 3.6754800e+06, 3.5333330e+06, 3.5052330e+06,\n",
       "       3.5011200e+06, 3.4776000e+06, 3.4776000e+06, 3.4085200e+06,\n",
       "       3.3814800e+06, 3.3553200e+06, 3.3323400e+06, 3.3000000e+06,\n",
       "       3.2949940e+06, 3.2900000e+06, 3.2900000e+06, 3.2900000e+06,\n",
       "       3.2900000e+06, 3.2182800e+06, 3.2022170e+06, 3.2000000e+06,\n",
       "       3.1529310e+06, 3.0978000e+06, 3.0738000e+06, 3.0572400e+06,\n",
       "       3.0284100e+06, 3.0284100e+06, 3.0250350e+06, 3.0000000e+06,\n",
       "       3.0000000e+06, 2.9473050e+06, 2.9473050e+06, 2.9044800e+06,\n",
       "       2.8476000e+06, 2.8444290e+06, 2.8256400e+06, 2.7592800e+06,\n",
       "       2.7050400e+06, 2.7000000e+06, 2.6841600e+06, 2.6428570e+06,\n",
       "       2.6212800e+06, 2.5699200e+06, 2.5500550e+06, 2.5500000e+06,\n",
       "       2.5000000e+06, 2.5000000e+06, 2.5000000e+06, 2.5000000e+06,\n",
       "       2.4903600e+06, 2.4512250e+06, 2.4424550e+06, 2.4414000e+06,\n",
       "       2.4225600e+06, 2.4225600e+06, 2.3868640e+06, 2.3655600e+06,\n",
       "       2.3613600e+06, 2.3345200e+06, 2.3286520e+06, 2.3286520e+06,\n",
       "       2.3286520e+06, 2.3286520e+06, 2.3286520e+06, 2.3286520e+06,\n",
       "       2.3286520e+06, 2.3286520e+06, 2.3286520e+06, 2.3286520e+06,\n",
       "       2.3286520e+06, 2.3286520e+06, 2.3193600e+06, 2.3013600e+06,\n",
       "       2.3000000e+06, 2.2628710e+06, 2.2474800e+06, 2.2474800e+06,\n",
       "       2.2454000e+06, 2.2034400e+06, 2.1864000e+06, 2.1839340e+06,\n",
       "       2.1517040e+06, 2.1350400e+06, 2.1335420e+06, 2.1169550e+06,\n",
       "       2.1169550e+06, 2.1169550e+06, 2.1169550e+06, 2.1169550e+06,\n",
       "       2.1169550e+06, 2.1169550e+06, 2.1169550e+06, 2.1169550e+06,\n",
       "       2.1064700e+06, 2.1064070e+06, 2.1000000e+06, 2.0930400e+06,\n",
       "       2.0768400e+06, 2.0283600e+06, 2.0000000e+06, 2.0000000e+06,\n",
       "       1.9885200e+06, 1.9741590e+06, 1.9369200e+06, 1.9133450e+06,\n",
       "       1.8890400e+06, 1.8812500e+06, 1.8744000e+06, 1.8655470e+06,\n",
       "       1.8594000e+06, 1.7946000e+06, 1.7850000e+06, 1.7808000e+06,\n",
       "       1.7393330e+06, 1.7138400e+06, 1.7137200e+06, 1.7095380e+06,\n",
       "       1.7095380e+06, 1.7095380e+06, 1.7006400e+06, 1.6625000e+06,\n",
       "       1.6452000e+06, 1.6452000e+06, 1.6452000e+06, 1.6324800e+06,\n",
       "       1.5794400e+06, 1.5794400e+06, 1.5773200e+06, 1.5772300e+06,\n",
       "       1.5772300e+06, 1.5772300e+06, 1.5772300e+06, 1.5672000e+06,\n",
       "       1.5243050e+06, 1.5243050e+06, 1.5243050e+06, 1.5243050e+06,\n",
       "       1.5243050e+06, 1.5243050e+06, 1.5243050e+06, 1.5243050e+06,\n",
       "       1.5243050e+06, 1.5243050e+06, 1.5243050e+06, 1.5163200e+06,\n",
       "       1.5045600e+06, 1.5000000e+06, 1.4713820e+06, 1.4713820e+06,\n",
       "       1.4713820e+06, 1.4713820e+06, 1.4713820e+06, 1.4713820e+06,\n",
       "       1.4713820e+06, 1.4713820e+06, 1.4713820e+06, 1.4713820e+06,\n",
       "       1.4713820e+06, 1.4713820e+06, 1.4713820e+06, 1.4713820e+06,\n",
       "       1.4713820e+06, 1.4713820e+06, 1.4713820e+06, 1.4713820e+06,\n",
       "       1.4713820e+06, 1.4659200e+06, 1.4659200e+06, 1.4357500e+06,\n",
       "       1.4235600e+06, 1.4149200e+06, 1.4046000e+06, 1.3945200e+06,\n",
       "       1.3866000e+06, 1.3603050e+06, 1.3311600e+06, 1.3126110e+06,\n",
       "       1.3126110e+06, 1.3126110e+06, 1.3126110e+06, 1.3126110e+06,\n",
       "       1.3126110e+06, 1.3126110e+06, 1.3126110e+06, 1.3126110e+06,\n",
       "       1.3126110e+06, 1.3126110e+06, 1.3126110e+06, 1.3126110e+06,\n",
       "       1.3126110e+06, 1.3126110e+06, 1.3126110e+06, 1.3126110e+06,\n",
       "       1.3126110e+06, 1.3126110e+06, 1.3126110e+06, 1.3126110e+06,\n",
       "       1.3126110e+06, 1.3126110e+06, 1.3126110e+06, 1.3126110e+06,\n",
       "       1.3126110e+06, 1.3126110e+06, 1.3126110e+06, 1.3126110e+06,\n",
       "       1.3126110e+06, 1.3126110e+06, 1.3126110e+06, 1.3126110e+06,\n",
       "       1.3126110e+06, 1.3126110e+06, 1.3126110e+06, 1.2918920e+06,\n",
       "       1.1843850e+06, 1.1673330e+06, 1.1000000e+06, 1.0960800e+06,\n",
       "       1.0693080e+06, 1.0500000e+06, 1.0352000e+06, 1.0000000e+06,\n",
       "       1.0000000e+06, 9.5000000e+05, 9.5000000e+05, 9.5000000e+05,\n",
       "       9.4724800e+05, 9.4512600e+05, 8.3000000e+05, 8.1561500e+05,\n",
       "       8.1561500e+05, 8.1561500e+05, 8.1561500e+05, 8.1561500e+05,\n",
       "       8.1561500e+05, 8.1561500e+05, 8.1561500e+05, 8.1561500e+05,\n",
       "       8.1561500e+05, 8.1561500e+05, 8.1561500e+05, 8.1561500e+05,\n",
       "       8.1561500e+05, 8.1561500e+05, 8.1561500e+05, 8.1561500e+05,\n",
       "       8.1561500e+05, 7.8972500e+05, 7.8416000e+05, 7.7866800e+05,\n",
       "       7.7621700e+05, 7.4990500e+05, 7.4816000e+05, 6.7991900e+05,\n",
       "       6.5000000e+05, 5.1722000e+05, 5.1092100e+05, 5.0232800e+05,\n",
       "       5.0000000e+05, 5.0000000e+05, 5.0000000e+05, 4.5205900e+05,\n",
       "       3.3333400e+05, 3.3333400e+05, 3.1576000e+05, 3.0000000e+05,\n",
       "       3.0000000e+05, 2.6312400e+05, 2.5000000e+05, 2.3920400e+05,\n",
       "       2.2247600e+05, 2.0000000e+05, 1.7255200e+05, 1.7223800e+05,\n",
       "       1.7223800e+05, 1.6625800e+05, 1.4831800e+05, 1.4831800e+05,\n",
       "       1.4090200e+05, 1.1960200e+05, 1.1901000e+05, 1.0405900e+05,\n",
       "       1.0000000e+05, 1.0000000e+05, 1.0000000e+05, 1.0000000e+05,\n",
       "       9.2858000e+04, 9.2160000e+04, 9.2160000e+04, 9.2160000e+04,\n",
       "       9.2160000e+04, 9.2160000e+04, 9.2160000e+04, 9.2160000e+04,\n",
       "       8.7552000e+04, 8.3129000e+04, 8.3129000e+04, 8.3129000e+04,\n",
       "       7.4159000e+04, 7.4159000e+04, 7.4159000e+04, 7.4159000e+04,\n",
       "       5.3465000e+04, 5.0000000e+04, 5.0000000e+04, 5.0000000e+04,\n",
       "       5.0000000e+04, 5.0000000e+04, 5.0000000e+04, 5.0000000e+04,\n",
       "       5.0000000e+04, 5.0000000e+04, 5.0000000e+04, 5.0000000e+04,\n",
       "       5.0000000e+04, 5.0000000e+04, 5.0000000e+04, 5.0000000e+04,\n",
       "       5.0000000e+04, 5.0000000e+04, 5.0000000e+04, 5.0000000e+04,\n",
       "       5.0000000e+04, 5.0000000e+04, 5.0000000e+04, 5.0000000e+04,\n",
       "       5.0000000e+04, 5.0000000e+04, 5.0000000e+04, 4.6080000e+04,\n",
       "       4.6080000e+04, 4.6080000e+04, 4.6080000e+04, 4.6080000e+04,\n",
       "       4.6080000e+04, 4.6080000e+04, 2.6773000e+04, 2.5000000e+04,\n",
       "       2.5000000e+04, 2.5000000e+04, 2.5000000e+04, 2.2248000e+04,\n",
       "       1.7224000e+04])"
      ]
     },
     "execution_count": 71,
     "metadata": {
      "tags": []
     },
     "output_type": "execute_result"
    }
   ],
   "source": [
    "# Don't worry too much about what goes on in this cell.\n",
    "import numpy as np\n",
    "import pandas as pd\n",
    "salariesdf = pd.read_csv('https://gitlab.com/CEADS/DrKerby/python/raw/master/NBA_season1718_salary.csv')\n",
    "salaries = salariesdf['season17_18'].values\n",
    "salaries"
   ]
  },
  {
   "cell_type": "markdown",
   "metadata": {
    "id": "VtPG97FdpMYv"
   },
   "source": [
    "Use `sort` to sort the array in ascending order."
   ]
  },
  {
   "cell_type": "code",
   "execution_count": 72,
   "metadata": {
    "colab": {
     "base_uri": "https://localhost:8080/"
    },
    "executionInfo": {
     "elapsed": 145,
     "status": "ok",
     "timestamp": 1626118253075,
     "user": {
      "displayName": "Leslie Kerby",
      "photoUrl": "https://lh3.googleusercontent.com/a-/AOh14GjN8SnHoanmo435DxiVf-rB_w00WFdyFzUqH3TuM30=s64",
      "userId": "13736524897897077884"
     },
     "user_tz": 360
    },
    "id": "Rs_6ybwkpMYw",
    "outputId": "e23785c0-91ae-4a03-b68e-c20bca28475f"
   },
   "outputs": [
    {
     "data": {
      "text/plain": [
       "array([1.7224000e+04, 2.2248000e+04, 2.5000000e+04, 2.5000000e+04,\n",
       "       2.5000000e+04, 2.5000000e+04, 2.6773000e+04, 4.6080000e+04,\n",
       "       4.6080000e+04, 4.6080000e+04, 4.6080000e+04, 4.6080000e+04,\n",
       "       4.6080000e+04, 4.6080000e+04, 5.0000000e+04, 5.0000000e+04,\n",
       "       5.0000000e+04, 5.0000000e+04, 5.0000000e+04, 5.0000000e+04,\n",
       "       5.0000000e+04, 5.0000000e+04, 5.0000000e+04, 5.0000000e+04,\n",
       "       5.0000000e+04, 5.0000000e+04, 5.0000000e+04, 5.0000000e+04,\n",
       "       5.0000000e+04, 5.0000000e+04, 5.0000000e+04, 5.0000000e+04,\n",
       "       5.0000000e+04, 5.0000000e+04, 5.0000000e+04, 5.0000000e+04,\n",
       "       5.0000000e+04, 5.0000000e+04, 5.0000000e+04, 5.0000000e+04,\n",
       "       5.3465000e+04, 7.4159000e+04, 7.4159000e+04, 7.4159000e+04,\n",
       "       7.4159000e+04, 8.3129000e+04, 8.3129000e+04, 8.3129000e+04,\n",
       "       8.7552000e+04, 9.2160000e+04, 9.2160000e+04, 9.2160000e+04,\n",
       "       9.2160000e+04, 9.2160000e+04, 9.2160000e+04, 9.2160000e+04,\n",
       "       9.2858000e+04, 1.0000000e+05, 1.0000000e+05, 1.0000000e+05,\n",
       "       1.0000000e+05, 1.0405900e+05, 1.1901000e+05, 1.1960200e+05,\n",
       "       1.4090200e+05, 1.4831800e+05, 1.4831800e+05, 1.6625800e+05,\n",
       "       1.7223800e+05, 1.7223800e+05, 1.7255200e+05, 2.0000000e+05,\n",
       "       2.2247600e+05, 2.3920400e+05, 2.5000000e+05, 2.6312400e+05,\n",
       "       3.0000000e+05, 3.0000000e+05, 3.1576000e+05, 3.3333400e+05,\n",
       "       3.3333400e+05, 4.5205900e+05, 5.0000000e+05, 5.0000000e+05,\n",
       "       5.0000000e+05, 5.0232800e+05, 5.1092100e+05, 5.1722000e+05,\n",
       "       6.5000000e+05, 6.7991900e+05, 7.4816000e+05, 7.4990500e+05,\n",
       "       7.7621700e+05, 7.7866800e+05, 7.8416000e+05, 7.8972500e+05,\n",
       "       8.1561500e+05, 8.1561500e+05, 8.1561500e+05, 8.1561500e+05,\n",
       "       8.1561500e+05, 8.1561500e+05, 8.1561500e+05, 8.1561500e+05,\n",
       "       8.1561500e+05, 8.1561500e+05, 8.1561500e+05, 8.1561500e+05,\n",
       "       8.1561500e+05, 8.1561500e+05, 8.1561500e+05, 8.1561500e+05,\n",
       "       8.1561500e+05, 8.1561500e+05, 8.3000000e+05, 9.4512600e+05,\n",
       "       9.4724800e+05, 9.5000000e+05, 9.5000000e+05, 9.5000000e+05,\n",
       "       1.0000000e+06, 1.0000000e+06, 1.0352000e+06, 1.0500000e+06,\n",
       "       1.0693080e+06, 1.0960800e+06, 1.1000000e+06, 1.1673330e+06,\n",
       "       1.1843850e+06, 1.2918920e+06, 1.3126110e+06, 1.3126110e+06,\n",
       "       1.3126110e+06, 1.3126110e+06, 1.3126110e+06, 1.3126110e+06,\n",
       "       1.3126110e+06, 1.3126110e+06, 1.3126110e+06, 1.3126110e+06,\n",
       "       1.3126110e+06, 1.3126110e+06, 1.3126110e+06, 1.3126110e+06,\n",
       "       1.3126110e+06, 1.3126110e+06, 1.3126110e+06, 1.3126110e+06,\n",
       "       1.3126110e+06, 1.3126110e+06, 1.3126110e+06, 1.3126110e+06,\n",
       "       1.3126110e+06, 1.3126110e+06, 1.3126110e+06, 1.3126110e+06,\n",
       "       1.3126110e+06, 1.3126110e+06, 1.3126110e+06, 1.3126110e+06,\n",
       "       1.3126110e+06, 1.3126110e+06, 1.3126110e+06, 1.3126110e+06,\n",
       "       1.3126110e+06, 1.3126110e+06, 1.3311600e+06, 1.3603050e+06,\n",
       "       1.3866000e+06, 1.3945200e+06, 1.4046000e+06, 1.4149200e+06,\n",
       "       1.4235600e+06, 1.4357500e+06, 1.4659200e+06, 1.4659200e+06,\n",
       "       1.4713820e+06, 1.4713820e+06, 1.4713820e+06, 1.4713820e+06,\n",
       "       1.4713820e+06, 1.4713820e+06, 1.4713820e+06, 1.4713820e+06,\n",
       "       1.4713820e+06, 1.4713820e+06, 1.4713820e+06, 1.4713820e+06,\n",
       "       1.4713820e+06, 1.4713820e+06, 1.4713820e+06, 1.4713820e+06,\n",
       "       1.4713820e+06, 1.4713820e+06, 1.4713820e+06, 1.5000000e+06,\n",
       "       1.5045600e+06, 1.5163200e+06, 1.5243050e+06, 1.5243050e+06,\n",
       "       1.5243050e+06, 1.5243050e+06, 1.5243050e+06, 1.5243050e+06,\n",
       "       1.5243050e+06, 1.5243050e+06, 1.5243050e+06, 1.5243050e+06,\n",
       "       1.5243050e+06, 1.5672000e+06, 1.5772300e+06, 1.5772300e+06,\n",
       "       1.5772300e+06, 1.5772300e+06, 1.5773200e+06, 1.5794400e+06,\n",
       "       1.5794400e+06, 1.6324800e+06, 1.6452000e+06, 1.6452000e+06,\n",
       "       1.6452000e+06, 1.6625000e+06, 1.7006400e+06, 1.7095380e+06,\n",
       "       1.7095380e+06, 1.7095380e+06, 1.7137200e+06, 1.7138400e+06,\n",
       "       1.7393330e+06, 1.7808000e+06, 1.7850000e+06, 1.7946000e+06,\n",
       "       1.8594000e+06, 1.8655470e+06, 1.8744000e+06, 1.8812500e+06,\n",
       "       1.8890400e+06, 1.9133450e+06, 1.9369200e+06, 1.9741590e+06,\n",
       "       1.9885200e+06, 2.0000000e+06, 2.0000000e+06, 2.0283600e+06,\n",
       "       2.0768400e+06, 2.0930400e+06, 2.1000000e+06, 2.1064070e+06,\n",
       "       2.1064700e+06, 2.1169550e+06, 2.1169550e+06, 2.1169550e+06,\n",
       "       2.1169550e+06, 2.1169550e+06, 2.1169550e+06, 2.1169550e+06,\n",
       "       2.1169550e+06, 2.1169550e+06, 2.1335420e+06, 2.1350400e+06,\n",
       "       2.1517040e+06, 2.1839340e+06, 2.1864000e+06, 2.2034400e+06,\n",
       "       2.2454000e+06, 2.2474800e+06, 2.2474800e+06, 2.2628710e+06,\n",
       "       2.3000000e+06, 2.3013600e+06, 2.3193600e+06, 2.3286520e+06,\n",
       "       2.3286520e+06, 2.3286520e+06, 2.3286520e+06, 2.3286520e+06,\n",
       "       2.3286520e+06, 2.3286520e+06, 2.3286520e+06, 2.3286520e+06,\n",
       "       2.3286520e+06, 2.3286520e+06, 2.3286520e+06, 2.3345200e+06,\n",
       "       2.3613600e+06, 2.3655600e+06, 2.3868640e+06, 2.4225600e+06,\n",
       "       2.4225600e+06, 2.4414000e+06, 2.4424550e+06, 2.4512250e+06,\n",
       "       2.4903600e+06, 2.5000000e+06, 2.5000000e+06, 2.5000000e+06,\n",
       "       2.5000000e+06, 2.5500000e+06, 2.5500550e+06, 2.5699200e+06,\n",
       "       2.6212800e+06, 2.6428570e+06, 2.6841600e+06, 2.7000000e+06,\n",
       "       2.7050400e+06, 2.7592800e+06, 2.8256400e+06, 2.8444290e+06,\n",
       "       2.8476000e+06, 2.9044800e+06, 2.9473050e+06, 2.9473050e+06,\n",
       "       3.0000000e+06, 3.0000000e+06, 3.0250350e+06, 3.0284100e+06,\n",
       "       3.0284100e+06, 3.0572400e+06, 3.0738000e+06, 3.0978000e+06,\n",
       "       3.1529310e+06, 3.2000000e+06, 3.2022170e+06, 3.2182800e+06,\n",
       "       3.2900000e+06, 3.2900000e+06, 3.2900000e+06, 3.2900000e+06,\n",
       "       3.2949940e+06, 3.3000000e+06, 3.3323400e+06, 3.3553200e+06,\n",
       "       3.3814800e+06, 3.4085200e+06, 3.4776000e+06, 3.4776000e+06,\n",
       "       3.5011200e+06, 3.5052330e+06, 3.5333330e+06, 3.6754800e+06,\n",
       "       3.7041600e+06, 3.8071460e+06, 3.8216400e+06, 3.8539310e+06,\n",
       "       3.9039000e+06, 3.9499990e+06, 4.0000000e+06, 4.0467600e+06,\n",
       "       4.0783200e+06, 4.0875000e+06, 4.1492420e+06, 4.1800000e+06,\n",
       "       4.1863200e+06, 4.1875990e+06, 4.1875990e+06, 4.3280000e+06,\n",
       "       4.3280000e+06, 4.3280000e+06, 4.4025460e+06, 4.4688000e+06,\n",
       "       4.5036000e+06, 4.5380200e+06, 4.6092000e+06, 4.6153850e+06,\n",
       "       4.6665000e+06, 4.7360500e+06, 4.9564800e+06, 4.9617980e+06,\n",
       "       4.9923850e+06, 4.9951200e+06, 5.0000000e+06, 5.0000000e+06,\n",
       "       5.0000000e+06, 5.0000000e+06, 5.0900400e+06, 5.1797600e+06,\n",
       "       5.1920000e+06, 5.1920000e+06, 5.2000000e+06, 5.2250000e+06,\n",
       "       5.2500000e+06, 5.4000000e+06, 5.5000000e+06, 5.5044200e+06,\n",
       "       5.5135140e+06, 5.5194000e+06, 5.5623600e+06, 5.6454000e+06,\n",
       "       5.7250000e+06, 5.8812600e+06, 5.8812600e+06, 6.0000000e+06,\n",
       "       6.0000000e+06, 6.0000000e+06, 6.0000000e+06, 6.0000000e+06,\n",
       "       6.0000000e+06, 6.0211750e+06, 6.0211750e+06, 6.1002660e+06,\n",
       "       6.1688400e+06, 6.2168400e+06, 6.2613950e+06, 6.2700000e+06,\n",
       "       6.2865600e+06, 6.3000000e+06, 6.3060600e+06, 6.3525310e+06,\n",
       "       6.6553250e+06, 6.6666670e+06, 6.7823920e+06, 6.7961170e+06,\n",
       "       7.0000000e+06, 7.0000000e+06, 7.0000000e+06, 7.0000000e+06,\n",
       "       7.0262400e+06, 7.2500000e+06, 7.3000000e+06, 7.3190350e+06,\n",
       "       7.4209120e+06, 7.4209120e+06, 7.4649120e+06, 7.5743220e+06,\n",
       "       7.5793660e+06, 7.5900350e+06, 7.6300000e+06, 7.6923080e+06,\n",
       "       7.8435000e+06, 7.9365090e+06, 8.0000000e+06, 8.0000000e+06,\n",
       "       8.0000000e+06, 8.3930000e+06, 8.4060000e+06, 8.4450240e+06,\n",
       "       8.5333330e+06, 8.8089890e+06, 9.0000000e+06, 9.0031250e+06,\n",
       "       9.1250000e+06, 9.2592590e+06, 9.4706140e+06, 9.5050000e+06,\n",
       "       9.6075000e+06, 9.7698210e+06, 9.8214290e+06, 9.9044950e+06,\n",
       "       1.0000000e+07, 1.0000000e+07, 1.0000000e+07, 1.0162922e+07,\n",
       "       1.0337079e+07, 1.0497319e+07, 1.0500000e+07, 1.0500000e+07,\n",
       "       1.0500000e+07, 1.0595505e+07, 1.0607169e+07, 1.0714286e+07,\n",
       "       1.0845506e+07, 1.0942762e+07, 1.1000000e+07, 1.1000000e+07,\n",
       "       1.1422536e+07, 1.1562500e+07, 1.1600000e+07, 1.1747890e+07,\n",
       "       1.1825000e+07, 1.2000000e+07, 1.2000000e+07, 1.2000000e+07,\n",
       "       1.2016854e+07, 1.2236535e+07, 1.2250000e+07, 1.2307692e+07,\n",
       "       1.2500000e+07, 1.2500000e+07, 1.2584270e+07, 1.2782609e+07,\n",
       "       1.2921348e+07, 1.2943020e+07, 1.3000000e+07, 1.3000000e+07,\n",
       "       1.3168750e+07, 1.3618750e+07, 1.3760000e+07, 1.3788500e+07,\n",
       "       1.3954000e+07, 1.4000000e+07, 1.4041096e+07, 1.4100000e+07,\n",
       "       1.4112360e+07, 1.4136364e+07, 1.4275000e+07, 1.4500000e+07,\n",
       "       1.4796348e+07, 1.4800000e+07, 1.4814815e+07, 1.5280000e+07,\n",
       "       1.5453126e+07, 1.5460675e+07, 1.5500000e+07, 1.5550000e+07,\n",
       "       1.6000000e+07, 1.6000000e+07, 1.6000000e+07, 1.6400000e+07,\n",
       "       1.6400000e+07, 1.6500000e+07, 1.6661641e+07, 1.6698103e+07,\n",
       "       1.6910113e+07, 1.7000000e+07, 1.7000000e+07, 1.7000450e+07,\n",
       "       1.7131148e+07, 1.7190000e+07, 1.7745894e+07, 1.7765000e+07,\n",
       "       1.7826150e+07, 1.7884176e+07, 1.7884176e+07, 1.8063850e+07,\n",
       "       1.8063850e+07, 1.8868625e+07, 1.8868625e+07, 1.9000000e+07,\n",
       "       1.9301070e+07, 1.9332500e+07, 1.9508958e+07, 1.9578455e+07,\n",
       "       2.0000000e+07, 2.0061729e+07, 2.0559599e+07, 2.0566802e+07,\n",
       "       2.1000000e+07, 2.1461010e+07, 2.1974719e+07, 2.2434783e+07,\n",
       "       2.2471910e+07, 2.2471910e+07, 2.2642350e+07, 2.2642350e+07,\n",
       "       2.2642350e+07, 2.2642350e+07, 2.3000000e+07, 2.3112004e+07,\n",
       "       2.3112004e+07, 2.3500000e+07, 2.3775506e+07, 2.3775506e+07,\n",
       "       2.3775506e+07, 2.3775506e+07, 2.3962573e+07, 2.4599495e+07,\n",
       "       2.4773250e+07, 2.5000000e+07, 2.5289390e+07, 2.5686667e+07,\n",
       "       2.6153057e+07, 2.6243760e+07, 2.7734405e+07, 2.7739975e+07,\n",
       "       2.8299399e+07, 2.8530608e+07, 2.8530608e+07, 2.8703704e+07,\n",
       "       2.9512900e+07, 2.9727900e+07, 3.1269231e+07, 3.3285709e+07,\n",
       "       3.4682550e+07])"
      ]
     },
     "execution_count": 72,
     "metadata": {
      "tags": []
     },
     "output_type": "execute_result"
    }
   ],
   "source": [
    "salaries.sort()\n",
    "salaries"
   ]
  },
  {
   "cell_type": "markdown",
   "metadata": {
    "id": "q21Sw1T-pMYz"
   },
   "source": [
    "The first element in the array (the smallest when it is sorted) is `salaries[0]`. Note that in Python, arrays start counting with zero. The second element in the array is `salaries[1]` and the tenth element is `salaries[9]`."
   ]
  },
  {
   "cell_type": "code",
   "execution_count": 73,
   "metadata": {
    "colab": {
     "base_uri": "https://localhost:8080/"
    },
    "executionInfo": {
     "elapsed": 146,
     "status": "ok",
     "timestamp": 1626118285115,
     "user": {
      "displayName": "Leslie Kerby",
      "photoUrl": "https://lh3.googleusercontent.com/a-/AOh14GjN8SnHoanmo435DxiVf-rB_w00WFdyFzUqH3TuM30=s64",
      "userId": "13736524897897077884"
     },
     "user_tz": 360
    },
    "id": "zAXfo2Q9pMY0",
    "outputId": "30d27fa2-105a-4266-c247-fa307951b4e3"
   },
   "outputs": [
    {
     "data": {
      "text/plain": [
       "17224.0"
      ]
     },
     "execution_count": 73,
     "metadata": {
      "tags": []
     },
     "output_type": "execute_result"
    }
   ],
   "source": [
    "salaries[0]"
   ]
  },
  {
   "cell_type": "code",
   "execution_count": 74,
   "metadata": {
    "colab": {
     "base_uri": "https://localhost:8080/"
    },
    "executionInfo": {
     "elapsed": 150,
     "status": "ok",
     "timestamp": 1626118299531,
     "user": {
      "displayName": "Leslie Kerby",
      "photoUrl": "https://lh3.googleusercontent.com/a-/AOh14GjN8SnHoanmo435DxiVf-rB_w00WFdyFzUqH3TuM30=s64",
      "userId": "13736524897897077884"
     },
     "user_tz": 360
    },
    "id": "geahn8rc2x2W",
    "outputId": "b39b2bff-82fd-460e-8d92-9ae7f6fb7642"
   },
   "outputs": [
    {
     "data": {
      "text/plain": [
       "573"
      ]
     },
     "execution_count": 74,
     "metadata": {
      "tags": []
     },
     "output_type": "execute_result"
    }
   ],
   "source": [
    "len(salaries)"
   ]
  },
  {
   "cell_type": "markdown",
   "metadata": {
    "id": "5jDegO6ipMY4"
   },
   "source": [
    "The last element in the array is `salaries[572]`."
   ]
  },
  {
   "cell_type": "code",
   "execution_count": 75,
   "metadata": {
    "colab": {
     "base_uri": "https://localhost:8080/"
    },
    "executionInfo": {
     "elapsed": 153,
     "status": "ok",
     "timestamp": 1626118327015,
     "user": {
      "displayName": "Leslie Kerby",
      "photoUrl": "https://lh3.googleusercontent.com/a-/AOh14GjN8SnHoanmo435DxiVf-rB_w00WFdyFzUqH3TuM30=s64",
      "userId": "13736524897897077884"
     },
     "user_tz": 360
    },
    "id": "BiJHMyZrpMY5",
    "outputId": "a472f009-3dd4-462a-c48e-688b32b9c1b3"
   },
   "outputs": [
    {
     "data": {
      "text/plain": [
       "34682550.0"
      ]
     },
     "execution_count": 75,
     "metadata": {
      "tags": []
     },
     "output_type": "execute_result"
    }
   ],
   "source": [
    "salaries[572]"
   ]
  },
  {
   "cell_type": "code",
   "execution_count": 76,
   "metadata": {
    "colab": {
     "base_uri": "https://localhost:8080/",
     "height": 166
    },
    "executionInfo": {
     "elapsed": 160,
     "status": "error",
     "timestamp": 1626118341440,
     "user": {
      "displayName": "Leslie Kerby",
      "photoUrl": "https://lh3.googleusercontent.com/a-/AOh14GjN8SnHoanmo435DxiVf-rB_w00WFdyFzUqH3TuM30=s64",
      "userId": "13736524897897077884"
     },
     "user_tz": 360
    },
    "id": "REkeylLKNJaR",
    "outputId": "baf40140-d89b-4cf7-b7a9-53bff323bf67"
   },
   "outputs": [
    {
     "ename": "IndexError",
     "evalue": "ignored",
     "output_type": "error",
     "traceback": [
      "\u001b[0;31m---------------------------------------------------------------------------\u001b[0m",
      "\u001b[0;31mIndexError\u001b[0m                                Traceback (most recent call last)",
      "\u001b[0;32m<ipython-input-76-83ad827d5c1d>\u001b[0m in \u001b[0;36m<module>\u001b[0;34m()\u001b[0m\n\u001b[0;32m----> 1\u001b[0;31m \u001b[0msalaries\u001b[0m\u001b[0;34m[\u001b[0m\u001b[0;36m573\u001b[0m\u001b[0;34m]\u001b[0m\u001b[0;34m\u001b[0m\u001b[0;34m\u001b[0m\u001b[0m\n\u001b[0m",
      "\u001b[0;31mIndexError\u001b[0m: index 573 is out of bounds for axis 0 with size 573"
     ]
    }
   ],
   "source": [
    "salaries[573]"
   ]
  },
  {
   "cell_type": "markdown",
   "metadata": {
    "id": "ifJneSAMpMZA"
   },
   "source": [
    "We can also access the last element by using `salaries[-1]`. In Python you use a negative sign to indicate that you are counting backwards from the end of the array. So `salaries[-2]` would be the second-to-last element in the array."
   ]
  },
  {
   "cell_type": "code",
   "execution_count": 77,
   "metadata": {
    "colab": {
     "base_uri": "https://localhost:8080/"
    },
    "executionInfo": {
     "elapsed": 138,
     "status": "ok",
     "timestamp": 1626118382893,
     "user": {
      "displayName": "Leslie Kerby",
      "photoUrl": "https://lh3.googleusercontent.com/a-/AOh14GjN8SnHoanmo435DxiVf-rB_w00WFdyFzUqH3TuM30=s64",
      "userId": "13736524897897077884"
     },
     "user_tz": 360
    },
    "id": "M2H8Xcn6pMZB",
    "outputId": "c612b1fc-a33b-4a15-8789-6e382f495711"
   },
   "outputs": [
    {
     "data": {
      "text/plain": [
       "34682550.0"
      ]
     },
     "execution_count": 77,
     "metadata": {
      "tags": []
     },
     "output_type": "execute_result"
    }
   ],
   "source": [
    "salaries[-1]"
   ]
  },
  {
   "cell_type": "markdown",
   "metadata": {
    "id": "xboyl2VkpMZE"
   },
   "source": [
    "If we try to access `salaries[573]` we get an error."
   ]
  },
  {
   "cell_type": "code",
   "execution_count": null,
   "metadata": {
    "id": "cUO7SaCBpMZF"
   },
   "outputs": [],
   "source": [
    "salaries[573]"
   ]
  },
  {
   "cell_type": "markdown",
   "metadata": {
    "id": "a0-8A0szpMZI"
   },
   "source": [
    "To select the first ten elements we take a 'slice' of the array using `:`."
   ]
  },
  {
   "cell_type": "code",
   "execution_count": 78,
   "metadata": {
    "colab": {
     "base_uri": "https://localhost:8080/"
    },
    "executionInfo": {
     "elapsed": 164,
     "status": "ok",
     "timestamp": 1626118406159,
     "user": {
      "displayName": "Leslie Kerby",
      "photoUrl": "https://lh3.googleusercontent.com/a-/AOh14GjN8SnHoanmo435DxiVf-rB_w00WFdyFzUqH3TuM30=s64",
      "userId": "13736524897897077884"
     },
     "user_tz": 360
    },
    "id": "K1qqUl70pMZL",
    "outputId": "08d4e7bc-375d-4bdc-c47a-3f0a0bdad190"
   },
   "outputs": [
    {
     "data": {
      "text/plain": [
       "array([17224., 22248., 25000., 25000., 25000., 25000., 26773., 46080.,\n",
       "       46080., 46080.])"
      ]
     },
     "execution_count": 78,
     "metadata": {
      "tags": []
     },
     "output_type": "execute_result"
    }
   ],
   "source": [
    "salaries[0:10]"
   ]
  },
  {
   "cell_type": "code",
   "execution_count": 80,
   "metadata": {
    "colab": {
     "base_uri": "https://localhost:8080/"
    },
    "executionInfo": {
     "elapsed": 135,
     "status": "ok",
     "timestamp": 1626118467264,
     "user": {
      "displayName": "Leslie Kerby",
      "photoUrl": "https://lh3.googleusercontent.com/a-/AOh14GjN8SnHoanmo435DxiVf-rB_w00WFdyFzUqH3TuM30=s64",
      "userId": "13736524897897077884"
     },
     "user_tz": 360
    },
    "id": "q-nU2Em9NkQs",
    "outputId": "a26e1ce3-27e6-4385-b25b-9b36f7c461dc"
   },
   "outputs": [
    {
     "data": {
      "text/plain": [
       "array([23775506., 23775506., 23775506., 23775506., 23962573., 24599495.,\n",
       "       24773250., 25000000., 25289390., 25686667., 26153057., 26243760.,\n",
       "       27734405., 27739975., 28299399., 28530608., 28530608., 28703704.,\n",
       "       29512900., 29727900., 31269231., 33285709., 34682550.])"
      ]
     },
     "execution_count": 80,
     "metadata": {
      "tags": []
     },
     "output_type": "execute_result"
    }
   ],
   "source": [
    "salaries[550:]"
   ]
  },
  {
   "cell_type": "markdown",
   "metadata": {
    "id": "3Tue2fmBpMZO"
   },
   "source": [
    "We can also slice the last ten elements."
   ]
  },
  {
   "cell_type": "code",
   "execution_count": 81,
   "metadata": {
    "colab": {
     "base_uri": "https://localhost:8080/"
    },
    "executionInfo": {
     "elapsed": 137,
     "status": "ok",
     "timestamp": 1626118493810,
     "user": {
      "displayName": "Leslie Kerby",
      "photoUrl": "https://lh3.googleusercontent.com/a-/AOh14GjN8SnHoanmo435DxiVf-rB_w00WFdyFzUqH3TuM30=s64",
      "userId": "13736524897897077884"
     },
     "user_tz": 360
    },
    "id": "Ss1jXNPkpMZP",
    "outputId": "90064c76-7475-4b80-81e4-78d21ab62031"
   },
   "outputs": [
    {
     "data": {
      "text/plain": [
       "array([27739975., 28299399., 28530608., 28530608., 28703704., 29512900.,\n",
       "       29727900., 31269231., 33285709., 34682550.])"
      ]
     },
     "execution_count": 81,
     "metadata": {
      "tags": []
     },
     "output_type": "execute_result"
    }
   ],
   "source": [
    "salaries[-10:]  # Why didn't I do salaries[-10:-1]?"
   ]
  },
  {
   "cell_type": "code",
   "execution_count": 84,
   "metadata": {
    "colab": {
     "base_uri": "https://localhost:8080/"
    },
    "executionInfo": {
     "elapsed": 124,
     "status": "ok",
     "timestamp": 1626118561440,
     "user": {
      "displayName": "Leslie Kerby",
      "photoUrl": "https://lh3.googleusercontent.com/a-/AOh14GjN8SnHoanmo435DxiVf-rB_w00WFdyFzUqH3TuM30=s64",
      "userId": "13736524897897077884"
     },
     "user_tz": 360
    },
    "id": "DP0XXdUeN0Hq",
    "outputId": "89d09deb-74a6-476e-c445-53c3fa7b94aa"
   },
   "outputs": [
    {
     "data": {
      "text/plain": [
       "array([27739975., 28299399., 28530608., 28530608., 28703704., 29512900.,\n",
       "       29727900., 31269231., 33285709.])"
      ]
     },
     "execution_count": 84,
     "metadata": {
      "tags": []
     },
     "output_type": "execute_result"
    }
   ],
   "source": [
    "salaries[-10:-1]"
   ]
  },
  {
   "cell_type": "markdown",
   "metadata": {
    "id": "eYdhmuy_pMZU"
   },
   "source": [
    "To slice the 10th thru the 20th elements (inclusive) we use:"
   ]
  },
  {
   "cell_type": "code",
   "execution_count": 85,
   "metadata": {
    "colab": {
     "base_uri": "https://localhost:8080/"
    },
    "executionInfo": {
     "elapsed": 164,
     "status": "ok",
     "timestamp": 1626118596117,
     "user": {
      "displayName": "Leslie Kerby",
      "photoUrl": "https://lh3.googleusercontent.com/a-/AOh14GjN8SnHoanmo435DxiVf-rB_w00WFdyFzUqH3TuM30=s64",
      "userId": "13736524897897077884"
     },
     "user_tz": 360
    },
    "id": "7I_zFn7mpMZV",
    "outputId": "23bfe1b6-a67e-4419-ba60-0709b1f9fbc1"
   },
   "outputs": [
    {
     "data": {
      "text/plain": [
       "array([46080., 46080., 46080., 46080., 46080., 50000., 50000., 50000.,\n",
       "       50000., 50000., 50000.])"
      ]
     },
     "execution_count": 85,
     "metadata": {
      "tags": []
     },
     "output_type": "execute_result"
    }
   ],
   "source": [
    "salaries[9:20]"
   ]
  },
  {
   "cell_type": "markdown",
   "metadata": {
    "id": "iWZSdiKupMZZ"
   },
   "source": [
    "Note that the slice begins at the left value and continues up to but NOT including the right value. So we get elements `salaries[9]` thru `salaries[19]`, or eleven elements."
   ]
  },
  {
   "cell_type": "markdown",
   "metadata": {
    "id": "4d_rvniJKR0v"
   },
   "source": [
    "You may have noticed that this slicing looks very similar to the `start, stop, step` syntax of the `np.arange`. It is just missing the `step`. Well, NumPy recently added that capability as well. (Capability in python lists too, and many other data structures.)"
   ]
  },
  {
   "cell_type": "code",
   "execution_count": 86,
   "metadata": {
    "colab": {
     "base_uri": "https://localhost:8080/"
    },
    "executionInfo": {
     "elapsed": 132,
     "status": "ok",
     "timestamp": 1626118693003,
     "user": {
      "displayName": "Leslie Kerby",
      "photoUrl": "https://lh3.googleusercontent.com/a-/AOh14GjN8SnHoanmo435DxiVf-rB_w00WFdyFzUqH3TuM30=s64",
      "userId": "13736524897897077884"
     },
     "user_tz": 360
    },
    "id": "0nAEEBsZKitC",
    "outputId": "e7b0afec-8d08-49ed-aec1-ef7e82205cd2"
   },
   "outputs": [
    {
     "data": {
      "text/plain": [
       "array([17224., 25000., 25000., 26773., 46080.])"
      ]
     },
     "execution_count": 86,
     "metadata": {
      "tags": []
     },
     "output_type": "execute_result"
    }
   ],
   "source": [
    "salaries[:10:2] # First ten elements skipping every other one"
   ]
  },
  {
   "cell_type": "markdown",
   "metadata": {
    "id": "tETQSZ8aKrc8"
   },
   "source": [
    "You can use this 'step' to reverse your ndarray, using a step of -1."
   ]
  },
  {
   "cell_type": "code",
   "execution_count": 87,
   "metadata": {
    "colab": {
     "base_uri": "https://localhost:8080/"
    },
    "executionInfo": {
     "elapsed": 142,
     "status": "ok",
     "timestamp": 1626118731926,
     "user": {
      "displayName": "Leslie Kerby",
      "photoUrl": "https://lh3.googleusercontent.com/a-/AOh14GjN8SnHoanmo435DxiVf-rB_w00WFdyFzUqH3TuM30=s64",
      "userId": "13736524897897077884"
     },
     "user_tz": 360
    },
    "id": "xQVIiQbXKBHl",
    "outputId": "12f18aac-2741-41bf-8099-cb419aad1c3f"
   },
   "outputs": [
    {
     "data": {
      "text/plain": [
       "array([46080., 46080., 46080., 26773., 25000., 25000., 25000., 25000.,\n",
       "       22248., 17224.])"
      ]
     },
     "execution_count": 87,
     "metadata": {
      "tags": []
     },
     "output_type": "execute_result"
    }
   ],
   "source": [
    "salaries[9::-1] # Why didn't I do salaries[9:0:-1]?"
   ]
  },
  {
   "cell_type": "code",
   "execution_count": 88,
   "metadata": {
    "colab": {
     "base_uri": "https://localhost:8080/"
    },
    "executionInfo": {
     "elapsed": 155,
     "status": "ok",
     "timestamp": 1626118761526,
     "user": {
      "displayName": "Leslie Kerby",
      "photoUrl": "https://lh3.googleusercontent.com/a-/AOh14GjN8SnHoanmo435DxiVf-rB_w00WFdyFzUqH3TuM30=s64",
      "userId": "13736524897897077884"
     },
     "user_tz": 360
    },
    "id": "J2QvRUCaOujO",
    "outputId": "2ed83e01-5a26-4b7f-e61e-df0959b80434"
   },
   "outputs": [
    {
     "data": {
      "text/plain": [
       "array([46080., 46080., 46080., 26773., 25000., 25000., 25000., 25000.,\n",
       "       22248.])"
      ]
     },
     "execution_count": 88,
     "metadata": {
      "tags": []
     },
     "output_type": "execute_result"
    }
   ],
   "source": [
    "salaries[9:0:-1]"
   ]
  },
  {
   "cell_type": "markdown",
   "metadata": {
    "id": "ggtH4azqpMZa"
   },
   "source": [
    "If the array is not sorted it is still easy to find what the max and min values are. <br/> Use `max` to find what the highest salary was."
   ]
  },
  {
   "cell_type": "code",
   "execution_count": 89,
   "metadata": {
    "colab": {
     "base_uri": "https://localhost:8080/"
    },
    "executionInfo": {
     "elapsed": 151,
     "status": "ok",
     "timestamp": 1626118806315,
     "user": {
      "displayName": "Leslie Kerby",
      "photoUrl": "https://lh3.googleusercontent.com/a-/AOh14GjN8SnHoanmo435DxiVf-rB_w00WFdyFzUqH3TuM30=s64",
      "userId": "13736524897897077884"
     },
     "user_tz": 360
    },
    "id": "EDoUHIhHpMZa",
    "outputId": "e0257dae-e4df-4c41-95a9-b2e5b8a33618"
   },
   "outputs": [
    {
     "data": {
      "text/plain": [
       "34682550.0"
      ]
     },
     "execution_count": 89,
     "metadata": {
      "tags": []
     },
     "output_type": "execute_result"
    }
   ],
   "source": [
    "salaries.max()\n",
    "# Note there are two ways to do this: we can use the free function max() or the numpy.ndarray method max(). \n",
    "# Below is what the free function way would look like:\n",
    "# max(salaries)\n",
    "\n",
    "# Also, does anyone know the difference between a numpy method and a numpy.ndarray method? (Show argmax)"
   ]
  },
  {
   "cell_type": "code",
   "execution_count": 91,
   "metadata": {
    "colab": {
     "base_uri": "https://localhost:8080/"
    },
    "executionInfo": {
     "elapsed": 147,
     "status": "ok",
     "timestamp": 1626118838958,
     "user": {
      "displayName": "Leslie Kerby",
      "photoUrl": "https://lh3.googleusercontent.com/a-/AOh14GjN8SnHoanmo435DxiVf-rB_w00WFdyFzUqH3TuM30=s64",
      "userId": "13736524897897077884"
     },
     "user_tz": 360
    },
    "id": "e1nQCn7-PAHk",
    "outputId": "74ae3186-39e9-43b9-b257-04b85970d5c8"
   },
   "outputs": [
    {
     "data": {
      "text/plain": [
       "34682550.0"
      ]
     },
     "execution_count": 91,
     "metadata": {
      "tags": []
     },
     "output_type": "execute_result"
    }
   ],
   "source": [
    "max(salaries)"
   ]
  },
  {
   "cell_type": "markdown",
   "metadata": {
    "id": "EwIGk36JpMZf"
   },
   "source": [
    "Use `min` to find what the lowest salary was."
   ]
  },
  {
   "cell_type": "code",
   "execution_count": 92,
   "metadata": {
    "colab": {
     "base_uri": "https://localhost:8080/"
    },
    "executionInfo": {
     "elapsed": 168,
     "status": "ok",
     "timestamp": 1626119020581,
     "user": {
      "displayName": "Leslie Kerby",
      "photoUrl": "https://lh3.googleusercontent.com/a-/AOh14GjN8SnHoanmo435DxiVf-rB_w00WFdyFzUqH3TuM30=s64",
      "userId": "13736524897897077884"
     },
     "user_tz": 360
    },
    "id": "knunKg2mpMZg",
    "outputId": "65e5df2c-0e6f-4a8b-dd71-b4e7eb89fc3e"
   },
   "outputs": [
    {
     "data": {
      "text/plain": [
       "17224.0"
      ]
     },
     "execution_count": 92,
     "metadata": {
      "tags": []
     },
     "output_type": "execute_result"
    }
   ],
   "source": [
    "salaries.min()"
   ]
  },
  {
   "cell_type": "markdown",
   "metadata": {
    "id": "KQ8ItoQmpMZj"
   },
   "source": [
    "Numpy has some other useful methods. Use `sum` to find the total amount of money paid to NBA players as salary in the 2017-18 season."
   ]
  },
  {
   "cell_type": "code",
   "execution_count": 93,
   "metadata": {
    "colab": {
     "base_uri": "https://localhost:8080/"
    },
    "executionInfo": {
     "elapsed": 179,
     "status": "ok",
     "timestamp": 1626119028257,
     "user": {
      "displayName": "Leslie Kerby",
      "photoUrl": "https://lh3.googleusercontent.com/a-/AOh14GjN8SnHoanmo435DxiVf-rB_w00WFdyFzUqH3TuM30=s64",
      "userId": "13736524897897077884"
     },
     "user_tz": 360
    },
    "id": "hKAYRCA7pMZk",
    "outputId": "ae170911-1d71-4810-8620-f4b10cabb893"
   },
   "outputs": [
    {
     "data": {
      "text/plain": [
       "3357175993.0"
      ]
     },
     "execution_count": 93,
     "metadata": {
      "tags": []
     },
     "output_type": "execute_result"
    }
   ],
   "source": [
    "salaries.sum()"
   ]
  },
  {
   "cell_type": "code",
   "execution_count": 102,
   "metadata": {
    "colab": {
     "base_uri": "https://localhost:8080/"
    },
    "executionInfo": {
     "elapsed": 227,
     "status": "ok",
     "timestamp": 1626119388001,
     "user": {
      "displayName": "Leslie Kerby",
      "photoUrl": "https://lh3.googleusercontent.com/a-/AOh14GjN8SnHoanmo435DxiVf-rB_w00WFdyFzUqH3TuM30=s64",
      "userId": "13736524897897077884"
     },
     "user_tz": 360
    },
    "id": "RE9QCfRSQkSa",
    "outputId": "72673f4c-625e-45f1-ab1e-644633bf0a7c"
   },
   "outputs": [
    {
     "data": {
      "text/plain": [
       "array([1.7224000e+04, 2.2248000e+04, 2.5000000e+04, 2.5000000e+04,\n",
       "       2.5000000e+04, 2.5000000e+04, 2.6773000e+04, 4.6080000e+04,\n",
       "       4.6080000e+04, 4.6080000e+04, 4.6080000e+04, 4.6080000e+04,\n",
       "       4.6080000e+04, 4.6080000e+04, 5.0000000e+04, 5.0000000e+04,\n",
       "       5.0000000e+04, 5.0000000e+04, 5.0000000e+04, 5.0000000e+04,\n",
       "       5.0000000e+04, 5.0000000e+04, 5.0000000e+04, 5.0000000e+04,\n",
       "       5.0000000e+04, 5.0000000e+04, 5.0000000e+04, 5.0000000e+04,\n",
       "       5.0000000e+04, 5.0000000e+04, 5.0000000e+04, 5.0000000e+04,\n",
       "       5.0000000e+04, 5.0000000e+04, 5.0000000e+04, 5.0000000e+04,\n",
       "       5.0000000e+04, 5.0000000e+04, 5.0000000e+04, 5.0000000e+04,\n",
       "       5.3465000e+04, 7.4159000e+04, 7.4159000e+04, 7.4159000e+04,\n",
       "       7.4159000e+04, 8.3129000e+04, 8.3129000e+04, 8.3129000e+04,\n",
       "       8.7552000e+04, 9.2160000e+04, 9.2160000e+04, 9.2160000e+04,\n",
       "       9.2160000e+04, 9.2160000e+04, 9.2160000e+04, 9.2160000e+04,\n",
       "       9.2858000e+04, 1.0000000e+05, 1.0000000e+05, 1.0000000e+05,\n",
       "       1.0000000e+05, 1.0405900e+05, 1.1901000e+05, 1.1960200e+05,\n",
       "       1.4090200e+05, 1.4831800e+05, 1.4831800e+05, 1.6625800e+05,\n",
       "       1.7223800e+05, 1.7223800e+05, 1.7255200e+05, 2.0000000e+05,\n",
       "       2.2247600e+05, 2.3920400e+05, 2.5000000e+05, 2.6312400e+05,\n",
       "       3.0000000e+05, 3.0000000e+05, 3.1576000e+05, 3.3333400e+05,\n",
       "       3.3333400e+05, 4.5205900e+05, 5.0000000e+05, 5.0000000e+05,\n",
       "       5.0000000e+05, 5.0232800e+05, 5.1092100e+05, 5.1722000e+05,\n",
       "       6.5000000e+05, 6.7991900e+05, 7.4816000e+05, 7.4990500e+05,\n",
       "       7.7621700e+05, 7.7866800e+05, 7.8416000e+05, 7.8972500e+05,\n",
       "       8.1561500e+05, 8.1561500e+05, 8.1561500e+05, 8.1561500e+05,\n",
       "       8.1561500e+05, 8.1561500e+05, 8.1561500e+05, 8.1561500e+05,\n",
       "       8.1561500e+05, 8.1561500e+05, 8.1561500e+05, 8.1561500e+05,\n",
       "       8.1561500e+05, 8.1561500e+05, 8.1561500e+05, 8.1561500e+05,\n",
       "       8.1561500e+05, 8.1561500e+05, 8.3000000e+05, 9.4512600e+05,\n",
       "       9.4724800e+05, 9.5000000e+05, 9.5000000e+05, 9.5000000e+05,\n",
       "       1.0000000e+06, 1.0000000e+06, 1.0352000e+06, 1.0500000e+06,\n",
       "       1.0693080e+06, 1.0960800e+06, 1.1000000e+06, 1.1673330e+06,\n",
       "       1.1843850e+06, 1.2918920e+06, 1.3126110e+06, 1.3126110e+06,\n",
       "       1.3126110e+06, 1.3126110e+06, 1.3126110e+06, 1.3126110e+06,\n",
       "       1.3126110e+06, 1.3126110e+06, 1.3126110e+06, 1.3126110e+06,\n",
       "       1.3126110e+06, 1.3126110e+06, 1.3126110e+06, 1.3126110e+06,\n",
       "       1.3126110e+06, 1.3126110e+06, 1.3126110e+06, 1.3126110e+06,\n",
       "       1.3126110e+06, 1.3126110e+06, 1.3126110e+06, 1.3126110e+06,\n",
       "       1.3126110e+06, 1.3126110e+06, 1.3126110e+06, 1.3126110e+06,\n",
       "       1.3126110e+06, 1.3126110e+06, 1.3126110e+06, 1.3126110e+06,\n",
       "       1.3126110e+06, 1.3126110e+06, 1.3126110e+06, 1.3126110e+06,\n",
       "       1.3126110e+06, 1.3126110e+06, 1.3311600e+06, 1.3603050e+06,\n",
       "       1.3866000e+06, 1.3945200e+06, 1.4046000e+06, 1.4149200e+06,\n",
       "       1.4235600e+06, 1.4357500e+06, 1.4659200e+06, 1.4659200e+06,\n",
       "       1.4713820e+06, 1.4713820e+06, 1.4713820e+06, 1.4713820e+06,\n",
       "       1.4713820e+06, 1.4713820e+06, 1.4713820e+06, 1.4713820e+06,\n",
       "       1.4713820e+06, 1.4713820e+06, 1.4713820e+06, 1.4713820e+06,\n",
       "       1.4713820e+06, 1.4713820e+06, 1.4713820e+06, 1.4713820e+06,\n",
       "       1.4713820e+06, 1.4713820e+06, 1.4713820e+06, 1.5000000e+06,\n",
       "       1.5045600e+06, 1.5163200e+06, 1.5243050e+06, 1.5243050e+06,\n",
       "       1.5243050e+06, 1.5243050e+06, 1.5243050e+06, 1.5243050e+06,\n",
       "       1.5243050e+06, 1.5243050e+06, 1.5243050e+06, 1.5243050e+06,\n",
       "       1.5243050e+06, 1.5672000e+06, 1.5772300e+06, 1.5772300e+06,\n",
       "       1.5772300e+06, 1.5772300e+06, 1.5773200e+06, 1.5794400e+06,\n",
       "       1.5794400e+06, 1.6324800e+06, 1.6452000e+06, 1.6452000e+06,\n",
       "       1.6452000e+06, 1.6625000e+06, 1.7006400e+06, 1.7095380e+06,\n",
       "       1.7095380e+06, 1.7095380e+06, 1.7137200e+06, 1.7138400e+06,\n",
       "       1.7393330e+06, 1.7808000e+06, 1.7850000e+06, 1.7946000e+06,\n",
       "       1.8594000e+06, 1.8655470e+06, 1.8744000e+06, 1.8812500e+06,\n",
       "       1.8890400e+06, 1.9133450e+06, 1.9369200e+06, 1.9741590e+06,\n",
       "       1.9885200e+06, 2.0000000e+06, 2.0000000e+06, 2.0283600e+06,\n",
       "       2.0768400e+06, 2.0930400e+06, 2.1000000e+06, 2.1064070e+06,\n",
       "       2.1064700e+06, 2.1169550e+06, 2.1169550e+06, 2.1169550e+06,\n",
       "       2.1169550e+06, 2.1169550e+06, 2.1169550e+06, 2.1169550e+06,\n",
       "       2.1169550e+06, 2.1169550e+06, 2.1335420e+06, 2.1350400e+06,\n",
       "       2.1517040e+06, 2.1839340e+06, 2.1864000e+06, 2.2034400e+06,\n",
       "       2.2454000e+06, 2.2474800e+06, 2.2474800e+06, 2.2628710e+06,\n",
       "       2.3000000e+06, 2.3013600e+06, 2.3193600e+06, 2.3286520e+06,\n",
       "       2.3286520e+06, 2.3286520e+06, 2.3286520e+06, 2.3286520e+06,\n",
       "       2.3286520e+06, 2.3286520e+06, 2.3286520e+06, 2.3286520e+06,\n",
       "       2.3286520e+06, 2.3286520e+06, 2.3286520e+06, 2.3345200e+06,\n",
       "       2.3613600e+06, 2.3655600e+06, 2.3868640e+06, 2.4225600e+06,\n",
       "       2.4225600e+06, 2.4414000e+06, 2.4424550e+06, 2.4512250e+06,\n",
       "       2.4903600e+06, 2.5000000e+06, 2.5000000e+06, 2.5000000e+06,\n",
       "       2.5000000e+06, 2.5500000e+06, 2.5500550e+06, 2.5699200e+06,\n",
       "       2.6212800e+06, 2.6428570e+06, 2.6841600e+06, 2.7000000e+06,\n",
       "       2.7050400e+06, 2.7592800e+06, 2.8256400e+06, 2.8444290e+06,\n",
       "       2.8476000e+06, 2.9044800e+06, 2.9473050e+06, 2.9473050e+06,\n",
       "       3.0000000e+06, 3.0000000e+06, 3.0250350e+06, 3.0284100e+06,\n",
       "       3.0284100e+06, 3.0572400e+06, 3.0738000e+06, 3.0978000e+06,\n",
       "       3.1529310e+06, 3.2000000e+06, 3.2022170e+06, 3.2182800e+06,\n",
       "       3.2900000e+06, 3.2900000e+06, 3.2900000e+06, 3.2900000e+06,\n",
       "       3.2949940e+06, 3.3000000e+06, 3.3323400e+06, 3.3553200e+06,\n",
       "       3.3814800e+06, 3.4085200e+06, 3.4776000e+06, 3.4776000e+06,\n",
       "       3.5011200e+06, 3.5052330e+06, 3.5333330e+06, 3.6754800e+06,\n",
       "       3.7041600e+06, 3.8071460e+06, 3.8216400e+06, 3.8539310e+06,\n",
       "       3.9039000e+06, 3.9499990e+06, 4.0000000e+06, 4.0467600e+06,\n",
       "       4.0783200e+06, 4.0875000e+06, 4.1492420e+06, 4.1800000e+06,\n",
       "       4.1863200e+06, 4.1875990e+06, 4.1875990e+06, 4.3280000e+06,\n",
       "       4.3280000e+06, 4.3280000e+06, 4.4025460e+06, 4.4688000e+06,\n",
       "       4.5036000e+06, 4.5380200e+06, 4.6092000e+06, 4.6153850e+06,\n",
       "       4.6665000e+06, 4.7360500e+06, 4.9564800e+06, 4.9617980e+06,\n",
       "       4.9923850e+06, 4.9951200e+06, 5.0000000e+06, 5.0000000e+06,\n",
       "       5.0000000e+06, 5.0000000e+06, 5.0900400e+06, 5.1797600e+06,\n",
       "       5.1920000e+06, 5.1920000e+06, 5.2000000e+06, 5.2250000e+06,\n",
       "       5.2500000e+06, 5.4000000e+06, 5.5000000e+06, 5.5044200e+06,\n",
       "       5.5135140e+06, 5.5194000e+06, 5.5623600e+06, 5.6454000e+06,\n",
       "       5.7250000e+06, 5.8812600e+06, 5.8812600e+06, 6.0000000e+06,\n",
       "       6.0000000e+06, 6.0000000e+06, 6.0000000e+06, 6.0000000e+06,\n",
       "       6.0000000e+06, 6.0211750e+06, 6.0211750e+06, 6.1002660e+06,\n",
       "       6.1688400e+06, 6.2168400e+06, 6.2613950e+06, 6.2700000e+06,\n",
       "       6.2865600e+06, 6.3000000e+06, 6.3060600e+06, 6.3525310e+06,\n",
       "       6.6553250e+06, 6.6666670e+06, 6.7823920e+06, 6.7961170e+06,\n",
       "       7.0000000e+06, 7.0000000e+06, 7.0000000e+06, 7.0000000e+06,\n",
       "       7.0262400e+06, 7.2500000e+06, 7.3000000e+06, 7.3190350e+06,\n",
       "       7.4209120e+06, 7.4209120e+06, 7.4649120e+06, 7.5743220e+06,\n",
       "       7.5793660e+06, 7.5900350e+06, 7.6300000e+06, 7.6923080e+06,\n",
       "       7.8435000e+06, 7.9365090e+06, 8.0000000e+06, 8.0000000e+06,\n",
       "       8.0000000e+06, 8.3930000e+06, 8.4060000e+06, 8.4450240e+06,\n",
       "       8.5333330e+06, 8.8089890e+06, 9.0000000e+06, 9.0031250e+06,\n",
       "       9.1250000e+06, 9.2592590e+06, 9.4706140e+06, 9.5050000e+06,\n",
       "       9.6075000e+06, 9.7698210e+06, 9.8214290e+06, 9.9044950e+06,\n",
       "       1.0000000e+07, 1.0000000e+07, 1.0000000e+07, 1.0162922e+07,\n",
       "       1.0337079e+07, 1.0497319e+07, 1.0500000e+07, 1.0500000e+07,\n",
       "       1.0500000e+07, 1.0595505e+07, 1.0607169e+07, 1.0714286e+07,\n",
       "       1.0845506e+07, 1.0942762e+07, 1.1000000e+07, 1.1000000e+07,\n",
       "       1.1422536e+07, 1.1562500e+07, 1.1600000e+07, 1.1747890e+07,\n",
       "       1.1825000e+07, 1.2000000e+07, 1.2000000e+07, 1.2000000e+07,\n",
       "       1.2016854e+07, 1.2236535e+07, 1.2250000e+07, 1.2307692e+07,\n",
       "       1.2500000e+07, 1.2500000e+07, 1.2584270e+07, 1.2782609e+07,\n",
       "       1.2921348e+07, 1.2943020e+07, 1.3000000e+07, 1.3000000e+07,\n",
       "       1.3168750e+07, 1.3618750e+07, 1.3760000e+07, 1.3788500e+07,\n",
       "       1.3954000e+07, 1.4000000e+07, 1.4041096e+07, 1.4100000e+07,\n",
       "       1.4112360e+07, 1.4136364e+07, 1.4275000e+07, 1.4500000e+07,\n",
       "       1.4796348e+07, 1.4800000e+07, 1.4814815e+07, 1.5280000e+07,\n",
       "       1.5453126e+07, 1.5460675e+07, 1.5500000e+07, 1.5550000e+07,\n",
       "       1.6000000e+07, 1.6000000e+07, 1.6000000e+07, 1.6400000e+07,\n",
       "       1.6400000e+07, 1.6500000e+07, 1.6661641e+07, 1.6698103e+07,\n",
       "       1.6910113e+07, 1.7000000e+07, 1.7000000e+07, 1.7000450e+07,\n",
       "       1.7131148e+07, 1.7190000e+07, 1.7745894e+07, 1.7765000e+07,\n",
       "       1.7826150e+07, 1.7884176e+07, 1.7884176e+07, 1.8063850e+07,\n",
       "       1.8063850e+07, 1.8868625e+07, 1.8868625e+07, 1.9000000e+07,\n",
       "       1.9301070e+07, 1.9332500e+07, 1.9508958e+07, 1.9578455e+07,\n",
       "       2.0000000e+07, 2.0061729e+07, 2.0559599e+07, 2.0566802e+07,\n",
       "       2.1000000e+07, 2.1461010e+07, 2.1974719e+07, 2.2434783e+07,\n",
       "       2.2471910e+07, 2.2471910e+07, 2.2642350e+07, 2.2642350e+07,\n",
       "       2.2642350e+07, 2.2642350e+07, 2.3000000e+07, 2.3112004e+07,\n",
       "       2.3112004e+07, 2.3500000e+07, 2.3775506e+07, 2.3775506e+07,\n",
       "       2.3775506e+07, 2.3775506e+07, 2.3962573e+07, 2.4599495e+07,\n",
       "       2.4773250e+07, 2.5000000e+07, 2.5289390e+07, 2.5686667e+07,\n",
       "       2.6153057e+07, 2.6243760e+07, 2.7734405e+07, 2.7739975e+07,\n",
       "       2.8299399e+07, 2.8530608e+07, 2.8530608e+07, 2.8703704e+07,\n",
       "       2.9512900e+07, 2.9727900e+07, 3.1269231e+07, 3.3285709e+07,\n",
       "       3.4682550e+07])"
      ]
     },
     "execution_count": 102,
     "metadata": {
      "tags": []
     },
     "output_type": "execute_result"
    }
   ],
   "source": [
    "# sum top ten salaries\n",
    "# MUST sort array first\n",
    "salaries[-10:].sum()"
   ]
  },
  {
   "cell_type": "markdown",
   "metadata": {
    "id": "Co-Hn7O_pMZm"
   },
   "source": [
    "Use `mean` to find what the average salary was."
   ]
  },
  {
   "cell_type": "code",
   "execution_count": 94,
   "metadata": {
    "colab": {
     "base_uri": "https://localhost:8080/"
    },
    "executionInfo": {
     "elapsed": 164,
     "status": "ok",
     "timestamp": 1626119054578,
     "user": {
      "displayName": "Leslie Kerby",
      "photoUrl": "https://lh3.googleusercontent.com/a-/AOh14GjN8SnHoanmo435DxiVf-rB_w00WFdyFzUqH3TuM30=s64",
      "userId": "13736524897897077884"
     },
     "user_tz": 360
    },
    "id": "w9YufZUKpMZn",
    "outputId": "ad423d11-3710-4fe5-970b-88bb85da6bab"
   },
   "outputs": [
    {
     "data": {
      "text/plain": [
       "5858945.886561954"
      ]
     },
     "execution_count": 94,
     "metadata": {
      "tags": []
     },
     "output_type": "execute_result"
    }
   ],
   "source": [
    "salaries.mean()"
   ]
  },
  {
   "cell_type": "code",
   "execution_count": 95,
   "metadata": {
    "colab": {
     "base_uri": "https://localhost:8080/"
    },
    "executionInfo": {
     "elapsed": 145,
     "status": "ok",
     "timestamp": 1626119080680,
     "user": {
      "displayName": "Leslie Kerby",
      "photoUrl": "https://lh3.googleusercontent.com/a-/AOh14GjN8SnHoanmo435DxiVf-rB_w00WFdyFzUqH3TuM30=s64",
      "userId": "13736524897897077884"
     },
     "user_tz": 360
    },
    "id": "F6XG8veU4GoL",
    "outputId": "05550b52-db4a-48cd-e7ef-697675e5fb12"
   },
   "outputs": [
    {
     "data": {
      "text/plain": [
       "2386864.0"
      ]
     },
     "execution_count": 95,
     "metadata": {
      "tags": []
     },
     "output_type": "execute_result"
    }
   ],
   "source": [
    "np.median(salaries)"
   ]
  },
  {
   "cell_type": "code",
   "execution_count": 96,
   "metadata": {
    "colab": {
     "base_uri": "https://localhost:8080/",
     "height": 166
    },
    "executionInfo": {
     "elapsed": 156,
     "status": "error",
     "timestamp": 1626119092824,
     "user": {
      "displayName": "Leslie Kerby",
      "photoUrl": "https://lh3.googleusercontent.com/a-/AOh14GjN8SnHoanmo435DxiVf-rB_w00WFdyFzUqH3TuM30=s64",
      "userId": "13736524897897077884"
     },
     "user_tz": 360
    },
    "id": "Nr21TsmEQCXU",
    "outputId": "1f39324f-b7b3-4baa-b5af-644328f413b8"
   },
   "outputs": [
    {
     "ename": "AttributeError",
     "evalue": "ignored",
     "output_type": "error",
     "traceback": [
      "\u001b[0;31m---------------------------------------------------------------------------\u001b[0m",
      "\u001b[0;31mAttributeError\u001b[0m                            Traceback (most recent call last)",
      "\u001b[0;32m<ipython-input-96-d0d1f0e8b82e>\u001b[0m in \u001b[0;36m<module>\u001b[0;34m()\u001b[0m\n\u001b[0;32m----> 1\u001b[0;31m \u001b[0msalaries\u001b[0m\u001b[0;34m.\u001b[0m\u001b[0mmedian\u001b[0m\u001b[0;34m(\u001b[0m\u001b[0;34m)\u001b[0m\u001b[0;34m\u001b[0m\u001b[0;34m\u001b[0m\u001b[0m\n\u001b[0m",
      "\u001b[0;31mAttributeError\u001b[0m: 'numpy.ndarray' object has no attribute 'median'"
     ]
    }
   ],
   "source": [
    "salaries.median()"
   ]
  },
  {
   "cell_type": "markdown",
   "metadata": {
    "id": "WQavATIFpMZp"
   },
   "source": [
    "We can easily do arithmetic with arrays."
   ]
  },
  {
   "cell_type": "code",
   "execution_count": 97,
   "metadata": {
    "colab": {
     "base_uri": "https://localhost:8080/"
    },
    "executionInfo": {
     "elapsed": 176,
     "status": "ok",
     "timestamp": 1626119142218,
     "user": {
      "displayName": "Leslie Kerby",
      "photoUrl": "https://lh3.googleusercontent.com/a-/AOh14GjN8SnHoanmo435DxiVf-rB_w00WFdyFzUqH3TuM30=s64",
      "userId": "13736524897897077884"
     },
     "user_tz": 360
    },
    "id": "rQjhaq6vpMZs",
    "outputId": "71445ad6-a6a6-4be8-9991-697c749b1354"
   },
   "outputs": [
    {
     "data": {
      "text/plain": [
       "array([1.7224000e-02, 2.2248000e-02, 2.5000000e-02, 2.5000000e-02,\n",
       "       2.5000000e-02, 2.5000000e-02, 2.6773000e-02, 4.6080000e-02,\n",
       "       4.6080000e-02, 4.6080000e-02, 4.6080000e-02, 4.6080000e-02,\n",
       "       4.6080000e-02, 4.6080000e-02, 5.0000000e-02, 5.0000000e-02,\n",
       "       5.0000000e-02, 5.0000000e-02, 5.0000000e-02, 5.0000000e-02,\n",
       "       5.0000000e-02, 5.0000000e-02, 5.0000000e-02, 5.0000000e-02,\n",
       "       5.0000000e-02, 5.0000000e-02, 5.0000000e-02, 5.0000000e-02,\n",
       "       5.0000000e-02, 5.0000000e-02, 5.0000000e-02, 5.0000000e-02,\n",
       "       5.0000000e-02, 5.0000000e-02, 5.0000000e-02, 5.0000000e-02,\n",
       "       5.0000000e-02, 5.0000000e-02, 5.0000000e-02, 5.0000000e-02,\n",
       "       5.3465000e-02, 7.4159000e-02, 7.4159000e-02, 7.4159000e-02,\n",
       "       7.4159000e-02, 8.3129000e-02, 8.3129000e-02, 8.3129000e-02,\n",
       "       8.7552000e-02, 9.2160000e-02, 9.2160000e-02, 9.2160000e-02,\n",
       "       9.2160000e-02, 9.2160000e-02, 9.2160000e-02, 9.2160000e-02,\n",
       "       9.2858000e-02, 1.0000000e-01, 1.0000000e-01, 1.0000000e-01,\n",
       "       1.0000000e-01, 1.0405900e-01, 1.1901000e-01, 1.1960200e-01,\n",
       "       1.4090200e-01, 1.4831800e-01, 1.4831800e-01, 1.6625800e-01,\n",
       "       1.7223800e-01, 1.7223800e-01, 1.7255200e-01, 2.0000000e-01,\n",
       "       2.2247600e-01, 2.3920400e-01, 2.5000000e-01, 2.6312400e-01,\n",
       "       3.0000000e-01, 3.0000000e-01, 3.1576000e-01, 3.3333400e-01,\n",
       "       3.3333400e-01, 4.5205900e-01, 5.0000000e-01, 5.0000000e-01,\n",
       "       5.0000000e-01, 5.0232800e-01, 5.1092100e-01, 5.1722000e-01,\n",
       "       6.5000000e-01, 6.7991900e-01, 7.4816000e-01, 7.4990500e-01,\n",
       "       7.7621700e-01, 7.7866800e-01, 7.8416000e-01, 7.8972500e-01,\n",
       "       8.1561500e-01, 8.1561500e-01, 8.1561500e-01, 8.1561500e-01,\n",
       "       8.1561500e-01, 8.1561500e-01, 8.1561500e-01, 8.1561500e-01,\n",
       "       8.1561500e-01, 8.1561500e-01, 8.1561500e-01, 8.1561500e-01,\n",
       "       8.1561500e-01, 8.1561500e-01, 8.1561500e-01, 8.1561500e-01,\n",
       "       8.1561500e-01, 8.1561500e-01, 8.3000000e-01, 9.4512600e-01,\n",
       "       9.4724800e-01, 9.5000000e-01, 9.5000000e-01, 9.5000000e-01,\n",
       "       1.0000000e+00, 1.0000000e+00, 1.0352000e+00, 1.0500000e+00,\n",
       "       1.0693080e+00, 1.0960800e+00, 1.1000000e+00, 1.1673330e+00,\n",
       "       1.1843850e+00, 1.2918920e+00, 1.3126110e+00, 1.3126110e+00,\n",
       "       1.3126110e+00, 1.3126110e+00, 1.3126110e+00, 1.3126110e+00,\n",
       "       1.3126110e+00, 1.3126110e+00, 1.3126110e+00, 1.3126110e+00,\n",
       "       1.3126110e+00, 1.3126110e+00, 1.3126110e+00, 1.3126110e+00,\n",
       "       1.3126110e+00, 1.3126110e+00, 1.3126110e+00, 1.3126110e+00,\n",
       "       1.3126110e+00, 1.3126110e+00, 1.3126110e+00, 1.3126110e+00,\n",
       "       1.3126110e+00, 1.3126110e+00, 1.3126110e+00, 1.3126110e+00,\n",
       "       1.3126110e+00, 1.3126110e+00, 1.3126110e+00, 1.3126110e+00,\n",
       "       1.3126110e+00, 1.3126110e+00, 1.3126110e+00, 1.3126110e+00,\n",
       "       1.3126110e+00, 1.3126110e+00, 1.3311600e+00, 1.3603050e+00,\n",
       "       1.3866000e+00, 1.3945200e+00, 1.4046000e+00, 1.4149200e+00,\n",
       "       1.4235600e+00, 1.4357500e+00, 1.4659200e+00, 1.4659200e+00,\n",
       "       1.4713820e+00, 1.4713820e+00, 1.4713820e+00, 1.4713820e+00,\n",
       "       1.4713820e+00, 1.4713820e+00, 1.4713820e+00, 1.4713820e+00,\n",
       "       1.4713820e+00, 1.4713820e+00, 1.4713820e+00, 1.4713820e+00,\n",
       "       1.4713820e+00, 1.4713820e+00, 1.4713820e+00, 1.4713820e+00,\n",
       "       1.4713820e+00, 1.4713820e+00, 1.4713820e+00, 1.5000000e+00,\n",
       "       1.5045600e+00, 1.5163200e+00, 1.5243050e+00, 1.5243050e+00,\n",
       "       1.5243050e+00, 1.5243050e+00, 1.5243050e+00, 1.5243050e+00,\n",
       "       1.5243050e+00, 1.5243050e+00, 1.5243050e+00, 1.5243050e+00,\n",
       "       1.5243050e+00, 1.5672000e+00, 1.5772300e+00, 1.5772300e+00,\n",
       "       1.5772300e+00, 1.5772300e+00, 1.5773200e+00, 1.5794400e+00,\n",
       "       1.5794400e+00, 1.6324800e+00, 1.6452000e+00, 1.6452000e+00,\n",
       "       1.6452000e+00, 1.6625000e+00, 1.7006400e+00, 1.7095380e+00,\n",
       "       1.7095380e+00, 1.7095380e+00, 1.7137200e+00, 1.7138400e+00,\n",
       "       1.7393330e+00, 1.7808000e+00, 1.7850000e+00, 1.7946000e+00,\n",
       "       1.8594000e+00, 1.8655470e+00, 1.8744000e+00, 1.8812500e+00,\n",
       "       1.8890400e+00, 1.9133450e+00, 1.9369200e+00, 1.9741590e+00,\n",
       "       1.9885200e+00, 2.0000000e+00, 2.0000000e+00, 2.0283600e+00,\n",
       "       2.0768400e+00, 2.0930400e+00, 2.1000000e+00, 2.1064070e+00,\n",
       "       2.1064700e+00, 2.1169550e+00, 2.1169550e+00, 2.1169550e+00,\n",
       "       2.1169550e+00, 2.1169550e+00, 2.1169550e+00, 2.1169550e+00,\n",
       "       2.1169550e+00, 2.1169550e+00, 2.1335420e+00, 2.1350400e+00,\n",
       "       2.1517040e+00, 2.1839340e+00, 2.1864000e+00, 2.2034400e+00,\n",
       "       2.2454000e+00, 2.2474800e+00, 2.2474800e+00, 2.2628710e+00,\n",
       "       2.3000000e+00, 2.3013600e+00, 2.3193600e+00, 2.3286520e+00,\n",
       "       2.3286520e+00, 2.3286520e+00, 2.3286520e+00, 2.3286520e+00,\n",
       "       2.3286520e+00, 2.3286520e+00, 2.3286520e+00, 2.3286520e+00,\n",
       "       2.3286520e+00, 2.3286520e+00, 2.3286520e+00, 2.3345200e+00,\n",
       "       2.3613600e+00, 2.3655600e+00, 2.3868640e+00, 2.4225600e+00,\n",
       "       2.4225600e+00, 2.4414000e+00, 2.4424550e+00, 2.4512250e+00,\n",
       "       2.4903600e+00, 2.5000000e+00, 2.5000000e+00, 2.5000000e+00,\n",
       "       2.5000000e+00, 2.5500000e+00, 2.5500550e+00, 2.5699200e+00,\n",
       "       2.6212800e+00, 2.6428570e+00, 2.6841600e+00, 2.7000000e+00,\n",
       "       2.7050400e+00, 2.7592800e+00, 2.8256400e+00, 2.8444290e+00,\n",
       "       2.8476000e+00, 2.9044800e+00, 2.9473050e+00, 2.9473050e+00,\n",
       "       3.0000000e+00, 3.0000000e+00, 3.0250350e+00, 3.0284100e+00,\n",
       "       3.0284100e+00, 3.0572400e+00, 3.0738000e+00, 3.0978000e+00,\n",
       "       3.1529310e+00, 3.2000000e+00, 3.2022170e+00, 3.2182800e+00,\n",
       "       3.2900000e+00, 3.2900000e+00, 3.2900000e+00, 3.2900000e+00,\n",
       "       3.2949940e+00, 3.3000000e+00, 3.3323400e+00, 3.3553200e+00,\n",
       "       3.3814800e+00, 3.4085200e+00, 3.4776000e+00, 3.4776000e+00,\n",
       "       3.5011200e+00, 3.5052330e+00, 3.5333330e+00, 3.6754800e+00,\n",
       "       3.7041600e+00, 3.8071460e+00, 3.8216400e+00, 3.8539310e+00,\n",
       "       3.9039000e+00, 3.9499990e+00, 4.0000000e+00, 4.0467600e+00,\n",
       "       4.0783200e+00, 4.0875000e+00, 4.1492420e+00, 4.1800000e+00,\n",
       "       4.1863200e+00, 4.1875990e+00, 4.1875990e+00, 4.3280000e+00,\n",
       "       4.3280000e+00, 4.3280000e+00, 4.4025460e+00, 4.4688000e+00,\n",
       "       4.5036000e+00, 4.5380200e+00, 4.6092000e+00, 4.6153850e+00,\n",
       "       4.6665000e+00, 4.7360500e+00, 4.9564800e+00, 4.9617980e+00,\n",
       "       4.9923850e+00, 4.9951200e+00, 5.0000000e+00, 5.0000000e+00,\n",
       "       5.0000000e+00, 5.0000000e+00, 5.0900400e+00, 5.1797600e+00,\n",
       "       5.1920000e+00, 5.1920000e+00, 5.2000000e+00, 5.2250000e+00,\n",
       "       5.2500000e+00, 5.4000000e+00, 5.5000000e+00, 5.5044200e+00,\n",
       "       5.5135140e+00, 5.5194000e+00, 5.5623600e+00, 5.6454000e+00,\n",
       "       5.7250000e+00, 5.8812600e+00, 5.8812600e+00, 6.0000000e+00,\n",
       "       6.0000000e+00, 6.0000000e+00, 6.0000000e+00, 6.0000000e+00,\n",
       "       6.0000000e+00, 6.0211750e+00, 6.0211750e+00, 6.1002660e+00,\n",
       "       6.1688400e+00, 6.2168400e+00, 6.2613950e+00, 6.2700000e+00,\n",
       "       6.2865600e+00, 6.3000000e+00, 6.3060600e+00, 6.3525310e+00,\n",
       "       6.6553250e+00, 6.6666670e+00, 6.7823920e+00, 6.7961170e+00,\n",
       "       7.0000000e+00, 7.0000000e+00, 7.0000000e+00, 7.0000000e+00,\n",
       "       7.0262400e+00, 7.2500000e+00, 7.3000000e+00, 7.3190350e+00,\n",
       "       7.4209120e+00, 7.4209120e+00, 7.4649120e+00, 7.5743220e+00,\n",
       "       7.5793660e+00, 7.5900350e+00, 7.6300000e+00, 7.6923080e+00,\n",
       "       7.8435000e+00, 7.9365090e+00, 8.0000000e+00, 8.0000000e+00,\n",
       "       8.0000000e+00, 8.3930000e+00, 8.4060000e+00, 8.4450240e+00,\n",
       "       8.5333330e+00, 8.8089890e+00, 9.0000000e+00, 9.0031250e+00,\n",
       "       9.1250000e+00, 9.2592590e+00, 9.4706140e+00, 9.5050000e+00,\n",
       "       9.6075000e+00, 9.7698210e+00, 9.8214290e+00, 9.9044950e+00,\n",
       "       1.0000000e+01, 1.0000000e+01, 1.0000000e+01, 1.0162922e+01,\n",
       "       1.0337079e+01, 1.0497319e+01, 1.0500000e+01, 1.0500000e+01,\n",
       "       1.0500000e+01, 1.0595505e+01, 1.0607169e+01, 1.0714286e+01,\n",
       "       1.0845506e+01, 1.0942762e+01, 1.1000000e+01, 1.1000000e+01,\n",
       "       1.1422536e+01, 1.1562500e+01, 1.1600000e+01, 1.1747890e+01,\n",
       "       1.1825000e+01, 1.2000000e+01, 1.2000000e+01, 1.2000000e+01,\n",
       "       1.2016854e+01, 1.2236535e+01, 1.2250000e+01, 1.2307692e+01,\n",
       "       1.2500000e+01, 1.2500000e+01, 1.2584270e+01, 1.2782609e+01,\n",
       "       1.2921348e+01, 1.2943020e+01, 1.3000000e+01, 1.3000000e+01,\n",
       "       1.3168750e+01, 1.3618750e+01, 1.3760000e+01, 1.3788500e+01,\n",
       "       1.3954000e+01, 1.4000000e+01, 1.4041096e+01, 1.4100000e+01,\n",
       "       1.4112360e+01, 1.4136364e+01, 1.4275000e+01, 1.4500000e+01,\n",
       "       1.4796348e+01, 1.4800000e+01, 1.4814815e+01, 1.5280000e+01,\n",
       "       1.5453126e+01, 1.5460675e+01, 1.5500000e+01, 1.5550000e+01,\n",
       "       1.6000000e+01, 1.6000000e+01, 1.6000000e+01, 1.6400000e+01,\n",
       "       1.6400000e+01, 1.6500000e+01, 1.6661641e+01, 1.6698103e+01,\n",
       "       1.6910113e+01, 1.7000000e+01, 1.7000000e+01, 1.7000450e+01,\n",
       "       1.7131148e+01, 1.7190000e+01, 1.7745894e+01, 1.7765000e+01,\n",
       "       1.7826150e+01, 1.7884176e+01, 1.7884176e+01, 1.8063850e+01,\n",
       "       1.8063850e+01, 1.8868625e+01, 1.8868625e+01, 1.9000000e+01,\n",
       "       1.9301070e+01, 1.9332500e+01, 1.9508958e+01, 1.9578455e+01,\n",
       "       2.0000000e+01, 2.0061729e+01, 2.0559599e+01, 2.0566802e+01,\n",
       "       2.1000000e+01, 2.1461010e+01, 2.1974719e+01, 2.2434783e+01,\n",
       "       2.2471910e+01, 2.2471910e+01, 2.2642350e+01, 2.2642350e+01,\n",
       "       2.2642350e+01, 2.2642350e+01, 2.3000000e+01, 2.3112004e+01,\n",
       "       2.3112004e+01, 2.3500000e+01, 2.3775506e+01, 2.3775506e+01,\n",
       "       2.3775506e+01, 2.3775506e+01, 2.3962573e+01, 2.4599495e+01,\n",
       "       2.4773250e+01, 2.5000000e+01, 2.5289390e+01, 2.5686667e+01,\n",
       "       2.6153057e+01, 2.6243760e+01, 2.7734405e+01, 2.7739975e+01,\n",
       "       2.8299399e+01, 2.8530608e+01, 2.8530608e+01, 2.8703704e+01,\n",
       "       2.9512900e+01, 2.9727900e+01, 3.1269231e+01, 3.3285709e+01,\n",
       "       3.4682550e+01])"
      ]
     },
     "execution_count": 97,
     "metadata": {
      "tags": []
     },
     "output_type": "execute_result"
    }
   ],
   "source": [
    "salaries_in_millions = salaries / 1000000\n",
    "salaries_in_millions"
   ]
  },
  {
   "cell_type": "markdown",
   "metadata": {
    "id": "b1FG1zwApMZv"
   },
   "source": [
    "You can do the same with addition, subtraction, multiplication, and exponentiation (`**`). "
   ]
  },
  {
   "cell_type": "code",
   "execution_count": null,
   "metadata": {
    "id": "7sRyTLCMpMZv"
   },
   "outputs": [],
   "source": []
  },
  {
   "cell_type": "code",
   "execution_count": null,
   "metadata": {
    "id": "1ZUsoovlI-ni"
   },
   "outputs": [],
   "source": []
  },
  {
   "cell_type": "markdown",
   "metadata": {
    "id": "dzIdFuzYpX7d"
   },
   "source": [
    "# Part 2: Pandas, Functions, and Histograms"
   ]
  },
  {
   "cell_type": "markdown",
   "metadata": {
    "id": "3eEIIKvNpX7g"
   },
   "source": [
    "## 2.1. Pandas DataFrames\n",
    "\n",
    "Pandas DataFrames are a prevalent and useful data object. To my knowledge, they first began in `R`, and python borrowed them in `pandas`. DataFrames are essentially a 2D table of data.\n",
    "\n",
    "### 2.1.1. Reading In and Exploring Data in Pandas\n",
    "\n",
    "We read data into a `pandas DataFrame` with the `read_csv` method. We will first look at the full NBA Salary dataset we explored with NumPy in Part 1. The column titles are commonly called `labels` and the row titles are called the `index`."
   ]
  },
  {
   "cell_type": "code",
   "execution_count": 103,
   "metadata": {
    "colab": {
     "base_uri": "https://localhost:8080/",
     "height": 422
    },
    "executionInfo": {
     "elapsed": 186,
     "status": "ok",
     "timestamp": 1626120357932,
     "user": {
      "displayName": "Leslie Kerby",
      "photoUrl": "https://lh3.googleusercontent.com/a-/AOh14GjN8SnHoanmo435DxiVf-rB_w00WFdyFzUqH3TuM30=s64",
      "userId": "13736524897897077884"
     },
     "user_tz": 360
    },
    "id": "L5rayfHUpX7j",
    "outputId": "838fb876-2a06-4220-a669-96e964a39396"
   },
   "outputs": [
    {
     "data": {
      "text/html": [
       "<div>\n",
       "<style scoped>\n",
       "    .dataframe tbody tr th:only-of-type {\n",
       "        vertical-align: middle;\n",
       "    }\n",
       "\n",
       "    .dataframe tbody tr th {\n",
       "        vertical-align: top;\n",
       "    }\n",
       "\n",
       "    .dataframe thead th {\n",
       "        text-align: right;\n",
       "    }\n",
       "</style>\n",
       "<table border=\"1\" class=\"dataframe\">\n",
       "  <thead>\n",
       "    <tr style=\"text-align: right;\">\n",
       "      <th></th>\n",
       "      <th>Unnamed: 0</th>\n",
       "      <th>Player</th>\n",
       "      <th>Tm</th>\n",
       "      <th>season17_18</th>\n",
       "    </tr>\n",
       "  </thead>\n",
       "  <tbody>\n",
       "    <tr>\n",
       "      <th>0</th>\n",
       "      <td>1</td>\n",
       "      <td>Stephen Curry</td>\n",
       "      <td>GSW</td>\n",
       "      <td>34682550.0</td>\n",
       "    </tr>\n",
       "    <tr>\n",
       "      <th>1</th>\n",
       "      <td>2</td>\n",
       "      <td>LeBron James</td>\n",
       "      <td>CLE</td>\n",
       "      <td>33285709.0</td>\n",
       "    </tr>\n",
       "    <tr>\n",
       "      <th>2</th>\n",
       "      <td>3</td>\n",
       "      <td>Paul Millsap</td>\n",
       "      <td>DEN</td>\n",
       "      <td>31269231.0</td>\n",
       "    </tr>\n",
       "    <tr>\n",
       "      <th>3</th>\n",
       "      <td>4</td>\n",
       "      <td>Gordon Hayward</td>\n",
       "      <td>BOS</td>\n",
       "      <td>29727900.0</td>\n",
       "    </tr>\n",
       "    <tr>\n",
       "      <th>4</th>\n",
       "      <td>5</td>\n",
       "      <td>Blake Griffin</td>\n",
       "      <td>DET</td>\n",
       "      <td>29512900.0</td>\n",
       "    </tr>\n",
       "    <tr>\n",
       "      <th>...</th>\n",
       "      <td>...</td>\n",
       "      <td>...</td>\n",
       "      <td>...</td>\n",
       "      <td>...</td>\n",
       "    </tr>\n",
       "    <tr>\n",
       "      <th>568</th>\n",
       "      <td>569</td>\n",
       "      <td>Quinn Cook</td>\n",
       "      <td>NOP</td>\n",
       "      <td>25000.0</td>\n",
       "    </tr>\n",
       "    <tr>\n",
       "      <th>569</th>\n",
       "      <td>570</td>\n",
       "      <td>Chris Johnson</td>\n",
       "      <td>HOU</td>\n",
       "      <td>25000.0</td>\n",
       "    </tr>\n",
       "    <tr>\n",
       "      <th>570</th>\n",
       "      <td>571</td>\n",
       "      <td>Beno Udrih</td>\n",
       "      <td>DET</td>\n",
       "      <td>25000.0</td>\n",
       "    </tr>\n",
       "    <tr>\n",
       "      <th>571</th>\n",
       "      <td>572</td>\n",
       "      <td>Joel Bolomboy</td>\n",
       "      <td>MIL</td>\n",
       "      <td>22248.0</td>\n",
       "    </tr>\n",
       "    <tr>\n",
       "      <th>572</th>\n",
       "      <td>573</td>\n",
       "      <td>Jarell Eddie</td>\n",
       "      <td>CHI</td>\n",
       "      <td>17224.0</td>\n",
       "    </tr>\n",
       "  </tbody>\n",
       "</table>\n",
       "<p>573 rows × 4 columns</p>\n",
       "</div>"
      ],
      "text/plain": [
       "     Unnamed: 0          Player   Tm  season17_18\n",
       "0             1   Stephen Curry  GSW   34682550.0\n",
       "1             2    LeBron James  CLE   33285709.0\n",
       "2             3    Paul Millsap  DEN   31269231.0\n",
       "3             4  Gordon Hayward  BOS   29727900.0\n",
       "4             5   Blake Griffin  DET   29512900.0\n",
       "..          ...             ...  ...          ...\n",
       "568         569      Quinn Cook  NOP      25000.0\n",
       "569         570   Chris Johnson  HOU      25000.0\n",
       "570         571      Beno Udrih  DET      25000.0\n",
       "571         572   Joel Bolomboy  MIL      22248.0\n",
       "572         573    Jarell Eddie  CHI      17224.0\n",
       "\n",
       "[573 rows x 4 columns]"
      ]
     },
     "execution_count": 103,
     "metadata": {
      "tags": []
     },
     "output_type": "execute_result"
    }
   ],
   "source": [
    "import numpy as np\n",
    "import pandas as pd\n",
    "pd.read_csv('https://gitlab.com/CEADS/DrKerby/python/raw/master/NBA_season1718_salary.csv')"
   ]
  },
  {
   "cell_type": "markdown",
   "metadata": {
    "id": "daFdUwOJpX7w"
   },
   "source": [
    "It might be easier if we clean up the dataset a bit by dropping the first column. This is easy to do with the `drop` method. We can string the `drop` method with our initial `read_csv`. The `axis=1` specifies that we are dropping columns (the default, axis=0, is rows). Note that if we drop the column AFTER reading in the data, we would have to add an optional argument `inplace=True` to make the drop permanent."
   ]
  },
  {
   "cell_type": "code",
   "execution_count": 105,
   "metadata": {
    "colab": {
     "base_uri": "https://localhost:8080/",
     "height": 422
    },
    "executionInfo": {
     "elapsed": 380,
     "status": "ok",
     "timestamp": 1626120561935,
     "user": {
      "displayName": "Leslie Kerby",
      "photoUrl": "https://lh3.googleusercontent.com/a-/AOh14GjN8SnHoanmo435DxiVf-rB_w00WFdyFzUqH3TuM30=s64",
      "userId": "13736524897897077884"
     },
     "user_tz": 360
    },
    "id": "hgsCdjt-pX7z",
    "outputId": "509cea70-a6be-4358-be24-b2a8c97ec7d3"
   },
   "outputs": [
    {
     "data": {
      "text/html": [
       "<div>\n",
       "<style scoped>\n",
       "    .dataframe tbody tr th:only-of-type {\n",
       "        vertical-align: middle;\n",
       "    }\n",
       "\n",
       "    .dataframe tbody tr th {\n",
       "        vertical-align: top;\n",
       "    }\n",
       "\n",
       "    .dataframe thead th {\n",
       "        text-align: right;\n",
       "    }\n",
       "</style>\n",
       "<table border=\"1\" class=\"dataframe\">\n",
       "  <thead>\n",
       "    <tr style=\"text-align: right;\">\n",
       "      <th></th>\n",
       "      <th>Player</th>\n",
       "      <th>Tm</th>\n",
       "      <th>season17_18</th>\n",
       "    </tr>\n",
       "  </thead>\n",
       "  <tbody>\n",
       "    <tr>\n",
       "      <th>0</th>\n",
       "      <td>Stephen Curry</td>\n",
       "      <td>GSW</td>\n",
       "      <td>34682550.0</td>\n",
       "    </tr>\n",
       "    <tr>\n",
       "      <th>1</th>\n",
       "      <td>LeBron James</td>\n",
       "      <td>CLE</td>\n",
       "      <td>33285709.0</td>\n",
       "    </tr>\n",
       "    <tr>\n",
       "      <th>2</th>\n",
       "      <td>Paul Millsap</td>\n",
       "      <td>DEN</td>\n",
       "      <td>31269231.0</td>\n",
       "    </tr>\n",
       "    <tr>\n",
       "      <th>3</th>\n",
       "      <td>Gordon Hayward</td>\n",
       "      <td>BOS</td>\n",
       "      <td>29727900.0</td>\n",
       "    </tr>\n",
       "    <tr>\n",
       "      <th>4</th>\n",
       "      <td>Blake Griffin</td>\n",
       "      <td>DET</td>\n",
       "      <td>29512900.0</td>\n",
       "    </tr>\n",
       "    <tr>\n",
       "      <th>...</th>\n",
       "      <td>...</td>\n",
       "      <td>...</td>\n",
       "      <td>...</td>\n",
       "    </tr>\n",
       "    <tr>\n",
       "      <th>568</th>\n",
       "      <td>Quinn Cook</td>\n",
       "      <td>NOP</td>\n",
       "      <td>25000.0</td>\n",
       "    </tr>\n",
       "    <tr>\n",
       "      <th>569</th>\n",
       "      <td>Chris Johnson</td>\n",
       "      <td>HOU</td>\n",
       "      <td>25000.0</td>\n",
       "    </tr>\n",
       "    <tr>\n",
       "      <th>570</th>\n",
       "      <td>Beno Udrih</td>\n",
       "      <td>DET</td>\n",
       "      <td>25000.0</td>\n",
       "    </tr>\n",
       "    <tr>\n",
       "      <th>571</th>\n",
       "      <td>Joel Bolomboy</td>\n",
       "      <td>MIL</td>\n",
       "      <td>22248.0</td>\n",
       "    </tr>\n",
       "    <tr>\n",
       "      <th>572</th>\n",
       "      <td>Jarell Eddie</td>\n",
       "      <td>CHI</td>\n",
       "      <td>17224.0</td>\n",
       "    </tr>\n",
       "  </tbody>\n",
       "</table>\n",
       "<p>573 rows × 3 columns</p>\n",
       "</div>"
      ],
      "text/plain": [
       "             Player   Tm  season17_18\n",
       "0     Stephen Curry  GSW   34682550.0\n",
       "1      LeBron James  CLE   33285709.0\n",
       "2      Paul Millsap  DEN   31269231.0\n",
       "3    Gordon Hayward  BOS   29727900.0\n",
       "4     Blake Griffin  DET   29512900.0\n",
       "..              ...  ...          ...\n",
       "568      Quinn Cook  NOP      25000.0\n",
       "569   Chris Johnson  HOU      25000.0\n",
       "570      Beno Udrih  DET      25000.0\n",
       "571   Joel Bolomboy  MIL      22248.0\n",
       "572    Jarell Eddie  CHI      17224.0\n",
       "\n",
       "[573 rows x 3 columns]"
      ]
     },
     "execution_count": 105,
     "metadata": {
      "tags": []
     },
     "output_type": "execute_result"
    }
   ],
   "source": [
    "salarydf = pd.read_csv('https://gitlab.com/CEADS/DrKerby/python/raw/master/NBA_season1718_salary.csv').drop('Unnamed: 0', axis=1)\n",
    "# salarydf = pd.read_csv('https://gitlab.com/CEADS/DrKerby/python/raw/master/NBA_season1718_salary.csv')\n",
    "# salarydf.drop('Unnamed: 0', axis=1, inplace=True)\n",
    "salarydf"
   ]
  },
  {
   "cell_type": "markdown",
   "metadata": {
    "id": "jIUqUMnipX78"
   },
   "source": [
    "Several useful pandas methods to begin exploring data are `head`, `describe`, and `shape`."
   ]
  },
  {
   "cell_type": "code",
   "execution_count": 109,
   "metadata": {
    "colab": {
     "base_uri": "https://localhost:8080/",
     "height": 205
    },
    "executionInfo": {
     "elapsed": 167,
     "status": "ok",
     "timestamp": 1626120608173,
     "user": {
      "displayName": "Leslie Kerby",
      "photoUrl": "https://lh3.googleusercontent.com/a-/AOh14GjN8SnHoanmo435DxiVf-rB_w00WFdyFzUqH3TuM30=s64",
      "userId": "13736524897897077884"
     },
     "user_tz": 360
    },
    "id": "0YJKp-9epX79",
    "outputId": "205b0a7f-c045-4809-eced-e77038e9f770"
   },
   "outputs": [
    {
     "data": {
      "text/html": [
       "<div>\n",
       "<style scoped>\n",
       "    .dataframe tbody tr th:only-of-type {\n",
       "        vertical-align: middle;\n",
       "    }\n",
       "\n",
       "    .dataframe tbody tr th {\n",
       "        vertical-align: top;\n",
       "    }\n",
       "\n",
       "    .dataframe thead th {\n",
       "        text-align: right;\n",
       "    }\n",
       "</style>\n",
       "<table border=\"1\" class=\"dataframe\">\n",
       "  <thead>\n",
       "    <tr style=\"text-align: right;\">\n",
       "      <th></th>\n",
       "      <th>Player</th>\n",
       "      <th>Tm</th>\n",
       "      <th>season17_18</th>\n",
       "    </tr>\n",
       "  </thead>\n",
       "  <tbody>\n",
       "    <tr>\n",
       "      <th>0</th>\n",
       "      <td>Stephen Curry</td>\n",
       "      <td>GSW</td>\n",
       "      <td>34682550.0</td>\n",
       "    </tr>\n",
       "    <tr>\n",
       "      <th>1</th>\n",
       "      <td>LeBron James</td>\n",
       "      <td>CLE</td>\n",
       "      <td>33285709.0</td>\n",
       "    </tr>\n",
       "    <tr>\n",
       "      <th>2</th>\n",
       "      <td>Paul Millsap</td>\n",
       "      <td>DEN</td>\n",
       "      <td>31269231.0</td>\n",
       "    </tr>\n",
       "    <tr>\n",
       "      <th>3</th>\n",
       "      <td>Gordon Hayward</td>\n",
       "      <td>BOS</td>\n",
       "      <td>29727900.0</td>\n",
       "    </tr>\n",
       "    <tr>\n",
       "      <th>4</th>\n",
       "      <td>Blake Griffin</td>\n",
       "      <td>DET</td>\n",
       "      <td>29512900.0</td>\n",
       "    </tr>\n",
       "  </tbody>\n",
       "</table>\n",
       "</div>"
      ],
      "text/plain": [
       "           Player   Tm  season17_18\n",
       "0   Stephen Curry  GSW   34682550.0\n",
       "1    LeBron James  CLE   33285709.0\n",
       "2    Paul Millsap  DEN   31269231.0\n",
       "3  Gordon Hayward  BOS   29727900.0\n",
       "4   Blake Griffin  DET   29512900.0"
      ]
     },
     "execution_count": 109,
     "metadata": {
      "tags": []
     },
     "output_type": "execute_result"
    }
   ],
   "source": [
    "salarydf.head() # default is 5, can show n by passing it as an argument"
   ]
  },
  {
   "cell_type": "code",
   "execution_count": 110,
   "metadata": {
    "colab": {
     "base_uri": "https://localhost:8080/",
     "height": 299
    },
    "executionInfo": {
     "elapsed": 12,
     "status": "ok",
     "timestamp": 1626120613289,
     "user": {
      "displayName": "Leslie Kerby",
      "photoUrl": "https://lh3.googleusercontent.com/a-/AOh14GjN8SnHoanmo435DxiVf-rB_w00WFdyFzUqH3TuM30=s64",
      "userId": "13736524897897077884"
     },
     "user_tz": 360
    },
    "id": "Bd-lm8LQpX8C",
    "outputId": "5c6d19fd-88ac-40d3-efc2-857f6c9c9580"
   },
   "outputs": [
    {
     "data": {
      "text/html": [
       "<div>\n",
       "<style scoped>\n",
       "    .dataframe tbody tr th:only-of-type {\n",
       "        vertical-align: middle;\n",
       "    }\n",
       "\n",
       "    .dataframe tbody tr th {\n",
       "        vertical-align: top;\n",
       "    }\n",
       "\n",
       "    .dataframe thead th {\n",
       "        text-align: right;\n",
       "    }\n",
       "</style>\n",
       "<table border=\"1\" class=\"dataframe\">\n",
       "  <thead>\n",
       "    <tr style=\"text-align: right;\">\n",
       "      <th></th>\n",
       "      <th>season17_18</th>\n",
       "    </tr>\n",
       "  </thead>\n",
       "  <tbody>\n",
       "    <tr>\n",
       "      <th>count</th>\n",
       "      <td>5.730000e+02</td>\n",
       "    </tr>\n",
       "    <tr>\n",
       "      <th>mean</th>\n",
       "      <td>5.858946e+06</td>\n",
       "    </tr>\n",
       "    <tr>\n",
       "      <th>std</th>\n",
       "      <td>7.162373e+06</td>\n",
       "    </tr>\n",
       "    <tr>\n",
       "      <th>min</th>\n",
       "      <td>1.722400e+04</td>\n",
       "    </tr>\n",
       "    <tr>\n",
       "      <th>25%</th>\n",
       "      <td>1.312611e+06</td>\n",
       "    </tr>\n",
       "    <tr>\n",
       "      <th>50%</th>\n",
       "      <td>2.386864e+06</td>\n",
       "    </tr>\n",
       "    <tr>\n",
       "      <th>75%</th>\n",
       "      <td>7.936509e+06</td>\n",
       "    </tr>\n",
       "    <tr>\n",
       "      <th>max</th>\n",
       "      <td>3.468255e+07</td>\n",
       "    </tr>\n",
       "  </tbody>\n",
       "</table>\n",
       "</div>"
      ],
      "text/plain": [
       "        season17_18\n",
       "count  5.730000e+02\n",
       "mean   5.858946e+06\n",
       "std    7.162373e+06\n",
       "min    1.722400e+04\n",
       "25%    1.312611e+06\n",
       "50%    2.386864e+06\n",
       "75%    7.936509e+06\n",
       "max    3.468255e+07"
      ]
     },
     "execution_count": 110,
     "metadata": {
      "tags": []
     },
     "output_type": "execute_result"
    }
   ],
   "source": [
    "salarydf.describe() # only summarizes numerical columns (if present)"
   ]
  },
  {
   "cell_type": "code",
   "execution_count": 111,
   "metadata": {
    "colab": {
     "base_uri": "https://localhost:8080/",
     "height": 175
    },
    "executionInfo": {
     "elapsed": 157,
     "status": "ok",
     "timestamp": 1626120690483,
     "user": {
      "displayName": "Leslie Kerby",
      "photoUrl": "https://lh3.googleusercontent.com/a-/AOh14GjN8SnHoanmo435DxiVf-rB_w00WFdyFzUqH3TuM30=s64",
      "userId": "13736524897897077884"
     },
     "user_tz": 360
    },
    "id": "E0OTK0HsKcki",
    "outputId": "74a10ea5-95d0-4ce9-9c9c-8fb7687a5087"
   },
   "outputs": [
    {
     "data": {
      "text/html": [
       "<div>\n",
       "<style scoped>\n",
       "    .dataframe tbody tr th:only-of-type {\n",
       "        vertical-align: middle;\n",
       "    }\n",
       "\n",
       "    .dataframe tbody tr th {\n",
       "        vertical-align: top;\n",
       "    }\n",
       "\n",
       "    .dataframe thead th {\n",
       "        text-align: right;\n",
       "    }\n",
       "</style>\n",
       "<table border=\"1\" class=\"dataframe\">\n",
       "  <thead>\n",
       "    <tr style=\"text-align: right;\">\n",
       "      <th></th>\n",
       "      <th>Player</th>\n",
       "      <th>Tm</th>\n",
       "    </tr>\n",
       "  </thead>\n",
       "  <tbody>\n",
       "    <tr>\n",
       "      <th>count</th>\n",
       "      <td>573</td>\n",
       "      <td>573</td>\n",
       "    </tr>\n",
       "    <tr>\n",
       "      <th>unique</th>\n",
       "      <td>535</td>\n",
       "      <td>30</td>\n",
       "    </tr>\n",
       "    <tr>\n",
       "      <th>top</th>\n",
       "      <td>Isaiah Canaan</td>\n",
       "      <td>ATL</td>\n",
       "    </tr>\n",
       "    <tr>\n",
       "      <th>freq</th>\n",
       "      <td>3</td>\n",
       "      <td>27</td>\n",
       "    </tr>\n",
       "  </tbody>\n",
       "</table>\n",
       "</div>"
      ],
      "text/plain": [
       "               Player   Tm\n",
       "count             573  573\n",
       "unique            535   30\n",
       "top     Isaiah Canaan  ATL\n",
       "freq                3   27"
      ]
     },
     "execution_count": 111,
     "metadata": {
      "tags": []
     },
     "output_type": "execute_result"
    }
   ],
   "source": [
    "salarydf.drop('season17_18',axis=1).describe() # with no numerical columns -- and remember drop isn't permanent without the inplace=True argument"
   ]
  },
  {
   "cell_type": "code",
   "execution_count": 114,
   "metadata": {
    "colab": {
     "base_uri": "https://localhost:8080/",
     "height": 175
    },
    "executionInfo": {
     "elapsed": 222,
     "status": "ok",
     "timestamp": 1626120881973,
     "user": {
      "displayName": "Leslie Kerby",
      "photoUrl": "https://lh3.googleusercontent.com/a-/AOh14GjN8SnHoanmo435DxiVf-rB_w00WFdyFzUqH3TuM30=s64",
      "userId": "13736524897897077884"
     },
     "user_tz": 360
    },
    "id": "ISrCbwhBWyGy",
    "outputId": "ed20e3b5-8a09-41cc-cd26-41bf76692840"
   },
   "outputs": [
    {
     "data": {
      "text/html": [
       "<div>\n",
       "<style scoped>\n",
       "    .dataframe tbody tr th:only-of-type {\n",
       "        vertical-align: middle;\n",
       "    }\n",
       "\n",
       "    .dataframe tbody tr th {\n",
       "        vertical-align: top;\n",
       "    }\n",
       "\n",
       "    .dataframe thead th {\n",
       "        text-align: right;\n",
       "    }\n",
       "</style>\n",
       "<table border=\"1\" class=\"dataframe\">\n",
       "  <thead>\n",
       "    <tr style=\"text-align: right;\">\n",
       "      <th></th>\n",
       "      <th>Player</th>\n",
       "      <th>Tm</th>\n",
       "    </tr>\n",
       "  </thead>\n",
       "  <tbody>\n",
       "    <tr>\n",
       "      <th>count</th>\n",
       "      <td>573</td>\n",
       "      <td>573</td>\n",
       "    </tr>\n",
       "    <tr>\n",
       "      <th>unique</th>\n",
       "      <td>535</td>\n",
       "      <td>30</td>\n",
       "    </tr>\n",
       "    <tr>\n",
       "      <th>top</th>\n",
       "      <td>Isaiah Canaan</td>\n",
       "      <td>ATL</td>\n",
       "    </tr>\n",
       "    <tr>\n",
       "      <th>freq</th>\n",
       "      <td>3</td>\n",
       "      <td>27</td>\n",
       "    </tr>\n",
       "  </tbody>\n",
       "</table>\n",
       "</div>"
      ],
      "text/plain": [
       "               Player   Tm\n",
       "count             573  573\n",
       "unique            535   30\n",
       "top     Isaiah Canaan  ATL\n",
       "freq                3   27"
      ]
     },
     "execution_count": 114,
     "metadata": {
      "tags": []
     },
     "output_type": "execute_result"
    }
   ],
   "source": [
    "salarydf[['Player','Tm']].describe()"
   ]
  },
  {
   "cell_type": "code",
   "execution_count": 115,
   "metadata": {
    "colab": {
     "base_uri": "https://localhost:8080/"
    },
    "executionInfo": {
     "elapsed": 256,
     "status": "ok",
     "timestamp": 1626121143058,
     "user": {
      "displayName": "Leslie Kerby",
      "photoUrl": "https://lh3.googleusercontent.com/a-/AOh14GjN8SnHoanmo435DxiVf-rB_w00WFdyFzUqH3TuM30=s64",
      "userId": "13736524897897077884"
     },
     "user_tz": 360
    },
    "id": "RCvYssAgpX8I",
    "outputId": "21f5abfc-01e5-4715-a969-136e7a248284"
   },
   "outputs": [
    {
     "data": {
      "text/plain": [
       "(573, 3)"
      ]
     },
     "execution_count": 115,
     "metadata": {
      "tags": []
     },
     "output_type": "execute_result"
    }
   ],
   "source": [
    "salarydf.shape"
   ]
  },
  {
   "cell_type": "markdown",
   "metadata": {
    "id": "quzsfRBCR57d"
   },
   "source": [
    "`shape` is a DataFrame class `attribute` and therefore has no `()` like a `method` has."
   ]
  },
  {
   "cell_type": "markdown",
   "metadata": {
    "id": "ItFxkNogpX8O"
   },
   "source": [
    "`len` will return the number of rows in the DataFrame. "
   ]
  },
  {
   "cell_type": "code",
   "execution_count": 116,
   "metadata": {
    "colab": {
     "base_uri": "https://localhost:8080/"
    },
    "executionInfo": {
     "elapsed": 157,
     "status": "ok",
     "timestamp": 1626121216726,
     "user": {
      "displayName": "Leslie Kerby",
      "photoUrl": "https://lh3.googleusercontent.com/a-/AOh14GjN8SnHoanmo435DxiVf-rB_w00WFdyFzUqH3TuM30=s64",
      "userId": "13736524897897077884"
     },
     "user_tz": 360
    },
    "id": "bT-aOKSOpX8Q",
    "outputId": "b599ea79-42db-4619-abe4-26c29dc7b79c"
   },
   "outputs": [
    {
     "data": {
      "text/plain": [
       "573"
      ]
     },
     "execution_count": 116,
     "metadata": {
      "tags": []
     },
     "output_type": "execute_result"
    }
   ],
   "source": [
    "len(salarydf)"
   ]
  },
  {
   "cell_type": "markdown",
   "metadata": {
    "id": "KaDy75t7pX8V"
   },
   "source": [
    "Another useful method is `tail`, which displays the last five rows of the DataFrame."
   ]
  },
  {
   "cell_type": "code",
   "execution_count": 119,
   "metadata": {
    "colab": {
     "base_uri": "https://localhost:8080/",
     "height": 205
    },
    "executionInfo": {
     "elapsed": 184,
     "status": "ok",
     "timestamp": 1626121243390,
     "user": {
      "displayName": "Leslie Kerby",
      "photoUrl": "https://lh3.googleusercontent.com/a-/AOh14GjN8SnHoanmo435DxiVf-rB_w00WFdyFzUqH3TuM30=s64",
      "userId": "13736524897897077884"
     },
     "user_tz": 360
    },
    "id": "fZ27XsB9pX8W",
    "outputId": "c7fa53e3-7a3c-4533-ec5f-87210a27c1a6"
   },
   "outputs": [
    {
     "data": {
      "text/html": [
       "<div>\n",
       "<style scoped>\n",
       "    .dataframe tbody tr th:only-of-type {\n",
       "        vertical-align: middle;\n",
       "    }\n",
       "\n",
       "    .dataframe tbody tr th {\n",
       "        vertical-align: top;\n",
       "    }\n",
       "\n",
       "    .dataframe thead th {\n",
       "        text-align: right;\n",
       "    }\n",
       "</style>\n",
       "<table border=\"1\" class=\"dataframe\">\n",
       "  <thead>\n",
       "    <tr style=\"text-align: right;\">\n",
       "      <th></th>\n",
       "      <th>Player</th>\n",
       "      <th>Tm</th>\n",
       "      <th>season17_18</th>\n",
       "    </tr>\n",
       "  </thead>\n",
       "  <tbody>\n",
       "    <tr>\n",
       "      <th>568</th>\n",
       "      <td>Quinn Cook</td>\n",
       "      <td>NOP</td>\n",
       "      <td>25000.0</td>\n",
       "    </tr>\n",
       "    <tr>\n",
       "      <th>569</th>\n",
       "      <td>Chris Johnson</td>\n",
       "      <td>HOU</td>\n",
       "      <td>25000.0</td>\n",
       "    </tr>\n",
       "    <tr>\n",
       "      <th>570</th>\n",
       "      <td>Beno Udrih</td>\n",
       "      <td>DET</td>\n",
       "      <td>25000.0</td>\n",
       "    </tr>\n",
       "    <tr>\n",
       "      <th>571</th>\n",
       "      <td>Joel Bolomboy</td>\n",
       "      <td>MIL</td>\n",
       "      <td>22248.0</td>\n",
       "    </tr>\n",
       "    <tr>\n",
       "      <th>572</th>\n",
       "      <td>Jarell Eddie</td>\n",
       "      <td>CHI</td>\n",
       "      <td>17224.0</td>\n",
       "    </tr>\n",
       "  </tbody>\n",
       "</table>\n",
       "</div>"
      ],
      "text/plain": [
       "            Player   Tm  season17_18\n",
       "568     Quinn Cook  NOP      25000.0\n",
       "569  Chris Johnson  HOU      25000.0\n",
       "570     Beno Udrih  DET      25000.0\n",
       "571  Joel Bolomboy  MIL      22248.0\n",
       "572   Jarell Eddie  CHI      17224.0"
      ]
     },
     "execution_count": 119,
     "metadata": {
      "tags": []
     },
     "output_type": "execute_result"
    }
   ],
   "source": [
    "salarydf.tail()"
   ]
  },
  {
   "cell_type": "markdown",
   "metadata": {
    "id": "AcuderZZpX8b"
   },
   "source": [
    "To show one column of the DataFrame, simply index it by the column label:"
   ]
  },
  {
   "cell_type": "code",
   "execution_count": 120,
   "metadata": {
    "colab": {
     "base_uri": "https://localhost:8080/"
    },
    "executionInfo": {
     "elapsed": 143,
     "status": "ok",
     "timestamp": 1626121248929,
     "user": {
      "displayName": "Leslie Kerby",
      "photoUrl": "https://lh3.googleusercontent.com/a-/AOh14GjN8SnHoanmo435DxiVf-rB_w00WFdyFzUqH3TuM30=s64",
      "userId": "13736524897897077884"
     },
     "user_tz": 360
    },
    "id": "lb3rmS11pX8d",
    "outputId": "08cb5e3f-cef7-4e6d-d6e5-5d0fc1392576"
   },
   "outputs": [
    {
     "data": {
      "text/plain": [
       "0       Stephen Curry\n",
       "1        LeBron James\n",
       "2        Paul Millsap\n",
       "3      Gordon Hayward\n",
       "4       Blake Griffin\n",
       "            ...      \n",
       "568        Quinn Cook\n",
       "569     Chris Johnson\n",
       "570        Beno Udrih\n",
       "571     Joel Bolomboy\n",
       "572      Jarell Eddie\n",
       "Name: Player, Length: 573, dtype: object"
      ]
     },
     "execution_count": 120,
     "metadata": {
      "tags": []
     },
     "output_type": "execute_result"
    }
   ],
   "source": [
    "salarydf['Player']"
   ]
  },
  {
   "cell_type": "markdown",
   "metadata": {
    "id": "1gG7EYtXpX8h"
   },
   "source": [
    "This returns a Pandas `series`."
   ]
  },
  {
   "cell_type": "markdown",
   "metadata": {
    "id": "I7hXjOLgpX8j"
   },
   "source": [
    "To keep several columns of the DataFrame, pass a list of column labels:"
   ]
  },
  {
   "cell_type": "code",
   "execution_count": 121,
   "metadata": {
    "colab": {
     "base_uri": "https://localhost:8080/",
     "height": 205
    },
    "executionInfo": {
     "elapsed": 184,
     "status": "ok",
     "timestamp": 1626121274051,
     "user": {
      "displayName": "Leslie Kerby",
      "photoUrl": "https://lh3.googleusercontent.com/a-/AOh14GjN8SnHoanmo435DxiVf-rB_w00WFdyFzUqH3TuM30=s64",
      "userId": "13736524897897077884"
     },
     "user_tz": 360
    },
    "id": "NyApjme8pX8m",
    "outputId": "0ce06a23-e6f1-47fa-f356-5ef38ad87cf2"
   },
   "outputs": [
    {
     "data": {
      "text/html": [
       "<div>\n",
       "<style scoped>\n",
       "    .dataframe tbody tr th:only-of-type {\n",
       "        vertical-align: middle;\n",
       "    }\n",
       "\n",
       "    .dataframe tbody tr th {\n",
       "        vertical-align: top;\n",
       "    }\n",
       "\n",
       "    .dataframe thead th {\n",
       "        text-align: right;\n",
       "    }\n",
       "</style>\n",
       "<table border=\"1\" class=\"dataframe\">\n",
       "  <thead>\n",
       "    <tr style=\"text-align: right;\">\n",
       "      <th></th>\n",
       "      <th>Player</th>\n",
       "      <th>Tm</th>\n",
       "    </tr>\n",
       "  </thead>\n",
       "  <tbody>\n",
       "    <tr>\n",
       "      <th>0</th>\n",
       "      <td>Stephen Curry</td>\n",
       "      <td>GSW</td>\n",
       "    </tr>\n",
       "    <tr>\n",
       "      <th>1</th>\n",
       "      <td>LeBron James</td>\n",
       "      <td>CLE</td>\n",
       "    </tr>\n",
       "    <tr>\n",
       "      <th>2</th>\n",
       "      <td>Paul Millsap</td>\n",
       "      <td>DEN</td>\n",
       "    </tr>\n",
       "    <tr>\n",
       "      <th>3</th>\n",
       "      <td>Gordon Hayward</td>\n",
       "      <td>BOS</td>\n",
       "    </tr>\n",
       "    <tr>\n",
       "      <th>4</th>\n",
       "      <td>Blake Griffin</td>\n",
       "      <td>DET</td>\n",
       "    </tr>\n",
       "  </tbody>\n",
       "</table>\n",
       "</div>"
      ],
      "text/plain": [
       "           Player   Tm\n",
       "0   Stephen Curry  GSW\n",
       "1    LeBron James  CLE\n",
       "2    Paul Millsap  DEN\n",
       "3  Gordon Hayward  BOS\n",
       "4   Blake Griffin  DET"
      ]
     },
     "execution_count": 121,
     "metadata": {
      "tags": []
     },
     "output_type": "execute_result"
    }
   ],
   "source": [
    "salarydf[['Player','Tm']].head()"
   ]
  },
  {
   "cell_type": "markdown",
   "metadata": {
    "id": "XqpdCXJ6pX8r"
   },
   "source": [
    "Note that doing this only SELECTS from the DataFrame, it does not overwrite the original DataFrame. This is a common feature of DataFrames to reduce unnecessary copying (we encountered it when using the `drop` method previously). If you wish to change the DataFrame, you have to copy it back into itself (or for methods with the keyword, use `inplace=True`)."
   ]
  },
  {
   "cell_type": "code",
   "execution_count": null,
   "metadata": {
    "id": "DwFhlwkupX8u"
   },
   "outputs": [],
   "source": [
    "# salarydf = salarydf[['Player','Tm']]"
   ]
  },
  {
   "cell_type": "code",
   "execution_count": 122,
   "metadata": {
    "colab": {
     "base_uri": "https://localhost:8080/",
     "height": 1000
    },
    "executionInfo": {
     "elapsed": 446,
     "status": "ok",
     "timestamp": 1626121443773,
     "user": {
      "displayName": "Leslie Kerby",
      "photoUrl": "https://lh3.googleusercontent.com/a-/AOh14GjN8SnHoanmo435DxiVf-rB_w00WFdyFzUqH3TuM30=s64",
      "userId": "13736524897897077884"
     },
     "user_tz": 360
    },
    "id": "dnkRUCxsY-Wo",
    "outputId": "70b6d03b-5466-4a23-c89c-2d2593621849"
   },
   "outputs": [
    {
     "data": {
      "text/html": [
       "<div>\n",
       "<style scoped>\n",
       "    .dataframe tbody tr th:only-of-type {\n",
       "        vertical-align: middle;\n",
       "    }\n",
       "\n",
       "    .dataframe tbody tr th {\n",
       "        vertical-align: top;\n",
       "    }\n",
       "\n",
       "    .dataframe thead tr th {\n",
       "        text-align: left;\n",
       "    }\n",
       "\n",
       "    .dataframe thead tr:last-of-type th {\n",
       "        text-align: right;\n",
       "    }\n",
       "</style>\n",
       "<table border=\"1\" class=\"dataframe\">\n",
       "  <thead>\n",
       "    <tr>\n",
       "      <th></th>\n",
       "      <th colspan=\"8\" halign=\"left\">season17_18</th>\n",
       "    </tr>\n",
       "    <tr>\n",
       "      <th></th>\n",
       "      <th>count</th>\n",
       "      <th>mean</th>\n",
       "      <th>std</th>\n",
       "      <th>min</th>\n",
       "      <th>25%</th>\n",
       "      <th>50%</th>\n",
       "      <th>75%</th>\n",
       "      <th>max</th>\n",
       "    </tr>\n",
       "    <tr>\n",
       "      <th>Tm</th>\n",
       "      <th></th>\n",
       "      <th></th>\n",
       "      <th></th>\n",
       "      <th></th>\n",
       "      <th></th>\n",
       "      <th></th>\n",
       "      <th></th>\n",
       "      <th></th>\n",
       "    </tr>\n",
       "  </thead>\n",
       "  <tbody>\n",
       "    <tr>\n",
       "      <th>ATL</th>\n",
       "      <td>27.0</td>\n",
       "      <td>3.711770e+06</td>\n",
       "      <td>4.820199e+06</td>\n",
       "      <td>26773.0</td>\n",
       "      <td>747767.00</td>\n",
       "      <td>1567200.0</td>\n",
       "      <td>5500000.00</td>\n",
       "      <td>16910113.0</td>\n",
       "    </tr>\n",
       "    <tr>\n",
       "      <th>BOS</th>\n",
       "      <td>17.0</td>\n",
       "      <td>6.765292e+06</td>\n",
       "      <td>9.326367e+06</td>\n",
       "      <td>83129.0</td>\n",
       "      <td>1291892.00</td>\n",
       "      <td>4328000.0</td>\n",
       "      <td>5000000.00</td>\n",
       "      <td>29727900.0</td>\n",
       "    </tr>\n",
       "    <tr>\n",
       "      <th>BRK</th>\n",
       "      <td>18.0</td>\n",
       "      <td>5.335543e+06</td>\n",
       "      <td>5.856873e+06</td>\n",
       "      <td>50000.0</td>\n",
       "      <td>1524305.00</td>\n",
       "      <td>2006860.0</td>\n",
       "      <td>5546770.00</td>\n",
       "      <td>19332500.0</td>\n",
       "    </tr>\n",
       "    <tr>\n",
       "      <th>CHI</th>\n",
       "      <td>24.0</td>\n",
       "      <td>3.726043e+06</td>\n",
       "      <td>4.161130e+06</td>\n",
       "      <td>17224.0</td>\n",
       "      <td>1312611.00</td>\n",
       "      <td>2194920.0</td>\n",
       "      <td>3902138.25</td>\n",
       "      <td>15550000.0</td>\n",
       "    </tr>\n",
       "    <tr>\n",
       "      <th>CHO</th>\n",
       "      <td>14.0</td>\n",
       "      <td>8.373440e+06</td>\n",
       "      <td>7.836572e+06</td>\n",
       "      <td>815615.0</td>\n",
       "      <td>1818228.75</td>\n",
       "      <td>4952240.0</td>\n",
       "      <td>12896067.50</td>\n",
       "      <td>23500000.0</td>\n",
       "    </tr>\n",
       "    <tr>\n",
       "      <th>CLE</th>\n",
       "      <td>14.0</td>\n",
       "      <td>9.806325e+06</td>\n",
       "      <td>1.016316e+07</td>\n",
       "      <td>46080.0</td>\n",
       "      <td>2169879.25</td>\n",
       "      <td>4821428.5</td>\n",
       "      <td>15740000.00</td>\n",
       "      <td>33285709.0</td>\n",
       "    </tr>\n",
       "    <tr>\n",
       "      <th>DAL</th>\n",
       "      <td>22.0</td>\n",
       "      <td>3.900971e+06</td>\n",
       "      <td>5.910370e+06</td>\n",
       "      <td>46080.0</td>\n",
       "      <td>148060.00</td>\n",
       "      <td>1524351.0</td>\n",
       "      <td>4116674.25</td>\n",
       "      <td>23112004.0</td>\n",
       "    </tr>\n",
       "    <tr>\n",
       "      <th>DEN</th>\n",
       "      <td>16.0</td>\n",
       "      <td>6.743069e+06</td>\n",
       "      <td>7.788070e+06</td>\n",
       "      <td>1471382.0</td>\n",
       "      <td>2265699.00</td>\n",
       "      <td>3444326.5</td>\n",
       "      <td>8602897.50</td>\n",
       "      <td>31269231.0</td>\n",
       "    </tr>\n",
       "    <tr>\n",
       "      <th>DET</th>\n",
       "      <td>20.0</td>\n",
       "      <td>6.004305e+06</td>\n",
       "      <td>8.100813e+06</td>\n",
       "      <td>25000.0</td>\n",
       "      <td>1491539.75</td>\n",
       "      <td>2893845.0</td>\n",
       "      <td>6166666.75</td>\n",
       "      <td>29512900.0</td>\n",
       "    </tr>\n",
       "    <tr>\n",
       "      <th>GSW</th>\n",
       "      <td>16.0</td>\n",
       "      <td>8.593428e+06</td>\n",
       "      <td>1.023807e+07</td>\n",
       "      <td>815615.0</td>\n",
       "      <td>1431689.25</td>\n",
       "      <td>2903126.0</td>\n",
       "      <td>15211111.25</td>\n",
       "      <td>34682550.0</td>\n",
       "    </tr>\n",
       "    <tr>\n",
       "      <th>HOU</th>\n",
       "      <td>22.0</td>\n",
       "      <td>5.410186e+06</td>\n",
       "      <td>8.357644e+06</td>\n",
       "      <td>25000.0</td>\n",
       "      <td>412476.25</td>\n",
       "      <td>1497843.5</td>\n",
       "      <td>6435084.00</td>\n",
       "      <td>28299399.0</td>\n",
       "    </tr>\n",
       "    <tr>\n",
       "      <th>IND</th>\n",
       "      <td>19.0</td>\n",
       "      <td>4.969989e+06</td>\n",
       "      <td>5.796500e+06</td>\n",
       "      <td>46080.0</td>\n",
       "      <td>1210691.00</td>\n",
       "      <td>2245400.0</td>\n",
       "      <td>8699910.50</td>\n",
       "      <td>21000000.0</td>\n",
       "    </tr>\n",
       "    <tr>\n",
       "      <th>LAC</th>\n",
       "      <td>20.0</td>\n",
       "      <td>5.945358e+06</td>\n",
       "      <td>6.918958e+06</td>\n",
       "      <td>50000.0</td>\n",
       "      <td>774211.25</td>\n",
       "      <td>3654057.0</td>\n",
       "      <td>7452247.25</td>\n",
       "      <td>22642350.0</td>\n",
       "    </tr>\n",
       "    <tr>\n",
       "      <th>LAL</th>\n",
       "      <td>22.0</td>\n",
       "      <td>4.788884e+06</td>\n",
       "      <td>6.448873e+06</td>\n",
       "      <td>46080.0</td>\n",
       "      <td>315142.25</td>\n",
       "      <td>1473932.5</td>\n",
       "      <td>6280268.75</td>\n",
       "      <td>22642350.0</td>\n",
       "    </tr>\n",
       "    <tr>\n",
       "      <th>MEM</th>\n",
       "      <td>20.0</td>\n",
       "      <td>5.505203e+06</td>\n",
       "      <td>8.619869e+06</td>\n",
       "      <td>46080.0</td>\n",
       "      <td>950000.00</td>\n",
       "      <td>1401271.0</td>\n",
       "      <td>5184820.00</td>\n",
       "      <td>28530608.0</td>\n",
       "    </tr>\n",
       "    <tr>\n",
       "      <th>MIA</th>\n",
       "      <td>18.0</td>\n",
       "      <td>7.290146e+06</td>\n",
       "      <td>7.953466e+06</td>\n",
       "      <td>50000.0</td>\n",
       "      <td>1597076.25</td>\n",
       "      <td>2597700.0</td>\n",
       "      <td>10901792.25</td>\n",
       "      <td>25289390.0</td>\n",
       "    </tr>\n",
       "    <tr>\n",
       "      <th>MIL</th>\n",
       "      <td>22.0</td>\n",
       "      <td>5.485742e+06</td>\n",
       "      <td>6.144470e+06</td>\n",
       "      <td>22248.0</td>\n",
       "      <td>939864.00</td>\n",
       "      <td>2231846.0</td>\n",
       "      <td>9767946.75</td>\n",
       "      <td>22471910.0</td>\n",
       "    </tr>\n",
       "    <tr>\n",
       "      <th>MIN</th>\n",
       "      <td>16.0</td>\n",
       "      <td>7.341785e+06</td>\n",
       "      <td>6.336263e+06</td>\n",
       "      <td>1312611.0</td>\n",
       "      <td>1982023.75</td>\n",
       "      <td>5272420.0</td>\n",
       "      <td>12200000.00</td>\n",
       "      <td>19301070.0</td>\n",
       "    </tr>\n",
       "    <tr>\n",
       "      <th>NOP</th>\n",
       "      <td>21.0</td>\n",
       "      <td>5.701218e+06</td>\n",
       "      <td>8.060397e+06</td>\n",
       "      <td>25000.0</td>\n",
       "      <td>239204.00</td>\n",
       "      <td>1889040.0</td>\n",
       "      <td>8445024.00</td>\n",
       "      <td>25686667.0</td>\n",
       "    </tr>\n",
       "    <tr>\n",
       "      <th>NYK</th>\n",
       "      <td>21.0</td>\n",
       "      <td>5.135972e+06</td>\n",
       "      <td>6.119640e+06</td>\n",
       "      <td>50000.0</td>\n",
       "      <td>1312611.00</td>\n",
       "      <td>3025035.0</td>\n",
       "      <td>4503600.00</td>\n",
       "      <td>20566802.0</td>\n",
       "    </tr>\n",
       "    <tr>\n",
       "      <th>OKC</th>\n",
       "      <td>15.0</td>\n",
       "      <td>8.952937e+06</td>\n",
       "      <td>9.922499e+06</td>\n",
       "      <td>815615.0</td>\n",
       "      <td>2056826.00</td>\n",
       "      <td>4666500.0</td>\n",
       "      <td>14384108.50</td>\n",
       "      <td>28530608.0</td>\n",
       "    </tr>\n",
       "    <tr>\n",
       "      <th>ORL</th>\n",
       "      <td>17.0</td>\n",
       "      <td>5.701527e+06</td>\n",
       "      <td>5.535163e+06</td>\n",
       "      <td>46080.0</td>\n",
       "      <td>1050000.00</td>\n",
       "      <td>4186320.0</td>\n",
       "      <td>7250000.00</td>\n",
       "      <td>17000000.0</td>\n",
       "    </tr>\n",
       "    <tr>\n",
       "      <th>PHI</th>\n",
       "      <td>20.0</td>\n",
       "      <td>5.039714e+06</td>\n",
       "      <td>6.192647e+06</td>\n",
       "      <td>50000.0</td>\n",
       "      <td>944054.25</td>\n",
       "      <td>1525411.0</td>\n",
       "      <td>7519680.00</td>\n",
       "      <td>23000000.0</td>\n",
       "    </tr>\n",
       "    <tr>\n",
       "      <th>PHO</th>\n",
       "      <td>21.0</td>\n",
       "      <td>4.515159e+06</td>\n",
       "      <td>4.993142e+06</td>\n",
       "      <td>87552.0</td>\n",
       "      <td>1069308.00</td>\n",
       "      <td>3152931.0</td>\n",
       "      <td>5090040.00</td>\n",
       "      <td>17884176.0</td>\n",
       "    </tr>\n",
       "    <tr>\n",
       "      <th>POR</th>\n",
       "      <td>19.0</td>\n",
       "      <td>6.268891e+06</td>\n",
       "      <td>7.964741e+06</td>\n",
       "      <td>74159.0</td>\n",
       "      <td>1389265.50</td>\n",
       "      <td>2844429.0</td>\n",
       "      <td>8611765.00</td>\n",
       "      <td>26153057.0</td>\n",
       "    </tr>\n",
       "    <tr>\n",
       "      <th>SAC</th>\n",
       "      <td>20.0</td>\n",
       "      <td>4.781376e+06</td>\n",
       "      <td>3.717747e+06</td>\n",
       "      <td>517220.0</td>\n",
       "      <td>1964850.00</td>\n",
       "      <td>3063352.5</td>\n",
       "      <td>8098250.00</td>\n",
       "      <td>12307692.0</td>\n",
       "    </tr>\n",
       "    <tr>\n",
       "      <th>SAS</th>\n",
       "      <td>17.0</td>\n",
       "      <td>6.832562e+06</td>\n",
       "      <td>7.197441e+06</td>\n",
       "      <td>815615.0</td>\n",
       "      <td>1312611.00</td>\n",
       "      <td>2151704.0</td>\n",
       "      <td>10714286.00</td>\n",
       "      <td>21461010.0</td>\n",
       "    </tr>\n",
       "    <tr>\n",
       "      <th>TOR</th>\n",
       "      <td>17.0</td>\n",
       "      <td>6.854635e+06</td>\n",
       "      <td>9.781284e+06</td>\n",
       "      <td>46080.0</td>\n",
       "      <td>1312611.00</td>\n",
       "      <td>1645200.0</td>\n",
       "      <td>7936509.00</td>\n",
       "      <td>28703704.0</td>\n",
       "    </tr>\n",
       "    <tr>\n",
       "      <th>UTA</th>\n",
       "      <td>20.0</td>\n",
       "      <td>5.373251e+06</td>\n",
       "      <td>6.128134e+06</td>\n",
       "      <td>50000.0</td>\n",
       "      <td>1188362.00</td>\n",
       "      <td>2910640.0</td>\n",
       "      <td>7808464.25</td>\n",
       "      <td>21974719.0</td>\n",
       "    </tr>\n",
       "    <tr>\n",
       "      <th>WAS</th>\n",
       "      <td>18.0</td>\n",
       "      <td>6.898880e+06</td>\n",
       "      <td>8.453926e+06</td>\n",
       "      <td>50000.0</td>\n",
       "      <td>990345.50</td>\n",
       "      <td>2546520.0</td>\n",
       "      <td>11586956.75</td>\n",
       "      <td>24773250.0</td>\n",
       "    </tr>\n",
       "  </tbody>\n",
       "</table>\n",
       "</div>"
      ],
      "text/plain": [
       "    season17_18                              ...                                    \n",
       "          count          mean           std  ...        50%          75%         max\n",
       "Tm                                           ...                                    \n",
       "ATL        27.0  3.711770e+06  4.820199e+06  ...  1567200.0   5500000.00  16910113.0\n",
       "BOS        17.0  6.765292e+06  9.326367e+06  ...  4328000.0   5000000.00  29727900.0\n",
       "BRK        18.0  5.335543e+06  5.856873e+06  ...  2006860.0   5546770.00  19332500.0\n",
       "CHI        24.0  3.726043e+06  4.161130e+06  ...  2194920.0   3902138.25  15550000.0\n",
       "CHO        14.0  8.373440e+06  7.836572e+06  ...  4952240.0  12896067.50  23500000.0\n",
       "CLE        14.0  9.806325e+06  1.016316e+07  ...  4821428.5  15740000.00  33285709.0\n",
       "DAL        22.0  3.900971e+06  5.910370e+06  ...  1524351.0   4116674.25  23112004.0\n",
       "DEN        16.0  6.743069e+06  7.788070e+06  ...  3444326.5   8602897.50  31269231.0\n",
       "DET        20.0  6.004305e+06  8.100813e+06  ...  2893845.0   6166666.75  29512900.0\n",
       "GSW        16.0  8.593428e+06  1.023807e+07  ...  2903126.0  15211111.25  34682550.0\n",
       "HOU        22.0  5.410186e+06  8.357644e+06  ...  1497843.5   6435084.00  28299399.0\n",
       "IND        19.0  4.969989e+06  5.796500e+06  ...  2245400.0   8699910.50  21000000.0\n",
       "LAC        20.0  5.945358e+06  6.918958e+06  ...  3654057.0   7452247.25  22642350.0\n",
       "LAL        22.0  4.788884e+06  6.448873e+06  ...  1473932.5   6280268.75  22642350.0\n",
       "MEM        20.0  5.505203e+06  8.619869e+06  ...  1401271.0   5184820.00  28530608.0\n",
       "MIA        18.0  7.290146e+06  7.953466e+06  ...  2597700.0  10901792.25  25289390.0\n",
       "MIL        22.0  5.485742e+06  6.144470e+06  ...  2231846.0   9767946.75  22471910.0\n",
       "MIN        16.0  7.341785e+06  6.336263e+06  ...  5272420.0  12200000.00  19301070.0\n",
       "NOP        21.0  5.701218e+06  8.060397e+06  ...  1889040.0   8445024.00  25686667.0\n",
       "NYK        21.0  5.135972e+06  6.119640e+06  ...  3025035.0   4503600.00  20566802.0\n",
       "OKC        15.0  8.952937e+06  9.922499e+06  ...  4666500.0  14384108.50  28530608.0\n",
       "ORL        17.0  5.701527e+06  5.535163e+06  ...  4186320.0   7250000.00  17000000.0\n",
       "PHI        20.0  5.039714e+06  6.192647e+06  ...  1525411.0   7519680.00  23000000.0\n",
       "PHO        21.0  4.515159e+06  4.993142e+06  ...  3152931.0   5090040.00  17884176.0\n",
       "POR        19.0  6.268891e+06  7.964741e+06  ...  2844429.0   8611765.00  26153057.0\n",
       "SAC        20.0  4.781376e+06  3.717747e+06  ...  3063352.5   8098250.00  12307692.0\n",
       "SAS        17.0  6.832562e+06  7.197441e+06  ...  2151704.0  10714286.00  21461010.0\n",
       "TOR        17.0  6.854635e+06  9.781284e+06  ...  1645200.0   7936509.00  28703704.0\n",
       "UTA        20.0  5.373251e+06  6.128134e+06  ...  2910640.0   7808464.25  21974719.0\n",
       "WAS        18.0  6.898880e+06  8.453926e+06  ...  2546520.0  11586956.75  24773250.0\n",
       "\n",
       "[30 rows x 8 columns]"
      ]
     },
     "execution_count": 122,
     "metadata": {
      "tags": []
     },
     "output_type": "execute_result"
    }
   ],
   "source": [
    "salarydf.groupby('Tm').describe()"
   ]
  },
  {
   "cell_type": "markdown",
   "metadata": {
    "id": "SFVhXhMHpX8z"
   },
   "source": [
    "### 2.1.2. Sorting\n",
    "Let's sort our salary DataFrame by team. We use the pandas `sort_values` method."
   ]
  },
  {
   "cell_type": "code",
   "execution_count": 124,
   "metadata": {
    "colab": {
     "base_uri": "https://localhost:8080/",
     "height": 987
    },
    "executionInfo": {
     "elapsed": 164,
     "status": "ok",
     "timestamp": 1626121547709,
     "user": {
      "displayName": "Leslie Kerby",
      "photoUrl": "https://lh3.googleusercontent.com/a-/AOh14GjN8SnHoanmo435DxiVf-rB_w00WFdyFzUqH3TuM30=s64",
      "userId": "13736524897897077884"
     },
     "user_tz": 360
    },
    "id": "9V2m7CXJpX80",
    "outputId": "9c15d717-4ed1-4cfc-dace-82693eebc13a"
   },
   "outputs": [
    {
     "data": {
      "text/html": [
       "<div>\n",
       "<style scoped>\n",
       "    .dataframe tbody tr th:only-of-type {\n",
       "        vertical-align: middle;\n",
       "    }\n",
       "\n",
       "    .dataframe tbody tr th {\n",
       "        vertical-align: top;\n",
       "    }\n",
       "\n",
       "    .dataframe thead th {\n",
       "        text-align: right;\n",
       "    }\n",
       "</style>\n",
       "<table border=\"1\" class=\"dataframe\">\n",
       "  <thead>\n",
       "    <tr style=\"text-align: right;\">\n",
       "      <th></th>\n",
       "      <th>Player</th>\n",
       "      <th>Tm</th>\n",
       "      <th>season17_18</th>\n",
       "    </tr>\n",
       "  </thead>\n",
       "  <tbody>\n",
       "    <tr>\n",
       "      <th>334</th>\n",
       "      <td>John Collins</td>\n",
       "      <td>ATL</td>\n",
       "      <td>1936920.0</td>\n",
       "    </tr>\n",
       "    <tr>\n",
       "      <th>435</th>\n",
       "      <td>Nicolas Brussino</td>\n",
       "      <td>ATL</td>\n",
       "      <td>1312611.0</td>\n",
       "    </tr>\n",
       "    <tr>\n",
       "      <th>434</th>\n",
       "      <td>Okaro White</td>\n",
       "      <td>ATL</td>\n",
       "      <td>1312611.0</td>\n",
       "    </tr>\n",
       "    <tr>\n",
       "      <th>433</th>\n",
       "      <td>Sheldon Mac</td>\n",
       "      <td>ATL</td>\n",
       "      <td>1312611.0</td>\n",
       "    </tr>\n",
       "    <tr>\n",
       "      <th>363</th>\n",
       "      <td>DeAndre' Bembry</td>\n",
       "      <td>ATL</td>\n",
       "      <td>1567200.0</td>\n",
       "    </tr>\n",
       "    <tr>\n",
       "      <th>351</th>\n",
       "      <td>Mike Dunleavy</td>\n",
       "      <td>ATL</td>\n",
       "      <td>1662500.0</td>\n",
       "    </tr>\n",
       "    <tr>\n",
       "      <th>60</th>\n",
       "      <td>Kent Bazemore</td>\n",
       "      <td>ATL</td>\n",
       "      <td>16910113.0</td>\n",
       "    </tr>\n",
       "    <tr>\n",
       "      <th>285</th>\n",
       "      <td>Taurean Waller-Prince</td>\n",
       "      <td>ATL</td>\n",
       "      <td>2422560.0</td>\n",
       "    </tr>\n",
       "    <tr>\n",
       "      <th>279</th>\n",
       "      <td>Malcolm Delaney</td>\n",
       "      <td>ATL</td>\n",
       "      <td>2500000.0</td>\n",
       "    </tr>\n",
       "    <tr>\n",
       "      <th>278</th>\n",
       "      <td>Richard Jefferson</td>\n",
       "      <td>ATL</td>\n",
       "      <td>2500000.0</td>\n",
       "    </tr>\n",
       "    <tr>\n",
       "      <th>70</th>\n",
       "      <td>Dennis Schroder</td>\n",
       "      <td>ATL</td>\n",
       "      <td>15500000.0</td>\n",
       "    </tr>\n",
       "    <tr>\n",
       "      <th>202</th>\n",
       "      <td>Mike Muscala</td>\n",
       "      <td>ATL</td>\n",
       "      <td>5000000.0</td>\n",
       "    </tr>\n",
       "    <tr>\n",
       "      <th>95</th>\n",
       "      <td>Miles Plumlee</td>\n",
       "      <td>ATL</td>\n",
       "      <td>12500000.0</td>\n",
       "    </tr>\n",
       "    <tr>\n",
       "      <th>181</th>\n",
       "      <td>Dewayne Dedmon</td>\n",
       "      <td>ATL</td>\n",
       "      <td>6000000.0</td>\n",
       "    </tr>\n",
       "    <tr>\n",
       "      <th>180</th>\n",
       "      <td>Ersan Ilyasova</td>\n",
       "      <td>ATL</td>\n",
       "      <td>6000000.0</td>\n",
       "    </tr>\n",
       "    <tr>\n",
       "      <th>166</th>\n",
       "      <td>Marco Belinelli</td>\n",
       "      <td>ATL</td>\n",
       "      <td>6306060.0</td>\n",
       "    </tr>\n",
       "    <tr>\n",
       "      <th>436</th>\n",
       "      <td>Diamond Stone</td>\n",
       "      <td>ATL</td>\n",
       "      <td>1312611.0</td>\n",
       "    </tr>\n",
       "    <tr>\n",
       "      <th>437</th>\n",
       "      <td>Isaiah Taylor</td>\n",
       "      <td>ATL</td>\n",
       "      <td>1312611.0</td>\n",
       "    </tr>\n",
       "    <tr>\n",
       "      <th>111</th>\n",
       "      <td>Jamal Crawford</td>\n",
       "      <td>ATL</td>\n",
       "      <td>10942762.0</td>\n",
       "    </tr>\n",
       "    <tr>\n",
       "      <th>467</th>\n",
       "      <td>Tyler Dorsey</td>\n",
       "      <td>ATL</td>\n",
       "      <td>815615.0</td>\n",
       "    </tr>\n",
       "    <tr>\n",
       "      <th>566</th>\n",
       "      <td>DeAndre Liggins</td>\n",
       "      <td>ATL</td>\n",
       "      <td>26773.0</td>\n",
       "    </tr>\n",
       "    <tr>\n",
       "      <th>523</th>\n",
       "      <td>Jaylen Morris</td>\n",
       "      <td>ATL</td>\n",
       "      <td>92160.0</td>\n",
       "    </tr>\n",
       "    <tr>\n",
       "      <th>533</th>\n",
       "      <td>Tyler Cavanaugh</td>\n",
       "      <td>ATL</td>\n",
       "      <td>50000.0</td>\n",
       "    </tr>\n",
       "    <tr>\n",
       "      <th>483</th>\n",
       "      <td>Tyler Cavanaugh</td>\n",
       "      <td>ATL</td>\n",
       "      <td>679919.0</td>\n",
       "    </tr>\n",
       "    <tr>\n",
       "      <th>558</th>\n",
       "      <td>Jeremy Evans</td>\n",
       "      <td>ATL</td>\n",
       "      <td>50000.0</td>\n",
       "    </tr>\n",
       "    <tr>\n",
       "      <th>515</th>\n",
       "      <td>Quinn Cook</td>\n",
       "      <td>ATL</td>\n",
       "      <td>100000.0</td>\n",
       "    </tr>\n",
       "    <tr>\n",
       "      <th>522</th>\n",
       "      <td>Antonius Cleveland</td>\n",
       "      <td>ATL</td>\n",
       "      <td>92160.0</td>\n",
       "    </tr>\n",
       "    <tr>\n",
       "      <th>47</th>\n",
       "      <td>Kyrie Irving</td>\n",
       "      <td>BOS</td>\n",
       "      <td>18868625.0</td>\n",
       "    </tr>\n",
       "    <tr>\n",
       "      <th>185</th>\n",
       "      <td>Jayson Tatum</td>\n",
       "      <td>BOS</td>\n",
       "      <td>5645400.0</td>\n",
       "    </tr>\n",
       "    <tr>\n",
       "      <th>307</th>\n",
       "      <td>Guerschon Yabusele</td>\n",
       "      <td>BOS</td>\n",
       "      <td>2247480.0</td>\n",
       "    </tr>\n",
       "  </tbody>\n",
       "</table>\n",
       "</div>"
      ],
      "text/plain": [
       "                    Player   Tm  season17_18\n",
       "334           John Collins  ATL    1936920.0\n",
       "435       Nicolas Brussino  ATL    1312611.0\n",
       "434            Okaro White  ATL    1312611.0\n",
       "433            Sheldon Mac  ATL    1312611.0\n",
       "363        DeAndre' Bembry  ATL    1567200.0\n",
       "351          Mike Dunleavy  ATL    1662500.0\n",
       "60           Kent Bazemore  ATL   16910113.0\n",
       "285  Taurean Waller-Prince  ATL    2422560.0\n",
       "279        Malcolm Delaney  ATL    2500000.0\n",
       "278      Richard Jefferson  ATL    2500000.0\n",
       "70         Dennis Schroder  ATL   15500000.0\n",
       "202           Mike Muscala  ATL    5000000.0\n",
       "95           Miles Plumlee  ATL   12500000.0\n",
       "181         Dewayne Dedmon  ATL    6000000.0\n",
       "180         Ersan Ilyasova  ATL    6000000.0\n",
       "166        Marco Belinelli  ATL    6306060.0\n",
       "436          Diamond Stone  ATL    1312611.0\n",
       "437          Isaiah Taylor  ATL    1312611.0\n",
       "111         Jamal Crawford  ATL   10942762.0\n",
       "467           Tyler Dorsey  ATL     815615.0\n",
       "566        DeAndre Liggins  ATL      26773.0\n",
       "523          Jaylen Morris  ATL      92160.0\n",
       "533        Tyler Cavanaugh  ATL      50000.0\n",
       "483        Tyler Cavanaugh  ATL     679919.0\n",
       "558           Jeremy Evans  ATL      50000.0\n",
       "515             Quinn Cook  ATL     100000.0\n",
       "522     Antonius Cleveland  ATL      92160.0\n",
       "47            Kyrie Irving  BOS   18868625.0\n",
       "185           Jayson Tatum  BOS    5645400.0\n",
       "307     Guerschon Yabusele  BOS    2247480.0"
      ]
     },
     "execution_count": 124,
     "metadata": {
      "tags": []
     },
     "output_type": "execute_result"
    }
   ],
   "source": [
    "salarydf.sort_values('Tm').head(30)"
   ]
  },
  {
   "cell_type": "markdown",
   "metadata": {
    "id": "nOL_XWqXpX85"
   },
   "source": [
    "We can also sort by player name:"
   ]
  },
  {
   "cell_type": "code",
   "execution_count": 125,
   "metadata": {
    "colab": {
     "base_uri": "https://localhost:8080/",
     "height": 205
    },
    "executionInfo": {
     "elapsed": 220,
     "status": "ok",
     "timestamp": 1626121555067,
     "user": {
      "displayName": "Leslie Kerby",
      "photoUrl": "https://lh3.googleusercontent.com/a-/AOh14GjN8SnHoanmo435DxiVf-rB_w00WFdyFzUqH3TuM30=s64",
      "userId": "13736524897897077884"
     },
     "user_tz": 360
    },
    "id": "7RNKkCmcpX86",
    "outputId": "98d2439a-8522-4c47-ae3a-d640a2d4ec8d"
   },
   "outputs": [
    {
     "data": {
      "text/html": [
       "<div>\n",
       "<style scoped>\n",
       "    .dataframe tbody tr th:only-of-type {\n",
       "        vertical-align: middle;\n",
       "    }\n",
       "\n",
       "    .dataframe tbody tr th {\n",
       "        vertical-align: top;\n",
       "    }\n",
       "\n",
       "    .dataframe thead th {\n",
       "        text-align: right;\n",
       "    }\n",
       "</style>\n",
       "<table border=\"1\" class=\"dataframe\">\n",
       "  <thead>\n",
       "    <tr style=\"text-align: right;\">\n",
       "      <th></th>\n",
       "      <th>Player</th>\n",
       "      <th>Tm</th>\n",
       "      <th>season17_18</th>\n",
       "    </tr>\n",
       "  </thead>\n",
       "  <tbody>\n",
       "    <tr>\n",
       "      <th>410</th>\n",
       "      <td>A.J. Hammons</td>\n",
       "      <td>MIA</td>\n",
       "      <td>1312611.0</td>\n",
       "    </tr>\n",
       "    <tr>\n",
       "      <th>318</th>\n",
       "      <td>Aaron Brooks</td>\n",
       "      <td>MIN</td>\n",
       "      <td>2116955.0</td>\n",
       "    </tr>\n",
       "    <tr>\n",
       "      <th>189</th>\n",
       "      <td>Aaron Gordon</td>\n",
       "      <td>ORL</td>\n",
       "      <td>5504420.0</td>\n",
       "    </tr>\n",
       "    <tr>\n",
       "      <th>491</th>\n",
       "      <td>Aaron Gray</td>\n",
       "      <td>DET</td>\n",
       "      <td>452059.0</td>\n",
       "    </tr>\n",
       "    <tr>\n",
       "      <th>445</th>\n",
       "      <td>Abdel Nader</td>\n",
       "      <td>BOS</td>\n",
       "      <td>1167333.0</td>\n",
       "    </tr>\n",
       "  </tbody>\n",
       "</table>\n",
       "</div>"
      ],
      "text/plain": [
       "           Player   Tm  season17_18\n",
       "410  A.J. Hammons  MIA    1312611.0\n",
       "318  Aaron Brooks  MIN    2116955.0\n",
       "189  Aaron Gordon  ORL    5504420.0\n",
       "491    Aaron Gray  DET     452059.0\n",
       "445   Abdel Nader  BOS    1167333.0"
      ]
     },
     "execution_count": 125,
     "metadata": {
      "tags": []
     },
     "output_type": "execute_result"
    }
   ],
   "source": [
    "salarydf.sort_values('Player').head()"
   ]
  },
  {
   "cell_type": "markdown",
   "metadata": {
    "id": "T6niH-JHpX8_"
   },
   "source": [
    "This sorts by the players' first name, then last name for ties. If we wanted to sort by last name then first name, we could use the string method `split` to separate the first and last names, and re-write the player name column in 'last, first' format. \n",
    "\n",
    "Note that none of this sorting is changing our original `salarydf`:"
   ]
  },
  {
   "cell_type": "code",
   "execution_count": 126,
   "metadata": {
    "colab": {
     "base_uri": "https://localhost:8080/",
     "height": 205
    },
    "executionInfo": {
     "elapsed": 172,
     "status": "ok",
     "timestamp": 1626121588248,
     "user": {
      "displayName": "Leslie Kerby",
      "photoUrl": "https://lh3.googleusercontent.com/a-/AOh14GjN8SnHoanmo435DxiVf-rB_w00WFdyFzUqH3TuM30=s64",
      "userId": "13736524897897077884"
     },
     "user_tz": 360
    },
    "id": "WYpVVK54pX9A",
    "outputId": "478c2ec1-e3bb-4959-93a1-517f7a219fbd"
   },
   "outputs": [
    {
     "data": {
      "text/html": [
       "<div>\n",
       "<style scoped>\n",
       "    .dataframe tbody tr th:only-of-type {\n",
       "        vertical-align: middle;\n",
       "    }\n",
       "\n",
       "    .dataframe tbody tr th {\n",
       "        vertical-align: top;\n",
       "    }\n",
       "\n",
       "    .dataframe thead th {\n",
       "        text-align: right;\n",
       "    }\n",
       "</style>\n",
       "<table border=\"1\" class=\"dataframe\">\n",
       "  <thead>\n",
       "    <tr style=\"text-align: right;\">\n",
       "      <th></th>\n",
       "      <th>Player</th>\n",
       "      <th>Tm</th>\n",
       "      <th>season17_18</th>\n",
       "    </tr>\n",
       "  </thead>\n",
       "  <tbody>\n",
       "    <tr>\n",
       "      <th>0</th>\n",
       "      <td>Stephen Curry</td>\n",
       "      <td>GSW</td>\n",
       "      <td>34682550.0</td>\n",
       "    </tr>\n",
       "    <tr>\n",
       "      <th>1</th>\n",
       "      <td>LeBron James</td>\n",
       "      <td>CLE</td>\n",
       "      <td>33285709.0</td>\n",
       "    </tr>\n",
       "    <tr>\n",
       "      <th>2</th>\n",
       "      <td>Paul Millsap</td>\n",
       "      <td>DEN</td>\n",
       "      <td>31269231.0</td>\n",
       "    </tr>\n",
       "    <tr>\n",
       "      <th>3</th>\n",
       "      <td>Gordon Hayward</td>\n",
       "      <td>BOS</td>\n",
       "      <td>29727900.0</td>\n",
       "    </tr>\n",
       "    <tr>\n",
       "      <th>4</th>\n",
       "      <td>Blake Griffin</td>\n",
       "      <td>DET</td>\n",
       "      <td>29512900.0</td>\n",
       "    </tr>\n",
       "  </tbody>\n",
       "</table>\n",
       "</div>"
      ],
      "text/plain": [
       "           Player   Tm  season17_18\n",
       "0   Stephen Curry  GSW   34682550.0\n",
       "1    LeBron James  CLE   33285709.0\n",
       "2    Paul Millsap  DEN   31269231.0\n",
       "3  Gordon Hayward  BOS   29727900.0\n",
       "4   Blake Griffin  DET   29512900.0"
      ]
     },
     "execution_count": 126,
     "metadata": {
      "tags": []
     },
     "output_type": "execute_result"
    }
   ],
   "source": [
    "salarydf.head()"
   ]
  },
  {
   "cell_type": "markdown",
   "metadata": {
    "id": "0L5qQroOpX9F"
   },
   "source": [
    "Let's make this Team sort permament."
   ]
  },
  {
   "cell_type": "code",
   "execution_count": 127,
   "metadata": {
    "colab": {
     "base_uri": "https://localhost:8080/",
     "height": 205
    },
    "executionInfo": {
     "elapsed": 132,
     "status": "ok",
     "timestamp": 1626121616194,
     "user": {
      "displayName": "Leslie Kerby",
      "photoUrl": "https://lh3.googleusercontent.com/a-/AOh14GjN8SnHoanmo435DxiVf-rB_w00WFdyFzUqH3TuM30=s64",
      "userId": "13736524897897077884"
     },
     "user_tz": 360
    },
    "id": "rrksd4QMpX9G",
    "outputId": "957b080d-3c5f-4d01-886c-7fd49033a9db"
   },
   "outputs": [
    {
     "data": {
      "text/html": [
       "<div>\n",
       "<style scoped>\n",
       "    .dataframe tbody tr th:only-of-type {\n",
       "        vertical-align: middle;\n",
       "    }\n",
       "\n",
       "    .dataframe tbody tr th {\n",
       "        vertical-align: top;\n",
       "    }\n",
       "\n",
       "    .dataframe thead th {\n",
       "        text-align: right;\n",
       "    }\n",
       "</style>\n",
       "<table border=\"1\" class=\"dataframe\">\n",
       "  <thead>\n",
       "    <tr style=\"text-align: right;\">\n",
       "      <th></th>\n",
       "      <th>Player</th>\n",
       "      <th>Tm</th>\n",
       "      <th>season17_18</th>\n",
       "    </tr>\n",
       "  </thead>\n",
       "  <tbody>\n",
       "    <tr>\n",
       "      <th>334</th>\n",
       "      <td>John Collins</td>\n",
       "      <td>ATL</td>\n",
       "      <td>1936920.0</td>\n",
       "    </tr>\n",
       "    <tr>\n",
       "      <th>435</th>\n",
       "      <td>Nicolas Brussino</td>\n",
       "      <td>ATL</td>\n",
       "      <td>1312611.0</td>\n",
       "    </tr>\n",
       "    <tr>\n",
       "      <th>434</th>\n",
       "      <td>Okaro White</td>\n",
       "      <td>ATL</td>\n",
       "      <td>1312611.0</td>\n",
       "    </tr>\n",
       "    <tr>\n",
       "      <th>433</th>\n",
       "      <td>Sheldon Mac</td>\n",
       "      <td>ATL</td>\n",
       "      <td>1312611.0</td>\n",
       "    </tr>\n",
       "    <tr>\n",
       "      <th>363</th>\n",
       "      <td>DeAndre' Bembry</td>\n",
       "      <td>ATL</td>\n",
       "      <td>1567200.0</td>\n",
       "    </tr>\n",
       "  </tbody>\n",
       "</table>\n",
       "</div>"
      ],
      "text/plain": [
       "               Player   Tm  season17_18\n",
       "334      John Collins  ATL    1936920.0\n",
       "435  Nicolas Brussino  ATL    1312611.0\n",
       "434       Okaro White  ATL    1312611.0\n",
       "433       Sheldon Mac  ATL    1312611.0\n",
       "363   DeAndre' Bembry  ATL    1567200.0"
      ]
     },
     "execution_count": 127,
     "metadata": {
      "tags": []
     },
     "output_type": "execute_result"
    }
   ],
   "source": [
    "salarydf.sort_values('Tm', inplace=True)\n",
    "salarydf.head()"
   ]
  },
  {
   "cell_type": "markdown",
   "metadata": {
    "id": "-3YEepDGpX9K"
   },
   "source": [
    "Note however, that the index is now unordered for our new DataFrame (the index retains its old row values). You can reset the index with `reset_index`. The optional argument `drop=True` means that it will discard the old index values (versus keeping them as an added column). \n",
    "\n",
    "Note again that like many pandas methods, `reset_index` creates a copy of the DataFrame and does NOT update the original. Therefore, in order to change our `salarydf` DataFrame we have to assign it back to itself."
   ]
  },
  {
   "cell_type": "code",
   "execution_count": 128,
   "metadata": {
    "colab": {
     "base_uri": "https://localhost:8080/",
     "height": 205
    },
    "executionInfo": {
     "elapsed": 133,
     "status": "ok",
     "timestamp": 1626121689922,
     "user": {
      "displayName": "Leslie Kerby",
      "photoUrl": "https://lh3.googleusercontent.com/a-/AOh14GjN8SnHoanmo435DxiVf-rB_w00WFdyFzUqH3TuM30=s64",
      "userId": "13736524897897077884"
     },
     "user_tz": 360
    },
    "id": "uv99fMcspX9M",
    "outputId": "54592d34-0c41-4afa-cbd0-c714e231aa03"
   },
   "outputs": [
    {
     "data": {
      "text/html": [
       "<div>\n",
       "<style scoped>\n",
       "    .dataframe tbody tr th:only-of-type {\n",
       "        vertical-align: middle;\n",
       "    }\n",
       "\n",
       "    .dataframe tbody tr th {\n",
       "        vertical-align: top;\n",
       "    }\n",
       "\n",
       "    .dataframe thead th {\n",
       "        text-align: right;\n",
       "    }\n",
       "</style>\n",
       "<table border=\"1\" class=\"dataframe\">\n",
       "  <thead>\n",
       "    <tr style=\"text-align: right;\">\n",
       "      <th></th>\n",
       "      <th>Player</th>\n",
       "      <th>Tm</th>\n",
       "      <th>season17_18</th>\n",
       "    </tr>\n",
       "  </thead>\n",
       "  <tbody>\n",
       "    <tr>\n",
       "      <th>0</th>\n",
       "      <td>John Collins</td>\n",
       "      <td>ATL</td>\n",
       "      <td>1936920.0</td>\n",
       "    </tr>\n",
       "    <tr>\n",
       "      <th>1</th>\n",
       "      <td>Nicolas Brussino</td>\n",
       "      <td>ATL</td>\n",
       "      <td>1312611.0</td>\n",
       "    </tr>\n",
       "    <tr>\n",
       "      <th>2</th>\n",
       "      <td>Okaro White</td>\n",
       "      <td>ATL</td>\n",
       "      <td>1312611.0</td>\n",
       "    </tr>\n",
       "    <tr>\n",
       "      <th>3</th>\n",
       "      <td>Sheldon Mac</td>\n",
       "      <td>ATL</td>\n",
       "      <td>1312611.0</td>\n",
       "    </tr>\n",
       "    <tr>\n",
       "      <th>4</th>\n",
       "      <td>DeAndre' Bembry</td>\n",
       "      <td>ATL</td>\n",
       "      <td>1567200.0</td>\n",
       "    </tr>\n",
       "  </tbody>\n",
       "</table>\n",
       "</div>"
      ],
      "text/plain": [
       "             Player   Tm  season17_18\n",
       "0      John Collins  ATL    1936920.0\n",
       "1  Nicolas Brussino  ATL    1312611.0\n",
       "2       Okaro White  ATL    1312611.0\n",
       "3       Sheldon Mac  ATL    1312611.0\n",
       "4   DeAndre' Bembry  ATL    1567200.0"
      ]
     },
     "execution_count": 128,
     "metadata": {
      "tags": []
     },
     "output_type": "execute_result"
    }
   ],
   "source": [
    "salarydf = salarydf.reset_index(drop=True)\n",
    "salarydf.head()"
   ]
  },
  {
   "cell_type": "markdown",
   "metadata": {
    "id": "FfJopWDKpX9Q"
   },
   "source": [
    "Ok, let's go back to having `salarydf` sorted by salary, in descending order, and change our `salarydf`."
   ]
  },
  {
   "cell_type": "code",
   "execution_count": 129,
   "metadata": {
    "colab": {
     "base_uri": "https://localhost:8080/",
     "height": 422
    },
    "executionInfo": {
     "elapsed": 155,
     "status": "ok",
     "timestamp": 1626121744783,
     "user": {
      "displayName": "Leslie Kerby",
      "photoUrl": "https://lh3.googleusercontent.com/a-/AOh14GjN8SnHoanmo435DxiVf-rB_w00WFdyFzUqH3TuM30=s64",
      "userId": "13736524897897077884"
     },
     "user_tz": 360
    },
    "id": "d8MRjydNpX9R",
    "outputId": "ea40de54-641d-4385-bc05-9d35510e6ae2"
   },
   "outputs": [
    {
     "data": {
      "text/html": [
       "<div>\n",
       "<style scoped>\n",
       "    .dataframe tbody tr th:only-of-type {\n",
       "        vertical-align: middle;\n",
       "    }\n",
       "\n",
       "    .dataframe tbody tr th {\n",
       "        vertical-align: top;\n",
       "    }\n",
       "\n",
       "    .dataframe thead th {\n",
       "        text-align: right;\n",
       "    }\n",
       "</style>\n",
       "<table border=\"1\" class=\"dataframe\">\n",
       "  <thead>\n",
       "    <tr style=\"text-align: right;\">\n",
       "      <th></th>\n",
       "      <th>Player</th>\n",
       "      <th>Tm</th>\n",
       "      <th>season17_18</th>\n",
       "    </tr>\n",
       "  </thead>\n",
       "  <tbody>\n",
       "    <tr>\n",
       "      <th>0</th>\n",
       "      <td>Stephen Curry</td>\n",
       "      <td>GSW</td>\n",
       "      <td>34682550.0</td>\n",
       "    </tr>\n",
       "    <tr>\n",
       "      <th>1</th>\n",
       "      <td>LeBron James</td>\n",
       "      <td>CLE</td>\n",
       "      <td>33285709.0</td>\n",
       "    </tr>\n",
       "    <tr>\n",
       "      <th>2</th>\n",
       "      <td>Paul Millsap</td>\n",
       "      <td>DEN</td>\n",
       "      <td>31269231.0</td>\n",
       "    </tr>\n",
       "    <tr>\n",
       "      <th>3</th>\n",
       "      <td>Gordon Hayward</td>\n",
       "      <td>BOS</td>\n",
       "      <td>29727900.0</td>\n",
       "    </tr>\n",
       "    <tr>\n",
       "      <th>4</th>\n",
       "      <td>Blake Griffin</td>\n",
       "      <td>DET</td>\n",
       "      <td>29512900.0</td>\n",
       "    </tr>\n",
       "    <tr>\n",
       "      <th>...</th>\n",
       "      <td>...</td>\n",
       "      <td>...</td>\n",
       "      <td>...</td>\n",
       "    </tr>\n",
       "    <tr>\n",
       "      <th>568</th>\n",
       "      <td>Axel Toupane</td>\n",
       "      <td>NOP</td>\n",
       "      <td>25000.0</td>\n",
       "    </tr>\n",
       "    <tr>\n",
       "      <th>569</th>\n",
       "      <td>Chris Johnson</td>\n",
       "      <td>HOU</td>\n",
       "      <td>25000.0</td>\n",
       "    </tr>\n",
       "    <tr>\n",
       "      <th>570</th>\n",
       "      <td>Beno Udrih</td>\n",
       "      <td>DET</td>\n",
       "      <td>25000.0</td>\n",
       "    </tr>\n",
       "    <tr>\n",
       "      <th>571</th>\n",
       "      <td>Joel Bolomboy</td>\n",
       "      <td>MIL</td>\n",
       "      <td>22248.0</td>\n",
       "    </tr>\n",
       "    <tr>\n",
       "      <th>572</th>\n",
       "      <td>Jarell Eddie</td>\n",
       "      <td>CHI</td>\n",
       "      <td>17224.0</td>\n",
       "    </tr>\n",
       "  </tbody>\n",
       "</table>\n",
       "<p>573 rows × 3 columns</p>\n",
       "</div>"
      ],
      "text/plain": [
       "             Player   Tm  season17_18\n",
       "0     Stephen Curry  GSW   34682550.0\n",
       "1      LeBron James  CLE   33285709.0\n",
       "2      Paul Millsap  DEN   31269231.0\n",
       "3    Gordon Hayward  BOS   29727900.0\n",
       "4     Blake Griffin  DET   29512900.0\n",
       "..              ...  ...          ...\n",
       "568    Axel Toupane  NOP      25000.0\n",
       "569   Chris Johnson  HOU      25000.0\n",
       "570      Beno Udrih  DET      25000.0\n",
       "571   Joel Bolomboy  MIL      22248.0\n",
       "572    Jarell Eddie  CHI      17224.0\n",
       "\n",
       "[573 rows x 3 columns]"
      ]
     },
     "execution_count": 129,
     "metadata": {
      "tags": []
     },
     "output_type": "execute_result"
    }
   ],
   "source": [
    "salarydf.sort_values('season17_18',ascending=False,inplace=True)\n",
    "salarydf.reset_index(drop=True, inplace=True)\n",
    "salarydf"
   ]
  },
  {
   "cell_type": "markdown",
   "metadata": {
    "id": "D3-EShpspX9X"
   },
   "source": [
    "(The `ascending=False` is an *optional argument*. It has a default value of `True`, so when you explicitly tell the function `ascending=False`, then the function will sort in descending order.)\n",
    "\n",
    "Some details about `sort_values`:\n",
    "\n",
    "1. The first argument to `sort_values` is the name of a column to sort by.\n",
    "2. If the column has strings in it, `sort_values` will sort alphabetically; if the column has numbers, it will sort numerically.\n",
    "3. The value of `salarydf.sort_values('season17_18')` is a *copy of `salarydf`*; the `salarydf` DataFrame doesn't get modified.\n",
    "4. Rows always stick together when a table is sorted.  It wouldn't make sense to sort just one column and leave the other columns alone. "
   ]
  },
  {
   "cell_type": "markdown",
   "metadata": {
    "id": "oLwrBtOZpX9Y"
   },
   "source": [
    "### 2.1.3. Filtering with Boolean Masks\n",
    "Suppose you're interested in players from the Golden State Warriors.  Sorting the DataFrame by salary doesn't help you.\n",
    "\n",
    "Instead, we use a boolean mask. In this example our boolean mask is `salarydf['Tm'] == 'GSW'` (or in other words, take all the rows from the DataFrame that have the Tm equal to GSW). Remember that the syntax for using boolean masks is flexible: <br/>\n",
    "`salarydf[mask]` <br/>\n",
    "`salarydf.loc[mask]` <br/>\n",
    "`salarydf.iloc[mask]` <br/>\n",
    "all work.\n",
    "\n",
    "Let's unpack this slowly and start by just typing in our mask, `salarydf['Tm'] == 'GSW'`"
   ]
  },
  {
   "cell_type": "code",
   "execution_count": 130,
   "metadata": {
    "colab": {
     "base_uri": "https://localhost:8080/"
    },
    "executionInfo": {
     "elapsed": 158,
     "status": "ok",
     "timestamp": 1626121936800,
     "user": {
      "displayName": "Leslie Kerby",
      "photoUrl": "https://lh3.googleusercontent.com/a-/AOh14GjN8SnHoanmo435DxiVf-rB_w00WFdyFzUqH3TuM30=s64",
      "userId": "13736524897897077884"
     },
     "user_tz": 360
    },
    "id": "iDdJljf2pX9Z",
    "outputId": "687e050f-64fd-4a99-93e6-44aa0c1cdb20"
   },
   "outputs": [
    {
     "data": {
      "text/plain": [
       "0       True\n",
       "1      False\n",
       "2      False\n",
       "3      False\n",
       "4      False\n",
       "       ...  \n",
       "568    False\n",
       "569    False\n",
       "570    False\n",
       "571    False\n",
       "572    False\n",
       "Name: Tm, Length: 573, dtype: bool"
      ]
     },
     "execution_count": 130,
     "metadata": {
      "tags": []
     },
     "output_type": "execute_result"
    }
   ],
   "source": [
    "salarydf['Tm'] == 'GSW'"
   ]
  },
  {
   "cell_type": "markdown",
   "metadata": {
    "id": "uDpyenAipX9e"
   },
   "source": [
    "This mask returns a Pandas Series with entries of True/False depending on if 'Tm' is equal to 'GSW'. If we index our DataFrame using this mask (this T/F series), our DataFrame will only keep the rows corresponding to 'True'."
   ]
  },
  {
   "cell_type": "code",
   "execution_count": 132,
   "metadata": {
    "colab": {
     "base_uri": "https://localhost:8080/",
     "height": 550
    },
    "executionInfo": {
     "elapsed": 179,
     "status": "ok",
     "timestamp": 1626121997503,
     "user": {
      "displayName": "Leslie Kerby",
      "photoUrl": "https://lh3.googleusercontent.com/a-/AOh14GjN8SnHoanmo435DxiVf-rB_w00WFdyFzUqH3TuM30=s64",
      "userId": "13736524897897077884"
     },
     "user_tz": 360
    },
    "id": "y5JWoZy-pX9f",
    "outputId": "8ca89ff1-f450-4b1f-ccc6-cfe3334cc407"
   },
   "outputs": [
    {
     "data": {
      "text/html": [
       "<div>\n",
       "<style scoped>\n",
       "    .dataframe tbody tr th:only-of-type {\n",
       "        vertical-align: middle;\n",
       "    }\n",
       "\n",
       "    .dataframe tbody tr th {\n",
       "        vertical-align: top;\n",
       "    }\n",
       "\n",
       "    .dataframe thead th {\n",
       "        text-align: right;\n",
       "    }\n",
       "</style>\n",
       "<table border=\"1\" class=\"dataframe\">\n",
       "  <thead>\n",
       "    <tr style=\"text-align: right;\">\n",
       "      <th></th>\n",
       "      <th>Player</th>\n",
       "      <th>Tm</th>\n",
       "      <th>season17_18</th>\n",
       "    </tr>\n",
       "  </thead>\n",
       "  <tbody>\n",
       "    <tr>\n",
       "      <th>0</th>\n",
       "      <td>Stephen Curry</td>\n",
       "      <td>GSW</td>\n",
       "      <td>34682550.0</td>\n",
       "    </tr>\n",
       "    <tr>\n",
       "      <th>15</th>\n",
       "      <td>Kevin Durant</td>\n",
       "      <td>GSW</td>\n",
       "      <td>25000000.0</td>\n",
       "    </tr>\n",
       "    <tr>\n",
       "      <th>52</th>\n",
       "      <td>Klay Thompson</td>\n",
       "      <td>GSW</td>\n",
       "      <td>17826150.0</td>\n",
       "    </tr>\n",
       "    <tr>\n",
       "      <th>64</th>\n",
       "      <td>Draymond Green</td>\n",
       "      <td>GSW</td>\n",
       "      <td>16400000.0</td>\n",
       "    </tr>\n",
       "    <tr>\n",
       "      <th>74</th>\n",
       "      <td>Andre Iguodala</td>\n",
       "      <td>GSW</td>\n",
       "      <td>14814815.0</td>\n",
       "    </tr>\n",
       "    <tr>\n",
       "      <th>145</th>\n",
       "      <td>Shaun Livingston</td>\n",
       "      <td>GSW</td>\n",
       "      <td>7692308.0</td>\n",
       "    </tr>\n",
       "    <tr>\n",
       "      <th>196</th>\n",
       "      <td>Nick Young</td>\n",
       "      <td>GSW</td>\n",
       "      <td>5192000.0</td>\n",
       "    </tr>\n",
       "    <tr>\n",
       "      <th>238</th>\n",
       "      <td>Zaza Pachulia</td>\n",
       "      <td>GSW</td>\n",
       "      <td>3477600.0</td>\n",
       "    </tr>\n",
       "    <tr>\n",
       "      <th>291</th>\n",
       "      <td>David West</td>\n",
       "      <td>GSW</td>\n",
       "      <td>2328652.0</td>\n",
       "    </tr>\n",
       "    <tr>\n",
       "      <th>322</th>\n",
       "      <td>JaVale McGee</td>\n",
       "      <td>GSW</td>\n",
       "      <td>2116955.0</td>\n",
       "    </tr>\n",
       "    <tr>\n",
       "      <th>324</th>\n",
       "      <td>Omri Casspi</td>\n",
       "      <td>GSW</td>\n",
       "      <td>2106470.0</td>\n",
       "    </tr>\n",
       "    <tr>\n",
       "      <th>393</th>\n",
       "      <td>Kevon Looney</td>\n",
       "      <td>GSW</td>\n",
       "      <td>1471382.0</td>\n",
       "    </tr>\n",
       "    <tr>\n",
       "      <th>407</th>\n",
       "      <td>Damian Jones</td>\n",
       "      <td>GSW</td>\n",
       "      <td>1312611.0</td>\n",
       "    </tr>\n",
       "    <tr>\n",
       "      <th>410</th>\n",
       "      <td>Patrick McCaw</td>\n",
       "      <td>GSW</td>\n",
       "      <td>1312611.0</td>\n",
       "    </tr>\n",
       "    <tr>\n",
       "      <th>457</th>\n",
       "      <td>Jason Thompson</td>\n",
       "      <td>GSW</td>\n",
       "      <td>945126.0</td>\n",
       "    </tr>\n",
       "    <tr>\n",
       "      <th>466</th>\n",
       "      <td>Jordan Bell</td>\n",
       "      <td>GSW</td>\n",
       "      <td>815615.0</td>\n",
       "    </tr>\n",
       "  </tbody>\n",
       "</table>\n",
       "</div>"
      ],
      "text/plain": [
       "               Player   Tm  season17_18\n",
       "0       Stephen Curry  GSW   34682550.0\n",
       "15       Kevin Durant  GSW   25000000.0\n",
       "52      Klay Thompson  GSW   17826150.0\n",
       "64     Draymond Green  GSW   16400000.0\n",
       "74     Andre Iguodala  GSW   14814815.0\n",
       "145  Shaun Livingston  GSW    7692308.0\n",
       "196        Nick Young  GSW    5192000.0\n",
       "238     Zaza Pachulia  GSW    3477600.0\n",
       "291        David West  GSW    2328652.0\n",
       "322      JaVale McGee  GSW    2116955.0\n",
       "324       Omri Casspi  GSW    2106470.0\n",
       "393      Kevon Looney  GSW    1471382.0\n",
       "407      Damian Jones  GSW    1312611.0\n",
       "410     Patrick McCaw  GSW    1312611.0\n",
       "457    Jason Thompson  GSW     945126.0\n",
       "466       Jordan Bell  GSW     815615.0"
      ]
     },
     "execution_count": 132,
     "metadata": {
      "tags": []
     },
     "output_type": "execute_result"
    }
   ],
   "source": [
    "mask = salarydf['Tm'] == 'GSW'\n",
    "salarydf[mask]"
   ]
  },
  {
   "cell_type": "markdown",
   "metadata": {
    "id": "brC0AyZhpX9k"
   },
   "source": [
    "Again, this will not change our original `salarydf`, unless we assign it back into itself.\n",
    "\n",
    "**Question 2.1.3.1** <br/>\n",
    "Let's practice by creating another mask for players making more than $20 million a year."
   ]
  },
  {
   "cell_type": "code",
   "execution_count": 135,
   "metadata": {
    "colab": {
     "base_uri": "https://localhost:8080/",
     "height": 1000
    },
    "executionInfo": {
     "elapsed": 147,
     "status": "ok",
     "timestamp": 1626122383221,
     "user": {
      "displayName": "Leslie Kerby",
      "photoUrl": "https://lh3.googleusercontent.com/a-/AOh14GjN8SnHoanmo435DxiVf-rB_w00WFdyFzUqH3TuM30=s64",
      "userId": "13736524897897077884"
     },
     "user_tz": 360
    },
    "id": "oZLJijuqpX9l",
    "outputId": "b3067600-e80b-4dfa-9060-b87a3356059a"
   },
   "outputs": [
    {
     "data": {
      "text/html": [
       "<div>\n",
       "<style scoped>\n",
       "    .dataframe tbody tr th:only-of-type {\n",
       "        vertical-align: middle;\n",
       "    }\n",
       "\n",
       "    .dataframe tbody tr th {\n",
       "        vertical-align: top;\n",
       "    }\n",
       "\n",
       "    .dataframe thead th {\n",
       "        text-align: right;\n",
       "    }\n",
       "</style>\n",
       "<table border=\"1\" class=\"dataframe\">\n",
       "  <thead>\n",
       "    <tr style=\"text-align: right;\">\n",
       "      <th></th>\n",
       "      <th>Player</th>\n",
       "      <th>Tm</th>\n",
       "      <th>season17_18</th>\n",
       "    </tr>\n",
       "  </thead>\n",
       "  <tbody>\n",
       "    <tr>\n",
       "      <th>0</th>\n",
       "      <td>Stephen Curry</td>\n",
       "      <td>GSW</td>\n",
       "      <td>34682550.0</td>\n",
       "    </tr>\n",
       "    <tr>\n",
       "      <th>1</th>\n",
       "      <td>LeBron James</td>\n",
       "      <td>CLE</td>\n",
       "      <td>33285709.0</td>\n",
       "    </tr>\n",
       "    <tr>\n",
       "      <th>2</th>\n",
       "      <td>Paul Millsap</td>\n",
       "      <td>DEN</td>\n",
       "      <td>31269231.0</td>\n",
       "    </tr>\n",
       "    <tr>\n",
       "      <th>3</th>\n",
       "      <td>Gordon Hayward</td>\n",
       "      <td>BOS</td>\n",
       "      <td>29727900.0</td>\n",
       "    </tr>\n",
       "    <tr>\n",
       "      <th>4</th>\n",
       "      <td>Blake Griffin</td>\n",
       "      <td>DET</td>\n",
       "      <td>29512900.0</td>\n",
       "    </tr>\n",
       "    <tr>\n",
       "      <th>5</th>\n",
       "      <td>Kyle Lowry</td>\n",
       "      <td>TOR</td>\n",
       "      <td>28703704.0</td>\n",
       "    </tr>\n",
       "    <tr>\n",
       "      <th>6</th>\n",
       "      <td>Mike Conley</td>\n",
       "      <td>MEM</td>\n",
       "      <td>28530608.0</td>\n",
       "    </tr>\n",
       "    <tr>\n",
       "      <th>7</th>\n",
       "      <td>Russell Westbrook</td>\n",
       "      <td>OKC</td>\n",
       "      <td>28530608.0</td>\n",
       "    </tr>\n",
       "    <tr>\n",
       "      <th>8</th>\n",
       "      <td>James Harden</td>\n",
       "      <td>HOU</td>\n",
       "      <td>28299399.0</td>\n",
       "    </tr>\n",
       "    <tr>\n",
       "      <th>9</th>\n",
       "      <td>DeMar DeRozan</td>\n",
       "      <td>TOR</td>\n",
       "      <td>27739975.0</td>\n",
       "    </tr>\n",
       "    <tr>\n",
       "      <th>10</th>\n",
       "      <td>Al Horford</td>\n",
       "      <td>BOS</td>\n",
       "      <td>27734405.0</td>\n",
       "    </tr>\n",
       "    <tr>\n",
       "      <th>11</th>\n",
       "      <td>Carmelo Anthony</td>\n",
       "      <td>OKC</td>\n",
       "      <td>26243760.0</td>\n",
       "    </tr>\n",
       "    <tr>\n",
       "      <th>12</th>\n",
       "      <td>Damian Lillard</td>\n",
       "      <td>POR</td>\n",
       "      <td>26153057.0</td>\n",
       "    </tr>\n",
       "    <tr>\n",
       "      <th>13</th>\n",
       "      <td>Jrue Holiday</td>\n",
       "      <td>NOP</td>\n",
       "      <td>25686667.0</td>\n",
       "    </tr>\n",
       "    <tr>\n",
       "      <th>14</th>\n",
       "      <td>Chris Bosh</td>\n",
       "      <td>MIA</td>\n",
       "      <td>25289390.0</td>\n",
       "    </tr>\n",
       "    <tr>\n",
       "      <th>15</th>\n",
       "      <td>Kevin Durant</td>\n",
       "      <td>GSW</td>\n",
       "      <td>25000000.0</td>\n",
       "    </tr>\n",
       "    <tr>\n",
       "      <th>16</th>\n",
       "      <td>Otto Porter</td>\n",
       "      <td>WAS</td>\n",
       "      <td>24773250.0</td>\n",
       "    </tr>\n",
       "    <tr>\n",
       "      <th>17</th>\n",
       "      <td>Chris Paul</td>\n",
       "      <td>HOU</td>\n",
       "      <td>24599495.0</td>\n",
       "    </tr>\n",
       "    <tr>\n",
       "      <th>18</th>\n",
       "      <td>C.J. McCollum</td>\n",
       "      <td>POR</td>\n",
       "      <td>23962573.0</td>\n",
       "    </tr>\n",
       "    <tr>\n",
       "      <th>19</th>\n",
       "      <td>Hassan Whiteside</td>\n",
       "      <td>MIA</td>\n",
       "      <td>23775506.0</td>\n",
       "    </tr>\n",
       "    <tr>\n",
       "      <th>20</th>\n",
       "      <td>Anthony Davis</td>\n",
       "      <td>NOP</td>\n",
       "      <td>23775506.0</td>\n",
       "    </tr>\n",
       "    <tr>\n",
       "      <th>21</th>\n",
       "      <td>Andre Drummond</td>\n",
       "      <td>DET</td>\n",
       "      <td>23775506.0</td>\n",
       "    </tr>\n",
       "    <tr>\n",
       "      <th>22</th>\n",
       "      <td>Bradley Beal</td>\n",
       "      <td>WAS</td>\n",
       "      <td>23775506.0</td>\n",
       "    </tr>\n",
       "    <tr>\n",
       "      <th>23</th>\n",
       "      <td>Dwight Howard</td>\n",
       "      <td>CHO</td>\n",
       "      <td>23500000.0</td>\n",
       "    </tr>\n",
       "    <tr>\n",
       "      <th>24</th>\n",
       "      <td>Chandler Parsons</td>\n",
       "      <td>MEM</td>\n",
       "      <td>23112004.0</td>\n",
       "    </tr>\n",
       "    <tr>\n",
       "      <th>25</th>\n",
       "      <td>Harrison Barnes</td>\n",
       "      <td>DAL</td>\n",
       "      <td>23112004.0</td>\n",
       "    </tr>\n",
       "    <tr>\n",
       "      <th>26</th>\n",
       "      <td>J.J. Redick</td>\n",
       "      <td>PHI</td>\n",
       "      <td>23000000.0</td>\n",
       "    </tr>\n",
       "    <tr>\n",
       "      <th>27</th>\n",
       "      <td>Marc Gasol</td>\n",
       "      <td>MEM</td>\n",
       "      <td>22642350.0</td>\n",
       "    </tr>\n",
       "    <tr>\n",
       "      <th>28</th>\n",
       "      <td>Brook Lopez</td>\n",
       "      <td>LAL</td>\n",
       "      <td>22642350.0</td>\n",
       "    </tr>\n",
       "    <tr>\n",
       "      <th>29</th>\n",
       "      <td>DeAndre Jordan</td>\n",
       "      <td>LAC</td>\n",
       "      <td>22642350.0</td>\n",
       "    </tr>\n",
       "    <tr>\n",
       "      <th>30</th>\n",
       "      <td>Kevin Love</td>\n",
       "      <td>CLE</td>\n",
       "      <td>22642350.0</td>\n",
       "    </tr>\n",
       "    <tr>\n",
       "      <th>31</th>\n",
       "      <td>Giannis Antetokounmpo</td>\n",
       "      <td>MIL</td>\n",
       "      <td>22471910.0</td>\n",
       "    </tr>\n",
       "    <tr>\n",
       "      <th>32</th>\n",
       "      <td>Steven Adams</td>\n",
       "      <td>OKC</td>\n",
       "      <td>22471910.0</td>\n",
       "    </tr>\n",
       "    <tr>\n",
       "      <th>33</th>\n",
       "      <td>Nicolas Batum</td>\n",
       "      <td>CHO</td>\n",
       "      <td>22434783.0</td>\n",
       "    </tr>\n",
       "    <tr>\n",
       "      <th>34</th>\n",
       "      <td>Rudy Gobert</td>\n",
       "      <td>UTA</td>\n",
       "      <td>21974719.0</td>\n",
       "    </tr>\n",
       "    <tr>\n",
       "      <th>35</th>\n",
       "      <td>LaMarcus Aldridge</td>\n",
       "      <td>SAS</td>\n",
       "      <td>21461010.0</td>\n",
       "    </tr>\n",
       "    <tr>\n",
       "      <th>36</th>\n",
       "      <td>Victor Oladipo</td>\n",
       "      <td>IND</td>\n",
       "      <td>21000000.0</td>\n",
       "    </tr>\n",
       "    <tr>\n",
       "      <th>37</th>\n",
       "      <td>Enes Kanter</td>\n",
       "      <td>NYK</td>\n",
       "      <td>20566802.0</td>\n",
       "    </tr>\n",
       "    <tr>\n",
       "      <th>38</th>\n",
       "      <td>Danilo Gallinari</td>\n",
       "      <td>LAC</td>\n",
       "      <td>20559599.0</td>\n",
       "    </tr>\n",
       "    <tr>\n",
       "      <th>39</th>\n",
       "      <td>Serge Ibaka</td>\n",
       "      <td>TOR</td>\n",
       "      <td>20061729.0</td>\n",
       "    </tr>\n",
       "  </tbody>\n",
       "</table>\n",
       "</div>"
      ],
      "text/plain": [
       "                   Player   Tm  season17_18\n",
       "0           Stephen Curry  GSW   34682550.0\n",
       "1            LeBron James  CLE   33285709.0\n",
       "2            Paul Millsap  DEN   31269231.0\n",
       "3          Gordon Hayward  BOS   29727900.0\n",
       "4           Blake Griffin  DET   29512900.0\n",
       "5              Kyle Lowry  TOR   28703704.0\n",
       "6             Mike Conley  MEM   28530608.0\n",
       "7       Russell Westbrook  OKC   28530608.0\n",
       "8            James Harden  HOU   28299399.0\n",
       "9           DeMar DeRozan  TOR   27739975.0\n",
       "10             Al Horford  BOS   27734405.0\n",
       "11        Carmelo Anthony  OKC   26243760.0\n",
       "12         Damian Lillard  POR   26153057.0\n",
       "13           Jrue Holiday  NOP   25686667.0\n",
       "14             Chris Bosh  MIA   25289390.0\n",
       "15           Kevin Durant  GSW   25000000.0\n",
       "16            Otto Porter  WAS   24773250.0\n",
       "17             Chris Paul  HOU   24599495.0\n",
       "18          C.J. McCollum  POR   23962573.0\n",
       "19       Hassan Whiteside  MIA   23775506.0\n",
       "20          Anthony Davis  NOP   23775506.0\n",
       "21         Andre Drummond  DET   23775506.0\n",
       "22           Bradley Beal  WAS   23775506.0\n",
       "23          Dwight Howard  CHO   23500000.0\n",
       "24       Chandler Parsons  MEM   23112004.0\n",
       "25        Harrison Barnes  DAL   23112004.0\n",
       "26            J.J. Redick  PHI   23000000.0\n",
       "27             Marc Gasol  MEM   22642350.0\n",
       "28            Brook Lopez  LAL   22642350.0\n",
       "29         DeAndre Jordan  LAC   22642350.0\n",
       "30             Kevin Love  CLE   22642350.0\n",
       "31  Giannis Antetokounmpo  MIL   22471910.0\n",
       "32           Steven Adams  OKC   22471910.0\n",
       "33          Nicolas Batum  CHO   22434783.0\n",
       "34            Rudy Gobert  UTA   21974719.0\n",
       "35      LaMarcus Aldridge  SAS   21461010.0\n",
       "36         Victor Oladipo  IND   21000000.0\n",
       "37            Enes Kanter  NYK   20566802.0\n",
       "38       Danilo Gallinari  LAC   20559599.0\n",
       "39            Serge Ibaka  TOR   20061729.0"
      ]
     },
     "execution_count": 135,
     "metadata": {
      "tags": []
     },
     "output_type": "execute_result"
    }
   ],
   "source": [
    "salarydf[ salarydf['season17_18'] > 20000000 ]"
   ]
  },
  {
   "cell_type": "markdown",
   "metadata": {
    "id": "6T2KV8NepX9q"
   },
   "source": [
    "**Question 2.1.3.2.** <br/>\n",
    "We can also look for a particular player. Find Stephen Curry."
   ]
  },
  {
   "cell_type": "code",
   "execution_count": 140,
   "metadata": {
    "colab": {
     "base_uri": "https://localhost:8080/"
    },
    "executionInfo": {
     "elapsed": 155,
     "status": "ok",
     "timestamp": 1626122541696,
     "user": {
      "displayName": "Leslie Kerby",
      "photoUrl": "https://lh3.googleusercontent.com/a-/AOh14GjN8SnHoanmo435DxiVf-rB_w00WFdyFzUqH3TuM30=s64",
      "userId": "13736524897897077884"
     },
     "user_tz": 360
    },
    "id": "pLp4kJBDpX9r",
    "outputId": "cb304b0e-5603-427c-e74c-abbdd7f4e70f"
   },
   "outputs": [
    {
     "data": {
      "text/plain": [
       "0    Stephen Curry\n",
       "Name: Player, dtype: object"
      ]
     },
     "execution_count": 140,
     "metadata": {
      "tags": []
     },
     "output_type": "execute_result"
    }
   ],
   "source": [
    "salarydf[ salarydf['Player'] == 'Stephen Curry' ]\n",
    "# Can use a boolean mask on a series\n",
    "# series = salarydf['Player']\n",
    "# series[ series == 'Stephen Curry' ]"
   ]
  },
  {
   "cell_type": "markdown",
   "metadata": {
    "id": "LqHMifT4pX9w"
   },
   "source": [
    "We can also find players with a certain last name by using the string method `contains`."
   ]
  },
  {
   "cell_type": "code",
   "execution_count": 144,
   "metadata": {
    "colab": {
     "base_uri": "https://localhost:8080/",
     "height": 112
    },
    "executionInfo": {
     "elapsed": 164,
     "status": "ok",
     "timestamp": 1626122717860,
     "user": {
      "displayName": "Leslie Kerby",
      "photoUrl": "https://lh3.googleusercontent.com/a-/AOh14GjN8SnHoanmo435DxiVf-rB_w00WFdyFzUqH3TuM30=s64",
      "userId": "13736524897897077884"
     },
     "user_tz": 360
    },
    "id": "Faa4uc7spX9x",
    "outputId": "11a8bf21-1715-4de2-fa4d-9c3606925b88"
   },
   "outputs": [
    {
     "data": {
      "text/html": [
       "<div>\n",
       "<style scoped>\n",
       "    .dataframe tbody tr th:only-of-type {\n",
       "        vertical-align: middle;\n",
       "    }\n",
       "\n",
       "    .dataframe tbody tr th {\n",
       "        vertical-align: top;\n",
       "    }\n",
       "\n",
       "    .dataframe thead th {\n",
       "        text-align: right;\n",
       "    }\n",
       "</style>\n",
       "<table border=\"1\" class=\"dataframe\">\n",
       "  <thead>\n",
       "    <tr style=\"text-align: right;\">\n",
       "      <th></th>\n",
       "      <th>Player</th>\n",
       "      <th>Tm</th>\n",
       "      <th>Salary_17-18</th>\n",
       "    </tr>\n",
       "  </thead>\n",
       "  <tbody>\n",
       "    <tr>\n",
       "      <th>0</th>\n",
       "      <td>Stephen Curry</td>\n",
       "      <td>GSW</td>\n",
       "      <td>34682550.0</td>\n",
       "    </tr>\n",
       "    <tr>\n",
       "      <th>256</th>\n",
       "      <td>Seth Curry</td>\n",
       "      <td>DAL</td>\n",
       "      <td>3028410.0</td>\n",
       "    </tr>\n",
       "  </tbody>\n",
       "</table>\n",
       "</div>"
      ],
      "text/plain": [
       "            Player   Tm  Salary_17-18\n",
       "0    Stephen Curry  GSW    34682550.0\n",
       "256     Seth Curry  DAL     3028410.0"
      ]
     },
     "execution_count": 144,
     "metadata": {
      "tags": []
     },
     "output_type": "execute_result"
    }
   ],
   "source": [
    "salarydf[ salarydf['Player'].str.contains('Cur') ]"
   ]
  },
  {
   "cell_type": "code",
   "execution_count": 141,
   "metadata": {
    "colab": {
     "base_uri": "https://localhost:8080/",
     "height": 422
    },
    "executionInfo": {
     "elapsed": 222,
     "status": "ok",
     "timestamp": 1626122617059,
     "user": {
      "displayName": "Leslie Kerby",
      "photoUrl": "https://lh3.googleusercontent.com/a-/AOh14GjN8SnHoanmo435DxiVf-rB_w00WFdyFzUqH3TuM30=s64",
      "userId": "13736524897897077884"
     },
     "user_tz": 360
    },
    "id": "wfbWBJSddtlP",
    "outputId": "e53769fb-2fd7-4bc1-8ae3-4dd5d52f682a"
   },
   "outputs": [
    {
     "data": {
      "text/html": [
       "<div>\n",
       "<style scoped>\n",
       "    .dataframe tbody tr th:only-of-type {\n",
       "        vertical-align: middle;\n",
       "    }\n",
       "\n",
       "    .dataframe tbody tr th {\n",
       "        vertical-align: top;\n",
       "    }\n",
       "\n",
       "    .dataframe thead th {\n",
       "        text-align: right;\n",
       "    }\n",
       "</style>\n",
       "<table border=\"1\" class=\"dataframe\">\n",
       "  <thead>\n",
       "    <tr style=\"text-align: right;\">\n",
       "      <th></th>\n",
       "      <th>Player</th>\n",
       "      <th>Team</th>\n",
       "      <th>Salary_17-18</th>\n",
       "    </tr>\n",
       "  </thead>\n",
       "  <tbody>\n",
       "    <tr>\n",
       "      <th>0</th>\n",
       "      <td>Stephen Curry</td>\n",
       "      <td>GSW</td>\n",
       "      <td>34682550.0</td>\n",
       "    </tr>\n",
       "    <tr>\n",
       "      <th>1</th>\n",
       "      <td>LeBron James</td>\n",
       "      <td>CLE</td>\n",
       "      <td>33285709.0</td>\n",
       "    </tr>\n",
       "    <tr>\n",
       "      <th>2</th>\n",
       "      <td>Paul Millsap</td>\n",
       "      <td>DEN</td>\n",
       "      <td>31269231.0</td>\n",
       "    </tr>\n",
       "    <tr>\n",
       "      <th>3</th>\n",
       "      <td>Gordon Hayward</td>\n",
       "      <td>BOS</td>\n",
       "      <td>29727900.0</td>\n",
       "    </tr>\n",
       "    <tr>\n",
       "      <th>4</th>\n",
       "      <td>Blake Griffin</td>\n",
       "      <td>DET</td>\n",
       "      <td>29512900.0</td>\n",
       "    </tr>\n",
       "    <tr>\n",
       "      <th>...</th>\n",
       "      <td>...</td>\n",
       "      <td>...</td>\n",
       "      <td>...</td>\n",
       "    </tr>\n",
       "    <tr>\n",
       "      <th>568</th>\n",
       "      <td>Axel Toupane</td>\n",
       "      <td>NOP</td>\n",
       "      <td>25000.0</td>\n",
       "    </tr>\n",
       "    <tr>\n",
       "      <th>569</th>\n",
       "      <td>Chris Johnson</td>\n",
       "      <td>HOU</td>\n",
       "      <td>25000.0</td>\n",
       "    </tr>\n",
       "    <tr>\n",
       "      <th>570</th>\n",
       "      <td>Beno Udrih</td>\n",
       "      <td>DET</td>\n",
       "      <td>25000.0</td>\n",
       "    </tr>\n",
       "    <tr>\n",
       "      <th>571</th>\n",
       "      <td>Joel Bolomboy</td>\n",
       "      <td>MIL</td>\n",
       "      <td>22248.0</td>\n",
       "    </tr>\n",
       "    <tr>\n",
       "      <th>572</th>\n",
       "      <td>Jarell Eddie</td>\n",
       "      <td>CHI</td>\n",
       "      <td>17224.0</td>\n",
       "    </tr>\n",
       "  </tbody>\n",
       "</table>\n",
       "<p>573 rows × 3 columns</p>\n",
       "</div>"
      ],
      "text/plain": [
       "             Player Team  Salary_17-18\n",
       "0     Stephen Curry  GSW    34682550.0\n",
       "1      LeBron James  CLE    33285709.0\n",
       "2      Paul Millsap  DEN    31269231.0\n",
       "3    Gordon Hayward  BOS    29727900.0\n",
       "4     Blake Griffin  DET    29512900.0\n",
       "..              ...  ...           ...\n",
       "568    Axel Toupane  NOP       25000.0\n",
       "569   Chris Johnson  HOU       25000.0\n",
       "570      Beno Udrih  DET       25000.0\n",
       "571   Joel Bolomboy  MIL       22248.0\n",
       "572    Jarell Eddie  CHI       17224.0\n",
       "\n",
       "[573 rows x 3 columns]"
      ]
     },
     "execution_count": 141,
     "metadata": {
      "tags": []
     },
     "output_type": "execute_result"
    }
   ],
   "source": [
    "# Change column labels (all of them)\n",
    "salarydf.columns = [\"Player\", \"Team\", \"Salary_17-18\"]\n",
    "salarydf"
   ]
  },
  {
   "cell_type": "code",
   "execution_count": 142,
   "metadata": {
    "colab": {
     "base_uri": "https://localhost:8080/",
     "height": 422
    },
    "executionInfo": {
     "elapsed": 182,
     "status": "ok",
     "timestamp": 1626122659904,
     "user": {
      "displayName": "Leslie Kerby",
      "photoUrl": "https://lh3.googleusercontent.com/a-/AOh14GjN8SnHoanmo435DxiVf-rB_w00WFdyFzUqH3TuM30=s64",
      "userId": "13736524897897077884"
     },
     "user_tz": 360
    },
    "id": "lodQda8md__g",
    "outputId": "a2c1e71e-05b3-4d24-daa7-b7a368038bea"
   },
   "outputs": [
    {
     "data": {
      "text/html": [
       "<div>\n",
       "<style scoped>\n",
       "    .dataframe tbody tr th:only-of-type {\n",
       "        vertical-align: middle;\n",
       "    }\n",
       "\n",
       "    .dataframe tbody tr th {\n",
       "        vertical-align: top;\n",
       "    }\n",
       "\n",
       "    .dataframe thead th {\n",
       "        text-align: right;\n",
       "    }\n",
       "</style>\n",
       "<table border=\"1\" class=\"dataframe\">\n",
       "  <thead>\n",
       "    <tr style=\"text-align: right;\">\n",
       "      <th></th>\n",
       "      <th>Player</th>\n",
       "      <th>Tm</th>\n",
       "      <th>Salary_17-18</th>\n",
       "    </tr>\n",
       "  </thead>\n",
       "  <tbody>\n",
       "    <tr>\n",
       "      <th>0</th>\n",
       "      <td>Stephen Curry</td>\n",
       "      <td>GSW</td>\n",
       "      <td>34682550.0</td>\n",
       "    </tr>\n",
       "    <tr>\n",
       "      <th>One</th>\n",
       "      <td>LeBron James</td>\n",
       "      <td>CLE</td>\n",
       "      <td>33285709.0</td>\n",
       "    </tr>\n",
       "    <tr>\n",
       "      <th>2</th>\n",
       "      <td>Paul Millsap</td>\n",
       "      <td>DEN</td>\n",
       "      <td>31269231.0</td>\n",
       "    </tr>\n",
       "    <tr>\n",
       "      <th>3</th>\n",
       "      <td>Gordon Hayward</td>\n",
       "      <td>BOS</td>\n",
       "      <td>29727900.0</td>\n",
       "    </tr>\n",
       "    <tr>\n",
       "      <th>4</th>\n",
       "      <td>Blake Griffin</td>\n",
       "      <td>DET</td>\n",
       "      <td>29512900.0</td>\n",
       "    </tr>\n",
       "    <tr>\n",
       "      <th>...</th>\n",
       "      <td>...</td>\n",
       "      <td>...</td>\n",
       "      <td>...</td>\n",
       "    </tr>\n",
       "    <tr>\n",
       "      <th>568</th>\n",
       "      <td>Axel Toupane</td>\n",
       "      <td>NOP</td>\n",
       "      <td>25000.0</td>\n",
       "    </tr>\n",
       "    <tr>\n",
       "      <th>569</th>\n",
       "      <td>Chris Johnson</td>\n",
       "      <td>HOU</td>\n",
       "      <td>25000.0</td>\n",
       "    </tr>\n",
       "    <tr>\n",
       "      <th>570</th>\n",
       "      <td>Beno Udrih</td>\n",
       "      <td>DET</td>\n",
       "      <td>25000.0</td>\n",
       "    </tr>\n",
       "    <tr>\n",
       "      <th>571</th>\n",
       "      <td>Joel Bolomboy</td>\n",
       "      <td>MIL</td>\n",
       "      <td>22248.0</td>\n",
       "    </tr>\n",
       "    <tr>\n",
       "      <th>572</th>\n",
       "      <td>Jarell Eddie</td>\n",
       "      <td>CHI</td>\n",
       "      <td>17224.0</td>\n",
       "    </tr>\n",
       "  </tbody>\n",
       "</table>\n",
       "<p>573 rows × 3 columns</p>\n",
       "</div>"
      ],
      "text/plain": [
       "             Player   Tm  Salary_17-18\n",
       "0     Stephen Curry  GSW    34682550.0\n",
       "One    LeBron James  CLE    33285709.0\n",
       "2      Paul Millsap  DEN    31269231.0\n",
       "3    Gordon Hayward  BOS    29727900.0\n",
       "4     Blake Griffin  DET    29512900.0\n",
       "..              ...  ...           ...\n",
       "568    Axel Toupane  NOP       25000.0\n",
       "569   Chris Johnson  HOU       25000.0\n",
       "570      Beno Udrih  DET       25000.0\n",
       "571   Joel Bolomboy  MIL       22248.0\n",
       "572    Jarell Eddie  CHI       17224.0\n",
       "\n",
       "[573 rows x 3 columns]"
      ]
     },
     "execution_count": 142,
     "metadata": {
      "tags": []
     },
     "output_type": "execute_result"
    }
   ],
   "source": [
    "# Change column label (one) or row index (one)\n",
    "salarydf.rename(columns={\"Team\":\"Tm\"}, inplace=True)\n",
    "salarydf.rename(index={1:\"One\"}, inplace=True)\n",
    "salarydf"
   ]
  },
  {
   "cell_type": "markdown",
   "metadata": {
    "id": "6j3mVsG6pX93"
   },
   "source": [
    "## 2.2. Functions and Pandas Apply"
   ]
  },
  {
   "cell_type": "markdown",
   "metadata": {
    "id": "PEdrAaZBpX94"
   },
   "source": [
    "Usually we have to do some data wrangling before we can perform analytics. To demonstrate this, we'll look at the 2016 compensation of Ontario Canada public sector employees who made more than CAN$100,000 in 2016. \n",
    "\n",
    "First read in the dataset. "
   ]
  },
  {
   "cell_type": "code",
   "execution_count": 145,
   "metadata": {
    "colab": {
     "base_uri": "https://localhost:8080/",
     "height": 205
    },
    "executionInfo": {
     "elapsed": 1368,
     "status": "ok",
     "timestamp": 1626122795569,
     "user": {
      "displayName": "Leslie Kerby",
      "photoUrl": "https://lh3.googleusercontent.com/a-/AOh14GjN8SnHoanmo435DxiVf-rB_w00WFdyFzUqH3TuM30=s64",
      "userId": "13736524897897077884"
     },
     "user_tz": 360
    },
    "id": "Sg83Pas0pX95",
    "outputId": "782b4676-5489-4bec-fb48-ad37928ee6d1"
   },
   "outputs": [
    {
     "data": {
      "text/html": [
       "<div>\n",
       "<style scoped>\n",
       "    .dataframe tbody tr th:only-of-type {\n",
       "        vertical-align: middle;\n",
       "    }\n",
       "\n",
       "    .dataframe tbody tr th {\n",
       "        vertical-align: top;\n",
       "    }\n",
       "\n",
       "    .dataframe thead th {\n",
       "        text-align: right;\n",
       "    }\n",
       "</style>\n",
       "<table border=\"1\" class=\"dataframe\">\n",
       "  <thead>\n",
       "    <tr style=\"text-align: right;\">\n",
       "      <th></th>\n",
       "      <th>Sector</th>\n",
       "      <th>Last Name</th>\n",
       "      <th>First Name</th>\n",
       "      <th>Salary Paid</th>\n",
       "      <th>Taxable Benefits</th>\n",
       "      <th>Employer</th>\n",
       "      <th>Job Title</th>\n",
       "      <th>Calendar Year</th>\n",
       "    </tr>\n",
       "  </thead>\n",
       "  <tbody>\n",
       "    <tr>\n",
       "      <th>0</th>\n",
       "      <td>Colleges</td>\n",
       "      <td>Abbas</td>\n",
       "      <td>Sadiq</td>\n",
       "      <td>$105,595.39</td>\n",
       "      <td>$84.24</td>\n",
       "      <td>Algonquin College</td>\n",
       "      <td>Professor</td>\n",
       "      <td>2016</td>\n",
       "    </tr>\n",
       "    <tr>\n",
       "      <th>1</th>\n",
       "      <td>Colleges</td>\n",
       "      <td>Abboud</td>\n",
       "      <td>Nadim</td>\n",
       "      <td>$108,393.10</td>\n",
       "      <td>$126.96</td>\n",
       "      <td>Algonquin College</td>\n",
       "      <td>Professor</td>\n",
       "      <td>2016</td>\n",
       "    </tr>\n",
       "    <tr>\n",
       "      <th>2</th>\n",
       "      <td>Colleges</td>\n",
       "      <td>Agate</td>\n",
       "      <td>Jeffery M.</td>\n",
       "      <td>$125,779.64</td>\n",
       "      <td>$325.58</td>\n",
       "      <td>Algonquin College</td>\n",
       "      <td>Associate Director, Student Support Services</td>\n",
       "      <td>2016</td>\n",
       "    </tr>\n",
       "    <tr>\n",
       "      <th>3</th>\n",
       "      <td>Colleges</td>\n",
       "      <td>Al-Azzawi</td>\n",
       "      <td>Abdul</td>\n",
       "      <td>$105,595.41</td>\n",
       "      <td>$84.24</td>\n",
       "      <td>Algonquin College</td>\n",
       "      <td>Professor</td>\n",
       "      <td>2016</td>\n",
       "    </tr>\n",
       "    <tr>\n",
       "      <th>4</th>\n",
       "      <td>Colleges</td>\n",
       "      <td>Alexander</td>\n",
       "      <td>Doug</td>\n",
       "      <td>$105,595.41</td>\n",
       "      <td>$126.96</td>\n",
       "      <td>Algonquin College</td>\n",
       "      <td>Professor</td>\n",
       "      <td>2016</td>\n",
       "    </tr>\n",
       "  </tbody>\n",
       "</table>\n",
       "</div>"
      ],
      "text/plain": [
       "     Sector  ... Calendar Year\n",
       "0  Colleges  ...          2016\n",
       "1  Colleges  ...          2016\n",
       "2  Colleges  ...          2016\n",
       "3  Colleges  ...          2016\n",
       "4  Colleges  ...          2016\n",
       "\n",
       "[5 rows x 8 columns]"
      ]
     },
     "execution_count": 145,
     "metadata": {
      "tags": []
     },
     "output_type": "execute_result"
    }
   ],
   "source": [
    "income = pd.read_csv('https://raw.githubusercontent.com/LGKerby/Python/master/en-2016-pssd-compendium.csv')\n",
    "income.head()"
   ]
  },
  {
   "cell_type": "markdown",
   "metadata": {
    "id": "ClTXhtnVpX9-"
   },
   "source": [
    "The 'Salary Paid' column is not in numerical format. We first have to convert each string to a number before we can perform analytics on salary. To do this we use a function with the Pandas `apply` method. "
   ]
  },
  {
   "cell_type": "code",
   "execution_count": 148,
   "metadata": {
    "colab": {
     "base_uri": "https://localhost:8080/"
    },
    "executionInfo": {
     "elapsed": 229,
     "status": "ok",
     "timestamp": 1626123009551,
     "user": {
      "displayName": "Leslie Kerby",
      "photoUrl": "https://lh3.googleusercontent.com/a-/AOh14GjN8SnHoanmo435DxiVf-rB_w00WFdyFzUqH3TuM30=s64",
      "userId": "13736524897897077884"
     },
     "user_tz": 360
    },
    "id": "GJSQJyyrjsoF",
    "outputId": "726308f7-d4d5-4789-9f83-a61e823f2e35"
   },
   "outputs": [
    {
     "data": {
      "text/plain": [
       "str"
      ]
     },
     "execution_count": 148,
     "metadata": {
      "tags": []
     },
     "output_type": "execute_result"
    }
   ],
   "source": [
    "type(income['Salary Paid'][0])"
   ]
  },
  {
   "cell_type": "markdown",
   "metadata": {
    "id": "xekTzx8Kj3Op"
   },
   "source": [
    "### 2.2.1. Functions\n",
    "\n",
    "The general format of a function is shown below."
   ]
  },
  {
   "cell_type": "code",
   "execution_count": null,
   "metadata": {
    "id": "6_aatP95pX9_"
   },
   "outputs": [],
   "source": [
    "def function_name(optional_parameters):\n",
    "    # body of function\n",
    "    return 'Does nothing'"
   ]
  },
  {
   "cell_type": "markdown",
   "metadata": {
    "id": "SO145nwWpX-C"
   },
   "source": [
    "Let's create a function that will take a 'Salary Paid' string and convert it to a number. We'll call it `str_to_num`.\n",
    "\n",
    "The string method `strip` is useful for removing the dollar sign; it removes a specified character from the start or end of a string.  For example, the value of `'100%'.strip('%')` is the string `'100'`."
   ]
  },
  {
   "cell_type": "code",
   "execution_count": 150,
   "metadata": {
    "colab": {
     "base_uri": "https://localhost:8080/",
     "height": 34
    },
    "executionInfo": {
     "elapsed": 150,
     "status": "ok",
     "timestamp": 1626123329929,
     "user": {
      "displayName": "Leslie Kerby",
      "photoUrl": "https://lh3.googleusercontent.com/a-/AOh14GjN8SnHoanmo435DxiVf-rB_w00WFdyFzUqH3TuM30=s64",
      "userId": "13736524897897077884"
     },
     "user_tz": 360
    },
    "id": "XottKMYVpX-D",
    "outputId": "f6664cf1-ad85-4714-f431-d137d2524e67"
   },
   "outputs": [
    {
     "data": {
      "application/vnd.google.colaboratory.intrinsic+json": {
       "type": "string"
      },
      "text/plain": [
       "'00100'"
      ]
     },
     "execution_count": 150,
     "metadata": {
      "tags": []
     },
     "output_type": "execute_result"
    }
   ],
   "source": [
    "def str_to_num(string):\n",
    "    salary = string.strip('$').replace(',','') \n",
    "    return float(salary)\n",
    "\n",
    "str_to_num('$100,000.00')\n",
    "#'$100100%'.strip('1$%')"
   ]
  },
  {
   "cell_type": "markdown",
   "metadata": {
    "id": "EUB99ejwpX-I"
   },
   "source": [
    "### 2.2.2. `apply`ing Functions\n",
    "The Pandas `apply` method calls a function many times, once on *each* element in a column of a DataFrame.  It produces a Series of the results.  Here we use `apply` to convert every employee's pay to a number, using the function we just defined:"
   ]
  },
  {
   "cell_type": "code",
   "execution_count": 151,
   "metadata": {
    "colab": {
     "base_uri": "https://localhost:8080/"
    },
    "executionInfo": {
     "elapsed": 141,
     "status": "ok",
     "timestamp": 1626123405665,
     "user": {
      "displayName": "Leslie Kerby",
      "photoUrl": "https://lh3.googleusercontent.com/a-/AOh14GjN8SnHoanmo435DxiVf-rB_w00WFdyFzUqH3TuM30=s64",
      "userId": "13736524897897077884"
     },
     "user_tz": 360
    },
    "id": "_BHbNtjDpX-K",
    "outputId": "528516e9-5410-49a7-f44c-02d9acc40684"
   },
   "outputs": [
    {
     "data": {
      "text/plain": [
       "0         105595.39\n",
       "1         108393.10\n",
       "2         125779.64\n",
       "3         105595.41\n",
       "4         105595.41\n",
       "            ...    \n",
       "124440    185684.11\n",
       "124441    139863.15\n",
       "124442    207119.70\n",
       "124443    161816.45\n",
       "124444    227631.59\n",
       "Name: Salary Paid, Length: 124445, dtype: float64"
      ]
     },
     "execution_count": 151,
     "metadata": {
      "tags": []
     },
     "output_type": "execute_result"
    }
   ],
   "source": [
    "income['Salary Paid'].apply(str_to_num)"
   ]
  },
  {
   "cell_type": "code",
   "execution_count": 152,
   "metadata": {
    "colab": {
     "base_uri": "https://localhost:8080/",
     "height": 205
    },
    "executionInfo": {
     "elapsed": 145,
     "status": "ok",
     "timestamp": 1626123424769,
     "user": {
      "displayName": "Leslie Kerby",
      "photoUrl": "https://lh3.googleusercontent.com/a-/AOh14GjN8SnHoanmo435DxiVf-rB_w00WFdyFzUqH3TuM30=s64",
      "userId": "13736524897897077884"
     },
     "user_tz": 360
    },
    "id": "zYKn_m82kNbI",
    "outputId": "31b16a73-f934-4935-87fd-d6305ad13457"
   },
   "outputs": [
    {
     "data": {
      "text/html": [
       "<div>\n",
       "<style scoped>\n",
       "    .dataframe tbody tr th:only-of-type {\n",
       "        vertical-align: middle;\n",
       "    }\n",
       "\n",
       "    .dataframe tbody tr th {\n",
       "        vertical-align: top;\n",
       "    }\n",
       "\n",
       "    .dataframe thead th {\n",
       "        text-align: right;\n",
       "    }\n",
       "</style>\n",
       "<table border=\"1\" class=\"dataframe\">\n",
       "  <thead>\n",
       "    <tr style=\"text-align: right;\">\n",
       "      <th></th>\n",
       "      <th>Sector</th>\n",
       "      <th>Last Name</th>\n",
       "      <th>First Name</th>\n",
       "      <th>Salary Paid</th>\n",
       "      <th>Taxable Benefits</th>\n",
       "      <th>Employer</th>\n",
       "      <th>Job Title</th>\n",
       "      <th>Calendar Year</th>\n",
       "    </tr>\n",
       "  </thead>\n",
       "  <tbody>\n",
       "    <tr>\n",
       "      <th>0</th>\n",
       "      <td>Colleges</td>\n",
       "      <td>Abbas</td>\n",
       "      <td>Sadiq</td>\n",
       "      <td>$105,595.39</td>\n",
       "      <td>$84.24</td>\n",
       "      <td>Algonquin College</td>\n",
       "      <td>Professor</td>\n",
       "      <td>2016</td>\n",
       "    </tr>\n",
       "    <tr>\n",
       "      <th>1</th>\n",
       "      <td>Colleges</td>\n",
       "      <td>Abboud</td>\n",
       "      <td>Nadim</td>\n",
       "      <td>$108,393.10</td>\n",
       "      <td>$126.96</td>\n",
       "      <td>Algonquin College</td>\n",
       "      <td>Professor</td>\n",
       "      <td>2016</td>\n",
       "    </tr>\n",
       "    <tr>\n",
       "      <th>2</th>\n",
       "      <td>Colleges</td>\n",
       "      <td>Agate</td>\n",
       "      <td>Jeffery M.</td>\n",
       "      <td>$125,779.64</td>\n",
       "      <td>$325.58</td>\n",
       "      <td>Algonquin College</td>\n",
       "      <td>Associate Director, Student Support Services</td>\n",
       "      <td>2016</td>\n",
       "    </tr>\n",
       "    <tr>\n",
       "      <th>3</th>\n",
       "      <td>Colleges</td>\n",
       "      <td>Al-Azzawi</td>\n",
       "      <td>Abdul</td>\n",
       "      <td>$105,595.41</td>\n",
       "      <td>$84.24</td>\n",
       "      <td>Algonquin College</td>\n",
       "      <td>Professor</td>\n",
       "      <td>2016</td>\n",
       "    </tr>\n",
       "    <tr>\n",
       "      <th>4</th>\n",
       "      <td>Colleges</td>\n",
       "      <td>Alexander</td>\n",
       "      <td>Doug</td>\n",
       "      <td>$105,595.41</td>\n",
       "      <td>$126.96</td>\n",
       "      <td>Algonquin College</td>\n",
       "      <td>Professor</td>\n",
       "      <td>2016</td>\n",
       "    </tr>\n",
       "  </tbody>\n",
       "</table>\n",
       "</div>"
      ],
      "text/plain": [
       "     Sector  ... Calendar Year\n",
       "0  Colleges  ...          2016\n",
       "1  Colleges  ...          2016\n",
       "2  Colleges  ...          2016\n",
       "3  Colleges  ...          2016\n",
       "4  Colleges  ...          2016\n",
       "\n",
       "[5 rows x 8 columns]"
      ]
     },
     "execution_count": 152,
     "metadata": {
      "tags": []
     },
     "output_type": "execute_result"
    }
   ],
   "source": [
    "income.head()"
   ]
  },
  {
   "cell_type": "markdown",
   "metadata": {
    "id": "1RA7DMgNpX-U"
   },
   "source": [
    "To add this result as a new column in our DataFrame is very simple. "
   ]
  },
  {
   "cell_type": "code",
   "execution_count": 153,
   "metadata": {
    "colab": {
     "base_uri": "https://localhost:8080/",
     "height": 309
    },
    "executionInfo": {
     "elapsed": 159,
     "status": "ok",
     "timestamp": 1626123464708,
     "user": {
      "displayName": "Leslie Kerby",
      "photoUrl": "https://lh3.googleusercontent.com/a-/AOh14GjN8SnHoanmo435DxiVf-rB_w00WFdyFzUqH3TuM30=s64",
      "userId": "13736524897897077884"
     },
     "user_tz": 360
    },
    "id": "9WocnqXgpX-V",
    "outputId": "7276122a-06d5-403f-a020-591512fa0a95"
   },
   "outputs": [
    {
     "data": {
      "text/html": [
       "<div>\n",
       "<style scoped>\n",
       "    .dataframe tbody tr th:only-of-type {\n",
       "        vertical-align: middle;\n",
       "    }\n",
       "\n",
       "    .dataframe tbody tr th {\n",
       "        vertical-align: top;\n",
       "    }\n",
       "\n",
       "    .dataframe thead th {\n",
       "        text-align: right;\n",
       "    }\n",
       "</style>\n",
       "<table border=\"1\" class=\"dataframe\">\n",
       "  <thead>\n",
       "    <tr style=\"text-align: right;\">\n",
       "      <th></th>\n",
       "      <th>Sector</th>\n",
       "      <th>Last Name</th>\n",
       "      <th>First Name</th>\n",
       "      <th>Salary Paid</th>\n",
       "      <th>Taxable Benefits</th>\n",
       "      <th>Employer</th>\n",
       "      <th>Job Title</th>\n",
       "      <th>Calendar Year</th>\n",
       "      <th>Salary ($)</th>\n",
       "    </tr>\n",
       "  </thead>\n",
       "  <tbody>\n",
       "    <tr>\n",
       "      <th>0</th>\n",
       "      <td>Colleges</td>\n",
       "      <td>Abbas</td>\n",
       "      <td>Sadiq</td>\n",
       "      <td>$105,595.39</td>\n",
       "      <td>$84.24</td>\n",
       "      <td>Algonquin College</td>\n",
       "      <td>Professor</td>\n",
       "      <td>2016</td>\n",
       "      <td>105595.39</td>\n",
       "    </tr>\n",
       "    <tr>\n",
       "      <th>1</th>\n",
       "      <td>Colleges</td>\n",
       "      <td>Abboud</td>\n",
       "      <td>Nadim</td>\n",
       "      <td>$108,393.10</td>\n",
       "      <td>$126.96</td>\n",
       "      <td>Algonquin College</td>\n",
       "      <td>Professor</td>\n",
       "      <td>2016</td>\n",
       "      <td>108393.10</td>\n",
       "    </tr>\n",
       "    <tr>\n",
       "      <th>2</th>\n",
       "      <td>Colleges</td>\n",
       "      <td>Agate</td>\n",
       "      <td>Jeffery M.</td>\n",
       "      <td>$125,779.64</td>\n",
       "      <td>$325.58</td>\n",
       "      <td>Algonquin College</td>\n",
       "      <td>Associate Director, Student Support Services</td>\n",
       "      <td>2016</td>\n",
       "      <td>125779.64</td>\n",
       "    </tr>\n",
       "    <tr>\n",
       "      <th>3</th>\n",
       "      <td>Colleges</td>\n",
       "      <td>Al-Azzawi</td>\n",
       "      <td>Abdul</td>\n",
       "      <td>$105,595.41</td>\n",
       "      <td>$84.24</td>\n",
       "      <td>Algonquin College</td>\n",
       "      <td>Professor</td>\n",
       "      <td>2016</td>\n",
       "      <td>105595.41</td>\n",
       "    </tr>\n",
       "    <tr>\n",
       "      <th>4</th>\n",
       "      <td>Colleges</td>\n",
       "      <td>Alexander</td>\n",
       "      <td>Doug</td>\n",
       "      <td>$105,595.41</td>\n",
       "      <td>$126.96</td>\n",
       "      <td>Algonquin College</td>\n",
       "      <td>Professor</td>\n",
       "      <td>2016</td>\n",
       "      <td>105595.41</td>\n",
       "    </tr>\n",
       "  </tbody>\n",
       "</table>\n",
       "</div>"
      ],
      "text/plain": [
       "     Sector  Last Name  ... Calendar Year Salary ($)\n",
       "0  Colleges      Abbas  ...          2016  105595.39\n",
       "1  Colleges     Abboud  ...          2016  108393.10\n",
       "2  Colleges      Agate  ...          2016  125779.64\n",
       "3  Colleges  Al-Azzawi  ...          2016  105595.41\n",
       "4  Colleges  Alexander  ...          2016  105595.41\n",
       "\n",
       "[5 rows x 9 columns]"
      ]
     },
     "execution_count": 153,
     "metadata": {
      "tags": []
     },
     "output_type": "execute_result"
    }
   ],
   "source": [
    "income['Salary ($)'] = income['Salary Paid'].apply(str_to_num)\n",
    "income.head()"
   ]
  },
  {
   "cell_type": "code",
   "execution_count": 154,
   "metadata": {
    "colab": {
     "base_uri": "https://localhost:8080/"
    },
    "executionInfo": {
     "elapsed": 323,
     "status": "ok",
     "timestamp": 1626123548406,
     "user": {
      "displayName": "Leslie Kerby",
      "photoUrl": "https://lh3.googleusercontent.com/a-/AOh14GjN8SnHoanmo435DxiVf-rB_w00WFdyFzUqH3TuM30=s64",
      "userId": "13736524897897077884"
     },
     "user_tz": 360
    },
    "id": "OJOtz7LdhBKl",
    "outputId": "ad675f2b-7146-4398-d751-8d573ee4a423"
   },
   "outputs": [
    {
     "data": {
      "text/plain": [
       "count          124445\n",
       "unique         106860\n",
       "top       $100,252.95\n",
       "freq              543\n",
       "Name: Salary Paid, dtype: object"
      ]
     },
     "execution_count": 154,
     "metadata": {
      "tags": []
     },
     "output_type": "execute_result"
    }
   ],
   "source": [
    "income['Salary Paid'].describe()"
   ]
  },
  {
   "cell_type": "code",
   "execution_count": 155,
   "metadata": {
    "colab": {
     "base_uri": "https://localhost:8080/"
    },
    "executionInfo": {
     "elapsed": 137,
     "status": "ok",
     "timestamp": 1626123636715,
     "user": {
      "displayName": "Leslie Kerby",
      "photoUrl": "https://lh3.googleusercontent.com/a-/AOh14GjN8SnHoanmo435DxiVf-rB_w00WFdyFzUqH3TuM30=s64",
      "userId": "13736524897897077884"
     },
     "user_tz": 360
    },
    "id": "Fv1CHpO0hWrQ",
    "outputId": "d1fc574c-4878-48c7-cea8-177fd35c7f7b"
   },
   "outputs": [
    {
     "data": {
      "text/plain": [
       "count    1.244450e+05\n",
       "mean     1.272516e+05\n",
       "std      3.681980e+04\n",
       "min      1.000000e+05\n",
       "25%      1.056961e+05\n",
       "50%      1.154396e+05\n",
       "75%      1.332854e+05\n",
       "max      1.155899e+06\n",
       "Name: Salary ($), dtype: float64"
      ]
     },
     "execution_count": 155,
     "metadata": {
      "tags": []
     },
     "output_type": "execute_result"
    }
   ],
   "source": [
    "income['Salary ($)'].describe()"
   ]
  },
  {
   "cell_type": "code",
   "execution_count": 156,
   "metadata": {
    "colab": {
     "base_uri": "https://localhost:8080/",
     "height": 299
    },
    "executionInfo": {
     "elapsed": 327,
     "status": "ok",
     "timestamp": 1626123698028,
     "user": {
      "displayName": "Leslie Kerby",
      "photoUrl": "https://lh3.googleusercontent.com/a-/AOh14GjN8SnHoanmo435DxiVf-rB_w00WFdyFzUqH3TuM30=s64",
      "userId": "13736524897897077884"
     },
     "user_tz": 360
    },
    "id": "SJg6o1NthnDn",
    "outputId": "1f908a87-9be4-4cfd-bb60-3be6b982794c"
   },
   "outputs": [
    {
     "data": {
      "text/html": [
       "<div>\n",
       "<style scoped>\n",
       "    .dataframe tbody tr th:only-of-type {\n",
       "        vertical-align: middle;\n",
       "    }\n",
       "\n",
       "    .dataframe tbody tr th {\n",
       "        vertical-align: top;\n",
       "    }\n",
       "\n",
       "    .dataframe thead th {\n",
       "        text-align: right;\n",
       "    }\n",
       "</style>\n",
       "<table border=\"1\" class=\"dataframe\">\n",
       "  <thead>\n",
       "    <tr style=\"text-align: right;\">\n",
       "      <th></th>\n",
       "      <th>Salary ($)</th>\n",
       "    </tr>\n",
       "  </thead>\n",
       "  <tbody>\n",
       "    <tr>\n",
       "      <th>count</th>\n",
       "      <td>1.244450e+05</td>\n",
       "    </tr>\n",
       "    <tr>\n",
       "      <th>mean</th>\n",
       "      <td>1.272516e+05</td>\n",
       "    </tr>\n",
       "    <tr>\n",
       "      <th>std</th>\n",
       "      <td>3.681980e+04</td>\n",
       "    </tr>\n",
       "    <tr>\n",
       "      <th>min</th>\n",
       "      <td>1.000000e+05</td>\n",
       "    </tr>\n",
       "    <tr>\n",
       "      <th>25%</th>\n",
       "      <td>1.056961e+05</td>\n",
       "    </tr>\n",
       "    <tr>\n",
       "      <th>50%</th>\n",
       "      <td>1.154396e+05</td>\n",
       "    </tr>\n",
       "    <tr>\n",
       "      <th>75%</th>\n",
       "      <td>1.332854e+05</td>\n",
       "    </tr>\n",
       "    <tr>\n",
       "      <th>max</th>\n",
       "      <td>1.155899e+06</td>\n",
       "    </tr>\n",
       "  </tbody>\n",
       "</table>\n",
       "</div>"
      ],
      "text/plain": [
       "         Salary ($)\n",
       "count  1.244450e+05\n",
       "mean   1.272516e+05\n",
       "std    3.681980e+04\n",
       "min    1.000000e+05\n",
       "25%    1.056961e+05\n",
       "50%    1.154396e+05\n",
       "75%    1.332854e+05\n",
       "max    1.155899e+06"
      ]
     },
     "execution_count": 156,
     "metadata": {
      "tags": []
     },
     "output_type": "execute_result"
    }
   ],
   "source": [
    "income.describe()"
   ]
  },
  {
   "cell_type": "markdown",
   "metadata": {
    "id": "wwLhPXNApX-c"
   },
   "source": [
    "### 2.2.3. Lambda Functions"
   ]
  },
  {
   "cell_type": "markdown",
   "metadata": {
    "id": "KS-JFkKIpX-d"
   },
   "source": [
    "Python has a temporary function called a `lambda` function, which doesn't have a name or a formal definition like traditional functions. Lambda functions are particularly useful when passing functions to methods like `apply`. The format for lambda functions is:"
   ]
  },
  {
   "cell_type": "code",
   "execution_count": null,
   "metadata": {
    "id": "MQ_YvvcWpX-e"
   },
   "outputs": [],
   "source": [
    "lambda parameter_arguments : return_expression"
   ]
  },
  {
   "cell_type": "markdown",
   "metadata": {
    "id": "BziwfZlNpX-j"
   },
   "source": [
    "As an example, an equivalent lambda function to our `str_to_num` function is <br/>\n",
    "```\n",
    "lambda string : float(string.strip('$').replace(',',''))\n",
    "```\n",
    "Let's use this lambda in our `apply` method."
   ]
  },
  {
   "cell_type": "code",
   "execution_count": 157,
   "metadata": {
    "colab": {
     "base_uri": "https://localhost:8080/",
     "height": 309
    },
    "executionInfo": {
     "elapsed": 149,
     "status": "ok",
     "timestamp": 1626123904559,
     "user": {
      "displayName": "Leslie Kerby",
      "photoUrl": "https://lh3.googleusercontent.com/a-/AOh14GjN8SnHoanmo435DxiVf-rB_w00WFdyFzUqH3TuM30=s64",
      "userId": "13736524897897077884"
     },
     "user_tz": 360
    },
    "id": "dNHmyC-BpX-k",
    "outputId": "f30ca347-9989-42d4-9258-782e800b3244"
   },
   "outputs": [
    {
     "data": {
      "text/html": [
       "<div>\n",
       "<style scoped>\n",
       "    .dataframe tbody tr th:only-of-type {\n",
       "        vertical-align: middle;\n",
       "    }\n",
       "\n",
       "    .dataframe tbody tr th {\n",
       "        vertical-align: top;\n",
       "    }\n",
       "\n",
       "    .dataframe thead th {\n",
       "        text-align: right;\n",
       "    }\n",
       "</style>\n",
       "<table border=\"1\" class=\"dataframe\">\n",
       "  <thead>\n",
       "    <tr style=\"text-align: right;\">\n",
       "      <th></th>\n",
       "      <th>Sector</th>\n",
       "      <th>Last Name</th>\n",
       "      <th>First Name</th>\n",
       "      <th>Salary Paid</th>\n",
       "      <th>Taxable Benefits</th>\n",
       "      <th>Employer</th>\n",
       "      <th>Job Title</th>\n",
       "      <th>Calendar Year</th>\n",
       "      <th>Salary ($)</th>\n",
       "    </tr>\n",
       "  </thead>\n",
       "  <tbody>\n",
       "    <tr>\n",
       "      <th>0</th>\n",
       "      <td>Colleges</td>\n",
       "      <td>Abbas</td>\n",
       "      <td>Sadiq</td>\n",
       "      <td>$105,595.39</td>\n",
       "      <td>$84.24</td>\n",
       "      <td>Algonquin College</td>\n",
       "      <td>Professor</td>\n",
       "      <td>2016</td>\n",
       "      <td>105595.39</td>\n",
       "    </tr>\n",
       "    <tr>\n",
       "      <th>1</th>\n",
       "      <td>Colleges</td>\n",
       "      <td>Abboud</td>\n",
       "      <td>Nadim</td>\n",
       "      <td>$108,393.10</td>\n",
       "      <td>$126.96</td>\n",
       "      <td>Algonquin College</td>\n",
       "      <td>Professor</td>\n",
       "      <td>2016</td>\n",
       "      <td>108393.10</td>\n",
       "    </tr>\n",
       "    <tr>\n",
       "      <th>2</th>\n",
       "      <td>Colleges</td>\n",
       "      <td>Agate</td>\n",
       "      <td>Jeffery M.</td>\n",
       "      <td>$125,779.64</td>\n",
       "      <td>$325.58</td>\n",
       "      <td>Algonquin College</td>\n",
       "      <td>Associate Director, Student Support Services</td>\n",
       "      <td>2016</td>\n",
       "      <td>125779.64</td>\n",
       "    </tr>\n",
       "    <tr>\n",
       "      <th>3</th>\n",
       "      <td>Colleges</td>\n",
       "      <td>Al-Azzawi</td>\n",
       "      <td>Abdul</td>\n",
       "      <td>$105,595.41</td>\n",
       "      <td>$84.24</td>\n",
       "      <td>Algonquin College</td>\n",
       "      <td>Professor</td>\n",
       "      <td>2016</td>\n",
       "      <td>105595.41</td>\n",
       "    </tr>\n",
       "    <tr>\n",
       "      <th>4</th>\n",
       "      <td>Colleges</td>\n",
       "      <td>Alexander</td>\n",
       "      <td>Doug</td>\n",
       "      <td>$105,595.41</td>\n",
       "      <td>$126.96</td>\n",
       "      <td>Algonquin College</td>\n",
       "      <td>Professor</td>\n",
       "      <td>2016</td>\n",
       "      <td>105595.41</td>\n",
       "    </tr>\n",
       "  </tbody>\n",
       "</table>\n",
       "</div>"
      ],
      "text/plain": [
       "     Sector  Last Name  ... Calendar Year Salary ($)\n",
       "0  Colleges      Abbas  ...          2016  105595.39\n",
       "1  Colleges     Abboud  ...          2016  108393.10\n",
       "2  Colleges      Agate  ...          2016  125779.64\n",
       "3  Colleges  Al-Azzawi  ...          2016  105595.41\n",
       "4  Colleges  Alexander  ...          2016  105595.41\n",
       "\n",
       "[5 rows x 9 columns]"
      ]
     },
     "execution_count": 157,
     "metadata": {
      "tags": []
     },
     "output_type": "execute_result"
    }
   ],
   "source": [
    "income['Salary ($)'] = income['Salary Paid'].apply(lambda string : float(string.strip('$').replace(',','')) )\n",
    "income.head()"
   ]
  },
  {
   "cell_type": "markdown",
   "metadata": {
    "id": "6jC6_3NcpX-o"
   },
   "source": [
    "Note that it does not matter what you call `string`, Python assumes it stands in as the dummy variable for each element in the DataFrame column you are `apply`ing on. We could use `x` instead."
   ]
  },
  {
   "cell_type": "code",
   "execution_count": null,
   "metadata": {
    "id": "DNumH_xRpX-o"
   },
   "outputs": [],
   "source": [
    "income['Salary ($)'] = income['Salary Paid'].apply(lambda x : float(x.strip('$').replace(',','')) )\n",
    "income.head()"
   ]
  },
  {
   "cell_type": "markdown",
   "metadata": {
    "id": "CxZv1oIPpX-u"
   },
   "source": [
    "## 2.3. Histograms\n",
    "\n",
    "Histograms are easy to perform on a DataFrame column using the `hist` method."
   ]
  },
  {
   "cell_type": "code",
   "execution_count": 158,
   "metadata": {
    "colab": {
     "base_uri": "https://localhost:8080/",
     "height": 295
    },
    "executionInfo": {
     "elapsed": 522,
     "status": "ok",
     "timestamp": 1626124111014,
     "user": {
      "displayName": "Leslie Kerby",
      "photoUrl": "https://lh3.googleusercontent.com/a-/AOh14GjN8SnHoanmo435DxiVf-rB_w00WFdyFzUqH3TuM30=s64",
      "userId": "13736524897897077884"
     },
     "user_tz": 360
    },
    "id": "-Fkib9OopX-v",
    "outputId": "f74a71d4-a746-45c3-b504-f6d1cb9334cd"
   },
   "outputs": [
    {
     "data": {
      "text/plain": [
       "1155899.14"
      ]
     },
     "execution_count": 158,
     "metadata": {
      "tags": []
     },
     "output_type": "execute_result"
    },
    {
     "data": {
      "image/png": "[encoded data removed]",
      "text/plain": [
       "<Figure size 432x288 with 1 Axes>"
      ]
     },
     "metadata": {
      "needs_background": "light",
      "tags": []
     },
     "output_type": "display_data"
    }
   ],
   "source": [
    "# These lines set up graphing capabilities.\n",
    "import matplotlib\n",
    "#%matplotlib inline\n",
    "import matplotlib.pyplot as plt\n",
    "#plt.style.use('fivethirtyeight')\n",
    "\n",
    "income['Salary ($)'].hist()\n",
    "income['Salary ($)'].max()"
   ]
  },
  {
   "cell_type": "markdown",
   "metadata": {
    "id": "Pspt6srCpX-z"
   },
   "source": [
    "The default number of bins is ten. We can easily change this with the optional argument `bins`."
   ]
  },
  {
   "cell_type": "code",
   "execution_count": 159,
   "metadata": {
    "colab": {
     "base_uri": "https://localhost:8080/",
     "height": 296
    },
    "executionInfo": {
     "elapsed": 583,
     "status": "ok",
     "timestamp": 1626124173324,
     "user": {
      "displayName": "Leslie Kerby",
      "photoUrl": "https://lh3.googleusercontent.com/a-/AOh14GjN8SnHoanmo435DxiVf-rB_w00WFdyFzUqH3TuM30=s64",
      "userId": "13736524897897077884"
     },
     "user_tz": 360
    },
    "id": "B_H0leVYpX-1",
    "outputId": "d67ebd38-4d7d-4a09-a47a-1357c0eee835"
   },
   "outputs": [
    {
     "data": {
      "text/plain": [
       "<matplotlib.axes._subplots.AxesSubplot at 0x7fb752f42890>"
      ]
     },
     "execution_count": 159,
     "metadata": {
      "tags": []
     },
     "output_type": "execute_result"
    },
    {
     "data": {
      "image/png": "[encoded data removed]",
      "text/plain": [
       "<Figure size 432x288 with 1 Axes>"
      ]
     },
     "metadata": {
      "needs_background": "light",
      "tags": []
     },
     "output_type": "display_data"
    }
   ],
   "source": [
    "income['Salary ($)'].hist(bins=100)"
   ]
  },
  {
   "cell_type": "code",
   "execution_count": 161,
   "metadata": {
    "colab": {
     "base_uri": "https://localhost:8080/",
     "height": 115
    },
    "executionInfo": {
     "elapsed": 149,
     "status": "ok",
     "timestamp": 1626124416826,
     "user": {
      "displayName": "Leslie Kerby",
      "photoUrl": "https://lh3.googleusercontent.com/a-/AOh14GjN8SnHoanmo435DxiVf-rB_w00WFdyFzUqH3TuM30=s64",
      "userId": "13736524897897077884"
     },
     "user_tz": 360
    },
    "id": "ND8QRR-PjuG8",
    "outputId": "1400c6a5-531a-4999-c622-ffebac99978b"
   },
   "outputs": [
    {
     "data": {
      "text/html": [
       "<div>\n",
       "<style scoped>\n",
       "    .dataframe tbody tr th:only-of-type {\n",
       "        vertical-align: middle;\n",
       "    }\n",
       "\n",
       "    .dataframe tbody tr th {\n",
       "        vertical-align: top;\n",
       "    }\n",
       "\n",
       "    .dataframe thead th {\n",
       "        text-align: right;\n",
       "    }\n",
       "</style>\n",
       "<table border=\"1\" class=\"dataframe\">\n",
       "  <thead>\n",
       "    <tr style=\"text-align: right;\">\n",
       "      <th></th>\n",
       "      <th>Sector</th>\n",
       "      <th>Last Name</th>\n",
       "      <th>First Name</th>\n",
       "      <th>Salary Paid</th>\n",
       "      <th>Taxable Benefits</th>\n",
       "      <th>Employer</th>\n",
       "      <th>Job Title</th>\n",
       "      <th>Calendar Year</th>\n",
       "      <th>Salary ($)</th>\n",
       "    </tr>\n",
       "  </thead>\n",
       "  <tbody>\n",
       "    <tr>\n",
       "      <th>78332</th>\n",
       "      <td>Ontario Power Generation</td>\n",
       "      <td>Lyash</td>\n",
       "      <td>Jeffrey</td>\n",
       "      <td>$1,155,899.14</td>\n",
       "      <td>$9,802.71</td>\n",
       "      <td>Ontario Power Generation</td>\n",
       "      <td>President and Chief Executive Officer</td>\n",
       "      <td>2016</td>\n",
       "      <td>1155899.14</td>\n",
       "    </tr>\n",
       "  </tbody>\n",
       "</table>\n",
       "</div>"
      ],
      "text/plain": [
       "                         Sector Last Name  ... Calendar Year  Salary ($)\n",
       "78332  Ontario Power Generation     Lyash  ...          2016  1155899.14\n",
       "\n",
       "[1 rows x 9 columns]"
      ]
     },
     "execution_count": 161,
     "metadata": {
      "tags": []
     },
     "output_type": "execute_result"
    }
   ],
   "source": [
    "income[ income['Salary ($)'] == income['Salary ($)'].max() ]"
   ]
  },
  {
   "cell_type": "markdown",
   "metadata": {
    "id": "DeAAKciSpX-4"
   },
   "source": [
    "## 2.4. Practice Review"
   ]
  },
  {
   "cell_type": "markdown",
   "metadata": {
    "id": "Ks3ZfeWbpX-5"
   },
   "source": [
    "**Question 2.4.1.**<br/>\n",
    "What is the average employee salary in the Canadian-public-employees-making-over-CAN$100,000 dataset?"
   ]
  },
  {
   "cell_type": "code",
   "execution_count": 190,
   "metadata": {
    "colab": {
     "base_uri": "https://localhost:8080/"
    },
    "executionInfo": {
     "elapsed": 154,
     "status": "ok",
     "timestamp": 1626125493660,
     "user": {
      "displayName": "Leslie Kerby",
      "photoUrl": "https://lh3.googleusercontent.com/a-/AOh14GjN8SnHoanmo435DxiVf-rB_w00WFdyFzUqH3TuM30=s64",
      "userId": "13736524897897077884"
     },
     "user_tz": 360
    },
    "id": "s03jvTiqxyja",
    "outputId": "2b7587f9-93bf-479c-baa4-25e8ed7a71c6"
   },
   "outputs": [
    {
     "data": {
      "text/plain": [
       "127251.60404291407"
      ]
     },
     "execution_count": 190,
     "metadata": {
      "tags": []
     },
     "output_type": "execute_result"
    }
   ],
   "source": [
    "income['Salary ($)'].mean()"
   ]
  },
  {
   "cell_type": "code",
   "execution_count": 191,
   "metadata": {
    "colab": {
     "base_uri": "https://localhost:8080/"
    },
    "executionInfo": {
     "elapsed": 166,
     "status": "ok",
     "timestamp": 1626125499802,
     "user": {
      "displayName": "Leslie Kerby",
      "photoUrl": "https://lh3.googleusercontent.com/a-/AOh14GjN8SnHoanmo435DxiVf-rB_w00WFdyFzUqH3TuM30=s64",
      "userId": "13736524897897077884"
     },
     "user_tz": 360
    },
    "id": "nolBcqt3odUu",
    "outputId": "9428bd74-fc1a-456e-9ee8-e17b57a49d20"
   },
   "outputs": [
    {
     "data": {
      "text/plain": [
       "115439.58"
      ]
     },
     "execution_count": 191,
     "metadata": {
      "tags": []
     },
     "output_type": "execute_result"
    }
   ],
   "source": [
    "income['Salary ($)'].median()"
   ]
  },
  {
   "cell_type": "markdown",
   "metadata": {
    "id": "pPiTMw6BpX-8"
   },
   "source": [
    "**Question 2.4.2.** <br/>\n",
    "How many employees made more than CAN$200,000? "
   ]
  },
  {
   "cell_type": "code",
   "execution_count": 194,
   "metadata": {
    "colab": {
     "base_uri": "https://localhost:8080/"
    },
    "executionInfo": {
     "elapsed": 149,
     "status": "ok",
     "timestamp": 1626125611235,
     "user": {
      "displayName": "Leslie Kerby",
      "photoUrl": "https://lh3.googleusercontent.com/a-/AOh14GjN8SnHoanmo435DxiVf-rB_w00WFdyFzUqH3TuM30=s64",
      "userId": "13736524897897077884"
     },
     "user_tz": 360
    },
    "id": "R-QMu7mZpX--",
    "outputId": "d10d02ef-04d9-413c-c555-6caa4ee141a0"
   },
   "outputs": [
    {
     "data": {
      "text/plain": [
       "5512"
      ]
     },
     "execution_count": 194,
     "metadata": {
      "tags": []
     },
     "output_type": "execute_result"
    }
   ],
   "source": [
    "len(income[ income['Salary ($)'] > 200000 ])"
   ]
  },
  {
   "cell_type": "markdown",
   "metadata": {
    "id": "PZwLsnaPpX_C"
   },
   "source": [
    "**Question 2.4.3.**<br/>\n",
    "What was the maximum salary in the dataset?"
   ]
  },
  {
   "cell_type": "code",
   "execution_count": 196,
   "metadata": {
    "colab": {
     "base_uri": "https://localhost:8080/"
    },
    "executionInfo": {
     "elapsed": 138,
     "status": "ok",
     "timestamp": 1626125687132,
     "user": {
      "displayName": "Leslie Kerby",
      "photoUrl": "https://lh3.googleusercontent.com/a-/AOh14GjN8SnHoanmo435DxiVf-rB_w00WFdyFzUqH3TuM30=s64",
      "userId": "13736524897897077884"
     },
     "user_tz": 360
    },
    "id": "jQBSGGC6pX_D",
    "outputId": "7aec8c2c-8223-4db2-e709-f92d2cb9acb4"
   },
   "outputs": [
    {
     "data": {
      "text/plain": [
       "1155899.14"
      ]
     },
     "execution_count": 196,
     "metadata": {
      "tags": []
     },
     "output_type": "execute_result"
    }
   ],
   "source": [
    "income['Salary ($)'].max()"
   ]
  },
  {
   "cell_type": "markdown",
   "metadata": {
    "id": "0A2A6xoypX_G"
   },
   "source": [
    "**Question 2.4.4.**<br/>\n",
    "Who made that max salary and what is their job description?<br/>"
   ]
  },
  {
   "cell_type": "code",
   "execution_count": 197,
   "metadata": {
    "colab": {
     "base_uri": "https://localhost:8080/",
     "height": 115
    },
    "executionInfo": {
     "elapsed": 181,
     "status": "ok",
     "timestamp": 1626125694616,
     "user": {
      "displayName": "Leslie Kerby",
      "photoUrl": "https://lh3.googleusercontent.com/a-/AOh14GjN8SnHoanmo435DxiVf-rB_w00WFdyFzUqH3TuM30=s64",
      "userId": "13736524897897077884"
     },
     "user_tz": 360
    },
    "id": "L4mQ0Hq7pX_H",
    "outputId": "dd30d022-e08b-4e25-f224-8f5de17e2741"
   },
   "outputs": [
    {
     "data": {
      "text/html": [
       "<div>\n",
       "<style scoped>\n",
       "    .dataframe tbody tr th:only-of-type {\n",
       "        vertical-align: middle;\n",
       "    }\n",
       "\n",
       "    .dataframe tbody tr th {\n",
       "        vertical-align: top;\n",
       "    }\n",
       "\n",
       "    .dataframe thead th {\n",
       "        text-align: right;\n",
       "    }\n",
       "</style>\n",
       "<table border=\"1\" class=\"dataframe\">\n",
       "  <thead>\n",
       "    <tr style=\"text-align: right;\">\n",
       "      <th></th>\n",
       "      <th>Sector</th>\n",
       "      <th>Last Name</th>\n",
       "      <th>First Name</th>\n",
       "      <th>Salary Paid</th>\n",
       "      <th>Taxable Benefits</th>\n",
       "      <th>Employer</th>\n",
       "      <th>Job Title</th>\n",
       "      <th>Calendar Year</th>\n",
       "      <th>Salary ($)</th>\n",
       "    </tr>\n",
       "  </thead>\n",
       "  <tbody>\n",
       "    <tr>\n",
       "      <th>78332</th>\n",
       "      <td>Ontario Power Generation</td>\n",
       "      <td>Lyash</td>\n",
       "      <td>Jeffrey</td>\n",
       "      <td>$1,155,899.14</td>\n",
       "      <td>$9,802.71</td>\n",
       "      <td>Ontario Power Generation</td>\n",
       "      <td>President and Chief Executive Officer</td>\n",
       "      <td>2016</td>\n",
       "      <td>1155899.14</td>\n",
       "    </tr>\n",
       "  </tbody>\n",
       "</table>\n",
       "</div>"
      ],
      "text/plain": [
       "                         Sector Last Name  ... Calendar Year  Salary ($)\n",
       "78332  Ontario Power Generation     Lyash  ...          2016  1155899.14\n",
       "\n",
       "[1 rows x 9 columns]"
      ]
     },
     "execution_count": 197,
     "metadata": {
      "tags": []
     },
     "output_type": "execute_result"
    }
   ],
   "source": [
    "income[ income['Salary ($)'] == income['Salary ($)'].max() ]"
   ]
  },
  {
   "cell_type": "code",
   "execution_count": 208,
   "metadata": {
    "colab": {
     "base_uri": "https://localhost:8080/",
     "height": 34
    },
    "executionInfo": {
     "elapsed": 142,
     "status": "ok",
     "timestamp": 1626125996243,
     "user": {
      "displayName": "Leslie Kerby",
      "photoUrl": "https://lh3.googleusercontent.com/a-/AOh14GjN8SnHoanmo435DxiVf-rB_w00WFdyFzUqH3TuM30=s64",
      "userId": "13736524897897077884"
     },
     "user_tz": 360
    },
    "id": "0aW1LOqzpVk-",
    "outputId": "1d0a98e9-a779-48e7-fdd9-1b1111b885d6"
   },
   "outputs": [
    {
     "data": {
      "application/vnd.google.colaboratory.intrinsic+json": {
       "type": "string"
      },
      "text/plain": [
       "'Lyash'"
      ]
     },
     "execution_count": 208,
     "metadata": {
      "tags": []
     },
     "output_type": "execute_result"
    }
   ],
   "source": [
    "#income[ income['Salary ($)'] == income['Salary ($)'].max() ]['Last Name'].values[0]\n",
    "income['Salary ($)'].argmax()\n",
    "income.loc[78332,\"Last Name\"]\n",
    "income.loc[78332,\"Job Title\"]\n",
    "income.iloc[78332,1]"
   ]
  },
  {
   "cell_type": "markdown",
   "metadata": {
    "id": "Nz2jbBODpX_O"
   },
   "source": [
    "**Question 2.4.5.** <br/> What Job Title was most common?\n",
    "\n",
    "*Hint:* Use the method `describe()` on a DataFrame column. You will see summary information, which you can separate by adding another method (ie to find the frequency of the most common Job Title you would code `income['Job Title'].describe().freq`)."
   ]
  },
  {
   "cell_type": "code",
   "execution_count": 210,
   "metadata": {
    "colab": {
     "base_uri": "https://localhost:8080/",
     "height": 34
    },
    "executionInfo": {
     "elapsed": 141,
     "status": "ok",
     "timestamp": 1626126048245,
     "user": {
      "displayName": "Leslie Kerby",
      "photoUrl": "https://lh3.googleusercontent.com/a-/AOh14GjN8SnHoanmo435DxiVf-rB_w00WFdyFzUqH3TuM30=s64",
      "userId": "13736524897897077884"
     },
     "user_tz": 360
    },
    "id": "nNPsxod6pX_O",
    "outputId": "724e07ec-f100-46b8-ca60-50c5827775dd"
   },
   "outputs": [
    {
     "data": {
      "application/vnd.google.colaboratory.intrinsic+json": {
       "type": "string"
      },
      "text/plain": [
       "'Professor'"
      ]
     },
     "execution_count": 210,
     "metadata": {
      "tags": []
     },
     "output_type": "execute_result"
    }
   ],
   "source": [
    "income['Job Title'].describe().top"
   ]
  },
  {
   "cell_type": "markdown",
   "metadata": {
    "id": "zdV2fdjrpX_S"
   },
   "source": [
    "**Question 2.4.6.**<br/>\n",
    "How many different Employers are included in the dataset?\n",
    "\n",
    "*Hint:* The method `nunique()` on a DataFrame column (ie a pandas Series) returns the number of unique values. As an aside, the method `unique` returns an array of what those unique values are (try it if you want)."
   ]
  },
  {
   "cell_type": "code",
   "execution_count": 216,
   "metadata": {
    "colab": {
     "base_uri": "https://localhost:8080/"
    },
    "executionInfo": {
     "elapsed": 158,
     "status": "ok",
     "timestamp": 1626126151334,
     "user": {
      "displayName": "Leslie Kerby",
      "photoUrl": "https://lh3.googleusercontent.com/a-/AOh14GjN8SnHoanmo435DxiVf-rB_w00WFdyFzUqH3TuM30=s64",
      "userId": "13736524897897077884"
     },
     "user_tz": 360
    },
    "id": "G6XommqjpX_T",
    "outputId": "6cc2b4c3-342c-4812-f9b1-5381013e948d"
   },
   "outputs": [
    {
     "data": {
      "text/plain": [
       "1788"
      ]
     },
     "execution_count": 216,
     "metadata": {
      "tags": []
     },
     "output_type": "execute_result"
    }
   ],
   "source": [
    "income['Employer'].nunique()\n",
    "income['Employer'].describe()[1]"
   ]
  },
  {
   "cell_type": "markdown",
   "metadata": {
    "id": "bvuHncUdpX_W"
   },
   "source": [
    "**Question 2.4.7.**<br/> \n",
    "How many employees did the University of Ontario Institute of Technology have in this dataset? Again use python to give the answer as a number."
   ]
  },
  {
   "cell_type": "code",
   "execution_count": 218,
   "metadata": {
    "colab": {
     "base_uri": "https://localhost:8080/"
    },
    "executionInfo": {
     "elapsed": 191,
     "status": "ok",
     "timestamp": 1626126239607,
     "user": {
      "displayName": "Leslie Kerby",
      "photoUrl": "https://lh3.googleusercontent.com/a-/AOh14GjN8SnHoanmo435DxiVf-rB_w00WFdyFzUqH3TuM30=s64",
      "userId": "13736524897897077884"
     },
     "user_tz": 360
    },
    "id": "XmjUdwG1pX_X",
    "outputId": "e57267ec-6619-4880-f96c-3369d2bb83bd"
   },
   "outputs": [
    {
     "data": {
      "text/plain": [
       "216"
      ]
     },
     "execution_count": 218,
     "metadata": {
      "tags": []
     },
     "output_type": "execute_result"
    }
   ],
   "source": [
    "oit = income[ income['Employer'] == \"University of Ontario Institute of Technology\" ]\n",
    "len(oit)"
   ]
  },
  {
   "cell_type": "markdown",
   "metadata": {
    "id": "mKdo6T3vpX_a"
   },
   "source": [
    "**Question 2.4.8.**<br/>\n",
    "What was the average employee salary of the University of Ontario Institute of Technology in this dataset?"
   ]
  },
  {
   "cell_type": "code",
   "execution_count": 219,
   "metadata": {
    "colab": {
     "base_uri": "https://localhost:8080/"
    },
    "executionInfo": {
     "elapsed": 132,
     "status": "ok",
     "timestamp": 1626126252293,
     "user": {
      "displayName": "Leslie Kerby",
      "photoUrl": "https://lh3.googleusercontent.com/a-/AOh14GjN8SnHoanmo435DxiVf-rB_w00WFdyFzUqH3TuM30=s64",
      "userId": "13736524897897077884"
     },
     "user_tz": 360
    },
    "id": "F1qM62pYpX_b",
    "outputId": "e91622ea-29db-460c-b172-790e971ed8ca"
   },
   "outputs": [
    {
     "data": {
      "text/plain": [
       "142139.12208333338"
      ]
     },
     "execution_count": 219,
     "metadata": {
      "tags": []
     },
     "output_type": "execute_result"
    }
   ],
   "source": [
    "oit['Salary ($)'].mean()"
   ]
  },
  {
   "cell_type": "markdown",
   "metadata": {
    "id": "F2jxfaNGpX_f"
   },
   "source": [
    "**Question 2.4.9.**<br/>\n",
    "Create a histogram of employee salary of University of Ontario Institute of Technology employees, using 50 bins."
   ]
  },
  {
   "cell_type": "code",
   "execution_count": 220,
   "metadata": {
    "colab": {
     "base_uri": "https://localhost:8080/",
     "height": 282
    },
    "executionInfo": {
     "elapsed": 413,
     "status": "ok",
     "timestamp": 1626126296969,
     "user": {
      "displayName": "Leslie Kerby",
      "photoUrl": "https://lh3.googleusercontent.com/a-/AOh14GjN8SnHoanmo435DxiVf-rB_w00WFdyFzUqH3TuM30=s64",
      "userId": "13736524897897077884"
     },
     "user_tz": 360
    },
    "id": "qvSuEy0OpX_g",
    "outputId": "64e2871d-ac94-4593-b614-e942ee0b4d88"
   },
   "outputs": [
    {
     "data": {
      "text/plain": [
       "<matplotlib.axes._subplots.AxesSubplot at 0x7fb752742990>"
      ]
     },
     "execution_count": 220,
     "metadata": {
      "tags": []
     },
     "output_type": "execute_result"
    },
    {
     "data": {
      "image/png": "[encoded data removed]",
      "text/plain": [
       "<Figure size 432x288 with 1 Axes>"
      ]
     },
     "metadata": {
      "needs_background": "light",
      "tags": []
     },
     "output_type": "display_data"
    }
   ],
   "source": [
    "oit['Salary ($)'].hist(bins=50)"
   ]
  },
  {
   "cell_type": "code",
   "execution_count": 222,
   "metadata": {
    "colab": {
     "base_uri": "https://localhost:8080/"
    },
    "executionInfo": {
     "elapsed": 210,
     "status": "ok",
     "timestamp": 1626126334811,
     "user": {
      "displayName": "Leslie Kerby",
      "photoUrl": "https://lh3.googleusercontent.com/a-/AOh14GjN8SnHoanmo435DxiVf-rB_w00WFdyFzUqH3TuM30=s64",
      "userId": "13736524897897077884"
     },
     "user_tz": 360
    },
    "id": "xTjV29XapX_k",
    "outputId": "7a8889d7-da33-4a06-f1ec-9d1f491d2eb9"
   },
   "outputs": [
    {
     "data": {
      "text/plain": [
       "133"
      ]
     },
     "execution_count": 222,
     "metadata": {
      "tags": []
     },
     "output_type": "execute_result"
    }
   ],
   "source": [
    "oit['Salary ($)'].argmax()"
   ]
  },
  {
   "cell_type": "code",
   "execution_count": 224,
   "metadata": {
    "colab": {
     "base_uri": "https://localhost:8080/"
    },
    "executionInfo": {
     "elapsed": 154,
     "status": "ok",
     "timestamp": 1626126347760,
     "user": {
      "displayName": "Leslie Kerby",
      "photoUrl": "https://lh3.googleusercontent.com/a-/AOh14GjN8SnHoanmo435DxiVf-rB_w00WFdyFzUqH3TuM30=s64",
      "userId": "13736524897897077884"
     },
     "user_tz": 360
    },
    "id": "agp1NWPZrrmp",
    "outputId": "b4f45bfc-cc6c-4b0c-b486-d5d064971341"
   },
   "outputs": [
    {
     "data": {
      "text/plain": [
       "Sector                                               Universities\n",
       "Last Name                                               Mctiernan\n",
       "First Name                                                Timothy\n",
       "Salary Paid                                           $320,000.04\n",
       "Taxable Benefits                                        $5,525.91\n",
       "Employer            University of Ontario Institute of Technology\n",
       "Job Title                           President And Vice-Chancellor\n",
       "Calendar Year                                                2016\n",
       "Salary ($)                                                 320000\n",
       "Name: 115248, dtype: object"
      ]
     },
     "execution_count": 224,
     "metadata": {
      "tags": []
     },
     "output_type": "execute_result"
    }
   ],
   "source": [
    "oit.iloc[133,]"
   ]
  },
  {
   "cell_type": "markdown",
   "metadata": {
    "id": "qx5jVxnN7jSz"
   },
   "source": [
    "# Part 3: Decision Trees"
   ]
  },
  {
   "cell_type": "markdown",
   "metadata": {
    "id": "iZ6w98RqDYUp"
   },
   "source": [
    "Decision trees are a **supervised** machine learning method (need a target and training data).</br>\n",
    "Usually utilized for **classification**, however regression decision tree methods exist."
   ]
  },
  {
   "cell_type": "markdown",
   "metadata": {
    "id": "zsK11ahsHuHG"
   },
   "source": [
    "### Use a decision tree on the `churn` data set"
   ]
  },
  {
   "cell_type": "code",
   "execution_count": 225,
   "metadata": {
    "colab": {
     "base_uri": "https://localhost:8080/",
     "height": 329
    },
    "executionInfo": {
     "elapsed": 389,
     "status": "ok",
     "timestamp": 1626127911452,
     "user": {
      "displayName": "Leslie Kerby",
      "photoUrl": "https://lh3.googleusercontent.com/a-/AOh14GjN8SnHoanmo435DxiVf-rB_w00WFdyFzUqH3TuM30=s64",
      "userId": "13736524897897077884"
     },
     "user_tz": 360
    },
    "id": "w7yu48UqHslT",
    "outputId": "2663c0b2-d603-4725-9f4d-81073c233e9c"
   },
   "outputs": [
    {
     "data": {
      "text/html": [
       "<div>\n",
       "<style scoped>\n",
       "    .dataframe tbody tr th:only-of-type {\n",
       "        vertical-align: middle;\n",
       "    }\n",
       "\n",
       "    .dataframe tbody tr th {\n",
       "        vertical-align: top;\n",
       "    }\n",
       "\n",
       "    .dataframe thead th {\n",
       "        text-align: right;\n",
       "    }\n",
       "</style>\n",
       "<table border=\"1\" class=\"dataframe\">\n",
       "  <thead>\n",
       "    <tr style=\"text-align: right;\">\n",
       "      <th></th>\n",
       "      <th>State</th>\n",
       "      <th>Account Length</th>\n",
       "      <th>Area Code</th>\n",
       "      <th>Phone</th>\n",
       "      <th>Int'l Plan</th>\n",
       "      <th>VMail Plan</th>\n",
       "      <th>VMail Message</th>\n",
       "      <th>Day Mins</th>\n",
       "      <th>Day Calls</th>\n",
       "      <th>Day Charge</th>\n",
       "      <th>Eve Mins</th>\n",
       "      <th>Eve Calls</th>\n",
       "      <th>Eve Charge</th>\n",
       "      <th>Night Mins</th>\n",
       "      <th>Night Calls</th>\n",
       "      <th>Night Charge</th>\n",
       "      <th>Intl Mins</th>\n",
       "      <th>Intl Calls</th>\n",
       "      <th>Intl Charge</th>\n",
       "      <th>CustServ Calls</th>\n",
       "      <th>Churn?</th>\n",
       "    </tr>\n",
       "  </thead>\n",
       "  <tbody>\n",
       "    <tr>\n",
       "      <th>0</th>\n",
       "      <td>KS</td>\n",
       "      <td>128</td>\n",
       "      <td>415</td>\n",
       "      <td>382-4657</td>\n",
       "      <td>no</td>\n",
       "      <td>yes</td>\n",
       "      <td>25</td>\n",
       "      <td>265.1</td>\n",
       "      <td>110</td>\n",
       "      <td>45.07</td>\n",
       "      <td>197.4</td>\n",
       "      <td>99</td>\n",
       "      <td>16.78</td>\n",
       "      <td>244.7</td>\n",
       "      <td>91</td>\n",
       "      <td>11.01</td>\n",
       "      <td>10.0</td>\n",
       "      <td>3</td>\n",
       "      <td>2.70</td>\n",
       "      <td>1</td>\n",
       "      <td>False.</td>\n",
       "    </tr>\n",
       "    <tr>\n",
       "      <th>1</th>\n",
       "      <td>OH</td>\n",
       "      <td>107</td>\n",
       "      <td>415</td>\n",
       "      <td>371-7191</td>\n",
       "      <td>no</td>\n",
       "      <td>yes</td>\n",
       "      <td>26</td>\n",
       "      <td>161.6</td>\n",
       "      <td>123</td>\n",
       "      <td>27.47</td>\n",
       "      <td>195.5</td>\n",
       "      <td>103</td>\n",
       "      <td>16.62</td>\n",
       "      <td>254.4</td>\n",
       "      <td>103</td>\n",
       "      <td>11.45</td>\n",
       "      <td>13.7</td>\n",
       "      <td>3</td>\n",
       "      <td>3.70</td>\n",
       "      <td>1</td>\n",
       "      <td>False.</td>\n",
       "    </tr>\n",
       "    <tr>\n",
       "      <th>2</th>\n",
       "      <td>NJ</td>\n",
       "      <td>137</td>\n",
       "      <td>415</td>\n",
       "      <td>358-1921</td>\n",
       "      <td>no</td>\n",
       "      <td>no</td>\n",
       "      <td>0</td>\n",
       "      <td>243.4</td>\n",
       "      <td>114</td>\n",
       "      <td>41.38</td>\n",
       "      <td>121.2</td>\n",
       "      <td>110</td>\n",
       "      <td>10.30</td>\n",
       "      <td>162.6</td>\n",
       "      <td>104</td>\n",
       "      <td>7.32</td>\n",
       "      <td>12.2</td>\n",
       "      <td>5</td>\n",
       "      <td>3.29</td>\n",
       "      <td>0</td>\n",
       "      <td>False.</td>\n",
       "    </tr>\n",
       "    <tr>\n",
       "      <th>3</th>\n",
       "      <td>OH</td>\n",
       "      <td>84</td>\n",
       "      <td>408</td>\n",
       "      <td>375-9999</td>\n",
       "      <td>yes</td>\n",
       "      <td>no</td>\n",
       "      <td>0</td>\n",
       "      <td>299.4</td>\n",
       "      <td>71</td>\n",
       "      <td>50.90</td>\n",
       "      <td>61.9</td>\n",
       "      <td>88</td>\n",
       "      <td>5.26</td>\n",
       "      <td>196.9</td>\n",
       "      <td>89</td>\n",
       "      <td>8.86</td>\n",
       "      <td>6.6</td>\n",
       "      <td>7</td>\n",
       "      <td>1.78</td>\n",
       "      <td>2</td>\n",
       "      <td>False.</td>\n",
       "    </tr>\n",
       "    <tr>\n",
       "      <th>4</th>\n",
       "      <td>OK</td>\n",
       "      <td>75</td>\n",
       "      <td>415</td>\n",
       "      <td>330-6626</td>\n",
       "      <td>yes</td>\n",
       "      <td>no</td>\n",
       "      <td>0</td>\n",
       "      <td>166.7</td>\n",
       "      <td>113</td>\n",
       "      <td>28.34</td>\n",
       "      <td>148.3</td>\n",
       "      <td>122</td>\n",
       "      <td>12.61</td>\n",
       "      <td>186.9</td>\n",
       "      <td>121</td>\n",
       "      <td>8.41</td>\n",
       "      <td>10.1</td>\n",
       "      <td>3</td>\n",
       "      <td>2.73</td>\n",
       "      <td>3</td>\n",
       "      <td>False.</td>\n",
       "    </tr>\n",
       "  </tbody>\n",
       "</table>\n",
       "</div>"
      ],
      "text/plain": [
       "  State  Account Length  Area Code  ... Intl Charge CustServ Calls  Churn?\n",
       "0    KS             128        415  ...        2.70              1  False.\n",
       "1    OH             107        415  ...        3.70              1  False.\n",
       "2    NJ             137        415  ...        3.29              0  False.\n",
       "3    OH              84        408  ...        1.78              2  False.\n",
       "4    OK              75        415  ...        2.73              3  False.\n",
       "\n",
       "[5 rows x 21 columns]"
      ]
     },
     "execution_count": 225,
     "metadata": {
      "tags": []
     },
     "output_type": "execute_result"
    }
   ],
   "source": [
    "na_values = [' ','NaN','N/A']\n",
    "churn = pd.read_csv('https://raw.githubusercontent.com/LGKerby/Python/master/churn.txt',na_values=na_values)\n",
    "churn.head()"
   ]
  },
  {
   "cell_type": "code",
   "execution_count": 226,
   "metadata": {
    "colab": {
     "base_uri": "https://localhost:8080/"
    },
    "executionInfo": {
     "elapsed": 153,
     "status": "ok",
     "timestamp": 1626127962069,
     "user": {
      "displayName": "Leslie Kerby",
      "photoUrl": "https://lh3.googleusercontent.com/a-/AOh14GjN8SnHoanmo435DxiVf-rB_w00WFdyFzUqH3TuM30=s64",
      "userId": "13736524897897077884"
     },
     "user_tz": 360
    },
    "id": "NwDisDZqz47S",
    "outputId": "9b3b7f38-43c7-4bc0-94a3-99dbe8ffad75"
   },
   "outputs": [
    {
     "data": {
      "text/plain": [
       "415    1655\n",
       "510     840\n",
       "408     838\n",
       "Name: Area Code, dtype: int64"
      ]
     },
     "execution_count": 226,
     "metadata": {
      "tags": []
     },
     "output_type": "execute_result"
    }
   ],
   "source": [
    "churn['Area Code'].value_counts()"
   ]
  },
  {
   "cell_type": "code",
   "execution_count": 227,
   "metadata": {
    "colab": {
     "base_uri": "https://localhost:8080/"
    },
    "executionInfo": {
     "elapsed": 161,
     "status": "ok",
     "timestamp": 1626127998510,
     "user": {
      "displayName": "Leslie Kerby",
      "photoUrl": "https://lh3.googleusercontent.com/a-/AOh14GjN8SnHoanmo435DxiVf-rB_w00WFdyFzUqH3TuM30=s64",
      "userId": "13736524897897077884"
     },
     "user_tz": 360
    },
    "id": "9bRYqRPKbM3g",
    "outputId": "a412e3db-f662-4c25-c2cf-9d59aaa3592f"
   },
   "outputs": [
    {
     "data": {
      "text/plain": [
       "count         3333\n",
       "unique        3333\n",
       "top       362-9983\n",
       "freq             1\n",
       "Name: Phone, dtype: object"
      ]
     },
     "execution_count": 227,
     "metadata": {
      "tags": []
     },
     "output_type": "execute_result"
    }
   ],
   "source": [
    "churn['Phone'].describe()"
   ]
  },
  {
   "cell_type": "code",
   "execution_count": 228,
   "metadata": {
    "colab": {
     "base_uri": "https://localhost:8080/",
     "height": 223
    },
    "executionInfo": {
     "elapsed": 164,
     "status": "ok",
     "timestamp": 1626128079193,
     "user": {
      "displayName": "Leslie Kerby",
      "photoUrl": "https://lh3.googleusercontent.com/a-/AOh14GjN8SnHoanmo435DxiVf-rB_w00WFdyFzUqH3TuM30=s64",
      "userId": "13736524897897077884"
     },
     "user_tz": 360
    },
    "id": "Txr8qJdobM6j",
    "outputId": "1c8c7672-2a37-4052-fbc5-d8727ed985a7"
   },
   "outputs": [
    {
     "data": {
      "text/html": [
       "<div>\n",
       "<style scoped>\n",
       "    .dataframe tbody tr th:only-of-type {\n",
       "        vertical-align: middle;\n",
       "    }\n",
       "\n",
       "    .dataframe tbody tr th {\n",
       "        vertical-align: top;\n",
       "    }\n",
       "\n",
       "    .dataframe thead th {\n",
       "        text-align: right;\n",
       "    }\n",
       "</style>\n",
       "<table border=\"1\" class=\"dataframe\">\n",
       "  <thead>\n",
       "    <tr style=\"text-align: right;\">\n",
       "      <th></th>\n",
       "      <th>State</th>\n",
       "      <th>Account Length</th>\n",
       "      <th>Int'l Plan</th>\n",
       "      <th>VMail Plan</th>\n",
       "      <th>VMail Message</th>\n",
       "      <th>Day Mins</th>\n",
       "      <th>Day Calls</th>\n",
       "      <th>Day Charge</th>\n",
       "      <th>Eve Mins</th>\n",
       "      <th>Eve Calls</th>\n",
       "      <th>Eve Charge</th>\n",
       "      <th>Night Mins</th>\n",
       "      <th>Night Calls</th>\n",
       "      <th>Night Charge</th>\n",
       "      <th>Intl Mins</th>\n",
       "      <th>Intl Calls</th>\n",
       "      <th>Intl Charge</th>\n",
       "      <th>CustServ Calls</th>\n",
       "    </tr>\n",
       "  </thead>\n",
       "  <tbody>\n",
       "    <tr>\n",
       "      <th>0</th>\n",
       "      <td>KS</td>\n",
       "      <td>128</td>\n",
       "      <td>no</td>\n",
       "      <td>yes</td>\n",
       "      <td>25</td>\n",
       "      <td>265.1</td>\n",
       "      <td>110</td>\n",
       "      <td>45.07</td>\n",
       "      <td>197.4</td>\n",
       "      <td>99</td>\n",
       "      <td>16.78</td>\n",
       "      <td>244.7</td>\n",
       "      <td>91</td>\n",
       "      <td>11.01</td>\n",
       "      <td>10.0</td>\n",
       "      <td>3</td>\n",
       "      <td>2.70</td>\n",
       "      <td>1</td>\n",
       "    </tr>\n",
       "    <tr>\n",
       "      <th>1</th>\n",
       "      <td>OH</td>\n",
       "      <td>107</td>\n",
       "      <td>no</td>\n",
       "      <td>yes</td>\n",
       "      <td>26</td>\n",
       "      <td>161.6</td>\n",
       "      <td>123</td>\n",
       "      <td>27.47</td>\n",
       "      <td>195.5</td>\n",
       "      <td>103</td>\n",
       "      <td>16.62</td>\n",
       "      <td>254.4</td>\n",
       "      <td>103</td>\n",
       "      <td>11.45</td>\n",
       "      <td>13.7</td>\n",
       "      <td>3</td>\n",
       "      <td>3.70</td>\n",
       "      <td>1</td>\n",
       "    </tr>\n",
       "    <tr>\n",
       "      <th>2</th>\n",
       "      <td>NJ</td>\n",
       "      <td>137</td>\n",
       "      <td>no</td>\n",
       "      <td>no</td>\n",
       "      <td>0</td>\n",
       "      <td>243.4</td>\n",
       "      <td>114</td>\n",
       "      <td>41.38</td>\n",
       "      <td>121.2</td>\n",
       "      <td>110</td>\n",
       "      <td>10.30</td>\n",
       "      <td>162.6</td>\n",
       "      <td>104</td>\n",
       "      <td>7.32</td>\n",
       "      <td>12.2</td>\n",
       "      <td>5</td>\n",
       "      <td>3.29</td>\n",
       "      <td>0</td>\n",
       "    </tr>\n",
       "    <tr>\n",
       "      <th>3</th>\n",
       "      <td>OH</td>\n",
       "      <td>84</td>\n",
       "      <td>yes</td>\n",
       "      <td>no</td>\n",
       "      <td>0</td>\n",
       "      <td>299.4</td>\n",
       "      <td>71</td>\n",
       "      <td>50.90</td>\n",
       "      <td>61.9</td>\n",
       "      <td>88</td>\n",
       "      <td>5.26</td>\n",
       "      <td>196.9</td>\n",
       "      <td>89</td>\n",
       "      <td>8.86</td>\n",
       "      <td>6.6</td>\n",
       "      <td>7</td>\n",
       "      <td>1.78</td>\n",
       "      <td>2</td>\n",
       "    </tr>\n",
       "    <tr>\n",
       "      <th>4</th>\n",
       "      <td>OK</td>\n",
       "      <td>75</td>\n",
       "      <td>yes</td>\n",
       "      <td>no</td>\n",
       "      <td>0</td>\n",
       "      <td>166.7</td>\n",
       "      <td>113</td>\n",
       "      <td>28.34</td>\n",
       "      <td>148.3</td>\n",
       "      <td>122</td>\n",
       "      <td>12.61</td>\n",
       "      <td>186.9</td>\n",
       "      <td>121</td>\n",
       "      <td>8.41</td>\n",
       "      <td>10.1</td>\n",
       "      <td>3</td>\n",
       "      <td>2.73</td>\n",
       "      <td>3</td>\n",
       "    </tr>\n",
       "  </tbody>\n",
       "</table>\n",
       "</div>"
      ],
      "text/plain": [
       "  State  Account Length Int'l Plan  ... Intl Calls  Intl Charge  CustServ Calls\n",
       "0    KS             128         no  ...          3         2.70               1\n",
       "1    OH             107         no  ...          3         3.70               1\n",
       "2    NJ             137         no  ...          5         3.29               0\n",
       "3    OH              84        yes  ...          7         1.78               2\n",
       "4    OK              75        yes  ...          3         2.73               3\n",
       "\n",
       "[5 rows x 18 columns]"
      ]
     },
     "execution_count": 228,
     "metadata": {
      "tags": []
     },
     "output_type": "execute_result"
    }
   ],
   "source": [
    "features = churn.drop(['Area Code','Phone','Churn?'],axis=1)\n",
    "features.head()"
   ]
  },
  {
   "cell_type": "code",
   "execution_count": 229,
   "metadata": {
    "colab": {
     "base_uri": "https://localhost:8080/",
     "height": 243
    },
    "executionInfo": {
     "elapsed": 212,
     "status": "ok",
     "timestamp": 1626128293796,
     "user": {
      "displayName": "Leslie Kerby",
      "photoUrl": "https://lh3.googleusercontent.com/a-/AOh14GjN8SnHoanmo435DxiVf-rB_w00WFdyFzUqH3TuM30=s64",
      "userId": "13736524897897077884"
     },
     "user_tz": 360
    },
    "id": "ITWMBT8DbM93",
    "outputId": "a14de5bd-b48b-45a8-ae59-ac464597a50a"
   },
   "outputs": [
    {
     "data": {
      "text/html": [
       "<div>\n",
       "<style scoped>\n",
       "    .dataframe tbody tr th:only-of-type {\n",
       "        vertical-align: middle;\n",
       "    }\n",
       "\n",
       "    .dataframe tbody tr th {\n",
       "        vertical-align: top;\n",
       "    }\n",
       "\n",
       "    .dataframe thead th {\n",
       "        text-align: right;\n",
       "    }\n",
       "</style>\n",
       "<table border=\"1\" class=\"dataframe\">\n",
       "  <thead>\n",
       "    <tr style=\"text-align: right;\">\n",
       "      <th></th>\n",
       "      <th>Account Length</th>\n",
       "      <th>VMail Message</th>\n",
       "      <th>Day Mins</th>\n",
       "      <th>Day Calls</th>\n",
       "      <th>Day Charge</th>\n",
       "      <th>Eve Mins</th>\n",
       "      <th>Eve Calls</th>\n",
       "      <th>Eve Charge</th>\n",
       "      <th>Night Mins</th>\n",
       "      <th>Night Calls</th>\n",
       "      <th>Night Charge</th>\n",
       "      <th>Intl Mins</th>\n",
       "      <th>Intl Calls</th>\n",
       "      <th>Intl Charge</th>\n",
       "      <th>CustServ Calls</th>\n",
       "      <th>State_AK</th>\n",
       "      <th>State_AL</th>\n",
       "      <th>State_AR</th>\n",
       "      <th>State_AZ</th>\n",
       "      <th>State_CA</th>\n",
       "      <th>State_CO</th>\n",
       "      <th>State_CT</th>\n",
       "      <th>State_DC</th>\n",
       "      <th>State_DE</th>\n",
       "      <th>State_FL</th>\n",
       "      <th>State_GA</th>\n",
       "      <th>State_HI</th>\n",
       "      <th>State_IA</th>\n",
       "      <th>State_ID</th>\n",
       "      <th>State_IL</th>\n",
       "      <th>State_IN</th>\n",
       "      <th>State_KS</th>\n",
       "      <th>State_KY</th>\n",
       "      <th>State_LA</th>\n",
       "      <th>State_MA</th>\n",
       "      <th>State_MD</th>\n",
       "      <th>State_ME</th>\n",
       "      <th>State_MI</th>\n",
       "      <th>State_MN</th>\n",
       "      <th>State_MO</th>\n",
       "      <th>State_MS</th>\n",
       "      <th>State_MT</th>\n",
       "      <th>State_NC</th>\n",
       "      <th>State_ND</th>\n",
       "      <th>State_NE</th>\n",
       "      <th>State_NH</th>\n",
       "      <th>State_NJ</th>\n",
       "      <th>State_NM</th>\n",
       "      <th>State_NV</th>\n",
       "      <th>State_NY</th>\n",
       "      <th>State_OH</th>\n",
       "      <th>State_OK</th>\n",
       "      <th>State_OR</th>\n",
       "      <th>State_PA</th>\n",
       "      <th>State_RI</th>\n",
       "      <th>State_SC</th>\n",
       "      <th>State_SD</th>\n",
       "      <th>State_TN</th>\n",
       "      <th>State_TX</th>\n",
       "      <th>State_UT</th>\n",
       "      <th>State_VA</th>\n",
       "      <th>State_VT</th>\n",
       "      <th>State_WA</th>\n",
       "      <th>State_WI</th>\n",
       "      <th>State_WV</th>\n",
       "      <th>State_WY</th>\n",
       "      <th>Int'l Plan_no</th>\n",
       "      <th>Int'l Plan_yes</th>\n",
       "      <th>VMail Plan_no</th>\n",
       "      <th>VMail Plan_yes</th>\n",
       "    </tr>\n",
       "  </thead>\n",
       "  <tbody>\n",
       "    <tr>\n",
       "      <th>0</th>\n",
       "      <td>128</td>\n",
       "      <td>25</td>\n",
       "      <td>265.1</td>\n",
       "      <td>110</td>\n",
       "      <td>45.07</td>\n",
       "      <td>197.4</td>\n",
       "      <td>99</td>\n",
       "      <td>16.78</td>\n",
       "      <td>244.7</td>\n",
       "      <td>91</td>\n",
       "      <td>11.01</td>\n",
       "      <td>10.0</td>\n",
       "      <td>3</td>\n",
       "      <td>2.70</td>\n",
       "      <td>1</td>\n",
       "      <td>0</td>\n",
       "      <td>0</td>\n",
       "      <td>0</td>\n",
       "      <td>0</td>\n",
       "      <td>0</td>\n",
       "      <td>0</td>\n",
       "      <td>0</td>\n",
       "      <td>0</td>\n",
       "      <td>0</td>\n",
       "      <td>0</td>\n",
       "      <td>0</td>\n",
       "      <td>0</td>\n",
       "      <td>0</td>\n",
       "      <td>0</td>\n",
       "      <td>0</td>\n",
       "      <td>0</td>\n",
       "      <td>1</td>\n",
       "      <td>0</td>\n",
       "      <td>0</td>\n",
       "      <td>0</td>\n",
       "      <td>0</td>\n",
       "      <td>0</td>\n",
       "      <td>0</td>\n",
       "      <td>0</td>\n",
       "      <td>0</td>\n",
       "      <td>0</td>\n",
       "      <td>0</td>\n",
       "      <td>0</td>\n",
       "      <td>0</td>\n",
       "      <td>0</td>\n",
       "      <td>0</td>\n",
       "      <td>0</td>\n",
       "      <td>0</td>\n",
       "      <td>0</td>\n",
       "      <td>0</td>\n",
       "      <td>0</td>\n",
       "      <td>0</td>\n",
       "      <td>0</td>\n",
       "      <td>0</td>\n",
       "      <td>0</td>\n",
       "      <td>0</td>\n",
       "      <td>0</td>\n",
       "      <td>0</td>\n",
       "      <td>0</td>\n",
       "      <td>0</td>\n",
       "      <td>0</td>\n",
       "      <td>0</td>\n",
       "      <td>0</td>\n",
       "      <td>0</td>\n",
       "      <td>0</td>\n",
       "      <td>0</td>\n",
       "      <td>1</td>\n",
       "      <td>0</td>\n",
       "      <td>0</td>\n",
       "      <td>1</td>\n",
       "    </tr>\n",
       "    <tr>\n",
       "      <th>1</th>\n",
       "      <td>107</td>\n",
       "      <td>26</td>\n",
       "      <td>161.6</td>\n",
       "      <td>123</td>\n",
       "      <td>27.47</td>\n",
       "      <td>195.5</td>\n",
       "      <td>103</td>\n",
       "      <td>16.62</td>\n",
       "      <td>254.4</td>\n",
       "      <td>103</td>\n",
       "      <td>11.45</td>\n",
       "      <td>13.7</td>\n",
       "      <td>3</td>\n",
       "      <td>3.70</td>\n",
       "      <td>1</td>\n",
       "      <td>0</td>\n",
       "      <td>0</td>\n",
       "      <td>0</td>\n",
       "      <td>0</td>\n",
       "      <td>0</td>\n",
       "      <td>0</td>\n",
       "      <td>0</td>\n",
       "      <td>0</td>\n",
       "      <td>0</td>\n",
       "      <td>0</td>\n",
       "      <td>0</td>\n",
       "      <td>0</td>\n",
       "      <td>0</td>\n",
       "      <td>0</td>\n",
       "      <td>0</td>\n",
       "      <td>0</td>\n",
       "      <td>0</td>\n",
       "      <td>0</td>\n",
       "      <td>0</td>\n",
       "      <td>0</td>\n",
       "      <td>0</td>\n",
       "      <td>0</td>\n",
       "      <td>0</td>\n",
       "      <td>0</td>\n",
       "      <td>0</td>\n",
       "      <td>0</td>\n",
       "      <td>0</td>\n",
       "      <td>0</td>\n",
       "      <td>0</td>\n",
       "      <td>0</td>\n",
       "      <td>0</td>\n",
       "      <td>0</td>\n",
       "      <td>0</td>\n",
       "      <td>0</td>\n",
       "      <td>0</td>\n",
       "      <td>1</td>\n",
       "      <td>0</td>\n",
       "      <td>0</td>\n",
       "      <td>0</td>\n",
       "      <td>0</td>\n",
       "      <td>0</td>\n",
       "      <td>0</td>\n",
       "      <td>0</td>\n",
       "      <td>0</td>\n",
       "      <td>0</td>\n",
       "      <td>0</td>\n",
       "      <td>0</td>\n",
       "      <td>0</td>\n",
       "      <td>0</td>\n",
       "      <td>0</td>\n",
       "      <td>0</td>\n",
       "      <td>1</td>\n",
       "      <td>0</td>\n",
       "      <td>0</td>\n",
       "      <td>1</td>\n",
       "    </tr>\n",
       "    <tr>\n",
       "      <th>2</th>\n",
       "      <td>137</td>\n",
       "      <td>0</td>\n",
       "      <td>243.4</td>\n",
       "      <td>114</td>\n",
       "      <td>41.38</td>\n",
       "      <td>121.2</td>\n",
       "      <td>110</td>\n",
       "      <td>10.30</td>\n",
       "      <td>162.6</td>\n",
       "      <td>104</td>\n",
       "      <td>7.32</td>\n",
       "      <td>12.2</td>\n",
       "      <td>5</td>\n",
       "      <td>3.29</td>\n",
       "      <td>0</td>\n",
       "      <td>0</td>\n",
       "      <td>0</td>\n",
       "      <td>0</td>\n",
       "      <td>0</td>\n",
       "      <td>0</td>\n",
       "      <td>0</td>\n",
       "      <td>0</td>\n",
       "      <td>0</td>\n",
       "      <td>0</td>\n",
       "      <td>0</td>\n",
       "      <td>0</td>\n",
       "      <td>0</td>\n",
       "      <td>0</td>\n",
       "      <td>0</td>\n",
       "      <td>0</td>\n",
       "      <td>0</td>\n",
       "      <td>0</td>\n",
       "      <td>0</td>\n",
       "      <td>0</td>\n",
       "      <td>0</td>\n",
       "      <td>0</td>\n",
       "      <td>0</td>\n",
       "      <td>0</td>\n",
       "      <td>0</td>\n",
       "      <td>0</td>\n",
       "      <td>0</td>\n",
       "      <td>0</td>\n",
       "      <td>0</td>\n",
       "      <td>0</td>\n",
       "      <td>0</td>\n",
       "      <td>0</td>\n",
       "      <td>1</td>\n",
       "      <td>0</td>\n",
       "      <td>0</td>\n",
       "      <td>0</td>\n",
       "      <td>0</td>\n",
       "      <td>0</td>\n",
       "      <td>0</td>\n",
       "      <td>0</td>\n",
       "      <td>0</td>\n",
       "      <td>0</td>\n",
       "      <td>0</td>\n",
       "      <td>0</td>\n",
       "      <td>0</td>\n",
       "      <td>0</td>\n",
       "      <td>0</td>\n",
       "      <td>0</td>\n",
       "      <td>0</td>\n",
       "      <td>0</td>\n",
       "      <td>0</td>\n",
       "      <td>0</td>\n",
       "      <td>1</td>\n",
       "      <td>0</td>\n",
       "      <td>1</td>\n",
       "      <td>0</td>\n",
       "    </tr>\n",
       "    <tr>\n",
       "      <th>3</th>\n",
       "      <td>84</td>\n",
       "      <td>0</td>\n",
       "      <td>299.4</td>\n",
       "      <td>71</td>\n",
       "      <td>50.90</td>\n",
       "      <td>61.9</td>\n",
       "      <td>88</td>\n",
       "      <td>5.26</td>\n",
       "      <td>196.9</td>\n",
       "      <td>89</td>\n",
       "      <td>8.86</td>\n",
       "      <td>6.6</td>\n",
       "      <td>7</td>\n",
       "      <td>1.78</td>\n",
       "      <td>2</td>\n",
       "      <td>0</td>\n",
       "      <td>0</td>\n",
       "      <td>0</td>\n",
       "      <td>0</td>\n",
       "      <td>0</td>\n",
       "      <td>0</td>\n",
       "      <td>0</td>\n",
       "      <td>0</td>\n",
       "      <td>0</td>\n",
       "      <td>0</td>\n",
       "      <td>0</td>\n",
       "      <td>0</td>\n",
       "      <td>0</td>\n",
       "      <td>0</td>\n",
       "      <td>0</td>\n",
       "      <td>0</td>\n",
       "      <td>0</td>\n",
       "      <td>0</td>\n",
       "      <td>0</td>\n",
       "      <td>0</td>\n",
       "      <td>0</td>\n",
       "      <td>0</td>\n",
       "      <td>0</td>\n",
       "      <td>0</td>\n",
       "      <td>0</td>\n",
       "      <td>0</td>\n",
       "      <td>0</td>\n",
       "      <td>0</td>\n",
       "      <td>0</td>\n",
       "      <td>0</td>\n",
       "      <td>0</td>\n",
       "      <td>0</td>\n",
       "      <td>0</td>\n",
       "      <td>0</td>\n",
       "      <td>0</td>\n",
       "      <td>1</td>\n",
       "      <td>0</td>\n",
       "      <td>0</td>\n",
       "      <td>0</td>\n",
       "      <td>0</td>\n",
       "      <td>0</td>\n",
       "      <td>0</td>\n",
       "      <td>0</td>\n",
       "      <td>0</td>\n",
       "      <td>0</td>\n",
       "      <td>0</td>\n",
       "      <td>0</td>\n",
       "      <td>0</td>\n",
       "      <td>0</td>\n",
       "      <td>0</td>\n",
       "      <td>0</td>\n",
       "      <td>0</td>\n",
       "      <td>1</td>\n",
       "      <td>1</td>\n",
       "      <td>0</td>\n",
       "    </tr>\n",
       "    <tr>\n",
       "      <th>4</th>\n",
       "      <td>75</td>\n",
       "      <td>0</td>\n",
       "      <td>166.7</td>\n",
       "      <td>113</td>\n",
       "      <td>28.34</td>\n",
       "      <td>148.3</td>\n",
       "      <td>122</td>\n",
       "      <td>12.61</td>\n",
       "      <td>186.9</td>\n",
       "      <td>121</td>\n",
       "      <td>8.41</td>\n",
       "      <td>10.1</td>\n",
       "      <td>3</td>\n",
       "      <td>2.73</td>\n",
       "      <td>3</td>\n",
       "      <td>0</td>\n",
       "      <td>0</td>\n",
       "      <td>0</td>\n",
       "      <td>0</td>\n",
       "      <td>0</td>\n",
       "      <td>0</td>\n",
       "      <td>0</td>\n",
       "      <td>0</td>\n",
       "      <td>0</td>\n",
       "      <td>0</td>\n",
       "      <td>0</td>\n",
       "      <td>0</td>\n",
       "      <td>0</td>\n",
       "      <td>0</td>\n",
       "      <td>0</td>\n",
       "      <td>0</td>\n",
       "      <td>0</td>\n",
       "      <td>0</td>\n",
       "      <td>0</td>\n",
       "      <td>0</td>\n",
       "      <td>0</td>\n",
       "      <td>0</td>\n",
       "      <td>0</td>\n",
       "      <td>0</td>\n",
       "      <td>0</td>\n",
       "      <td>0</td>\n",
       "      <td>0</td>\n",
       "      <td>0</td>\n",
       "      <td>0</td>\n",
       "      <td>0</td>\n",
       "      <td>0</td>\n",
       "      <td>0</td>\n",
       "      <td>0</td>\n",
       "      <td>0</td>\n",
       "      <td>0</td>\n",
       "      <td>0</td>\n",
       "      <td>1</td>\n",
       "      <td>0</td>\n",
       "      <td>0</td>\n",
       "      <td>0</td>\n",
       "      <td>0</td>\n",
       "      <td>0</td>\n",
       "      <td>0</td>\n",
       "      <td>0</td>\n",
       "      <td>0</td>\n",
       "      <td>0</td>\n",
       "      <td>0</td>\n",
       "      <td>0</td>\n",
       "      <td>0</td>\n",
       "      <td>0</td>\n",
       "      <td>0</td>\n",
       "      <td>0</td>\n",
       "      <td>1</td>\n",
       "      <td>1</td>\n",
       "      <td>0</td>\n",
       "    </tr>\n",
       "  </tbody>\n",
       "</table>\n",
       "</div>"
      ],
      "text/plain": [
       "   Account Length  VMail Message  ...  VMail Plan_no  VMail Plan_yes\n",
       "0             128             25  ...              0               1\n",
       "1             107             26  ...              0               1\n",
       "2             137              0  ...              1               0\n",
       "3              84              0  ...              1               0\n",
       "4              75              0  ...              1               0\n",
       "\n",
       "[5 rows x 70 columns]"
      ]
     },
     "execution_count": 229,
     "metadata": {
      "tags": []
     },
     "output_type": "execute_result"
    }
   ],
   "source": [
    "features = pd.get_dummies(features)\n",
    "features.head()"
   ]
  },
  {
   "cell_type": "code",
   "execution_count": 230,
   "metadata": {
    "colab": {
     "base_uri": "https://localhost:8080/"
    },
    "executionInfo": {
     "elapsed": 154,
     "status": "ok",
     "timestamp": 1626128358445,
     "user": {
      "displayName": "Leslie Kerby",
      "photoUrl": "https://lh3.googleusercontent.com/a-/AOh14GjN8SnHoanmo435DxiVf-rB_w00WFdyFzUqH3TuM30=s64",
      "userId": "13736524897897077884"
     },
     "user_tz": 360
    },
    "id": "aM6RzMTj7hIV",
    "outputId": "6263f8cb-33c6-4018-b792-e989823afb98"
   },
   "outputs": [
    {
     "data": {
      "text/plain": [
       "0    False.\n",
       "1    False.\n",
       "2    False.\n",
       "3    False.\n",
       "4    False.\n",
       "Name: Churn?, dtype: object"
      ]
     },
     "execution_count": 230,
     "metadata": {
      "tags": []
     },
     "output_type": "execute_result"
    }
   ],
   "source": [
    "target = churn['Churn?']\n",
    "target.head()"
   ]
  },
  {
   "cell_type": "code",
   "execution_count": 244,
   "metadata": {
    "colab": {
     "base_uri": "https://localhost:8080/",
     "height": 243
    },
    "executionInfo": {
     "elapsed": 148,
     "status": "ok",
     "timestamp": 1626129169200,
     "user": {
      "displayName": "Leslie Kerby",
      "photoUrl": "https://lh3.googleusercontent.com/a-/AOh14GjN8SnHoanmo435DxiVf-rB_w00WFdyFzUqH3TuM30=s64",
      "userId": "13736524897897077884"
     },
     "user_tz": 360
    },
    "id": "AWdnwG4rbNBZ",
    "outputId": "8c77ea15-f89b-4364-dd61-bb0c3e39b431"
   },
   "outputs": [
    {
     "data": {
      "text/html": [
       "<div>\n",
       "<style scoped>\n",
       "    .dataframe tbody tr th:only-of-type {\n",
       "        vertical-align: middle;\n",
       "    }\n",
       "\n",
       "    .dataframe tbody tr th {\n",
       "        vertical-align: top;\n",
       "    }\n",
       "\n",
       "    .dataframe thead th {\n",
       "        text-align: right;\n",
       "    }\n",
       "</style>\n",
       "<table border=\"1\" class=\"dataframe\">\n",
       "  <thead>\n",
       "    <tr style=\"text-align: right;\">\n",
       "      <th></th>\n",
       "      <th>Account Length</th>\n",
       "      <th>VMail Message</th>\n",
       "      <th>Day Mins</th>\n",
       "      <th>Day Calls</th>\n",
       "      <th>Day Charge</th>\n",
       "      <th>Eve Mins</th>\n",
       "      <th>Eve Calls</th>\n",
       "      <th>Eve Charge</th>\n",
       "      <th>Night Mins</th>\n",
       "      <th>Night Calls</th>\n",
       "      <th>Night Charge</th>\n",
       "      <th>Intl Mins</th>\n",
       "      <th>Intl Calls</th>\n",
       "      <th>Intl Charge</th>\n",
       "      <th>CustServ Calls</th>\n",
       "      <th>State_AK</th>\n",
       "      <th>State_AL</th>\n",
       "      <th>State_AR</th>\n",
       "      <th>State_AZ</th>\n",
       "      <th>State_CA</th>\n",
       "      <th>State_CO</th>\n",
       "      <th>State_CT</th>\n",
       "      <th>State_DC</th>\n",
       "      <th>State_DE</th>\n",
       "      <th>State_FL</th>\n",
       "      <th>State_GA</th>\n",
       "      <th>State_HI</th>\n",
       "      <th>State_IA</th>\n",
       "      <th>State_ID</th>\n",
       "      <th>State_IL</th>\n",
       "      <th>State_IN</th>\n",
       "      <th>State_KS</th>\n",
       "      <th>State_KY</th>\n",
       "      <th>State_LA</th>\n",
       "      <th>State_MA</th>\n",
       "      <th>State_MD</th>\n",
       "      <th>State_ME</th>\n",
       "      <th>State_MI</th>\n",
       "      <th>State_MN</th>\n",
       "      <th>State_MO</th>\n",
       "      <th>State_MS</th>\n",
       "      <th>State_MT</th>\n",
       "      <th>State_NC</th>\n",
       "      <th>State_ND</th>\n",
       "      <th>State_NE</th>\n",
       "      <th>State_NH</th>\n",
       "      <th>State_NJ</th>\n",
       "      <th>State_NM</th>\n",
       "      <th>State_NV</th>\n",
       "      <th>State_NY</th>\n",
       "      <th>State_OH</th>\n",
       "      <th>State_OK</th>\n",
       "      <th>State_OR</th>\n",
       "      <th>State_PA</th>\n",
       "      <th>State_RI</th>\n",
       "      <th>State_SC</th>\n",
       "      <th>State_SD</th>\n",
       "      <th>State_TN</th>\n",
       "      <th>State_TX</th>\n",
       "      <th>State_UT</th>\n",
       "      <th>State_VA</th>\n",
       "      <th>State_VT</th>\n",
       "      <th>State_WA</th>\n",
       "      <th>State_WI</th>\n",
       "      <th>State_WV</th>\n",
       "      <th>State_WY</th>\n",
       "      <th>Int'l Plan_no</th>\n",
       "      <th>Int'l Plan_yes</th>\n",
       "      <th>VMail Plan_no</th>\n",
       "      <th>VMail Plan_yes</th>\n",
       "    </tr>\n",
       "  </thead>\n",
       "  <tbody>\n",
       "    <tr>\n",
       "      <th>152</th>\n",
       "      <td>65</td>\n",
       "      <td>0</td>\n",
       "      <td>187.9</td>\n",
       "      <td>116</td>\n",
       "      <td>31.94</td>\n",
       "      <td>157.6</td>\n",
       "      <td>117</td>\n",
       "      <td>13.40</td>\n",
       "      <td>227.3</td>\n",
       "      <td>86</td>\n",
       "      <td>10.23</td>\n",
       "      <td>7.5</td>\n",
       "      <td>6</td>\n",
       "      <td>2.03</td>\n",
       "      <td>1</td>\n",
       "      <td>0</td>\n",
       "      <td>0</td>\n",
       "      <td>0</td>\n",
       "      <td>0</td>\n",
       "      <td>0</td>\n",
       "      <td>0</td>\n",
       "      <td>0</td>\n",
       "      <td>0</td>\n",
       "      <td>0</td>\n",
       "      <td>0</td>\n",
       "      <td>0</td>\n",
       "      <td>0</td>\n",
       "      <td>0</td>\n",
       "      <td>0</td>\n",
       "      <td>0</td>\n",
       "      <td>0</td>\n",
       "      <td>0</td>\n",
       "      <td>0</td>\n",
       "      <td>0</td>\n",
       "      <td>0</td>\n",
       "      <td>0</td>\n",
       "      <td>0</td>\n",
       "      <td>0</td>\n",
       "      <td>0</td>\n",
       "      <td>0</td>\n",
       "      <td>0</td>\n",
       "      <td>0</td>\n",
       "      <td>0</td>\n",
       "      <td>0</td>\n",
       "      <td>0</td>\n",
       "      <td>0</td>\n",
       "      <td>0</td>\n",
       "      <td>0</td>\n",
       "      <td>0</td>\n",
       "      <td>0</td>\n",
       "      <td>1</td>\n",
       "      <td>0</td>\n",
       "      <td>0</td>\n",
       "      <td>0</td>\n",
       "      <td>0</td>\n",
       "      <td>0</td>\n",
       "      <td>0</td>\n",
       "      <td>0</td>\n",
       "      <td>0</td>\n",
       "      <td>0</td>\n",
       "      <td>0</td>\n",
       "      <td>0</td>\n",
       "      <td>0</td>\n",
       "      <td>0</td>\n",
       "      <td>0</td>\n",
       "      <td>0</td>\n",
       "      <td>1</td>\n",
       "      <td>0</td>\n",
       "      <td>1</td>\n",
       "      <td>0</td>\n",
       "    </tr>\n",
       "    <tr>\n",
       "      <th>1837</th>\n",
       "      <td>117</td>\n",
       "      <td>0</td>\n",
       "      <td>54.2</td>\n",
       "      <td>100</td>\n",
       "      <td>9.21</td>\n",
       "      <td>303.2</td>\n",
       "      <td>84</td>\n",
       "      <td>25.77</td>\n",
       "      <td>171.8</td>\n",
       "      <td>84</td>\n",
       "      <td>7.73</td>\n",
       "      <td>8.6</td>\n",
       "      <td>2</td>\n",
       "      <td>2.32</td>\n",
       "      <td>1</td>\n",
       "      <td>0</td>\n",
       "      <td>0</td>\n",
       "      <td>0</td>\n",
       "      <td>0</td>\n",
       "      <td>0</td>\n",
       "      <td>0</td>\n",
       "      <td>0</td>\n",
       "      <td>0</td>\n",
       "      <td>0</td>\n",
       "      <td>0</td>\n",
       "      <td>0</td>\n",
       "      <td>0</td>\n",
       "      <td>0</td>\n",
       "      <td>0</td>\n",
       "      <td>0</td>\n",
       "      <td>0</td>\n",
       "      <td>0</td>\n",
       "      <td>0</td>\n",
       "      <td>0</td>\n",
       "      <td>0</td>\n",
       "      <td>0</td>\n",
       "      <td>0</td>\n",
       "      <td>0</td>\n",
       "      <td>0</td>\n",
       "      <td>0</td>\n",
       "      <td>0</td>\n",
       "      <td>0</td>\n",
       "      <td>0</td>\n",
       "      <td>0</td>\n",
       "      <td>0</td>\n",
       "      <td>1</td>\n",
       "      <td>0</td>\n",
       "      <td>0</td>\n",
       "      <td>0</td>\n",
       "      <td>0</td>\n",
       "      <td>0</td>\n",
       "      <td>0</td>\n",
       "      <td>0</td>\n",
       "      <td>0</td>\n",
       "      <td>0</td>\n",
       "      <td>0</td>\n",
       "      <td>0</td>\n",
       "      <td>0</td>\n",
       "      <td>0</td>\n",
       "      <td>0</td>\n",
       "      <td>0</td>\n",
       "      <td>0</td>\n",
       "      <td>0</td>\n",
       "      <td>0</td>\n",
       "      <td>0</td>\n",
       "      <td>0</td>\n",
       "      <td>0</td>\n",
       "      <td>1</td>\n",
       "      <td>1</td>\n",
       "      <td>0</td>\n",
       "    </tr>\n",
       "    <tr>\n",
       "      <th>1103</th>\n",
       "      <td>52</td>\n",
       "      <td>0</td>\n",
       "      <td>165.5</td>\n",
       "      <td>78</td>\n",
       "      <td>28.14</td>\n",
       "      <td>205.5</td>\n",
       "      <td>89</td>\n",
       "      <td>17.47</td>\n",
       "      <td>213.6</td>\n",
       "      <td>124</td>\n",
       "      <td>9.61</td>\n",
       "      <td>12.2</td>\n",
       "      <td>6</td>\n",
       "      <td>3.29</td>\n",
       "      <td>0</td>\n",
       "      <td>0</td>\n",
       "      <td>0</td>\n",
       "      <td>0</td>\n",
       "      <td>0</td>\n",
       "      <td>0</td>\n",
       "      <td>0</td>\n",
       "      <td>0</td>\n",
       "      <td>0</td>\n",
       "      <td>0</td>\n",
       "      <td>0</td>\n",
       "      <td>0</td>\n",
       "      <td>0</td>\n",
       "      <td>0</td>\n",
       "      <td>0</td>\n",
       "      <td>0</td>\n",
       "      <td>0</td>\n",
       "      <td>1</td>\n",
       "      <td>0</td>\n",
       "      <td>0</td>\n",
       "      <td>0</td>\n",
       "      <td>0</td>\n",
       "      <td>0</td>\n",
       "      <td>0</td>\n",
       "      <td>0</td>\n",
       "      <td>0</td>\n",
       "      <td>0</td>\n",
       "      <td>0</td>\n",
       "      <td>0</td>\n",
       "      <td>0</td>\n",
       "      <td>0</td>\n",
       "      <td>0</td>\n",
       "      <td>0</td>\n",
       "      <td>0</td>\n",
       "      <td>0</td>\n",
       "      <td>0</td>\n",
       "      <td>0</td>\n",
       "      <td>0</td>\n",
       "      <td>0</td>\n",
       "      <td>0</td>\n",
       "      <td>0</td>\n",
       "      <td>0</td>\n",
       "      <td>0</td>\n",
       "      <td>0</td>\n",
       "      <td>0</td>\n",
       "      <td>0</td>\n",
       "      <td>0</td>\n",
       "      <td>0</td>\n",
       "      <td>0</td>\n",
       "      <td>0</td>\n",
       "      <td>0</td>\n",
       "      <td>0</td>\n",
       "      <td>1</td>\n",
       "      <td>0</td>\n",
       "      <td>1</td>\n",
       "      <td>0</td>\n",
       "    </tr>\n",
       "    <tr>\n",
       "      <th>2111</th>\n",
       "      <td>126</td>\n",
       "      <td>0</td>\n",
       "      <td>103.7</td>\n",
       "      <td>93</td>\n",
       "      <td>17.63</td>\n",
       "      <td>127.0</td>\n",
       "      <td>107</td>\n",
       "      <td>10.80</td>\n",
       "      <td>329.3</td>\n",
       "      <td>66</td>\n",
       "      <td>14.82</td>\n",
       "      <td>14.4</td>\n",
       "      <td>1</td>\n",
       "      <td>3.89</td>\n",
       "      <td>0</td>\n",
       "      <td>0</td>\n",
       "      <td>0</td>\n",
       "      <td>0</td>\n",
       "      <td>0</td>\n",
       "      <td>0</td>\n",
       "      <td>0</td>\n",
       "      <td>0</td>\n",
       "      <td>0</td>\n",
       "      <td>0</td>\n",
       "      <td>0</td>\n",
       "      <td>0</td>\n",
       "      <td>0</td>\n",
       "      <td>0</td>\n",
       "      <td>0</td>\n",
       "      <td>0</td>\n",
       "      <td>0</td>\n",
       "      <td>0</td>\n",
       "      <td>0</td>\n",
       "      <td>0</td>\n",
       "      <td>0</td>\n",
       "      <td>0</td>\n",
       "      <td>0</td>\n",
       "      <td>0</td>\n",
       "      <td>0</td>\n",
       "      <td>0</td>\n",
       "      <td>0</td>\n",
       "      <td>0</td>\n",
       "      <td>1</td>\n",
       "      <td>0</td>\n",
       "      <td>0</td>\n",
       "      <td>0</td>\n",
       "      <td>0</td>\n",
       "      <td>0</td>\n",
       "      <td>0</td>\n",
       "      <td>0</td>\n",
       "      <td>0</td>\n",
       "      <td>0</td>\n",
       "      <td>0</td>\n",
       "      <td>0</td>\n",
       "      <td>0</td>\n",
       "      <td>0</td>\n",
       "      <td>0</td>\n",
       "      <td>0</td>\n",
       "      <td>0</td>\n",
       "      <td>0</td>\n",
       "      <td>0</td>\n",
       "      <td>0</td>\n",
       "      <td>0</td>\n",
       "      <td>0</td>\n",
       "      <td>0</td>\n",
       "      <td>0</td>\n",
       "      <td>1</td>\n",
       "      <td>0</td>\n",
       "      <td>1</td>\n",
       "      <td>0</td>\n",
       "    </tr>\n",
       "    <tr>\n",
       "      <th>1912</th>\n",
       "      <td>103</td>\n",
       "      <td>0</td>\n",
       "      <td>150.6</td>\n",
       "      <td>125</td>\n",
       "      <td>25.60</td>\n",
       "      <td>169.1</td>\n",
       "      <td>126</td>\n",
       "      <td>14.37</td>\n",
       "      <td>221.2</td>\n",
       "      <td>104</td>\n",
       "      <td>9.95</td>\n",
       "      <td>10.4</td>\n",
       "      <td>8</td>\n",
       "      <td>2.81</td>\n",
       "      <td>8</td>\n",
       "      <td>0</td>\n",
       "      <td>0</td>\n",
       "      <td>0</td>\n",
       "      <td>0</td>\n",
       "      <td>0</td>\n",
       "      <td>0</td>\n",
       "      <td>0</td>\n",
       "      <td>0</td>\n",
       "      <td>0</td>\n",
       "      <td>0</td>\n",
       "      <td>0</td>\n",
       "      <td>0</td>\n",
       "      <td>0</td>\n",
       "      <td>0</td>\n",
       "      <td>0</td>\n",
       "      <td>0</td>\n",
       "      <td>0</td>\n",
       "      <td>0</td>\n",
       "      <td>0</td>\n",
       "      <td>0</td>\n",
       "      <td>0</td>\n",
       "      <td>0</td>\n",
       "      <td>0</td>\n",
       "      <td>0</td>\n",
       "      <td>0</td>\n",
       "      <td>0</td>\n",
       "      <td>0</td>\n",
       "      <td>0</td>\n",
       "      <td>0</td>\n",
       "      <td>0</td>\n",
       "      <td>1</td>\n",
       "      <td>0</td>\n",
       "      <td>0</td>\n",
       "      <td>0</td>\n",
       "      <td>0</td>\n",
       "      <td>0</td>\n",
       "      <td>0</td>\n",
       "      <td>0</td>\n",
       "      <td>0</td>\n",
       "      <td>0</td>\n",
       "      <td>0</td>\n",
       "      <td>0</td>\n",
       "      <td>0</td>\n",
       "      <td>0</td>\n",
       "      <td>0</td>\n",
       "      <td>0</td>\n",
       "      <td>0</td>\n",
       "      <td>0</td>\n",
       "      <td>0</td>\n",
       "      <td>0</td>\n",
       "      <td>0</td>\n",
       "      <td>1</td>\n",
       "      <td>0</td>\n",
       "      <td>1</td>\n",
       "      <td>0</td>\n",
       "    </tr>\n",
       "  </tbody>\n",
       "</table>\n",
       "</div>"
      ],
      "text/plain": [
       "      Account Length  VMail Message  ...  VMail Plan_no  VMail Plan_yes\n",
       "152               65              0  ...              1               0\n",
       "1837             117              0  ...              1               0\n",
       "1103              52              0  ...              1               0\n",
       "2111             126              0  ...              1               0\n",
       "1912             103              0  ...              1               0\n",
       "\n",
       "[5 rows x 70 columns]"
      ]
     },
     "execution_count": 244,
     "metadata": {
      "tags": []
     },
     "output_type": "execute_result"
    }
   ],
   "source": [
    "from sklearn.model_selection import train_test_split\n",
    "X_train, X_test, y_train, y_test = train_test_split(features, target, test_size=1/5)\n",
    "X_train.head()"
   ]
  },
  {
   "cell_type": "code",
   "execution_count": 245,
   "metadata": {
    "colab": {
     "base_uri": "https://localhost:8080/"
    },
    "executionInfo": {
     "elapsed": 141,
     "status": "ok",
     "timestamp": 1626129178150,
     "user": {
      "displayName": "Leslie Kerby",
      "photoUrl": "https://lh3.googleusercontent.com/a-/AOh14GjN8SnHoanmo435DxiVf-rB_w00WFdyFzUqH3TuM30=s64",
      "userId": "13736524897897077884"
     },
     "user_tz": 360
    },
    "id": "s_yDPpDO1Qlg",
    "outputId": "05c8e618-5837-4336-dae9-7555aa786e90"
   },
   "outputs": [
    {
     "data": {
      "text/plain": [
       "(2666, 70)"
      ]
     },
     "execution_count": 245,
     "metadata": {
      "tags": []
     },
     "output_type": "execute_result"
    }
   ],
   "source": [
    "X_train.shape"
   ]
  },
  {
   "cell_type": "code",
   "execution_count": 236,
   "metadata": {
    "colab": {
     "base_uri": "https://localhost:8080/"
    },
    "executionInfo": {
     "elapsed": 137,
     "status": "ok",
     "timestamp": 1626128893937,
     "user": {
      "displayName": "Leslie Kerby",
      "photoUrl": "https://lh3.googleusercontent.com/a-/AOh14GjN8SnHoanmo435DxiVf-rB_w00WFdyFzUqH3TuM30=s64",
      "userId": "13736524897897077884"
     },
     "user_tz": 360
    },
    "id": "6Ijcm2uI1bu3",
    "outputId": "13236a94-57c6-455a-c51d-13db07c55063"
   },
   "outputs": [
    {
     "data": {
      "text/plain": [
       "(667, 70)"
      ]
     },
     "execution_count": 236,
     "metadata": {
      "tags": []
     },
     "output_type": "execute_result"
    }
   ],
   "source": [
    "X_test.shape"
   ]
  },
  {
   "cell_type": "code",
   "execution_count": 232,
   "metadata": {
    "colab": {
     "base_uri": "https://localhost:8080/"
    },
    "executionInfo": {
     "elapsed": 152,
     "status": "ok",
     "timestamp": 1626128512582,
     "user": {
      "displayName": "Leslie Kerby",
      "photoUrl": "https://lh3.googleusercontent.com/a-/AOh14GjN8SnHoanmo435DxiVf-rB_w00WFdyFzUqH3TuM30=s64",
      "userId": "13736524897897077884"
     },
     "user_tz": 360
    },
    "id": "CSfEwSi3bNEc",
    "outputId": "aeaeb8a3-5cdf-4a03-f832-d3e78e92da32"
   },
   "outputs": [
    {
     "data": {
      "text/plain": [
       "1204     True.\n",
       "3301     True.\n",
       "682     False.\n",
       "41       True.\n",
       "2963    False.\n",
       "Name: Churn?, dtype: object"
      ]
     },
     "execution_count": 232,
     "metadata": {
      "tags": []
     },
     "output_type": "execute_result"
    }
   ],
   "source": [
    "y_train.head()"
   ]
  },
  {
   "cell_type": "code",
   "execution_count": 246,
   "metadata": {
    "colab": {
     "base_uri": "https://localhost:8080/"
    },
    "executionInfo": {
     "elapsed": 164,
     "status": "ok",
     "timestamp": 1626129195317,
     "user": {
      "displayName": "Leslie Kerby",
      "photoUrl": "https://lh3.googleusercontent.com/a-/AOh14GjN8SnHoanmo435DxiVf-rB_w00WFdyFzUqH3TuM30=s64",
      "userId": "13736524897897077884"
     },
     "user_tz": 360
    },
    "id": "bmWnhAXHbNG6",
    "outputId": "966b36b7-c4f9-478f-8868-9cef6bdda5bd"
   },
   "outputs": [
    {
     "data": {
      "text/plain": [
       "DecisionTreeClassifier(ccp_alpha=0.0, class_weight=None, criterion='gini',\n",
       "                       max_depth=None, max_features=None, max_leaf_nodes=None,\n",
       "                       min_impurity_decrease=0.0, min_impurity_split=None,\n",
       "                       min_samples_leaf=1, min_samples_split=2,\n",
       "                       min_weight_fraction_leaf=0.0, presort='deprecated',\n",
       "                       random_state=None, splitter='best')"
      ]
     },
     "execution_count": 246,
     "metadata": {
      "tags": []
     },
     "output_type": "execute_result"
    }
   ],
   "source": [
    "from sklearn.tree import DecisionTreeClassifier\n",
    "class_tree = DecisionTreeClassifier()\n",
    "class_tree.fit(X_train, y_train)"
   ]
  },
  {
   "cell_type": "code",
   "execution_count": 247,
   "metadata": {
    "colab": {
     "base_uri": "https://localhost:8080/"
    },
    "executionInfo": {
     "elapsed": 156,
     "status": "ok",
     "timestamp": 1626129198531,
     "user": {
      "displayName": "Leslie Kerby",
      "photoUrl": "https://lh3.googleusercontent.com/a-/AOh14GjN8SnHoanmo435DxiVf-rB_w00WFdyFzUqH3TuM30=s64",
      "userId": "13736524897897077884"
     },
     "user_tz": 360
    },
    "id": "p8KOpjH47w5G",
    "outputId": "305e2382-4b75-478e-d120-236450a42732"
   },
   "outputs": [
    {
     "data": {
      "text/plain": [
       "1.0"
      ]
     },
     "execution_count": 247,
     "metadata": {
      "tags": []
     },
     "output_type": "execute_result"
    }
   ],
   "source": [
    "# This is accuracy (percent correct on classification)\n",
    "class_tree.score(X_train,y_train)"
   ]
  },
  {
   "cell_type": "code",
   "execution_count": 248,
   "metadata": {
    "colab": {
     "base_uri": "https://localhost:8080/"
    },
    "executionInfo": {
     "elapsed": 149,
     "status": "ok",
     "timestamp": 1626129209474,
     "user": {
      "displayName": "Leslie Kerby",
      "photoUrl": "https://lh3.googleusercontent.com/a-/AOh14GjN8SnHoanmo435DxiVf-rB_w00WFdyFzUqH3TuM30=s64",
      "userId": "13736524897897077884"
     },
     "user_tz": 360
    },
    "id": "3SIABKuV7w8C",
    "outputId": "a92c8944-3e51-41b7-a2ba-35c146fdb52d"
   },
   "outputs": [
    {
     "data": {
      "text/plain": [
       "0.9130434782608695"
      ]
     },
     "execution_count": 248,
     "metadata": {
      "tags": []
     },
     "output_type": "execute_result"
    }
   ],
   "source": [
    "class_tree.score(X_test, y_test)\n",
    "# We've overfit"
   ]
  },
  {
   "cell_type": "code",
   "execution_count": 249,
   "metadata": {
    "colab": {
     "base_uri": "https://localhost:8080/"
    },
    "executionInfo": {
     "elapsed": 160,
     "status": "ok",
     "timestamp": 1626129213178,
     "user": {
      "displayName": "Leslie Kerby",
      "photoUrl": "https://lh3.googleusercontent.com/a-/AOh14GjN8SnHoanmo435DxiVf-rB_w00WFdyFzUqH3TuM30=s64",
      "userId": "13736524897897077884"
     },
     "user_tz": 360
    },
    "id": "87eZVN807w-0",
    "outputId": "28b8070c-eaa5-4c88-f388-72cf820f5891"
   },
   "outputs": [
    {
     "data": {
      "text/plain": [
       "25"
      ]
     },
     "execution_count": 249,
     "metadata": {
      "tags": []
     },
     "output_type": "execute_result"
    }
   ],
   "source": [
    "class_tree.get_depth()"
   ]
  },
  {
   "cell_type": "code",
   "execution_count": 250,
   "metadata": {
    "colab": {
     "base_uri": "https://localhost:8080/",
     "height": 233,
     "output_embedded_package_id": "17PzfEXVTgtGedGvP9qNmr-DG_xZcgUdt"
    },
    "executionInfo": {
     "elapsed": 19273,
     "status": "ok",
     "timestamp": 1626129238121,
     "user": {
      "displayName": "Leslie Kerby",
      "photoUrl": "https://lh3.googleusercontent.com/a-/AOh14GjN8SnHoanmo435DxiVf-rB_w00WFdyFzUqH3TuM30=s64",
      "userId": "13736524897897077884"
     },
     "user_tz": 360
    },
    "id": "_rWSyB087xBb",
    "outputId": "99a8138d-fdda-43f9-9d00-dc20748cfa78"
   },
   "outputs": [
    {
     "data": {
      "text/plain": [
       "Output hidden; open in https://colab.research.google.com to view."
      ]
     },
     "metadata": {},
     "output_type": "display_data"
    }
   ],
   "source": [
    "from sklearn import tree\n",
    "plt.figure(figsize=(250,50))\n",
    "tree.plot_tree(class_tree,\n",
    "               feature_names = X_train.columns,\n",
    "               class_names = ['Stay','Churn'],\n",
    "               filled = True)\n",
    "plt.show()"
   ]
  },
  {
   "cell_type": "code",
   "execution_count": 251,
   "metadata": {
    "colab": {
     "base_uri": "https://localhost:8080/"
    },
    "executionInfo": {
     "elapsed": 148,
     "status": "ok",
     "timestamp": 1626129268503,
     "user": {
      "displayName": "Leslie Kerby",
      "photoUrl": "https://lh3.googleusercontent.com/a-/AOh14GjN8SnHoanmo435DxiVf-rB_w00WFdyFzUqH3TuM30=s64",
      "userId": "13736524897897077884"
     },
     "user_tz": 360
    },
    "id": "k7HQC8717xEO",
    "outputId": "46733d78-31bf-4539-ad96-9d62a01e864d"
   },
   "outputs": [
    {
     "data": {
      "text/plain": [
       "DecisionTreeClassifier(ccp_alpha=0.0, class_weight=None, criterion='gini',\n",
       "                       max_depth=4, max_features=None, max_leaf_nodes=None,\n",
       "                       min_impurity_decrease=0.0, min_impurity_split=None,\n",
       "                       min_samples_leaf=1, min_samples_split=2,\n",
       "                       min_weight_fraction_leaf=0.0, presort='deprecated',\n",
       "                       random_state=None, splitter='best')"
      ]
     },
     "execution_count": 251,
     "metadata": {
      "tags": []
     },
     "output_type": "execute_result"
    }
   ],
   "source": [
    "class_tree_pruned = DecisionTreeClassifier(max_depth=4)\n",
    "class_tree_pruned.fit(X_train, y_train)"
   ]
  },
  {
   "cell_type": "code",
   "execution_count": 252,
   "metadata": {
    "colab": {
     "base_uri": "https://localhost:8080/"
    },
    "executionInfo": {
     "elapsed": 145,
     "status": "ok",
     "timestamp": 1626129271406,
     "user": {
      "displayName": "Leslie Kerby",
      "photoUrl": "https://lh3.googleusercontent.com/a-/AOh14GjN8SnHoanmo435DxiVf-rB_w00WFdyFzUqH3TuM30=s64",
      "userId": "13736524897897077884"
     },
     "user_tz": 360
    },
    "id": "Dv5GNOcTbNK8",
    "outputId": "a27d5e88-083e-416a-ed7d-a2d4be1ffe7d"
   },
   "outputs": [
    {
     "data": {
      "text/plain": [
       "0.9279819954988747"
      ]
     },
     "execution_count": 252,
     "metadata": {
      "tags": []
     },
     "output_type": "execute_result"
    }
   ],
   "source": [
    "class_tree_pruned.score(X_train, y_train)"
   ]
  },
  {
   "cell_type": "code",
   "execution_count": 253,
   "metadata": {
    "colab": {
     "base_uri": "https://localhost:8080/"
    },
    "executionInfo": {
     "elapsed": 145,
     "status": "ok",
     "timestamp": 1626129274118,
     "user": {
      "displayName": "Leslie Kerby",
      "photoUrl": "https://lh3.googleusercontent.com/a-/AOh14GjN8SnHoanmo435DxiVf-rB_w00WFdyFzUqH3TuM30=s64",
      "userId": "13736524897897077884"
     },
     "user_tz": 360
    },
    "id": "CD5I2dIW-Kx4",
    "outputId": "850d542b-9be8-463e-e97a-360060c54522"
   },
   "outputs": [
    {
     "data": {
      "text/plain": [
       "0.9190404797601199"
      ]
     },
     "execution_count": 253,
     "metadata": {
      "tags": []
     },
     "output_type": "execute_result"
    }
   ],
   "source": [
    "class_tree_pruned.score(X_test, y_test)"
   ]
  },
  {
   "cell_type": "code",
   "execution_count": null,
   "metadata": {
    "id": "EOzsNy1n-K0y"
   },
   "outputs": [],
   "source": [
    "# Many other ways to prune:\n",
    "# https://scikit-learn.org/stable/modules/generated/sklearn.tree.DecisionTreeClassifier.html#sklearn.tree.DecisionTreeClassifier"
   ]
  },
  {
   "cell_type": "code",
   "execution_count": 254,
   "metadata": {
    "colab": {
     "base_uri": "https://localhost:8080/",
     "height": 540
    },
    "executionInfo": {
     "elapsed": 1479,
     "status": "ok",
     "timestamp": 1626129284746,
     "user": {
      "displayName": "Leslie Kerby",
      "photoUrl": "https://lh3.googleusercontent.com/a-/AOh14GjN8SnHoanmo435DxiVf-rB_w00WFdyFzUqH3TuM30=s64",
      "userId": "13736524897897077884"
     },
     "user_tz": 360
    },
    "id": "8cA9dAhy-K3_",
    "outputId": "5da85ca7-7840-4e51-e2c7-86b6edada388"
   },
   "outputs": [
    {
     "data": {
      "image/png": "[encoded data removed]",
      "text/plain": [
       "<Figure size 1800x864 with 1 Axes>"
      ]
     },
     "metadata": {
      "needs_background": "light",
      "tags": []
     },
     "output_type": "display_data"
    }
   ],
   "source": [
    "plt.figure(figsize=(25,12))\n",
    "tree.plot_tree(class_tree_pruned,\n",
    "               feature_names = X_train.columns,\n",
    "               class_names = ['Stay','Churn'],\n",
    "               filled = True)\n",
    "plt.show()"
   ]
  },
  {
   "cell_type": "code",
   "execution_count": 255,
   "metadata": {
    "colab": {
     "base_uri": "https://localhost:8080/"
    },
    "executionInfo": {
     "elapsed": 164,
     "status": "ok",
     "timestamp": 1626129450089,
     "user": {
      "displayName": "Leslie Kerby",
      "photoUrl": "https://lh3.googleusercontent.com/a-/AOh14GjN8SnHoanmo435DxiVf-rB_w00WFdyFzUqH3TuM30=s64",
      "userId": "13736524897897077884"
     },
     "user_tz": 360
    },
    "id": "55giR-OTBO8U",
    "outputId": "a1deb9c7-7a30-4d75-f60a-a58f88a7b194"
   },
   "outputs": [
    {
     "data": {
      "text/plain": [
       "array([0.00558023, 0.        , 0.01995078, 0.        , 0.35979618,\n",
       "       0.0172942 , 0.        , 0.0795537 , 0.        , 0.        ,\n",
       "       0.00434724, 0.        , 0.11519391, 0.        , 0.17279717,\n",
       "       0.        , 0.        , 0.        , 0.        , 0.        ,\n",
       "       0.        , 0.        , 0.        , 0.        , 0.        ,\n",
       "       0.        , 0.        , 0.        , 0.        , 0.        ,\n",
       "       0.        , 0.        , 0.        , 0.        , 0.        ,\n",
       "       0.        , 0.        , 0.        , 0.        , 0.        ,\n",
       "       0.        , 0.        , 0.        , 0.        , 0.        ,\n",
       "       0.        , 0.        , 0.        , 0.        , 0.        ,\n",
       "       0.        , 0.        , 0.        , 0.        , 0.        ,\n",
       "       0.        , 0.        , 0.        , 0.        , 0.        ,\n",
       "       0.        , 0.        , 0.        , 0.        , 0.        ,\n",
       "       0.        , 0.00994797, 0.13509893, 0.0804397 , 0.        ])"
      ]
     },
     "execution_count": 255,
     "metadata": {
      "tags": []
     },
     "output_type": "execute_result"
    }
   ],
   "source": [
    "class_tree_pruned.feature_importances_"
   ]
  },
  {
   "cell_type": "code",
   "execution_count": 256,
   "metadata": {
    "colab": {
     "base_uri": "https://localhost:8080/"
    },
    "executionInfo": {
     "elapsed": 154,
     "status": "ok",
     "timestamp": 1626129509162,
     "user": {
      "displayName": "Leslie Kerby",
      "photoUrl": "https://lh3.googleusercontent.com/a-/AOh14GjN8SnHoanmo435DxiVf-rB_w00WFdyFzUqH3TuM30=s64",
      "userId": "13736524897897077884"
     },
     "user_tz": 360
    },
    "id": "SH7JNIfWCcO4",
    "outputId": "1453e4ce-144e-46cd-bf42-a41f5b7a658a"
   },
   "outputs": [
    {
     "data": {
      "text/plain": [
       "Account Length    0.005580\n",
       "VMail Message     0.000000\n",
       "Day Mins          0.019951\n",
       "Day Calls         0.000000\n",
       "Day Charge        0.359796\n",
       "                    ...   \n",
       "State_WY          0.000000\n",
       "Int'l Plan_no     0.009948\n",
       "Int'l Plan_yes    0.135099\n",
       "VMail Plan_no     0.080440\n",
       "VMail Plan_yes    0.000000\n",
       "Length: 70, dtype: float64"
      ]
     },
     "execution_count": 256,
     "metadata": {
      "tags": []
     },
     "output_type": "execute_result"
    }
   ],
   "source": [
    "importances = pd.Series(data=class_tree_pruned.feature_importances_, index=X_train.columns)\n",
    "importances"
   ]
  },
  {
   "cell_type": "code",
   "execution_count": 257,
   "metadata": {
    "colab": {
     "base_uri": "https://localhost:8080/"
    },
    "executionInfo": {
     "elapsed": 147,
     "status": "ok",
     "timestamp": 1626129536171,
     "user": {
      "displayName": "Leslie Kerby",
      "photoUrl": "https://lh3.googleusercontent.com/a-/AOh14GjN8SnHoanmo435DxiVf-rB_w00WFdyFzUqH3TuM30=s64",
      "userId": "13736524897897077884"
     },
     "user_tz": 360
    },
    "id": "T73BPQIvCcTK",
    "outputId": "c5c67552-f84d-4203-cf64-e75f75eca0bb"
   },
   "outputs": [
    {
     "data": {
      "text/plain": [
       "Day Charge        0.359796\n",
       "CustServ Calls    0.172797\n",
       "Int'l Plan_yes    0.135099\n",
       "Intl Calls        0.115194\n",
       "VMail Plan_no     0.080440\n",
       "                    ...   \n",
       "State_MO          0.000000\n",
       "State_MN          0.000000\n",
       "State_MI          0.000000\n",
       "State_ME          0.000000\n",
       "State_MA          0.000000\n",
       "Length: 70, dtype: float64"
      ]
     },
     "execution_count": 257,
     "metadata": {
      "tags": []
     },
     "output_type": "execute_result"
    }
   ],
   "source": [
    "importances.sort_values(ascending=False)"
   ]
  },
  {
   "cell_type": "code",
   "execution_count": 258,
   "metadata": {
    "colab": {
     "base_uri": "https://localhost:8080/",
     "height": 785
    },
    "executionInfo": {
     "elapsed": 1480,
     "status": "ok",
     "timestamp": 1626129547183,
     "user": {
      "displayName": "Leslie Kerby",
      "photoUrl": "https://lh3.googleusercontent.com/a-/AOh14GjN8SnHoanmo435DxiVf-rB_w00WFdyFzUqH3TuM30=s64",
      "userId": "13736524897897077884"
     },
     "user_tz": 360
    },
    "id": "2IRDuWl_BPKt",
    "outputId": "b57b29ad-d1c7-49e7-ac01-c2c18b9e0436"
   },
   "outputs": [
    {
     "data": {
      "text/plain": [
       "<matplotlib.axes._subplots.AxesSubplot at 0x7fb73da9cb50>"
      ]
     },
     "execution_count": 258,
     "metadata": {
      "tags": []
     },
     "output_type": "execute_result"
    },
    {
     "data": {
      "image/png": "[encoded data removed]",
      "text/plain": [
       "<Figure size 864x864 with 1 Axes>"
      ]
     },
     "metadata": {
      "needs_background": "light",
      "tags": []
     },
     "output_type": "display_data"
    }
   ],
   "source": [
    "importances.sort_values(ascending=False).plot.bar(figsize=(12,12))"
   ]
  },
  {
   "cell_type": "code",
   "execution_count": 259,
   "metadata": {
    "colab": {
     "base_uri": "https://localhost:8080/",
     "height": 350
    },
    "executionInfo": {
     "elapsed": 1472,
     "status": "ok",
     "timestamp": 1626129650528,
     "user": {
      "displayName": "Leslie Kerby",
      "photoUrl": "https://lh3.googleusercontent.com/a-/AOh14GjN8SnHoanmo435DxiVf-rB_w00WFdyFzUqH3TuM30=s64",
      "userId": "13736524897897077884"
     },
     "user_tz": 360
    },
    "id": "MUNagpYQ-K6Z",
    "outputId": "8544d827-8a3a-434a-b486-0a969366bd68"
   },
   "outputs": [
    {
     "data": {
      "text/plain": [
       "<matplotlib.axes._subplots.AxesSubplot at 0x7fb73d8aea50>"
      ]
     },
     "execution_count": 259,
     "metadata": {
      "tags": []
     },
     "output_type": "execute_result"
    },
    {
     "data": {
      "image/png": "[encoded data removed]",
      "text/plain": [
       "<Figure size 432x288 with 1 Axes>"
      ]
     },
     "metadata": {
      "needs_background": "light",
      "tags": []
     },
     "output_type": "display_data"
    }
   ],
   "source": [
    "importances.plot.bar()"
   ]
  },
  {
   "cell_type": "code",
   "execution_count": null,
   "metadata": {
    "id": "1LkzMsMvDMXq"
   },
   "outputs": [],
   "source": []
  },
  {
   "cell_type": "markdown",
   "metadata": {
    "id": "46eHs2Msz_d_"
   },
   "source": [
    "**Random Forests**"
   ]
  },
  {
   "cell_type": "code",
   "execution_count": 264,
   "metadata": {
    "colab": {
     "base_uri": "https://localhost:8080/",
     "height": 243
    },
    "executionInfo": {
     "elapsed": 146,
     "status": "ok",
     "timestamp": 1626130053245,
     "user": {
      "displayName": "Leslie Kerby",
      "photoUrl": "https://lh3.googleusercontent.com/a-/AOh14GjN8SnHoanmo435DxiVf-rB_w00WFdyFzUqH3TuM30=s64",
      "userId": "13736524897897077884"
     },
     "user_tz": 360
    },
    "id": "LhcA1rBXIjpn",
    "outputId": "49fe4713-0d46-4901-bf5b-fca2749c9c2c"
   },
   "outputs": [
    {
     "data": {
      "text/html": [
       "<div>\n",
       "<style scoped>\n",
       "    .dataframe tbody tr th:only-of-type {\n",
       "        vertical-align: middle;\n",
       "    }\n",
       "\n",
       "    .dataframe tbody tr th {\n",
       "        vertical-align: top;\n",
       "    }\n",
       "\n",
       "    .dataframe thead th {\n",
       "        text-align: right;\n",
       "    }\n",
       "</style>\n",
       "<table border=\"1\" class=\"dataframe\">\n",
       "  <thead>\n",
       "    <tr style=\"text-align: right;\">\n",
       "      <th></th>\n",
       "      <th>Account Length</th>\n",
       "      <th>VMail Message</th>\n",
       "      <th>Day Mins</th>\n",
       "      <th>Day Calls</th>\n",
       "      <th>Day Charge</th>\n",
       "      <th>Eve Mins</th>\n",
       "      <th>Eve Calls</th>\n",
       "      <th>Eve Charge</th>\n",
       "      <th>Night Mins</th>\n",
       "      <th>Night Calls</th>\n",
       "      <th>Night Charge</th>\n",
       "      <th>Intl Mins</th>\n",
       "      <th>Intl Calls</th>\n",
       "      <th>Intl Charge</th>\n",
       "      <th>CustServ Calls</th>\n",
       "      <th>State_AK</th>\n",
       "      <th>State_AL</th>\n",
       "      <th>State_AR</th>\n",
       "      <th>State_AZ</th>\n",
       "      <th>State_CA</th>\n",
       "      <th>State_CO</th>\n",
       "      <th>State_CT</th>\n",
       "      <th>State_DC</th>\n",
       "      <th>State_DE</th>\n",
       "      <th>State_FL</th>\n",
       "      <th>State_GA</th>\n",
       "      <th>State_HI</th>\n",
       "      <th>State_IA</th>\n",
       "      <th>State_ID</th>\n",
       "      <th>State_IL</th>\n",
       "      <th>State_IN</th>\n",
       "      <th>State_KS</th>\n",
       "      <th>State_KY</th>\n",
       "      <th>State_LA</th>\n",
       "      <th>State_MA</th>\n",
       "      <th>State_MD</th>\n",
       "      <th>State_ME</th>\n",
       "      <th>State_MI</th>\n",
       "      <th>State_MN</th>\n",
       "      <th>State_MO</th>\n",
       "      <th>State_MS</th>\n",
       "      <th>State_MT</th>\n",
       "      <th>State_NC</th>\n",
       "      <th>State_ND</th>\n",
       "      <th>State_NE</th>\n",
       "      <th>State_NH</th>\n",
       "      <th>State_NJ</th>\n",
       "      <th>State_NM</th>\n",
       "      <th>State_NV</th>\n",
       "      <th>State_NY</th>\n",
       "      <th>State_OH</th>\n",
       "      <th>State_OK</th>\n",
       "      <th>State_OR</th>\n",
       "      <th>State_PA</th>\n",
       "      <th>State_RI</th>\n",
       "      <th>State_SC</th>\n",
       "      <th>State_SD</th>\n",
       "      <th>State_TN</th>\n",
       "      <th>State_TX</th>\n",
       "      <th>State_UT</th>\n",
       "      <th>State_VA</th>\n",
       "      <th>State_VT</th>\n",
       "      <th>State_WA</th>\n",
       "      <th>State_WI</th>\n",
       "      <th>State_WV</th>\n",
       "      <th>State_WY</th>\n",
       "      <th>Int'l Plan_no</th>\n",
       "      <th>Int'l Plan_yes</th>\n",
       "      <th>VMail Plan_no</th>\n",
       "      <th>VMail Plan_yes</th>\n",
       "    </tr>\n",
       "  </thead>\n",
       "  <tbody>\n",
       "    <tr>\n",
       "      <th>2132</th>\n",
       "      <td>202</td>\n",
       "      <td>0</td>\n",
       "      <td>115.4</td>\n",
       "      <td>137</td>\n",
       "      <td>19.62</td>\n",
       "      <td>178.7</td>\n",
       "      <td>70</td>\n",
       "      <td>15.19</td>\n",
       "      <td>185.7</td>\n",
       "      <td>113</td>\n",
       "      <td>8.36</td>\n",
       "      <td>6.0</td>\n",
       "      <td>3</td>\n",
       "      <td>1.62</td>\n",
       "      <td>3</td>\n",
       "      <td>0</td>\n",
       "      <td>0</td>\n",
       "      <td>0</td>\n",
       "      <td>0</td>\n",
       "      <td>0</td>\n",
       "      <td>0</td>\n",
       "      <td>0</td>\n",
       "      <td>0</td>\n",
       "      <td>0</td>\n",
       "      <td>0</td>\n",
       "      <td>1</td>\n",
       "      <td>0</td>\n",
       "      <td>0</td>\n",
       "      <td>0</td>\n",
       "      <td>0</td>\n",
       "      <td>0</td>\n",
       "      <td>0</td>\n",
       "      <td>0</td>\n",
       "      <td>0</td>\n",
       "      <td>0</td>\n",
       "      <td>0</td>\n",
       "      <td>0</td>\n",
       "      <td>0</td>\n",
       "      <td>0</td>\n",
       "      <td>0</td>\n",
       "      <td>0</td>\n",
       "      <td>0</td>\n",
       "      <td>0</td>\n",
       "      <td>0</td>\n",
       "      <td>0</td>\n",
       "      <td>0</td>\n",
       "      <td>0</td>\n",
       "      <td>0</td>\n",
       "      <td>0</td>\n",
       "      <td>0</td>\n",
       "      <td>0</td>\n",
       "      <td>0</td>\n",
       "      <td>0</td>\n",
       "      <td>0</td>\n",
       "      <td>0</td>\n",
       "      <td>0</td>\n",
       "      <td>0</td>\n",
       "      <td>0</td>\n",
       "      <td>0</td>\n",
       "      <td>0</td>\n",
       "      <td>0</td>\n",
       "      <td>0</td>\n",
       "      <td>0</td>\n",
       "      <td>0</td>\n",
       "      <td>0</td>\n",
       "      <td>0</td>\n",
       "      <td>1</td>\n",
       "      <td>0</td>\n",
       "      <td>1</td>\n",
       "      <td>0</td>\n",
       "    </tr>\n",
       "    <tr>\n",
       "      <th>914</th>\n",
       "      <td>179</td>\n",
       "      <td>0</td>\n",
       "      <td>287.3</td>\n",
       "      <td>123</td>\n",
       "      <td>48.84</td>\n",
       "      <td>288.0</td>\n",
       "      <td>114</td>\n",
       "      <td>24.48</td>\n",
       "      <td>266.0</td>\n",
       "      <td>112</td>\n",
       "      <td>11.97</td>\n",
       "      <td>10.5</td>\n",
       "      <td>4</td>\n",
       "      <td>2.84</td>\n",
       "      <td>0</td>\n",
       "      <td>0</td>\n",
       "      <td>0</td>\n",
       "      <td>0</td>\n",
       "      <td>0</td>\n",
       "      <td>0</td>\n",
       "      <td>0</td>\n",
       "      <td>0</td>\n",
       "      <td>0</td>\n",
       "      <td>0</td>\n",
       "      <td>0</td>\n",
       "      <td>0</td>\n",
       "      <td>0</td>\n",
       "      <td>0</td>\n",
       "      <td>0</td>\n",
       "      <td>0</td>\n",
       "      <td>0</td>\n",
       "      <td>0</td>\n",
       "      <td>0</td>\n",
       "      <td>0</td>\n",
       "      <td>0</td>\n",
       "      <td>0</td>\n",
       "      <td>0</td>\n",
       "      <td>0</td>\n",
       "      <td>0</td>\n",
       "      <td>1</td>\n",
       "      <td>0</td>\n",
       "      <td>0</td>\n",
       "      <td>0</td>\n",
       "      <td>0</td>\n",
       "      <td>0</td>\n",
       "      <td>0</td>\n",
       "      <td>0</td>\n",
       "      <td>0</td>\n",
       "      <td>0</td>\n",
       "      <td>0</td>\n",
       "      <td>0</td>\n",
       "      <td>0</td>\n",
       "      <td>0</td>\n",
       "      <td>0</td>\n",
       "      <td>0</td>\n",
       "      <td>0</td>\n",
       "      <td>0</td>\n",
       "      <td>0</td>\n",
       "      <td>0</td>\n",
       "      <td>0</td>\n",
       "      <td>0</td>\n",
       "      <td>0</td>\n",
       "      <td>0</td>\n",
       "      <td>0</td>\n",
       "      <td>0</td>\n",
       "      <td>0</td>\n",
       "      <td>1</td>\n",
       "      <td>0</td>\n",
       "      <td>1</td>\n",
       "      <td>0</td>\n",
       "    </tr>\n",
       "    <tr>\n",
       "      <th>2265</th>\n",
       "      <td>126</td>\n",
       "      <td>31</td>\n",
       "      <td>278.0</td>\n",
       "      <td>88</td>\n",
       "      <td>47.26</td>\n",
       "      <td>253.2</td>\n",
       "      <td>65</td>\n",
       "      <td>21.52</td>\n",
       "      <td>223.2</td>\n",
       "      <td>114</td>\n",
       "      <td>10.04</td>\n",
       "      <td>8.7</td>\n",
       "      <td>4</td>\n",
       "      <td>2.35</td>\n",
       "      <td>0</td>\n",
       "      <td>1</td>\n",
       "      <td>0</td>\n",
       "      <td>0</td>\n",
       "      <td>0</td>\n",
       "      <td>0</td>\n",
       "      <td>0</td>\n",
       "      <td>0</td>\n",
       "      <td>0</td>\n",
       "      <td>0</td>\n",
       "      <td>0</td>\n",
       "      <td>0</td>\n",
       "      <td>0</td>\n",
       "      <td>0</td>\n",
       "      <td>0</td>\n",
       "      <td>0</td>\n",
       "      <td>0</td>\n",
       "      <td>0</td>\n",
       "      <td>0</td>\n",
       "      <td>0</td>\n",
       "      <td>0</td>\n",
       "      <td>0</td>\n",
       "      <td>0</td>\n",
       "      <td>0</td>\n",
       "      <td>0</td>\n",
       "      <td>0</td>\n",
       "      <td>0</td>\n",
       "      <td>0</td>\n",
       "      <td>0</td>\n",
       "      <td>0</td>\n",
       "      <td>0</td>\n",
       "      <td>0</td>\n",
       "      <td>0</td>\n",
       "      <td>0</td>\n",
       "      <td>0</td>\n",
       "      <td>0</td>\n",
       "      <td>0</td>\n",
       "      <td>0</td>\n",
       "      <td>0</td>\n",
       "      <td>0</td>\n",
       "      <td>0</td>\n",
       "      <td>0</td>\n",
       "      <td>0</td>\n",
       "      <td>0</td>\n",
       "      <td>0</td>\n",
       "      <td>0</td>\n",
       "      <td>0</td>\n",
       "      <td>0</td>\n",
       "      <td>0</td>\n",
       "      <td>0</td>\n",
       "      <td>0</td>\n",
       "      <td>0</td>\n",
       "      <td>1</td>\n",
       "      <td>0</td>\n",
       "      <td>0</td>\n",
       "      <td>1</td>\n",
       "    </tr>\n",
       "    <tr>\n",
       "      <th>1372</th>\n",
       "      <td>80</td>\n",
       "      <td>0</td>\n",
       "      <td>118.1</td>\n",
       "      <td>90</td>\n",
       "      <td>20.08</td>\n",
       "      <td>144.3</td>\n",
       "      <td>77</td>\n",
       "      <td>12.27</td>\n",
       "      <td>225.1</td>\n",
       "      <td>86</td>\n",
       "      <td>10.13</td>\n",
       "      <td>8.2</td>\n",
       "      <td>6</td>\n",
       "      <td>2.21</td>\n",
       "      <td>1</td>\n",
       "      <td>0</td>\n",
       "      <td>0</td>\n",
       "      <td>0</td>\n",
       "      <td>0</td>\n",
       "      <td>0</td>\n",
       "      <td>0</td>\n",
       "      <td>1</td>\n",
       "      <td>0</td>\n",
       "      <td>0</td>\n",
       "      <td>0</td>\n",
       "      <td>0</td>\n",
       "      <td>0</td>\n",
       "      <td>0</td>\n",
       "      <td>0</td>\n",
       "      <td>0</td>\n",
       "      <td>0</td>\n",
       "      <td>0</td>\n",
       "      <td>0</td>\n",
       "      <td>0</td>\n",
       "      <td>0</td>\n",
       "      <td>0</td>\n",
       "      <td>0</td>\n",
       "      <td>0</td>\n",
       "      <td>0</td>\n",
       "      <td>0</td>\n",
       "      <td>0</td>\n",
       "      <td>0</td>\n",
       "      <td>0</td>\n",
       "      <td>0</td>\n",
       "      <td>0</td>\n",
       "      <td>0</td>\n",
       "      <td>0</td>\n",
       "      <td>0</td>\n",
       "      <td>0</td>\n",
       "      <td>0</td>\n",
       "      <td>0</td>\n",
       "      <td>0</td>\n",
       "      <td>0</td>\n",
       "      <td>0</td>\n",
       "      <td>0</td>\n",
       "      <td>0</td>\n",
       "      <td>0</td>\n",
       "      <td>0</td>\n",
       "      <td>0</td>\n",
       "      <td>0</td>\n",
       "      <td>0</td>\n",
       "      <td>0</td>\n",
       "      <td>0</td>\n",
       "      <td>0</td>\n",
       "      <td>0</td>\n",
       "      <td>0</td>\n",
       "      <td>1</td>\n",
       "      <td>0</td>\n",
       "      <td>1</td>\n",
       "      <td>0</td>\n",
       "    </tr>\n",
       "    <tr>\n",
       "      <th>469</th>\n",
       "      <td>41</td>\n",
       "      <td>34</td>\n",
       "      <td>194.4</td>\n",
       "      <td>63</td>\n",
       "      <td>33.05</td>\n",
       "      <td>254.9</td>\n",
       "      <td>110</td>\n",
       "      <td>21.67</td>\n",
       "      <td>160.2</td>\n",
       "      <td>115</td>\n",
       "      <td>7.21</td>\n",
       "      <td>17.2</td>\n",
       "      <td>9</td>\n",
       "      <td>4.64</td>\n",
       "      <td>2</td>\n",
       "      <td>0</td>\n",
       "      <td>1</td>\n",
       "      <td>0</td>\n",
       "      <td>0</td>\n",
       "      <td>0</td>\n",
       "      <td>0</td>\n",
       "      <td>0</td>\n",
       "      <td>0</td>\n",
       "      <td>0</td>\n",
       "      <td>0</td>\n",
       "      <td>0</td>\n",
       "      <td>0</td>\n",
       "      <td>0</td>\n",
       "      <td>0</td>\n",
       "      <td>0</td>\n",
       "      <td>0</td>\n",
       "      <td>0</td>\n",
       "      <td>0</td>\n",
       "      <td>0</td>\n",
       "      <td>0</td>\n",
       "      <td>0</td>\n",
       "      <td>0</td>\n",
       "      <td>0</td>\n",
       "      <td>0</td>\n",
       "      <td>0</td>\n",
       "      <td>0</td>\n",
       "      <td>0</td>\n",
       "      <td>0</td>\n",
       "      <td>0</td>\n",
       "      <td>0</td>\n",
       "      <td>0</td>\n",
       "      <td>0</td>\n",
       "      <td>0</td>\n",
       "      <td>0</td>\n",
       "      <td>0</td>\n",
       "      <td>0</td>\n",
       "      <td>0</td>\n",
       "      <td>0</td>\n",
       "      <td>0</td>\n",
       "      <td>0</td>\n",
       "      <td>0</td>\n",
       "      <td>0</td>\n",
       "      <td>0</td>\n",
       "      <td>0</td>\n",
       "      <td>0</td>\n",
       "      <td>0</td>\n",
       "      <td>0</td>\n",
       "      <td>0</td>\n",
       "      <td>0</td>\n",
       "      <td>0</td>\n",
       "      <td>0</td>\n",
       "      <td>1</td>\n",
       "      <td>0</td>\n",
       "      <td>0</td>\n",
       "      <td>1</td>\n",
       "    </tr>\n",
       "  </tbody>\n",
       "</table>\n",
       "</div>"
      ],
      "text/plain": [
       "      Account Length  VMail Message  ...  VMail Plan_no  VMail Plan_yes\n",
       "2132             202              0  ...              1               0\n",
       "914              179              0  ...              1               0\n",
       "2265             126             31  ...              0               1\n",
       "1372              80              0  ...              1               0\n",
       "469               41             34  ...              0               1\n",
       "\n",
       "[5 rows x 70 columns]"
      ]
     },
     "execution_count": 264,
     "metadata": {
      "tags": []
     },
     "output_type": "execute_result"
    }
   ],
   "source": [
    "from sklearn.model_selection import train_test_split\n",
    "X_train, X_test, y_train, y_test = train_test_split(features, target, test_size=1/5)\n",
    "X_train.head()"
   ]
  },
  {
   "cell_type": "code",
   "execution_count": 265,
   "metadata": {
    "colab": {
     "base_uri": "https://localhost:8080/"
    },
    "executionInfo": {
     "elapsed": 1473,
     "status": "ok",
     "timestamp": 1626130057818,
     "user": {
      "displayName": "Leslie Kerby",
      "photoUrl": "https://lh3.googleusercontent.com/a-/AOh14GjN8SnHoanmo435DxiVf-rB_w00WFdyFzUqH3TuM30=s64",
      "userId": "13736524897897077884"
     },
     "user_tz": 360
    },
    "id": "Go0DJ1cb44v3",
    "outputId": "3a03ca60-4352-483e-af7a-893d77e86bef"
   },
   "outputs": [
    {
     "data": {
      "text/plain": [
       "RandomForestClassifier(bootstrap=True, ccp_alpha=0.0, class_weight=None,\n",
       "                       criterion='gini', max_depth=None, max_features='auto',\n",
       "                       max_leaf_nodes=None, max_samples=None,\n",
       "                       min_impurity_decrease=0.0001, min_impurity_split=None,\n",
       "                       min_samples_leaf=1, min_samples_split=2,\n",
       "                       min_weight_fraction_leaf=0.001, n_estimators=250,\n",
       "                       n_jobs=None, oob_score=False, random_state=None,\n",
       "                       verbose=0, warm_start=False)"
      ]
     },
     "execution_count": 265,
     "metadata": {
      "tags": []
     },
     "output_type": "execute_result"
    }
   ],
   "source": [
    "from sklearn.ensemble import RandomForestClassifier\n",
    "rf = RandomForestClassifier(n_estimators=250, #min_samples_leaf=3, max_depth=8, \n",
    "                            min_weight_fraction_leaf=0.001,\n",
    "                            min_impurity_decrease=0.0001)\n",
    "rf.fit(X_train, y_train)"
   ]
  },
  {
   "cell_type": "code",
   "execution_count": 266,
   "metadata": {
    "colab": {
     "base_uri": "https://localhost:8080/"
    },
    "executionInfo": {
     "elapsed": 151,
     "status": "ok",
     "timestamp": 1626130061157,
     "user": {
      "displayName": "Leslie Kerby",
      "photoUrl": "https://lh3.googleusercontent.com/a-/AOh14GjN8SnHoanmo435DxiVf-rB_w00WFdyFzUqH3TuM30=s64",
      "userId": "13736524897897077884"
     },
     "user_tz": 360
    },
    "id": "RW1nagaT-Jix",
    "outputId": "54d92533-25a1-4cfb-e6c9-1768fc8bbabb"
   },
   "outputs": [
    {
     "data": {
      "text/plain": [
       "0.9733683420855214"
      ]
     },
     "execution_count": 266,
     "metadata": {
      "tags": []
     },
     "output_type": "execute_result"
    }
   ],
   "source": [
    "rf.score(X_train, y_train)"
   ]
  },
  {
   "cell_type": "code",
   "execution_count": 267,
   "metadata": {
    "colab": {
     "base_uri": "https://localhost:8080/"
    },
    "executionInfo": {
     "elapsed": 141,
     "status": "ok",
     "timestamp": 1626130063939,
     "user": {
      "displayName": "Leslie Kerby",
      "photoUrl": "https://lh3.googleusercontent.com/a-/AOh14GjN8SnHoanmo435DxiVf-rB_w00WFdyFzUqH3TuM30=s64",
      "userId": "13736524897897077884"
     },
     "user_tz": 360
    },
    "id": "bGqvJ7EV-JmC",
    "outputId": "3b0f9479-7756-45aa-ac74-f8b25d7d3496"
   },
   "outputs": [
    {
     "data": {
      "text/plain": [
       "0.9325337331334332"
      ]
     },
     "execution_count": 267,
     "metadata": {
      "tags": []
     },
     "output_type": "execute_result"
    }
   ],
   "source": [
    "rf.score(X_test, y_test)"
   ]
  },
  {
   "cell_type": "code",
   "execution_count": 268,
   "metadata": {
    "colab": {
     "base_uri": "https://localhost:8080/"
    },
    "executionInfo": {
     "elapsed": 12015,
     "status": "ok",
     "timestamp": 1626130220572,
     "user": {
      "displayName": "Leslie Kerby",
      "photoUrl": "https://lh3.googleusercontent.com/a-/AOh14GjN8SnHoanmo435DxiVf-rB_w00WFdyFzUqH3TuM30=s64",
      "userId": "13736524897897077884"
     },
     "user_tz": 360
    },
    "id": "MuI44iyfXUQ7",
    "outputId": "4d729079-a727-4dbf-d146-4ade97cd9f60"
   },
   "outputs": [
    {
     "name": "stdout",
     "output_type": "stream",
     "text": [
      "CPU times: user 11.8 s, sys: 0 ns, total: 11.8 s\n",
      "Wall time: 11.9 s\n"
     ]
    }
   ],
   "source": [
    "%%time\n",
    "# Cross Validation\n",
    "# Import cross_val_score, usually use 10 folds (k)\n",
    "from sklearn.model_selection import cross_val_score\n",
    "scores = cross_val_score(rf, X_train, y_train, cv=10)\n",
    "scores"
   ]
  },
  {
   "cell_type": "code",
   "execution_count": 269,
   "metadata": {
    "colab": {
     "base_uri": "https://localhost:8080/"
    },
    "executionInfo": {
     "elapsed": 143,
     "status": "ok",
     "timestamp": 1626130226854,
     "user": {
      "displayName": "Leslie Kerby",
      "photoUrl": "https://lh3.googleusercontent.com/a-/AOh14GjN8SnHoanmo435DxiVf-rB_w00WFdyFzUqH3TuM30=s64",
      "userId": "13736524897897077884"
     },
     "user_tz": 360
    },
    "id": "Ty-dQLl1Ykl4",
    "outputId": "e73d0d4d-4185-4197-d10b-2f614b7ebc62"
   },
   "outputs": [
    {
     "data": {
      "text/plain": [
       "array([0.9588015 , 0.92883895, 0.92509363, 0.94007491, 0.92509363,\n",
       "       0.94382022, 0.93984962, 0.93609023, 0.92857143, 0.92105263])"
      ]
     },
     "execution_count": 269,
     "metadata": {
      "tags": []
     },
     "output_type": "execute_result"
    }
   ],
   "source": [
    "scores"
   ]
  },
  {
   "cell_type": "code",
   "execution_count": 270,
   "metadata": {
    "colab": {
     "base_uri": "https://localhost:8080/"
    },
    "executionInfo": {
     "elapsed": 152,
     "status": "ok",
     "timestamp": 1626130240605,
     "user": {
      "displayName": "Leslie Kerby",
      "photoUrl": "https://lh3.googleusercontent.com/a-/AOh14GjN8SnHoanmo435DxiVf-rB_w00WFdyFzUqH3TuM30=s64",
      "userId": "13736524897897077884"
     },
     "user_tz": 360
    },
    "id": "_ji5plTLYlwa",
    "outputId": "137c3aa5-726a-40ce-bf74-fe8e5ec52dfd"
   },
   "outputs": [
    {
     "data": {
      "text/plain": [
       "0.9347286756216384"
      ]
     },
     "execution_count": 270,
     "metadata": {
      "tags": []
     },
     "output_type": "execute_result"
    }
   ],
   "source": [
    "scores.mean()"
   ]
  },
  {
   "cell_type": "code",
   "execution_count": 271,
   "metadata": {
    "colab": {
     "base_uri": "https://localhost:8080/"
    },
    "executionInfo": {
     "elapsed": 136,
     "status": "ok",
     "timestamp": 1626130248724,
     "user": {
      "displayName": "Leslie Kerby",
      "photoUrl": "https://lh3.googleusercontent.com/a-/AOh14GjN8SnHoanmo435DxiVf-rB_w00WFdyFzUqH3TuM30=s64",
      "userId": "13736524897897077884"
     },
     "user_tz": 360
    },
    "id": "9FSN6CvTCdde",
    "outputId": "29813422-ad37-40e4-cafb-52b299b98f53"
   },
   "outputs": [
    {
     "data": {
      "text/plain": [
       "0.010789439194426131"
      ]
     },
     "execution_count": 271,
     "metadata": {
      "tags": []
     },
     "output_type": "execute_result"
    }
   ],
   "source": [
    "scores.std()"
   ]
  },
  {
   "cell_type": "code",
   "execution_count": 272,
   "metadata": {
    "colab": {
     "base_uri": "https://localhost:8080/",
     "height": 557
    },
    "executionInfo": {
     "elapsed": 6446,
     "status": "ok",
     "timestamp": 1626130301073,
     "user": {
      "displayName": "Leslie Kerby",
      "photoUrl": "https://lh3.googleusercontent.com/a-/AOh14GjN8SnHoanmo435DxiVf-rB_w00WFdyFzUqH3TuM30=s64",
      "userId": "13736524897897077884"
     },
     "user_tz": 360
    },
    "id": "UjntXDHV-JpU",
    "outputId": "563b48fa-dd02-4752-8b1c-bc97402a78e6"
   },
   "outputs": [
    {
     "data": {
      "image/png": "[encoded data removed]",
      "text/plain": [
       "<Figure size 1800x864 with 1 Axes>"
      ]
     },
     "metadata": {
      "needs_background": "light",
      "tags": []
     },
     "output_type": "display_data"
    },
    {
     "name": "stdout",
     "output_type": "stream",
     "text": [
      "15\n"
     ]
    }
   ],
   "source": [
    "single_tree = rf.estimators_[0]\n",
    "plt.figure(figsize=(25,12))\n",
    "tree.plot_tree(single_tree,\n",
    "               feature_names = X_train.columns,\n",
    "               class_names = ['Stay','Churn'],\n",
    "               filled = True)\n",
    "plt.show()\n",
    "print(rf.estimators_[100].get_depth())\n"
   ]
  },
  {
   "cell_type": "markdown",
   "metadata": {
    "id": "5uA67bfwIxat"
   },
   "source": [
    "**XGBoost**"
   ]
  },
  {
   "cell_type": "code",
   "execution_count": 273,
   "metadata": {
    "colab": {
     "base_uri": "https://localhost:8080/"
    },
    "executionInfo": {
     "elapsed": 1005,
     "status": "ok",
     "timestamp": 1626130435977,
     "user": {
      "displayName": "Leslie Kerby",
      "photoUrl": "https://lh3.googleusercontent.com/a-/AOh14GjN8SnHoanmo435DxiVf-rB_w00WFdyFzUqH3TuM30=s64",
      "userId": "13736524897897077884"
     },
     "user_tz": 360
    },
    "id": "wxXrk15pGolY",
    "outputId": "c5f09eb0-a68e-4d5b-f4bc-717dd909a93c"
   },
   "outputs": [
    {
     "data": {
      "text/plain": [
       "XGBClassifier(base_score=0.5, booster='gbtree', colsample_bylevel=1,\n",
       "              colsample_bynode=1, colsample_bytree=1, gamma=0,\n",
       "              learning_rate=0.1, max_delta_step=0, max_depth=3,\n",
       "              min_child_weight=1, missing=None, n_estimators=100, n_jobs=1,\n",
       "              nthread=None, objective='binary:logistic', random_state=0,\n",
       "              reg_alpha=0, reg_lambda=1, scale_pos_weight=1, seed=None,\n",
       "              silent=None, subsample=1, verbosity=1)"
      ]
     },
     "execution_count": 273,
     "metadata": {
      "tags": []
     },
     "output_type": "execute_result"
    }
   ],
   "source": [
    "from xgboost import XGBClassifier\n",
    "xgb = XGBClassifier()\n",
    "xgb.fit(X_train, y_train)"
   ]
  },
  {
   "cell_type": "code",
   "execution_count": 274,
   "metadata": {
    "colab": {
     "base_uri": "https://localhost:8080/"
    },
    "executionInfo": {
     "elapsed": 151,
     "status": "ok",
     "timestamp": 1626130445936,
     "user": {
      "displayName": "Leslie Kerby",
      "photoUrl": "https://lh3.googleusercontent.com/a-/AOh14GjN8SnHoanmo435DxiVf-rB_w00WFdyFzUqH3TuM30=s64",
      "userId": "13736524897897077884"
     },
     "user_tz": 360
    },
    "id": "DovTFGKBGoo-",
    "outputId": "d45a1845-2bd0-45da-e3d3-2ecb076142f4"
   },
   "outputs": [
    {
     "data": {
      "text/plain": [
       "0.9699924981245311"
      ]
     },
     "execution_count": 274,
     "metadata": {
      "tags": []
     },
     "output_type": "execute_result"
    }
   ],
   "source": [
    "xgb.score(X_train, y_train)"
   ]
  },
  {
   "cell_type": "code",
   "execution_count": 275,
   "metadata": {
    "colab": {
     "base_uri": "https://localhost:8080/"
    },
    "executionInfo": {
     "elapsed": 159,
     "status": "ok",
     "timestamp": 1626130449023,
     "user": {
      "displayName": "Leslie Kerby",
      "photoUrl": "https://lh3.googleusercontent.com/a-/AOh14GjN8SnHoanmo435DxiVf-rB_w00WFdyFzUqH3TuM30=s64",
      "userId": "13736524897897077884"
     },
     "user_tz": 360
    },
    "id": "wwY8HKI2KqfY",
    "outputId": "acddee31-b14c-4008-84d7-16b04f2a27dc"
   },
   "outputs": [
    {
     "data": {
      "text/plain": [
       "0.9505247376311844"
      ]
     },
     "execution_count": 275,
     "metadata": {
      "tags": []
     },
     "output_type": "execute_result"
    }
   ],
   "source": [
    "xgb.score(X_test, y_test)"
   ]
  },
  {
   "cell_type": "code",
   "execution_count": null,
   "metadata": {
    "id": "PyRAnQaSKqiH"
   },
   "outputs": [],
   "source": [
    "# Plot tree\n"
   ]
  },
  {
   "cell_type": "code",
   "execution_count": null,
   "metadata": {
    "id": "x3i2O-zJGoss"
   },
   "outputs": [],
   "source": [
    "%%time\n",
    "# Cross Validation\n",
    "# Import cross_val_score, usually use 10 folds (k)\n",
    "from sklearn.model_selection import cross_val_score\n",
    "scores = cross_val_score(xgb, X_train, y_train, cv=10)\n",
    "scores"
   ]
  },
  {
   "cell_type": "code",
   "execution_count": null,
   "metadata": {
    "id": "camXLAXiPJ01"
   },
   "outputs": [],
   "source": [
    "scores"
   ]
  },
  {
   "cell_type": "code",
   "execution_count": null,
   "metadata": {
    "id": "8eim2v9kPJ37"
   },
   "outputs": [],
   "source": [
    "scores.mean()"
   ]
  },
  {
   "cell_type": "code",
   "execution_count": null,
   "metadata": {
    "id": "Icx4_t2EPYqz"
   },
   "outputs": [],
   "source": [
    "scores.std()"
   ]
  },
  {
   "cell_type": "code",
   "execution_count": 276,
   "metadata": {
    "colab": {
     "base_uri": "https://localhost:8080/"
    },
    "executionInfo": {
     "elapsed": 54336,
     "status": "ok",
     "timestamp": 1626130612412,
     "user": {
      "displayName": "Leslie Kerby",
      "photoUrl": "https://lh3.googleusercontent.com/a-/AOh14GjN8SnHoanmo435DxiVf-rB_w00WFdyFzUqH3TuM30=s64",
      "userId": "13736524897897077884"
     },
     "user_tz": 360
    },
    "id": "2XeCgy_gPe1g",
    "outputId": "a31f2a20-c06e-4349-8b8c-2a61ee3db309"
   },
   "outputs": [
    {
     "name": "stdout",
     "output_type": "stream",
     "text": [
      "CPU times: user 54.3 s, sys: 975 µs, total: 54.3 s\n",
      "Wall time: 54.2 s\n"
     ]
    }
   ],
   "source": [
    "%%time\n",
    "# Grid Search\n",
    "# (uses cross validation as well)\n",
    "from sklearn.model_selection import GridSearchCV\n",
    "param_grid = [  # list of dictionaries\n",
    "              {'n_estimators': [50,100,200], 'max_features': [4,7,12]}\n",
    "              # could add more dictionaries\n",
    "]\n",
    "\n",
    "xgb_grid = GridSearchCV(XGBClassifier(), param_grid, cv=10,\n",
    "                        return_train_score=True)\n",
    "xgb_grid.fit(X_train, y_train)"
   ]
  },
  {
   "cell_type": "code",
   "execution_count": 277,
   "metadata": {
    "colab": {
     "base_uri": "https://localhost:8080/"
    },
    "executionInfo": {
     "elapsed": 174,
     "status": "ok",
     "timestamp": 1626130621861,
     "user": {
      "displayName": "Leslie Kerby",
      "photoUrl": "https://lh3.googleusercontent.com/a-/AOh14GjN8SnHoanmo435DxiVf-rB_w00WFdyFzUqH3TuM30=s64",
      "userId": "13736524897897077884"
     },
     "user_tz": 360
    },
    "id": "RmMfCLqCPfXd",
    "outputId": "1ff78ad5-ad15-47bb-d726-f844da399029"
   },
   "outputs": [
    {
     "data": {
      "text/plain": [
       "{'max_features': 4, 'n_estimators': 200}"
      ]
     },
     "execution_count": 277,
     "metadata": {
      "tags": []
     },
     "output_type": "execute_result"
    }
   ],
   "source": [
    "xgb_grid.best_params_"
   ]
  },
  {
   "cell_type": "code",
   "execution_count": 278,
   "metadata": {
    "colab": {
     "base_uri": "https://localhost:8080/"
    },
    "executionInfo": {
     "elapsed": 144,
     "status": "ok",
     "timestamp": 1626130649020,
     "user": {
      "displayName": "Leslie Kerby",
      "photoUrl": "https://lh3.googleusercontent.com/a-/AOh14GjN8SnHoanmo435DxiVf-rB_w00WFdyFzUqH3TuM30=s64",
      "userId": "13736524897897077884"
     },
     "user_tz": 360
    },
    "id": "hUTxEch8XRuK",
    "outputId": "825d1b43-6332-4384-8d62-d638dba1c2ce"
   },
   "outputs": [
    {
     "data": {
      "text/plain": [
       "XGBClassifier(base_score=0.5, booster='gbtree', colsample_bylevel=1,\n",
       "              colsample_bynode=1, colsample_bytree=1, gamma=0,\n",
       "              learning_rate=0.1, max_delta_step=0, max_depth=3, max_features=4,\n",
       "              min_child_weight=1, missing=None, n_estimators=200, n_jobs=1,\n",
       "              nthread=None, objective='binary:logistic', random_state=0,\n",
       "              reg_alpha=0, reg_lambda=1, scale_pos_weight=1, seed=None,\n",
       "              silent=None, subsample=1, verbosity=1)"
      ]
     },
     "execution_count": 278,
     "metadata": {
      "tags": []
     },
     "output_type": "execute_result"
    }
   ],
   "source": [
    "xgb_grid.best_estimator_"
   ]
  },
  {
   "cell_type": "code",
   "execution_count": 279,
   "metadata": {
    "colab": {
     "base_uri": "https://localhost:8080/"
    },
    "executionInfo": {
     "elapsed": 145,
     "status": "ok",
     "timestamp": 1626130671752,
     "user": {
      "displayName": "Leslie Kerby",
      "photoUrl": "https://lh3.googleusercontent.com/a-/AOh14GjN8SnHoanmo435DxiVf-rB_w00WFdyFzUqH3TuM30=s64",
      "userId": "13736524897897077884"
     },
     "user_tz": 360
    },
    "id": "a2YBUWgNFrRv",
    "outputId": "27c34bac-c582-4b56-cea1-a9b14351141a"
   },
   "outputs": [
    {
     "data": {
      "text/plain": [
       "0.9504829489453972"
      ]
     },
     "execution_count": 279,
     "metadata": {
      "tags": []
     },
     "output_type": "execute_result"
    }
   ],
   "source": [
    "xgb_grid.best_score_"
   ]
  },
  {
   "cell_type": "code",
   "execution_count": 280,
   "metadata": {
    "colab": {
     "base_uri": "https://localhost:8080/"
    },
    "executionInfo": {
     "elapsed": 141,
     "status": "ok",
     "timestamp": 1626130676462,
     "user": {
      "displayName": "Leslie Kerby",
      "photoUrl": "https://lh3.googleusercontent.com/a-/AOh14GjN8SnHoanmo435DxiVf-rB_w00WFdyFzUqH3TuM30=s64",
      "userId": "13736524897897077884"
     },
     "user_tz": 360
    },
    "id": "l2gihgQ9ah9v",
    "outputId": "21541eb2-7988-481c-fdf9-0a7374609797"
   },
   "outputs": [
    {
     "data": {
      "text/plain": [
       "{'mean_fit_time': array([0.26041055, 0.48754072, 0.95142837, 0.25564339, 0.49323764,\n",
       "        0.95415442, 0.25829427, 0.4938283 , 0.95056202]),\n",
       " 'mean_score_time': array([0.00352125, 0.00386307, 0.00495322, 0.00356467, 0.00467639,\n",
       "        0.0048697 , 0.0034826 , 0.00405862, 0.00489101]),\n",
       " 'mean_test_score': array([0.94411872, 0.94636451, 0.95048295, 0.94411872, 0.94636451,\n",
       "        0.95048295, 0.94411872, 0.94636451, 0.95048295]),\n",
       " 'mean_train_score': array([0.96032321, 0.97024255, 0.97686918, 0.96032321, 0.97024255,\n",
       "        0.97686918, 0.96032321, 0.97024255, 0.97686918]),\n",
       " 'param_max_features': masked_array(data=[4, 4, 4, 7, 7, 7, 12, 12, 12],\n",
       "              mask=[False, False, False, False, False, False, False, False,\n",
       "                    False],\n",
       "        fill_value='?',\n",
       "             dtype=object),\n",
       " 'param_n_estimators': masked_array(data=[50, 100, 200, 50, 100, 200, 50, 100, 200],\n",
       "              mask=[False, False, False, False, False, False, False, False,\n",
       "                    False],\n",
       "        fill_value='?',\n",
       "             dtype=object),\n",
       " 'params': [{'max_features': 4, 'n_estimators': 50},\n",
       "  {'max_features': 4, 'n_estimators': 100},\n",
       "  {'max_features': 4, 'n_estimators': 200},\n",
       "  {'max_features': 7, 'n_estimators': 50},\n",
       "  {'max_features': 7, 'n_estimators': 100},\n",
       "  {'max_features': 7, 'n_estimators': 200},\n",
       "  {'max_features': 12, 'n_estimators': 50},\n",
       "  {'max_features': 12, 'n_estimators': 100},\n",
       "  {'max_features': 12, 'n_estimators': 200}],\n",
       " 'rank_test_score': array([7, 4, 1, 7, 4, 1, 7, 4, 1], dtype=int32),\n",
       " 'split0_test_score': array([0.95131086, 0.95131086, 0.96629213, 0.95131086, 0.95131086,\n",
       "        0.96629213, 0.95131086, 0.95131086, 0.96629213]),\n",
       " 'split0_train_score': array([0.9566486 , 0.96873697, 0.97707378, 0.9566486 , 0.96873697,\n",
       "        0.97707378, 0.9566486 , 0.96873697, 0.97707378]),\n",
       " 'split1_test_score': array([0.94756554, 0.95131086, 0.95131086, 0.94756554, 0.95131086,\n",
       "        0.95131086, 0.94756554, 0.95131086, 0.95131086]),\n",
       " 'split1_train_score': array([0.95998333, 0.96957065, 0.9762401 , 0.95998333, 0.96957065,\n",
       "        0.9762401 , 0.95998333, 0.96957065, 0.9762401 ]),\n",
       " 'split2_test_score': array([0.92883895, 0.94007491, 0.94382022, 0.92883895, 0.94007491,\n",
       "        0.94382022, 0.92883895, 0.94007491, 0.94382022]),\n",
       " 'split2_train_score': array([0.96290121, 0.97165486, 0.97749062, 0.96290121, 0.97165486,\n",
       "        0.97749062, 0.96290121, 0.97165486, 0.97749062]),\n",
       " 'split3_test_score': array([0.95505618, 0.9588015 , 0.96254682, 0.95505618, 0.9588015 ,\n",
       "        0.96254682, 0.95505618, 0.9588015 , 0.96254682]),\n",
       " 'split3_train_score': array([0.95914965, 0.97165486, 0.97749062, 0.95914965, 0.97165486,\n",
       "        0.97749062, 0.95914965, 0.97165486, 0.97749062]),\n",
       " 'split4_test_score': array([0.917603  , 0.917603  , 0.93632959, 0.917603  , 0.917603  ,\n",
       "        0.93632959, 0.917603  , 0.917603  , 0.93632959]),\n",
       " 'split4_train_score': array([0.96040017, 0.97040434, 0.97707378, 0.96040017, 0.97040434,\n",
       "        0.97707378, 0.96040017, 0.97040434, 0.97707378]),\n",
       " 'split5_test_score': array([0.94382022, 0.95131086, 0.95505618, 0.94382022, 0.95131086,\n",
       "        0.95505618, 0.94382022, 0.95131086, 0.95505618]),\n",
       " 'split5_train_score': array([0.95789912, 0.96915381, 0.97498958, 0.95789912, 0.96915381,\n",
       "        0.97498958, 0.95789912, 0.96915381, 0.97498958]),\n",
       " 'split6_test_score': array([0.95488722, 0.94736842, 0.94736842, 0.95488722, 0.94736842,\n",
       "        0.94736842, 0.95488722, 0.94736842, 0.94736842]),\n",
       " 'split6_train_score': array([0.95833333, 0.97125   , 0.9775    , 0.95833333, 0.97125   ,\n",
       "        0.9775    , 0.95833333, 0.97125   , 0.9775    ]),\n",
       " 'split7_test_score': array([0.93984962, 0.94360902, 0.94360902, 0.93984962, 0.94360902,\n",
       "        0.94360902, 0.93984962, 0.94360902, 0.94360902]),\n",
       " 'split7_train_score': array([0.96333333, 0.96833333, 0.97583333, 0.96333333, 0.96833333,\n",
       "        0.97583333, 0.96333333, 0.96833333, 0.97583333]),\n",
       " 'split8_test_score': array([0.94736842, 0.95112782, 0.94360902, 0.94736842, 0.95112782,\n",
       "        0.94360902, 0.94736842, 0.95112782, 0.94360902]),\n",
       " 'split8_train_score': array([0.96583333, 0.97208333, 0.97666667, 0.96583333, 0.97208333,\n",
       "        0.97666667, 0.96583333, 0.97208333, 0.97666667]),\n",
       " 'split9_test_score': array([0.95488722, 0.95112782, 0.95488722, 0.95488722, 0.95112782,\n",
       "        0.95488722, 0.95488722, 0.95112782, 0.95488722]),\n",
       " 'split9_train_score': array([0.95875   , 0.96958333, 0.97833333, 0.95875   , 0.96958333,\n",
       "        0.97833333, 0.95875   , 0.96958333, 0.97833333]),\n",
       " 'std_fit_time': array([0.01039221, 0.00700309, 0.01278101, 0.00430407, 0.01140594,\n",
       "        0.01215711, 0.0058309 , 0.0130076 , 0.00937186]),\n",
       " 'std_score_time': array([1.58293950e-04, 6.90103349e-05, 1.91860663e-04, 2.40589440e-04,\n",
       "        1.23156554e-03, 1.25124560e-04, 9.29920150e-05, 2.26607709e-04,\n",
       "        1.70793565e-04]),\n",
       " 'std_test_score': array([0.01174984, 0.0107184 , 0.00886215, 0.01174984, 0.0107184 ,\n",
       "        0.00886215, 0.01174984, 0.0107184 , 0.00886215]),\n",
       " 'std_train_score': array([0.00270889, 0.00128071, 0.00091872, 0.00270889, 0.00128071,\n",
       "        0.00091872, 0.00270889, 0.00128071, 0.00091872])}"
      ]
     },
     "execution_count": 280,
     "metadata": {
      "tags": []
     },
     "output_type": "execute_result"
    }
   ],
   "source": [
    "xgb_grid.cv_results_"
   ]
  },
  {
   "cell_type": "code",
   "execution_count": null,
   "metadata": {
    "id": "CtIdBGE8a_Iv"
   },
   "outputs": [],
   "source": [
    "# RandomizedSearchCV"
   ]
  },
  {
   "cell_type": "code",
   "execution_count": null,
   "metadata": {
    "id": "ok29qrVKDgAI"
   },
   "outputs": [],
   "source": []
  }
 ],
 "metadata": {
  "colab": {
   "authorship_tag": "ABX9TyNk0t1985zonC410xpfnr7x",
   "name": "NumPy_Pandas_Scikit-Learn.ipynb",
   "provenance": []
  },
  "kernelspec": {
   "display_name": "Python 3 (ipykernel)",
   "language": "python",
   "name": "python3"
  },
  "language_info": {
   "codemirror_mode": {
    "name": "ipython",
    "version": 3
   },
   "file_extension": ".py",
   "mimetype": "text/x-python",
   "name": "python",
   "nbconvert_exporter": "python",
   "pygments_lexer": "ipython3",
   "version": "3.9.12"
  }
 },
 "nbformat": 4,
 "nbformat_minor": 1
}
