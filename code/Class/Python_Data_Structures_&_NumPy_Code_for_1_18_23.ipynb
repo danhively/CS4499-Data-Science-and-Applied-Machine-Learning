{
  "nbformat": 4,
  "nbformat_minor": 0,
  "metadata": {
    "colab": {
      "provenance": []
    },
    "kernelspec": {
      "name": "python3",
      "display_name": "Python 3"
    },
    "language_info": {
      "name": "python"
    }
  },
  "cells": [
    {
      "cell_type": "markdown",
      "source": [
        "# Python List "
      ],
      "metadata": {
        "id": "iZvU7fzQvHnb"
      }
    },
    {
      "cell_type": "markdown",
      "source": [
        "Creating a simple Python list"
      ],
      "metadata": {
        "id": "q2VaUm18vN3B"
      }
    },
    {
      "cell_type": "code",
      "source": [
        "#Method one: using the []\n",
        "myList=[] #simple empty list \n"
      ],
      "metadata": {
        "id": "ywzwIHOqwzv1"
      },
      "execution_count": null,
      "outputs": []
    },
    {
      "cell_type": "code",
      "source": [
        "#We can also create a list using the list constructor \n",
        "myList_2=list()"
      ],
      "metadata": {
        "id": "RlR48y4vxfLg"
      },
      "execution_count": null,
      "outputs": []
    },
    {
      "cell_type": "markdown",
      "source": [
        "Let's add some contents to our list "
      ],
      "metadata": {
        "id": "3hGykWxux51a"
      }
    },
    {
      "cell_type": "code",
      "source": [
        "#We can intialize our list with the data already\n",
        "mylist=[0,1,2,3]\n",
        "#or \n",
        "myList_2=list((0,1,2,3))#note we need to sets or parenthese with the contructor "
      ],
      "metadata": {
        "id": "X7WjGdfyyAPj"
      },
      "execution_count": null,
      "outputs": []
    },
    {
      "cell_type": "markdown",
      "source": [
        "We can access the data on a list just by specifying the number of the element we want in the list (as long as it exist)"
      ],
      "metadata": {
        "id": "TmuGDAwoyVf9"
      }
    },
    {
      "cell_type": "code",
      "source": [
        "print(mylist[0])\n",
        "print(myList_2[3])"
      ],
      "metadata": {
        "colab": {
          "base_uri": "https://localhost:8080/"
        },
        "id": "LfhhGjjNycAZ",
        "outputId": "30ebe49e-0668-4ddb-93f9-7c42a37028ba"
      },
      "execution_count": null,
      "outputs": [
        {
          "output_type": "stream",
          "name": "stdout",
          "text": [
            "0\n",
            "3\n"
          ]
        }
      ]
    },
    {
      "cell_type": "markdown",
      "source": [
        "Python list can contain different data types including other list "
      ],
      "metadata": {
        "id": "RgMgKum1yrPf"
      }
    },
    {
      "cell_type": "code",
      "source": [
        "mylist[3]= \"String\"\n",
        "print(mylist)#note we can print the entire list or a specified element \n",
        "mylist[3]= 3"
      ],
      "metadata": {
        "colab": {
          "base_uri": "https://localhost:8080/"
        },
        "id": "b9D_i2n1y3hT",
        "outputId": "e13388e5-a75f-44f5-e78b-ff5639ff92e2"
      },
      "execution_count": null,
      "outputs": [
        {
          "output_type": "stream",
          "name": "stdout",
          "text": [
            "[0, 1, 2, 'String']\n"
          ]
        }
      ]
    },
    {
      "cell_type": "markdown",
      "source": [
        "# Common Methods/Functions for List "
      ],
      "metadata": {
        "id": "aDv5gEO9zxlU"
      }
    },
    {
      "cell_type": "code",
      "source": [
        "#The size or length of a list \n",
        "len(mylist)"
      ],
      "metadata": {
        "colab": {
          "base_uri": "https://localhost:8080/"
        },
        "id": "9mVQ-Sv40LqZ",
        "outputId": "a4a3e251-2635-4b7c-b726-be89d9a65f15"
      },
      "execution_count": null,
      "outputs": [
        {
          "output_type": "execute_result",
          "data": {
            "text/plain": [
              "4"
            ]
          },
          "metadata": {},
          "execution_count": 6
        }
      ]
    },
    {
      "cell_type": "code",
      "source": [
        "#Make a copy of the list\n",
        "myNewList=mylist.copy() \n",
        "print(myNewList)\n",
        "myNewList[0]=1\n",
        "#Note .copy() makes a deep copy\n",
        "print(myNewList)\n",
        "print(mylist)"
      ],
      "metadata": {
        "colab": {
          "base_uri": "https://localhost:8080/"
        },
        "id": "kpKRrxwUggFI",
        "outputId": "c4cad66c-6187-4a58-c0e7-3e765e46a69c"
      },
      "execution_count": null,
      "outputs": [
        {
          "output_type": "stream",
          "name": "stdout",
          "text": [
            "[0, 1, 2, 3]\n",
            "[1, 1, 2, 3]\n",
            "[0, 1, 2, 3]\n"
          ]
        }
      ]
    },
    {
      "cell_type": "code",
      "source": [
        "#count the number of a given value in the list \n",
        "mylist.count(2)"
      ],
      "metadata": {
        "colab": {
          "base_uri": "https://localhost:8080/"
        },
        "id": "SWl1y_Xwhws-",
        "outputId": "5ad49d5d-4c3e-46ac-c0be-8031cf989b00"
      },
      "execution_count": null,
      "outputs": [
        {
          "output_type": "execute_result",
          "data": {
            "text/plain": [
              "1"
            ]
          },
          "metadata": {},
          "execution_count": 8
        }
      ]
    },
    {
      "cell_type": "code",
      "source": [
        "#Add an element to the end of the list \n",
        "print(\"Orginal Length\")\n",
        "print(len(mylist))\n",
        "mylist.append(2)\n",
        "print(\"New Length\")\n",
        "print(len(mylist))\n",
        "#Remenber that the notebook will update all your variables so keep an eye when you change varaible values "
      ],
      "metadata": {
        "colab": {
          "base_uri": "https://localhost:8080/"
        },
        "id": "w_oUsKTj1BCY",
        "outputId": "b2dc17f3-f74a-42d9-fb0d-6dde978d3a44"
      },
      "execution_count": null,
      "outputs": [
        {
          "output_type": "stream",
          "name": "stdout",
          "text": [
            "Orginal Length\n",
            "4\n",
            "New Length\n",
            "5\n"
          ]
        }
      ]
    },
    {
      "cell_type": "code",
      "source": [
        "#Add/remove a value at a given index \n",
        "mylist.insert(0,77)\n",
        "print(mylist)\n",
        "mylist.remove(0)\n",
        "print(mylist)"
      ],
      "metadata": {
        "colab": {
          "base_uri": "https://localhost:8080/"
        },
        "id": "Yz4dxH_ji4d5",
        "outputId": "6762ab49-5815-48b6-e351-d2976d3324f6"
      },
      "execution_count": null,
      "outputs": [
        {
          "output_type": "stream",
          "name": "stdout",
          "text": [
            "[77, 0, 1, 2, 3, 2]\n",
            "[77, 1, 2, 3, 2]\n"
          ]
        }
      ]
    },
    {
      "cell_type": "code",
      "source": [
        "#Reverse a list \n",
        "mylist.reverse()\n",
        "print(mylist)"
      ],
      "metadata": {
        "colab": {
          "base_uri": "https://localhost:8080/"
        },
        "id": "M3CcCxuDskOn",
        "outputId": "dfb5b173-6bbc-4f5c-c5e8-3d6e35dab53b"
      },
      "execution_count": null,
      "outputs": [
        {
          "output_type": "stream",
          "name": "stdout",
          "text": [
            "[2, 3, 2, 1, 77]\n"
          ]
        }
      ]
    },
    {
      "cell_type": "code",
      "source": [
        "#Sort \n",
        "#mylist.sort()#note that you can only sort with values that makes sense \n",
        "\n",
        "mylist.sort()#note that you can only sort with values that makes sense \n",
        "print(mylist)\n"
      ],
      "metadata": {
        "colab": {
          "base_uri": "https://localhost:8080/"
        },
        "id": "G5bUKp-UsuUl",
        "outputId": "55df8a73-1696-4b6b-a533-ef418aa4368c"
      },
      "execution_count": null,
      "outputs": [
        {
          "output_type": "stream",
          "name": "stdout",
          "text": [
            "[1, 2, 2, 3, 77]\n"
          ]
        }
      ]
    },
    {
      "cell_type": "markdown",
      "source": [
        "#Pyton Sets, Tuples and Dictionaries "
      ],
      "metadata": {
        "id": "2otKhYuCubu3"
      }
    },
    {
      "cell_type": "code",
      "source": [
        "#Declare a set \n",
        "mySet={2,2,3,4}\n",
        "print(mySet)#Note no duplicates "
      ],
      "metadata": {
        "colab": {
          "base_uri": "https://localhost:8080/"
        },
        "id": "4UsitzAeuo3a",
        "outputId": "46d49ec3-4911-4f81-a85c-838aa181440b"
      },
      "execution_count": null,
      "outputs": [
        {
          "output_type": "stream",
          "name": "stdout",
          "text": [
            "{2, 3, 4}\n"
          ]
        }
      ]
    },
    {
      "cell_type": "code",
      "source": [
        "#Declare Tuple \n",
        "myTuple =(\"Apple\", \"Pear\", \"Banna\" )\n",
        "print(myTuple)"
      ],
      "metadata": {
        "colab": {
          "base_uri": "https://localhost:8080/"
        },
        "id": "1O9Ye6_cuwgV",
        "outputId": "80ce7a4f-05ea-49a4-e9ee-36fc952e555a"
      },
      "execution_count": null,
      "outputs": [
        {
          "output_type": "stream",
          "name": "stdout",
          "text": [
            "('Apple', 'Pear', 'Banna')\n"
          ]
        }
      ]
    },
    {
      "cell_type": "code",
      "source": [
        "#Declare Dictionary \n",
        "myDictionary = { \"A\" : 10, \"B\" : 6, \"C\": 4, \"D\" : 0}#Note duplicates are not allowed \n",
        "print(myDictionary)"
      ],
      "metadata": {
        "colab": {
          "base_uri": "https://localhost:8080/"
        },
        "id": "KrExgB_nxLWs",
        "outputId": "c76bcaf5-afea-4a36-8662-f93fb7cb0fc7"
      },
      "execution_count": null,
      "outputs": [
        {
          "output_type": "stream",
          "name": "stdout",
          "text": [
            "{'A': 10, 'B': 6, 'C': 4, 'D': 0}\n"
          ]
        }
      ]
    },
    {
      "cell_type": "code",
      "source": [
        "#We can find the size of a dictionary the same way as a list \n",
        "print(len(myDictionary))"
      ],
      "metadata": {
        "colab": {
          "base_uri": "https://localhost:8080/"
        },
        "id": "GtDCgzPJGcan",
        "outputId": "d0ebd26e-4bc0-47c4-d07a-d869bbcef681"
      },
      "execution_count": null,
      "outputs": [
        {
          "output_type": "stream",
          "name": "stdout",
          "text": [
            "4\n"
          ]
        }
      ]
    },
    {
      "cell_type": "code",
      "source": [
        "#Since a dictionary is now ordered we can access the value by key \n",
        "print(myDictionary[\"A\"])\n",
        "# we can update the value the same way\n",
        "myDictionary[\"B\"]=myDictionary[\"B\"]+1\n",
        "print(myDictionary[\"B\"])"
      ],
      "metadata": {
        "colab": {
          "base_uri": "https://localhost:8080/"
        },
        "id": "ODUl2yxAHblX",
        "outputId": "395f5e53-bfe8-4249-deae-4f79c070fdeb"
      },
      "execution_count": null,
      "outputs": [
        {
          "output_type": "stream",
          "name": "stdout",
          "text": [
            "10\n",
            "7\n"
          ]
        }
      ]
    },
    {
      "cell_type": "markdown",
      "source": [
        "# NumPy\n"
      ],
      "metadata": {
        "id": "VcldKUTVOYz6"
      }
    },
    {
      "cell_type": "code",
      "source": [
        "#Import the NumPy Package \n",
        "import numpy as np #NumPy is traditionally abbrivated as np for ease of use "
      ],
      "metadata": {
        "id": "a2v6cSvDOcPy"
      },
      "execution_count": null,
      "outputs": []
    },
    {
      "cell_type": "code",
      "source": [
        "#Create a 0D numpy array \n",
        "myNpArray=np.array(0)\n",
        "print(myNpArray)"
      ],
      "metadata": {
        "colab": {
          "base_uri": "https://localhost:8080/"
        },
        "id": "DG9r5sePSXRD",
        "outputId": "0bca3c89-3b82-4ae5-f271-a10105028382"
      },
      "execution_count": null,
      "outputs": [
        {
          "output_type": "stream",
          "name": "stdout",
          "text": [
            "0\n"
          ]
        }
      ]
    },
    {
      "cell_type": "code",
      "source": [
        "#Create a simple 1D numpy arrray\n",
        "myNpArray=np.array([5.5,6.7,8.8,9.9])\n",
        "print(myNpArray)"
      ],
      "metadata": {
        "colab": {
          "base_uri": "https://localhost:8080/"
        },
        "id": "4NDgsFokOo3e",
        "outputId": "e9fcb7cc-ae45-4620-e04f-2c0af6cd094a"
      },
      "execution_count": null,
      "outputs": [
        {
          "output_type": "stream",
          "name": "stdout",
          "text": [
            "[5.5 6.7 8.8 9.9]\n"
          ]
        }
      ]
    },
    {
      "cell_type": "code",
      "source": [
        "#Create a  2D numpy arrray\n",
        "myNpArray=np.array([[5.5,6.7,8.8,9.9], [1.0,2.0,3.0,4.0]])\n",
        "print(myNpArray)\n",
        "#Create a 3D numpy array \n",
        "myNpArray=np.array([[[1, 2, 3], [4, 5, 6]], [[1, 2, 3], [4, 5, 6]]])\n",
        "print(myNpArray)"
      ],
      "metadata": {
        "colab": {
          "base_uri": "https://localhost:8080/"
        },
        "id": "Jtzz0PjjSsvs",
        "outputId": "03531208-7f82-4312-b2a6-53aecaaf1f0f"
      },
      "execution_count": null,
      "outputs": [
        {
          "output_type": "stream",
          "name": "stdout",
          "text": [
            "[[5.5 6.7 8.8 9.9]\n",
            " [1.  2.  3.  4. ]]\n",
            "[[[1 2 3]\n",
            "  [4 5 6]]\n",
            "\n",
            " [[1 2 3]\n",
            "  [4 5 6]]]\n"
          ]
        }
      ]
    },
    {
      "cell_type": "code",
      "source": [
        "#Check the shape of the array\n",
        "myNpArray.shape\n"
      ],
      "metadata": {
        "colab": {
          "base_uri": "https://localhost:8080/"
        },
        "id": "0r0IPGQyV01H",
        "outputId": "887903c9-6bf4-42ae-fd3c-4073688fe47c"
      },
      "execution_count": null,
      "outputs": [
        {
          "output_type": "execute_result",
          "data": {
            "text/plain": [
              "(2, 2, 3)"
            ]
          },
          "metadata": {},
          "execution_count": 22
        }
      ]
    },
    {
      "cell_type": "code",
      "source": [
        "#Check the size of the array \n",
        "myNpArray.size"
      ],
      "metadata": {
        "id": "s0J9h1efWEQH",
        "outputId": "f1d32780-dec4-4885-d129-9781bdd1b054",
        "colab": {
          "base_uri": "https://localhost:8080/"
        }
      },
      "execution_count": null,
      "outputs": [
        {
          "output_type": "execute_result",
          "data": {
            "text/plain": [
              "12"
            ]
          },
          "metadata": {},
          "execution_count": 23
        }
      ]
    },
    {
      "cell_type": "code",
      "source": [
        "#We can easily create random arrays of any size using the .empty method \n",
        "myNewNpArray=np.empty((5,5))\n",
        "print(myNewNpArray)\n",
        "# we could also use  .zeros \n",
        "myNewNpArray=np.zeros((5,5))\n",
        "print(myNewNpArray)\n",
        "#or we can make an array of ones if that better suits our needs\n",
        "myNewNpArray=np.ones((5,5))\n",
        "print(myNewNpArray)"
      ],
      "metadata": {
        "colab": {
          "base_uri": "https://localhost:8080/"
        },
        "id": "dIr8cuoPT8GT",
        "outputId": "ae88ce51-8763-4eb8-879f-794360913fd8"
      },
      "execution_count": null,
      "outputs": [
        {
          "output_type": "stream",
          "name": "stdout",
          "text": [
            "[[2.41351779e-316 2.47032823e-323 2.41216010e-316 0.00000000e+000\n",
            "  0.00000000e+000]\n",
            " [2.41216959e-316 0.00000000e+000 0.00000000e+000 2.41222176e-316\n",
            "  0.00000000e+000]\n",
            " [0.00000000e+000 2.41214113e-316 0.00000000e+000 0.00000000e+000\n",
            "  2.41216485e-316]\n",
            " [0.00000000e+000 0.00000000e+000 1.11789341e+253 6.01347002e-154\n",
            "  6.01347002e-154]\n",
            " [6.01347002e-154 1.72092739e+088 5.27154974e+246 1.06025488e-153\n",
            "  8.23610868e+151]]\n",
            "[[0. 0. 0. 0. 0.]\n",
            " [0. 0. 0. 0. 0.]\n",
            " [0. 0. 0. 0. 0.]\n",
            " [0. 0. 0. 0. 0.]\n",
            " [0. 0. 0. 0. 0.]]\n",
            "[[1. 1. 1. 1. 1.]\n",
            " [1. 1. 1. 1. 1.]\n",
            " [1. 1. 1. 1. 1.]\n",
            " [1. 1. 1. 1. 1.]\n",
            " [1. 1. 1. 1. 1.]]\n"
          ]
        }
      ]
    }
  ]
}