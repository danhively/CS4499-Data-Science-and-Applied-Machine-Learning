{
  "cells": [
    {
      "cell_type": "markdown",
      "metadata": {
        "id": "Y7APFjOTivtU"
      },
      "source": [
        "# Homework 2: Pandas DataFrames\n",
        "Dr. Leslie Kerby </br>\n",
        "Data Science and Applied Machine Learning </br>\n",
        "Student's name: Dan Hively"
      ]
    },
    {
      "cell_type": "code",
      "execution_count": 1,
      "metadata": {
        "id": "grHBYFQGivtW"
      },
      "outputs": [],
      "source": [
        "import numpy as np\n",
        "import pandas as pd"
      ]
    },
    {
      "cell_type": "markdown",
      "metadata": {
        "id": "GZkgQHycivtZ"
      },
      "source": [
        "## 1. World Population\n",
        "\n",
        "**Question 1.1**<br/>\n",
        "Read in the 'world_population.csv' file. Adjust your DataFrame to keep only the 'Year' and 'Population' columns. Show the first 5 elements with the `head` method."
      ]
    },
    {
      "cell_type": "code",
      "execution_count": 2,
      "metadata": {
        "id": "dAs5FWtjivta",
        "colab": {
          "base_uri": "https://localhost:8080/"
        },
        "outputId": "adb26f93-3930-4d1a-8ce6-af3711ea1996"
      },
      "outputs": [
        {
          "output_type": "stream",
          "name": "stdout",
          "text": [
            "--------------\n",
            "First 5 elements\n",
            "   Year  Population\n",
            "0  1950  2557628654\n",
            "1  1951  2594939877\n",
            "2  1952  2636772306\n",
            "3  1953  2682053389\n",
            "4  1954  2730228104\n"
          ]
        }
      ],
      "source": [
        "world_pop = pd.read_csv('https://raw.githubusercontent.com/LGKerby/Python/master/world_population.csv',usecols=['Year','Population'])\n",
        "#print(world_pop)\n",
        "\n",
        "# Print the head of the world population data\n",
        "print(\"--------------\")\n",
        "print(\"First 5 elements\")\n",
        "print(world_pop.head(5))"
      ]
    },
    {
      "cell_type": "markdown",
      "metadata": {
        "id": "hb-E5FZDivtd"
      },
      "source": [
        "**Question 1.2**<br/>\n",
        "How many rows (years) are in the DataFrame? Use python code to give the answer."
      ]
    },
    {
      "cell_type": "code",
      "execution_count": 3,
      "metadata": {
        "id": "KL6zUvkmivte",
        "outputId": "56d8a19d-c27a-4d85-a8d2-f12158681a0c",
        "colab": {
          "base_uri": "https://localhost:8080/"
        }
      },
      "outputs": [
        {
          "output_type": "stream",
          "name": "stdout",
          "text": [
            "Number of rows (years) = 66\n"
          ]
        }
      ],
      "source": [
        "print(\"Number of rows (years) = \" + str(len(world_pop.index)))"
      ]
    },
    {
      "cell_type": "markdown",
      "metadata": {
        "id": "w7dou5NRivtg"
      },
      "source": [
        "**Question 1.3**<br/>\n",
        "What was the population of the world in 1976? Use python code to give the answer."
      ]
    },
    {
      "cell_type": "code",
      "execution_count": 4,
      "metadata": {
        "id": "bH0x45w4ivth",
        "outputId": "3e8f9236-cefd-48f6-91ac-e37931e17f7f",
        "colab": {
          "base_uri": "https://localhost:8080/"
        }
      },
      "outputs": [
        {
          "output_type": "stream",
          "name": "stdout",
          "text": [
            "World population for 1976 is = 4,160,185,010\n"
          ]
        }
      ],
      "source": [
        "what_year = 1976\n",
        "\n",
        "population_for_year = \"{:,}\".format(world_pop[world_pop['Year'] == what_year]['Population'].values[0])\n",
        "\n",
        "print(\"World population for \" + str(what_year) + \" is = \" + str(population_for_year) )\n"
      ]
    },
    {
      "cell_type": "markdown",
      "metadata": {
        "id": "oAHjlmlpivtj"
      },
      "source": [
        "**Question 1.4**<br/>\n",
        "Use a boolean mask to create a DataFrame called `last_quartile` that contains the world population from years 1975 to 1999. You may do this in two steps (use two boolean masks) or you may do this in one step using the 'and' operator `&`.\n",
        "\n",
        "*Hint:* For example, to select the years 1960 and 1970 from the DataFrame you would use the 'or' operator `|`:<br/>\n",
        "`population[ (population['Year'] == 1960) | (population['Year'] == 1970) ]`"
      ]
    },
    {
      "cell_type": "code",
      "execution_count": 5,
      "metadata": {
        "id": "V0_CsMvaivtk",
        "outputId": "89df5a0a-35b5-411c-d3a6-1514c8cadd51",
        "colab": {
          "base_uri": "https://localhost:8080/"
        }
      },
      "outputs": [
        {
          "output_type": "stream",
          "name": "stdout",
          "text": [
            "    Year  Population\n",
            "25  1975  4089083233\n",
            "26  1976  4160185010\n",
            "27  1977  4232084578\n",
            "28  1978  4304105753\n",
            "29  1979  4379013942\n",
            "30  1980  4451362735\n",
            "31  1981  4534410125\n",
            "32  1982  4614566561\n",
            "33  1983  4695736743\n",
            "34  1984  4774569391\n",
            "35  1985  4856462699\n",
            "36  1986  4940571232\n",
            "37  1987  5027200492\n",
            "38  1988  5114557167\n",
            "39  1989  5201440110\n",
            "40  1990  5288955934\n",
            "41  1991  5371585922\n",
            "42  1992  5456136278\n",
            "43  1993  5538268316\n",
            "44  1994  5618682132\n",
            "45  1995  5699202985\n",
            "46  1996  5779440593\n",
            "47  1997  5857972543\n",
            "48  1998  5935213248\n",
            "49  1999  6012074922\n",
            "-------------------------\n",
            "    Year  Population\n",
            "25  1975  4089083233\n",
            "26  1976  4160185010\n",
            "27  1977  4232084578\n",
            "28  1978  4304105753\n",
            "29  1979  4379013942\n",
            "30  1980  4451362735\n",
            "31  1981  4534410125\n",
            "32  1982  4614566561\n",
            "33  1983  4695736743\n",
            "34  1984  4774569391\n",
            "35  1985  4856462699\n",
            "36  1986  4940571232\n",
            "37  1987  5027200492\n",
            "38  1988  5114557167\n",
            "39  1989  5201440110\n",
            "40  1990  5288955934\n",
            "41  1991  5371585922\n",
            "42  1992  5456136278\n",
            "43  1993  5538268316\n",
            "44  1994  5618682132\n",
            "45  1995  5699202985\n",
            "46  1996  5779440593\n",
            "47  1997  5857972543\n",
            "48  1998  5935213248\n",
            "49  1999  6012074922\n"
          ]
        }
      ],
      "source": [
        "year_begin = 1975\n",
        "year_end   = 1999\n",
        "\n",
        "last_quartile = world_pop[(world_pop['Year'] >= year_begin) & (world_pop['Year'] <= year_end)]\n",
        "print(str(last_quartile))\n",
        "print(\"-------------------------\")\n",
        "\n",
        "# or using two boolean mask\n",
        "mask1 = world_pop['Year'] >= year_begin\n",
        "mask2 = world_pop['Year'] <= year_end\n",
        "last_quartile = world_pop[mask1 & mask2]\n",
        "print(str(last_quartile))\n"
      ]
    },
    {
      "cell_type": "markdown",
      "metadata": {
        "id": "SS2aD5Mnivtm"
      },
      "source": [
        "**Question 1.5**<br/>\n",
        "Now find the average of the world population in `last_quartile`. Use numpy to find the average."
      ]
    },
    {
      "cell_type": "code",
      "execution_count": 6,
      "metadata": {
        "id": "bof_P3P-ivtm",
        "outputId": "5fe51afc-3ba0-4736-e7da-bd4755a131df",
        "colab": {
          "base_uri": "https://localhost:8080/"
        }
      },
      "outputs": [
        {
          "output_type": "stream",
          "name": "stdout",
          "text": [
            "Average population in last quartile:  5037315305.76\n"
          ]
        }
      ],
      "source": [
        "average_population = np.mean(last_quartile['Population'])\n",
        "print(\"Average population in last quartile: \", average_population)"
      ]
    },
    {
      "cell_type": "markdown",
      "metadata": {
        "id": "B-iGiKucivto"
      },
      "source": [
        "## 2. Top Movies ##\n",
        "\n",
        "**Question 2.1**<br/>\n",
        "Read in 'top_movies.csv' into a DataFrame called `top_movies`. Show the first 5 rows with `head`."
      ]
    },
    {
      "cell_type": "code",
      "execution_count": 7,
      "metadata": {
        "id": "m_tXGKWCivtp",
        "colab": {
          "base_uri": "https://localhost:8080/",
          "height": 206
        },
        "outputId": "0b967805-997e-470f-a464-8b112ac40df0"
      },
      "outputs": [
        {
          "output_type": "execute_result",
          "data": {
            "text/plain": [
              "                          Title                Studio      Gross  \\\n",
              "0  Star Wars: The Force Awakens  Buena Vista (Disney)  906723418   \n",
              "1                        Avatar                   Fox  760507625   \n",
              "2                       Titanic             Paramount  658672302   \n",
              "3                Jurassic World             Universal  652270625   \n",
              "4         Marvel's The Avengers  Buena Vista (Disney)  623357910   \n",
              "\n",
              "   Gross (Adjusted)  Year  \n",
              "0         906723400  2015  \n",
              "1         846120800  2009  \n",
              "2        1178627900  1997  \n",
              "3         687728000  2015  \n",
              "4         668866600  2012  "
            ],
            "text/html": [
              "\n",
              "  <div id=\"df-a0c96afb-0d2c-4464-a994-a7322c79976b\">\n",
              "    <div class=\"colab-df-container\">\n",
              "      <div>\n",
              "<style scoped>\n",
              "    .dataframe tbody tr th:only-of-type {\n",
              "        vertical-align: middle;\n",
              "    }\n",
              "\n",
              "    .dataframe tbody tr th {\n",
              "        vertical-align: top;\n",
              "    }\n",
              "\n",
              "    .dataframe thead th {\n",
              "        text-align: right;\n",
              "    }\n",
              "</style>\n",
              "<table border=\"1\" class=\"dataframe\">\n",
              "  <thead>\n",
              "    <tr style=\"text-align: right;\">\n",
              "      <th></th>\n",
              "      <th>Title</th>\n",
              "      <th>Studio</th>\n",
              "      <th>Gross</th>\n",
              "      <th>Gross (Adjusted)</th>\n",
              "      <th>Year</th>\n",
              "    </tr>\n",
              "  </thead>\n",
              "  <tbody>\n",
              "    <tr>\n",
              "      <th>0</th>\n",
              "      <td>Star Wars: The Force Awakens</td>\n",
              "      <td>Buena Vista (Disney)</td>\n",
              "      <td>906723418</td>\n",
              "      <td>906723400</td>\n",
              "      <td>2015</td>\n",
              "    </tr>\n",
              "    <tr>\n",
              "      <th>1</th>\n",
              "      <td>Avatar</td>\n",
              "      <td>Fox</td>\n",
              "      <td>760507625</td>\n",
              "      <td>846120800</td>\n",
              "      <td>2009</td>\n",
              "    </tr>\n",
              "    <tr>\n",
              "      <th>2</th>\n",
              "      <td>Titanic</td>\n",
              "      <td>Paramount</td>\n",
              "      <td>658672302</td>\n",
              "      <td>1178627900</td>\n",
              "      <td>1997</td>\n",
              "    </tr>\n",
              "    <tr>\n",
              "      <th>3</th>\n",
              "      <td>Jurassic World</td>\n",
              "      <td>Universal</td>\n",
              "      <td>652270625</td>\n",
              "      <td>687728000</td>\n",
              "      <td>2015</td>\n",
              "    </tr>\n",
              "    <tr>\n",
              "      <th>4</th>\n",
              "      <td>Marvel's The Avengers</td>\n",
              "      <td>Buena Vista (Disney)</td>\n",
              "      <td>623357910</td>\n",
              "      <td>668866600</td>\n",
              "      <td>2012</td>\n",
              "    </tr>\n",
              "  </tbody>\n",
              "</table>\n",
              "</div>\n",
              "      <button class=\"colab-df-convert\" onclick=\"convertToInteractive('df-a0c96afb-0d2c-4464-a994-a7322c79976b')\"\n",
              "              title=\"Convert this dataframe to an interactive table.\"\n",
              "              style=\"display:none;\">\n",
              "        \n",
              "  <svg xmlns=\"http://www.w3.org/2000/svg\" height=\"24px\"viewBox=\"0 0 24 24\"\n",
              "       width=\"24px\">\n",
              "    <path d=\"M0 0h24v24H0V0z\" fill=\"none\"/>\n",
              "    <path d=\"M18.56 5.44l.94 2.06.94-2.06 2.06-.94-2.06-.94-.94-2.06-.94 2.06-2.06.94zm-11 1L8.5 8.5l.94-2.06 2.06-.94-2.06-.94L8.5 2.5l-.94 2.06-2.06.94zm10 10l.94 2.06.94-2.06 2.06-.94-2.06-.94-.94-2.06-.94 2.06-2.06.94z\"/><path d=\"M17.41 7.96l-1.37-1.37c-.4-.4-.92-.59-1.43-.59-.52 0-1.04.2-1.43.59L10.3 9.45l-7.72 7.72c-.78.78-.78 2.05 0 2.83L4 21.41c.39.39.9.59 1.41.59.51 0 1.02-.2 1.41-.59l7.78-7.78 2.81-2.81c.8-.78.8-2.07 0-2.86zM5.41 20L4 18.59l7.72-7.72 1.47 1.35L5.41 20z\"/>\n",
              "  </svg>\n",
              "      </button>\n",
              "      \n",
              "  <style>\n",
              "    .colab-df-container {\n",
              "      display:flex;\n",
              "      flex-wrap:wrap;\n",
              "      gap: 12px;\n",
              "    }\n",
              "\n",
              "    .colab-df-convert {\n",
              "      background-color: #E8F0FE;\n",
              "      border: none;\n",
              "      border-radius: 50%;\n",
              "      cursor: pointer;\n",
              "      display: none;\n",
              "      fill: #1967D2;\n",
              "      height: 32px;\n",
              "      padding: 0 0 0 0;\n",
              "      width: 32px;\n",
              "    }\n",
              "\n",
              "    .colab-df-convert:hover {\n",
              "      background-color: #E2EBFA;\n",
              "      box-shadow: 0px 1px 2px rgba(60, 64, 67, 0.3), 0px 1px 3px 1px rgba(60, 64, 67, 0.15);\n",
              "      fill: #174EA6;\n",
              "    }\n",
              "\n",
              "    [theme=dark] .colab-df-convert {\n",
              "      background-color: #3B4455;\n",
              "      fill: #D2E3FC;\n",
              "    }\n",
              "\n",
              "    [theme=dark] .colab-df-convert:hover {\n",
              "      background-color: #434B5C;\n",
              "      box-shadow: 0px 1px 3px 1px rgba(0, 0, 0, 0.15);\n",
              "      filter: drop-shadow(0px 1px 2px rgba(0, 0, 0, 0.3));\n",
              "      fill: #FFFFFF;\n",
              "    }\n",
              "  </style>\n",
              "\n",
              "      <script>\n",
              "        const buttonEl =\n",
              "          document.querySelector('#df-a0c96afb-0d2c-4464-a994-a7322c79976b button.colab-df-convert');\n",
              "        buttonEl.style.display =\n",
              "          google.colab.kernel.accessAllowed ? 'block' : 'none';\n",
              "\n",
              "        async function convertToInteractive(key) {\n",
              "          const element = document.querySelector('#df-a0c96afb-0d2c-4464-a994-a7322c79976b');\n",
              "          const dataTable =\n",
              "            await google.colab.kernel.invokeFunction('convertToInteractive',\n",
              "                                                     [key], {});\n",
              "          if (!dataTable) return;\n",
              "\n",
              "          const docLinkHtml = 'Like what you see? Visit the ' +\n",
              "            '<a target=\"_blank\" href=https://colab.research.google.com/notebooks/data_table.ipynb>data table notebook</a>'\n",
              "            + ' to learn more about interactive tables.';\n",
              "          element.innerHTML = '';\n",
              "          dataTable['output_type'] = 'display_data';\n",
              "          await google.colab.output.renderOutput(dataTable, element);\n",
              "          const docLink = document.createElement('div');\n",
              "          docLink.innerHTML = docLinkHtml;\n",
              "          element.appendChild(docLink);\n",
              "        }\n",
              "      </script>\n",
              "    </div>\n",
              "  </div>\n",
              "  "
            ]
          },
          "metadata": {},
          "execution_count": 7
        }
      ],
      "source": [
        "top_movies = pd.read_csv('https://raw.githubusercontent.com/LGKerby/Python/master/top_movies.csv')\n",
        "top_movies.head()"
      ]
    },
    {
      "cell_type": "markdown",
      "metadata": {
        "id": "QNXyymwtivtr"
      },
      "source": [
        "**Question 2.2**<br/>\n",
        "What movies were released in 2005? Use python to show just the movies titles (column)."
      ]
    },
    {
      "cell_type": "code",
      "execution_count": 8,
      "metadata": {
        "id": "AHsBH8uRivtr",
        "outputId": "52db2c65-8704-4cc7-bf69-861df68d38f7",
        "colab": {
          "base_uri": "https://localhost:8080/"
        }
      },
      "outputs": [
        {
          "output_type": "stream",
          "name": "stdout",
          "text": [
            "24         Star Wars: Episode III - Revenge of the Sith\n",
            "60    The Chronicles of Narnia: The Lion, the Witch ...\n",
            "62                  Harry Potter and the Goblet of Fire\n",
            "Name: Title, dtype: object\n"
          ]
        }
      ],
      "source": [
        "movies = pd.read_csv('https://raw.githubusercontent.com/LGKerby/Python/master/top_movies.csv')\n",
        "# What is the release year.\n",
        "released_year = 2005\n",
        "released_in = movies[movies['Year'] == released_year]\n",
        "\n",
        "# Display just the movie titles\n",
        "print(released_in['Title'])"
      ]
    },
    {
      "cell_type": "markdown",
      "metadata": {
        "id": "TOSM6B87ivtt"
      },
      "source": [
        "**Question 2.3**<br/>\n",
        "Use a boolean mask to create a DataFrame called `paramount` that contains only movies produced by 'Paramount'."
      ]
    },
    {
      "cell_type": "code",
      "execution_count": 9,
      "metadata": {
        "id": "0afPeYmtivtu",
        "outputId": "c7683c45-a7c4-412f-9b84-b173552333ae",
        "colab": {
          "base_uri": "https://localhost:8080/"
        }
      },
      "outputs": [
        {
          "output_type": "stream",
          "name": "stdout",
          "text": [
            "Paramount produced                                                  Title     Studio      Gross  \\\n",
            "2                                              Titanic  Paramount  658672302   \n",
            "39                                        Forrest Gump  Paramount  330252182   \n",
            "42                                            Iron Man  Paramount  318412101   \n",
            "44   Indiana Jones and the Kingdom of the Crystal S...  Paramount  317101119   \n",
            "46                                          Iron Man 2  Paramount  312433331   \n",
            "77                             Raiders of the Lost Ark  Paramount  248159971   \n",
            "84                                   Beverly Hills Cop  Paramount  234760478   \n",
            "92                                               Ghost  Paramount  217631306   \n",
            "95                              Mission: Impossible II  Paramount  215409889   \n",
            "101                 Indiana Jones and the Last Crusade  Paramount  197171806   \n",
            "103                                             Grease  Paramount  188755690   \n",
            "109                                Mission: Impossible  Paramount  180981856   \n",
            "110               Indiana Jones and the Temple of Doom  Paramount  179870271   \n",
            "111                                            Top Gun  Paramount  179800601   \n",
            "115                                   Crocodile Dundee  Paramount  174803506   \n",
            "124                                           The Firm  Paramount  158348367   \n",
            "125                                   Fatal Attraction  Paramount  156645693   \n",
            "128                               Beverly Hills Cop II  Paramount  153665036   \n",
            "135                                      The Godfather  Paramount  134966411   \n",
            "138                         An Officer and a Gentleman  Paramount  129795554   \n",
            "151                                         Love Story  Paramount  106397186   \n",
            "160                               Saturday Night Fever  Paramount   94213184   \n",
            "174                               The Ten Commandments  Paramount   65500000   \n",
            "188                                        Rear Window  Paramount   36764313   \n",
            "190                         The Greatest Show on Earth  Paramount   36000000   \n",
            "\n",
            "     Gross (Adjusted)  Year  \n",
            "2          1178627900  1997  \n",
            "39          683929300  1994  \n",
            "42          385808100  2008  \n",
            "44          384231200  2008  \n",
            "46          341908200  2010  \n",
            "77          770183000  1981  \n",
            "84          584205200  1984  \n",
            "92          447747400  1990  \n",
            "95          347693200  2000  \n",
            "101         429923500  1989  \n",
            "103         669632000  1978  \n",
            "109         356231300  1996  \n",
            "110         465735500  1984  \n",
            "111         417818200  1986  \n",
            "115         401961400  1986  \n",
            "124         332761100  1993  \n",
            "125         345222500  1987  \n",
            "128         341914500  1987  \n",
            "135         686626300  1972  \n",
            "138         379814600  1982  \n",
            "151         608983900  1970  \n",
            "160         353261200  1977  \n",
            "174        1139700000  1956  \n",
            "188         438086300  1954  \n",
            "190         522000000  1952  \n"
          ]
        }
      ],
      "source": [
        "# Read the data into the DatFrame\n",
        "paramount = pd.read_csv('https://raw.githubusercontent.com/LGKerby/Python/master/top_movies.csv')\n",
        "\n",
        "# Create boolean mask\n",
        "studio = 'Paramount'\n",
        "mask = paramount['Studio'] == studio\n",
        "\n",
        "# Apply mask to DataFrame\n",
        "what_studio = paramount[mask]\n",
        "print(studio + \" produced \" + str(what_studio))\n",
        "#paramount_count = what_studio.shape[0]\n",
        "#print(paramount_count)"
      ]
    },
    {
      "cell_type": "markdown",
      "metadata": {
        "id": "Wcdypwd5ivtw"
      },
      "source": [
        "**Question 2.4** <br/>\n",
        "How many movies did Paramount produce? Use python to find the answer."
      ]
    },
    {
      "cell_type": "code",
      "execution_count": 14,
      "metadata": {
        "id": "IW3DsM1Sivtw",
        "outputId": "a167a732-21c9-408b-fef2-0dbb3ec8bc03",
        "colab": {
          "base_uri": "https://localhost:8080/"
        }
      },
      "outputs": [
        {
          "output_type": "execute_result",
          "data": {
            "text/plain": [
              "25"
            ]
          },
          "metadata": {},
          "execution_count": 14
        }
      ],
      "source": [
        "paramount_produced = what_studio.shape[0]\n",
        "paramount_produced"
      ]
    },
    {
      "cell_type": "markdown",
      "metadata": {
        "id": "mwiupwTqivtz"
      },
      "source": [
        "**Question 2.5**<br/>\n",
        "In what year was the first movie from Paramount (that appears in this top movies list)? Use python to find the answer."
      ]
    },
    {
      "cell_type": "code",
      "execution_count": 11,
      "metadata": {
        "id": "2VyP3i4jivtz",
        "outputId": "033a8fe1-d177-4a2b-eb12-24a27cf1fbe7",
        "colab": {
          "base_uri": "https://localhost:8080/"
        }
      },
      "outputs": [
        {
          "output_type": "stream",
          "name": "stdout",
          "text": [
            "                                                 Title     Studio      Gross  \\\n",
            "190                         The Greatest Show on Earth  Paramount   36000000   \n",
            "188                                        Rear Window  Paramount   36764313   \n",
            "174                               The Ten Commandments  Paramount   65500000   \n",
            "151                                         Love Story  Paramount  106397186   \n",
            "135                                      The Godfather  Paramount  134966411   \n",
            "160                               Saturday Night Fever  Paramount   94213184   \n",
            "103                                             Grease  Paramount  188755690   \n",
            "77                             Raiders of the Lost Ark  Paramount  248159971   \n",
            "138                         An Officer and a Gentleman  Paramount  129795554   \n",
            "110               Indiana Jones and the Temple of Doom  Paramount  179870271   \n",
            "84                                   Beverly Hills Cop  Paramount  234760478   \n",
            "111                                            Top Gun  Paramount  179800601   \n",
            "115                                   Crocodile Dundee  Paramount  174803506   \n",
            "125                                   Fatal Attraction  Paramount  156645693   \n",
            "128                               Beverly Hills Cop II  Paramount  153665036   \n",
            "101                 Indiana Jones and the Last Crusade  Paramount  197171806   \n",
            "92                                               Ghost  Paramount  217631306   \n",
            "124                                           The Firm  Paramount  158348367   \n",
            "39                                        Forrest Gump  Paramount  330252182   \n",
            "109                                Mission: Impossible  Paramount  180981856   \n",
            "2                                              Titanic  Paramount  658672302   \n",
            "95                              Mission: Impossible II  Paramount  215409889   \n",
            "44   Indiana Jones and the Kingdom of the Crystal S...  Paramount  317101119   \n",
            "42                                            Iron Man  Paramount  318412101   \n",
            "46                                          Iron Man 2  Paramount  312433331   \n",
            "\n",
            "     Gross (Adjusted)  Year  \n",
            "190         522000000  1952  \n",
            "188         438086300  1954  \n",
            "174        1139700000  1956  \n",
            "151         608983900  1970  \n",
            "135         686626300  1972  \n",
            "160         353261200  1977  \n",
            "103         669632000  1978  \n",
            "77          770183000  1981  \n",
            "138         379814600  1982  \n",
            "110         465735500  1984  \n",
            "84          584205200  1984  \n",
            "111         417818200  1986  \n",
            "115         401961400  1986  \n",
            "125         345222500  1987  \n",
            "128         341914500  1987  \n",
            "101         429923500  1989  \n",
            "92          447747400  1990  \n",
            "124         332761100  1993  \n",
            "39          683929300  1994  \n",
            "109         356231300  1996  \n",
            "2          1178627900  1997  \n",
            "95          347693200  2000  \n",
            "44          384231200  2008  \n",
            "42          385808100  2008  \n",
            "46          341908200  2010  \n",
            "First movie year = 1952\n"
          ]
        }
      ],
      "source": [
        "# Use the what_studio DatFrame\n",
        "\n",
        "# Sort the what_studio DataFrame by year in ascending order\n",
        "movies = what_studio.sort_values(by='Year')\n",
        "print(movies)\n",
        "\n",
        "# Get the year of the first movie in the DataFrame\n",
        "first_movie_year = movies.iloc[0]['Year']\n",
        "print(\"First movie year = \" + str(first_movie_year))"
      ]
    },
    {
      "cell_type": "markdown",
      "metadata": {
        "id": "9fz9sFZzivt2"
      },
      "source": [
        "**Question 2.6**<br/>\n",
        "What was the name of that movie? Use python to show the answer."
      ]
    },
    {
      "cell_type": "code",
      "execution_count": 12,
      "metadata": {
        "id": "2zpYpVaTivt3",
        "outputId": "19511a79-fb8f-462a-de61-7ea1fcbdc194",
        "colab": {
          "base_uri": "https://localhost:8080/"
        }
      },
      "outputs": [
        {
          "output_type": "stream",
          "name": "stdout",
          "text": [
            "The Greatest Show on Earth\n"
          ]
        }
      ],
      "source": [
        "# Get the name of the first movie in the DataFrame\n",
        "first_movie_name = movies.iloc[0]['Title']\n",
        "print(first_movie_name)\n"
      ]
    },
    {
      "cell_type": "markdown",
      "metadata": {
        "id": "hIpwtVNyivt5"
      },
      "source": [
        "**Question 2.7.** <br/>\n",
        "What was the average Adjusted Gross for all the Paramount movies (in this top movies list)? Use numpy."
      ]
    },
    {
      "cell_type": "code",
      "execution_count": 13,
      "metadata": {
        "id": "IzLnLtQpivt5",
        "outputId": "e74f7685-27a1-433c-87b9-a07158060293",
        "colab": {
          "base_uri": "https://localhost:8080/"
        }
      },
      "outputs": [
        {
          "output_type": "stream",
          "name": "stdout",
          "text": [
            "[1178627900  683929300  385808100  384231200  341908200  770183000\n",
            "  584205200  447747400  347693200  429923500  669632000  356231300\n",
            "  465735500  417818200  401961400  332761100  345222500  341914500\n",
            "  686626300  379814600  608983900  353261200 1139700000  438086300\n",
            "  522000000]\n",
            "Adjusted Gross for all the Paramount movies = 520560232.0\n"
          ]
        }
      ],
      "source": [
        "# Get the Adjusted Gross of all the Paramount movies\n",
        "adjusted_gross = what_studio['Gross (Adjusted)'].values\n",
        "print(adjusted_gross)\n",
        "# Calculate the mean of the Adjusted Gross\n",
        "mean_adjusted_gross = np.mean(adjusted_gross)\n",
        "print(\"Adjusted Gross for all the Paramount movies = \" + str(mean_adjusted_gross))\n"
      ]
    }
  ],
  "metadata": {
    "anaconda-cloud": {},
    "colab": {
      "provenance": []
    },
    "kernelspec": {
      "display_name": "Python 3 (ipykernel)",
      "language": "python",
      "name": "python3"
    },
    "language_info": {
      "codemirror_mode": {
        "name": "ipython",
        "version": 3
      },
      "file_extension": ".py",
      "mimetype": "text/x-python",
      "name": "python",
      "nbconvert_exporter": "python",
      "pygments_lexer": "ipython3",
      "version": "3.9.12"
    },
    "vscode": {
      "interpreter": {
        "hash": "0d5e8c01b0961bedf72973fceaa88545b051ee967d4cfa53d0fd94de790d1f19"
      }
    }
  },
  "nbformat": 4,
  "nbformat_minor": 0
}