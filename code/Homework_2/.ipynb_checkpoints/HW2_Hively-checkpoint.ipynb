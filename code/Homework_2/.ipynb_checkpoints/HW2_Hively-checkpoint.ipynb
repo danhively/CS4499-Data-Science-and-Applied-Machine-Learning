{
 "cells": [
  {
   "cell_type": "markdown",
   "metadata": {
    "id": "Y7APFjOTivtU"
   },
   "source": [
    "# Homework 2: Pandas DataFrames\n",
    "Dr. Leslie Kerby </br>\n",
    "Data Science and Applied Machine Learning </br>\n",
    "Student's name: Dan Hively"
   ]
  },
  {
   "cell_type": "code",
   "execution_count": 1,
   "metadata": {
    "executionInfo": {
     "elapsed": 888,
     "status": "ok",
     "timestamp": 1674670421331,
     "user": {
      "displayName": "Pepo Mena",
      "userId": "15849454904747188401"
     },
     "user_tz": 420
    },
    "id": "grHBYFQGivtW"
   },
   "outputs": [],
   "source": [
    "import numpy as np\n",
    "import pandas as pd"
   ]
  },
  {
   "cell_type": "markdown",
   "metadata": {
    "id": "GZkgQHycivtZ"
   },
   "source": [
    "## 1. World Population\n",
    "\n",
    "**Question 1.1**<br/>\n",
    "Read in the 'world_population.csv' file. Adjust your DataFrame to keep only the 'Year' and 'Population' columns. Show the first 5 elements with the `head` method."
   ]
  },
  {
   "cell_type": "code",
   "execution_count": 34,
   "metadata": {
    "executionInfo": {
     "elapsed": 414,
     "status": "ok",
     "timestamp": 1674670422978,
     "user": {
      "displayName": "Pepo Mena",
      "userId": "15849454904747188401"
     },
     "user_tz": 420
    },
    "id": "dAs5FWtjivta"
   },
   "outputs": [
    {
     "name": "stdout",
     "output_type": "stream",
     "text": [
      "    Year  Population\n",
      "0   1950  2557628654\n",
      "1   1951  2594939877\n",
      "2   1952  2636772306\n",
      "3   1953  2682053389\n",
      "4   1954  2730228104\n",
      "..   ...         ...\n",
      "61  2011  6944055583\n",
      "62  2012  7022349283\n",
      "63  2013  7101027895\n",
      "64  2014  7178722893\n",
      "65  2015  7256490011\n",
      "\n",
      "[66 rows x 2 columns]\n",
      "--------------\n",
      "First 5 elements\n",
      "   Year  Population\n",
      "0  1950  2557628654\n",
      "1  1951  2594939877\n",
      "2  1952  2636772306\n",
      "3  1953  2682053389\n",
      "4  1954  2730228104\n"
     ]
    }
   ],
   "source": [
    "world_pop = pd.read_csv('https://raw.githubusercontent.com/LGKerby/Python/master/world_population.csv',usecols=['Year','Population'])\n",
    "#print(world_pop)\n",
    "\n",
    "# Print the head of the world population data\n",
    "print(\"--------------\")\n",
    "print(\"First 5 elements\")\n",
    "print(world_pop.head(5))"
   ]
  },
  {
   "cell_type": "markdown",
   "metadata": {
    "id": "hb-E5FZDivtd"
   },
   "source": [
    "**Question 1.2**<br/>\n",
    "How many rows (years) are in the DataFrame? Use python code to give the answer."
   ]
  },
  {
   "cell_type": "code",
   "execution_count": 20,
   "metadata": {
    "id": "KL6zUvkmivte",
    "outputId": "deab6696-d4ce-47fe-b5b8-4e680553ac58"
   },
   "outputs": [
    {
     "name": "stdout",
     "output_type": "stream",
     "text": [
      "Number of rows (years) = 66\n"
     ]
    }
   ],
   "source": [
    "print(\"Number of rows (years) = \" + str(len(world_pop.index)))"
   ]
  },
  {
   "cell_type": "markdown",
   "metadata": {
    "id": "w7dou5NRivtg"
   },
   "source": [
    "**Question 1.3**<br/>\n",
    "What was the population of the world in 1976? Use python code to give the answer."
   ]
  },
  {
   "cell_type": "code",
   "execution_count": 38,
   "metadata": {
    "id": "bH0x45w4ivth",
    "outputId": "e4e9dd89-a97d-4b7d-859b-1852a70938ec"
   },
   "outputs": [
    {
     "name": "stdout",
     "output_type": "stream",
     "text": [
      "World population in 1976 = \n"
     ]
    }
   ],
   "source": [
    "what_year = 1976\n",
    "\n",
    "# Using world_pop.at[]\n",
    "#print(world_pop.at['r4','Year'])\n",
    "#print(df.at[df.index[3],'Duration'])\n",
    "\n",
    "#pop_year = world_pop[what_year].values[3]\n",
    "#print(pop_year)\n",
    "print(\"World population in \" + str(what_year) + \" = \")"
   ]
  },
  {
   "cell_type": "markdown",
   "metadata": {
    "id": "oAHjlmlpivtj"
   },
   "source": [
    "**Question 1.4**<br/>\n",
    "Use a boolean mask to create a DataFrame called `last_quartile` that contains the world population from years 1975 to 1999. You may do this in two steps (use two boolean masks) or you may do this in one step using the 'and' operator `&`.\n",
    "\n",
    "*Hint:* For example, to select the years 1960 and 1970 from the DataFrame you would use the 'or' operator `|`:<br/>\n",
    "`population[ (population['Year'] == 1960) | (population['Year'] == 1970) ]`"
   ]
  },
  {
   "cell_type": "code",
   "execution_count": null,
   "metadata": {
    "id": "V0_CsMvaivtk",
    "outputId": "9c1bebf4-928c-46c1-b086-733ca4e94e80"
   },
   "outputs": [
    {
     "data": {
      "text/html": [
       "<div>\n",
       "<style scoped>\n",
       "    .dataframe tbody tr th:only-of-type {\n",
       "        vertical-align: middle;\n",
       "    }\n",
       "\n",
       "    .dataframe tbody tr th {\n",
       "        vertical-align: top;\n",
       "    }\n",
       "\n",
       "    .dataframe thead th {\n",
       "        text-align: right;\n",
       "    }\n",
       "</style>\n",
       "<table border=\"1\" class=\"dataframe\">\n",
       "  <thead>\n",
       "    <tr style=\"text-align: right;\">\n",
       "      <th></th>\n",
       "      <th>Year</th>\n",
       "      <th>Population</th>\n",
       "    </tr>\n",
       "  </thead>\n",
       "  <tbody>\n",
       "    <tr>\n",
       "      <th>25</th>\n",
       "      <td>1975</td>\n",
       "      <td>4089083233</td>\n",
       "    </tr>\n",
       "    <tr>\n",
       "      <th>26</th>\n",
       "      <td>1976</td>\n",
       "      <td>4160185010</td>\n",
       "    </tr>\n",
       "    <tr>\n",
       "      <th>27</th>\n",
       "      <td>1977</td>\n",
       "      <td>4232084578</td>\n",
       "    </tr>\n",
       "    <tr>\n",
       "      <th>28</th>\n",
       "      <td>1978</td>\n",
       "      <td>4304105753</td>\n",
       "    </tr>\n",
       "    <tr>\n",
       "      <th>29</th>\n",
       "      <td>1979</td>\n",
       "      <td>4379013942</td>\n",
       "    </tr>\n",
       "    <tr>\n",
       "      <th>30</th>\n",
       "      <td>1980</td>\n",
       "      <td>4451362735</td>\n",
       "    </tr>\n",
       "    <tr>\n",
       "      <th>31</th>\n",
       "      <td>1981</td>\n",
       "      <td>4534410125</td>\n",
       "    </tr>\n",
       "    <tr>\n",
       "      <th>32</th>\n",
       "      <td>1982</td>\n",
       "      <td>4614566561</td>\n",
       "    </tr>\n",
       "    <tr>\n",
       "      <th>33</th>\n",
       "      <td>1983</td>\n",
       "      <td>4695736743</td>\n",
       "    </tr>\n",
       "    <tr>\n",
       "      <th>34</th>\n",
       "      <td>1984</td>\n",
       "      <td>4774569391</td>\n",
       "    </tr>\n",
       "    <tr>\n",
       "      <th>35</th>\n",
       "      <td>1985</td>\n",
       "      <td>4856462699</td>\n",
       "    </tr>\n",
       "    <tr>\n",
       "      <th>36</th>\n",
       "      <td>1986</td>\n",
       "      <td>4940571232</td>\n",
       "    </tr>\n",
       "    <tr>\n",
       "      <th>37</th>\n",
       "      <td>1987</td>\n",
       "      <td>5027200492</td>\n",
       "    </tr>\n",
       "    <tr>\n",
       "      <th>38</th>\n",
       "      <td>1988</td>\n",
       "      <td>5114557167</td>\n",
       "    </tr>\n",
       "    <tr>\n",
       "      <th>39</th>\n",
       "      <td>1989</td>\n",
       "      <td>5201440110</td>\n",
       "    </tr>\n",
       "    <tr>\n",
       "      <th>40</th>\n",
       "      <td>1990</td>\n",
       "      <td>5288955934</td>\n",
       "    </tr>\n",
       "    <tr>\n",
       "      <th>41</th>\n",
       "      <td>1991</td>\n",
       "      <td>5371585922</td>\n",
       "    </tr>\n",
       "    <tr>\n",
       "      <th>42</th>\n",
       "      <td>1992</td>\n",
       "      <td>5456136278</td>\n",
       "    </tr>\n",
       "    <tr>\n",
       "      <th>43</th>\n",
       "      <td>1993</td>\n",
       "      <td>5538268316</td>\n",
       "    </tr>\n",
       "    <tr>\n",
       "      <th>44</th>\n",
       "      <td>1994</td>\n",
       "      <td>5618682132</td>\n",
       "    </tr>\n",
       "    <tr>\n",
       "      <th>45</th>\n",
       "      <td>1995</td>\n",
       "      <td>5699202985</td>\n",
       "    </tr>\n",
       "    <tr>\n",
       "      <th>46</th>\n",
       "      <td>1996</td>\n",
       "      <td>5779440593</td>\n",
       "    </tr>\n",
       "    <tr>\n",
       "      <th>47</th>\n",
       "      <td>1997</td>\n",
       "      <td>5857972543</td>\n",
       "    </tr>\n",
       "    <tr>\n",
       "      <th>48</th>\n",
       "      <td>1998</td>\n",
       "      <td>5935213248</td>\n",
       "    </tr>\n",
       "    <tr>\n",
       "      <th>49</th>\n",
       "      <td>1999</td>\n",
       "      <td>6012074922</td>\n",
       "    </tr>\n",
       "  </tbody>\n",
       "</table>\n",
       "</div>"
      ],
      "text/plain": [
       "    Year  Population\n",
       "25  1975  4089083233\n",
       "26  1976  4160185010\n",
       "27  1977  4232084578\n",
       "28  1978  4304105753\n",
       "29  1979  4379013942\n",
       "30  1980  4451362735\n",
       "31  1981  4534410125\n",
       "32  1982  4614566561\n",
       "33  1983  4695736743\n",
       "34  1984  4774569391\n",
       "35  1985  4856462699\n",
       "36  1986  4940571232\n",
       "37  1987  5027200492\n",
       "38  1988  5114557167\n",
       "39  1989  5201440110\n",
       "40  1990  5288955934\n",
       "41  1991  5371585922\n",
       "42  1992  5456136278\n",
       "43  1993  5538268316\n",
       "44  1994  5618682132\n",
       "45  1995  5699202985\n",
       "46  1996  5779440593\n",
       "47  1997  5857972543\n",
       "48  1998  5935213248\n",
       "49  1999  6012074922"
      ]
     },
     "execution_count": 45,
     "metadata": {
      "tags": []
     },
     "output_type": "execute_result"
    }
   ],
   "source": [
    "last_quartile = ...\n",
    "last_quartile"
   ]
  },
  {
   "cell_type": "markdown",
   "metadata": {
    "id": "SS2aD5Mnivtm"
   },
   "source": [
    "**Question 1.5**<br/>\n",
    "Now find the average of the world population in `last_quartile`. Use numpy to find the average."
   ]
  },
  {
   "cell_type": "code",
   "execution_count": null,
   "metadata": {
    "id": "bof_P3P-ivtm",
    "outputId": "f8337f3d-01cf-4fca-bde7-5b615d2d1370"
   },
   "outputs": [
    {
     "data": {
      "text/plain": [
       "5037315305.76"
      ]
     },
     "execution_count": 46,
     "metadata": {
      "tags": []
     },
     "output_type": "execute_result"
    }
   ],
   "source": [
    "..."
   ]
  },
  {
   "cell_type": "markdown",
   "metadata": {
    "id": "B-iGiKucivto"
   },
   "source": [
    "## 2. Top Movies ##\n",
    "\n",
    "**Question 2.1**<br/>\n",
    "Read in 'top_movies.csv' into a DataFrame called `top_movies`. Show the first 5 rows with `head`."
   ]
  },
  {
   "cell_type": "code",
   "execution_count": null,
   "metadata": {
    "id": "m_tXGKWCivtp"
   },
   "outputs": [],
   "source": [
    "movies = pd.read_csv('https://raw.githubusercontent.com/LGKerby/Python/master/top_movies.csv')\n",
    "..."
   ]
  },
  {
   "cell_type": "markdown",
   "metadata": {
    "id": "QNXyymwtivtr"
   },
   "source": [
    "**Question 2.2**<br/>\n",
    "What movies were released in 2005? Use python to show just the movies titles (column)."
   ]
  },
  {
   "cell_type": "code",
   "execution_count": null,
   "metadata": {
    "id": "AHsBH8uRivtr",
    "outputId": "a99f550f-7327-480b-e466-9cb311e9c2e6"
   },
   "outputs": [
    {
     "data": {
      "text/plain": [
       "24         Star Wars: Episode III - Revenge of the Sith\n",
       "60    The Chronicles of Narnia: The Lion, the Witch ...\n",
       "62                  Harry Potter and the Goblet of Fire\n",
       "Name: Title, dtype: object"
      ]
     },
     "execution_count": 56,
     "metadata": {
      "tags": []
     },
     "output_type": "execute_result"
    }
   ],
   "source": [
    "..."
   ]
  },
  {
   "cell_type": "markdown",
   "metadata": {
    "id": "TOSM6B87ivtt"
   },
   "source": [
    "**Question 2.3**<br/>\n",
    "Use a boolean mask to create a DataFrame called `paramount` that contains only movies produced by 'Paramount'."
   ]
  },
  {
   "cell_type": "code",
   "execution_count": null,
   "metadata": {
    "id": "0afPeYmtivtu",
    "outputId": "56e53864-d842-43d6-9a3f-5a356bc4827c"
   },
   "outputs": [
    {
     "data": {
      "text/html": [
       "<div>\n",
       "<style scoped>\n",
       "    .dataframe tbody tr th:only-of-type {\n",
       "        vertical-align: middle;\n",
       "    }\n",
       "\n",
       "    .dataframe tbody tr th {\n",
       "        vertical-align: top;\n",
       "    }\n",
       "\n",
       "    .dataframe thead th {\n",
       "        text-align: right;\n",
       "    }\n",
       "</style>\n",
       "<table border=\"1\" class=\"dataframe\">\n",
       "  <thead>\n",
       "    <tr style=\"text-align: right;\">\n",
       "      <th></th>\n",
       "      <th>Title</th>\n",
       "      <th>Studio</th>\n",
       "      <th>Gross</th>\n",
       "      <th>Gross (Adjusted)</th>\n",
       "      <th>Year</th>\n",
       "    </tr>\n",
       "  </thead>\n",
       "  <tbody>\n",
       "    <tr>\n",
       "      <th>2</th>\n",
       "      <td>Titanic</td>\n",
       "      <td>Paramount</td>\n",
       "      <td>658672302</td>\n",
       "      <td>1178627900</td>\n",
       "      <td>1997</td>\n",
       "    </tr>\n",
       "    <tr>\n",
       "      <th>39</th>\n",
       "      <td>Forrest Gump</td>\n",
       "      <td>Paramount</td>\n",
       "      <td>330252182</td>\n",
       "      <td>683929300</td>\n",
       "      <td>1994</td>\n",
       "    </tr>\n",
       "    <tr>\n",
       "      <th>42</th>\n",
       "      <td>Iron Man</td>\n",
       "      <td>Paramount</td>\n",
       "      <td>318412101</td>\n",
       "      <td>385808100</td>\n",
       "      <td>2008</td>\n",
       "    </tr>\n",
       "    <tr>\n",
       "      <th>44</th>\n",
       "      <td>Indiana Jones and the Kingdom of the Crystal S...</td>\n",
       "      <td>Paramount</td>\n",
       "      <td>317101119</td>\n",
       "      <td>384231200</td>\n",
       "      <td>2008</td>\n",
       "    </tr>\n",
       "    <tr>\n",
       "      <th>46</th>\n",
       "      <td>Iron Man 2</td>\n",
       "      <td>Paramount</td>\n",
       "      <td>312433331</td>\n",
       "      <td>341908200</td>\n",
       "      <td>2010</td>\n",
       "    </tr>\n",
       "    <tr>\n",
       "      <th>77</th>\n",
       "      <td>Raiders of the Lost Ark</td>\n",
       "      <td>Paramount</td>\n",
       "      <td>248159971</td>\n",
       "      <td>770183000</td>\n",
       "      <td>1981</td>\n",
       "    </tr>\n",
       "    <tr>\n",
       "      <th>84</th>\n",
       "      <td>Beverly Hills Cop</td>\n",
       "      <td>Paramount</td>\n",
       "      <td>234760478</td>\n",
       "      <td>584205200</td>\n",
       "      <td>1984</td>\n",
       "    </tr>\n",
       "    <tr>\n",
       "      <th>92</th>\n",
       "      <td>Ghost</td>\n",
       "      <td>Paramount</td>\n",
       "      <td>217631306</td>\n",
       "      <td>447747400</td>\n",
       "      <td>1990</td>\n",
       "    </tr>\n",
       "    <tr>\n",
       "      <th>95</th>\n",
       "      <td>Mission: Impossible II</td>\n",
       "      <td>Paramount</td>\n",
       "      <td>215409889</td>\n",
       "      <td>347693200</td>\n",
       "      <td>2000</td>\n",
       "    </tr>\n",
       "    <tr>\n",
       "      <th>101</th>\n",
       "      <td>Indiana Jones and the Last Crusade</td>\n",
       "      <td>Paramount</td>\n",
       "      <td>197171806</td>\n",
       "      <td>429923500</td>\n",
       "      <td>1989</td>\n",
       "    </tr>\n",
       "    <tr>\n",
       "      <th>103</th>\n",
       "      <td>Grease</td>\n",
       "      <td>Paramount</td>\n",
       "      <td>188755690</td>\n",
       "      <td>669632000</td>\n",
       "      <td>1978</td>\n",
       "    </tr>\n",
       "    <tr>\n",
       "      <th>109</th>\n",
       "      <td>Mission: Impossible</td>\n",
       "      <td>Paramount</td>\n",
       "      <td>180981856</td>\n",
       "      <td>356231300</td>\n",
       "      <td>1996</td>\n",
       "    </tr>\n",
       "    <tr>\n",
       "      <th>110</th>\n",
       "      <td>Indiana Jones and the Temple of Doom</td>\n",
       "      <td>Paramount</td>\n",
       "      <td>179870271</td>\n",
       "      <td>465735500</td>\n",
       "      <td>1984</td>\n",
       "    </tr>\n",
       "    <tr>\n",
       "      <th>111</th>\n",
       "      <td>Top Gun</td>\n",
       "      <td>Paramount</td>\n",
       "      <td>179800601</td>\n",
       "      <td>417818200</td>\n",
       "      <td>1986</td>\n",
       "    </tr>\n",
       "    <tr>\n",
       "      <th>115</th>\n",
       "      <td>Crocodile Dundee</td>\n",
       "      <td>Paramount</td>\n",
       "      <td>174803506</td>\n",
       "      <td>401961400</td>\n",
       "      <td>1986</td>\n",
       "    </tr>\n",
       "    <tr>\n",
       "      <th>124</th>\n",
       "      <td>The Firm</td>\n",
       "      <td>Paramount</td>\n",
       "      <td>158348367</td>\n",
       "      <td>332761100</td>\n",
       "      <td>1993</td>\n",
       "    </tr>\n",
       "    <tr>\n",
       "      <th>125</th>\n",
       "      <td>Fatal Attraction</td>\n",
       "      <td>Paramount</td>\n",
       "      <td>156645693</td>\n",
       "      <td>345222500</td>\n",
       "      <td>1987</td>\n",
       "    </tr>\n",
       "    <tr>\n",
       "      <th>128</th>\n",
       "      <td>Beverly Hills Cop II</td>\n",
       "      <td>Paramount</td>\n",
       "      <td>153665036</td>\n",
       "      <td>341914500</td>\n",
       "      <td>1987</td>\n",
       "    </tr>\n",
       "    <tr>\n",
       "      <th>135</th>\n",
       "      <td>The Godfather</td>\n",
       "      <td>Paramount</td>\n",
       "      <td>134966411</td>\n",
       "      <td>686626300</td>\n",
       "      <td>1972</td>\n",
       "    </tr>\n",
       "    <tr>\n",
       "      <th>138</th>\n",
       "      <td>An Officer and a Gentleman</td>\n",
       "      <td>Paramount</td>\n",
       "      <td>129795554</td>\n",
       "      <td>379814600</td>\n",
       "      <td>1982</td>\n",
       "    </tr>\n",
       "    <tr>\n",
       "      <th>151</th>\n",
       "      <td>Love Story</td>\n",
       "      <td>Paramount</td>\n",
       "      <td>106397186</td>\n",
       "      <td>608983900</td>\n",
       "      <td>1970</td>\n",
       "    </tr>\n",
       "    <tr>\n",
       "      <th>160</th>\n",
       "      <td>Saturday Night Fever</td>\n",
       "      <td>Paramount</td>\n",
       "      <td>94213184</td>\n",
       "      <td>353261200</td>\n",
       "      <td>1977</td>\n",
       "    </tr>\n",
       "    <tr>\n",
       "      <th>174</th>\n",
       "      <td>The Ten Commandments</td>\n",
       "      <td>Paramount</td>\n",
       "      <td>65500000</td>\n",
       "      <td>1139700000</td>\n",
       "      <td>1956</td>\n",
       "    </tr>\n",
       "    <tr>\n",
       "      <th>188</th>\n",
       "      <td>Rear Window</td>\n",
       "      <td>Paramount</td>\n",
       "      <td>36764313</td>\n",
       "      <td>438086300</td>\n",
       "      <td>1954</td>\n",
       "    </tr>\n",
       "    <tr>\n",
       "      <th>190</th>\n",
       "      <td>The Greatest Show on Earth</td>\n",
       "      <td>Paramount</td>\n",
       "      <td>36000000</td>\n",
       "      <td>522000000</td>\n",
       "      <td>1952</td>\n",
       "    </tr>\n",
       "  </tbody>\n",
       "</table>\n",
       "</div>"
      ],
      "text/plain": [
       "                                                 Title     Studio      Gross  \\\n",
       "2                                              Titanic  Paramount  658672302   \n",
       "39                                        Forrest Gump  Paramount  330252182   \n",
       "42                                            Iron Man  Paramount  318412101   \n",
       "44   Indiana Jones and the Kingdom of the Crystal S...  Paramount  317101119   \n",
       "46                                          Iron Man 2  Paramount  312433331   \n",
       "77                             Raiders of the Lost Ark  Paramount  248159971   \n",
       "84                                   Beverly Hills Cop  Paramount  234760478   \n",
       "92                                               Ghost  Paramount  217631306   \n",
       "95                              Mission: Impossible II  Paramount  215409889   \n",
       "101                 Indiana Jones and the Last Crusade  Paramount  197171806   \n",
       "103                                             Grease  Paramount  188755690   \n",
       "109                                Mission: Impossible  Paramount  180981856   \n",
       "110               Indiana Jones and the Temple of Doom  Paramount  179870271   \n",
       "111                                            Top Gun  Paramount  179800601   \n",
       "115                                   Crocodile Dundee  Paramount  174803506   \n",
       "124                                           The Firm  Paramount  158348367   \n",
       "125                                   Fatal Attraction  Paramount  156645693   \n",
       "128                               Beverly Hills Cop II  Paramount  153665036   \n",
       "135                                      The Godfather  Paramount  134966411   \n",
       "138                         An Officer and a Gentleman  Paramount  129795554   \n",
       "151                                         Love Story  Paramount  106397186   \n",
       "160                               Saturday Night Fever  Paramount   94213184   \n",
       "174                               The Ten Commandments  Paramount   65500000   \n",
       "188                                        Rear Window  Paramount   36764313   \n",
       "190                         The Greatest Show on Earth  Paramount   36000000   \n",
       "\n",
       "     Gross (Adjusted)  Year  \n",
       "2          1178627900  1997  \n",
       "39          683929300  1994  \n",
       "42          385808100  2008  \n",
       "44          384231200  2008  \n",
       "46          341908200  2010  \n",
       "77          770183000  1981  \n",
       "84          584205200  1984  \n",
       "92          447747400  1990  \n",
       "95          347693200  2000  \n",
       "101         429923500  1989  \n",
       "103         669632000  1978  \n",
       "109         356231300  1996  \n",
       "110         465735500  1984  \n",
       "111         417818200  1986  \n",
       "115         401961400  1986  \n",
       "124         332761100  1993  \n",
       "125         345222500  1987  \n",
       "128         341914500  1987  \n",
       "135         686626300  1972  \n",
       "138         379814600  1982  \n",
       "151         608983900  1970  \n",
       "160         353261200  1977  \n",
       "174        1139700000  1956  \n",
       "188         438086300  1954  \n",
       "190         522000000  1952  "
      ]
     },
     "execution_count": 58,
     "metadata": {
      "tags": []
     },
     "output_type": "execute_result"
    }
   ],
   "source": [
    "..."
   ]
  },
  {
   "cell_type": "markdown",
   "metadata": {
    "id": "Wcdypwd5ivtw"
   },
   "source": [
    "**Question 2.4** <br/>\n",
    "How many movies did Paramount produce? Use python to find the answer."
   ]
  },
  {
   "cell_type": "code",
   "execution_count": null,
   "metadata": {
    "id": "IW3DsM1Sivtw",
    "outputId": "6cab60db-fc50-496a-ac6d-bc52ed034dea"
   },
   "outputs": [
    {
     "data": {
      "text/plain": [
       "25"
      ]
     },
     "execution_count": 59,
     "metadata": {
      "tags": []
     },
     "output_type": "execute_result"
    }
   ],
   "source": [
    "..."
   ]
  },
  {
   "cell_type": "markdown",
   "metadata": {
    "id": "mwiupwTqivtz"
   },
   "source": [
    "**Question 2.5**<br/>\n",
    "In what year was the first movie from Paramount (that appears in this top movies list)? Use python to find the answer."
   ]
  },
  {
   "cell_type": "code",
   "execution_count": null,
   "metadata": {
    "id": "2VyP3i4jivtz",
    "outputId": "20821a8f-0926-4015-faf9-9d3ab1c5b3ad"
   },
   "outputs": [
    {
     "data": {
      "text/plain": [
       "1952"
      ]
     },
     "execution_count": 61,
     "metadata": {
      "tags": []
     },
     "output_type": "execute_result"
    }
   ],
   "source": [
    "..."
   ]
  },
  {
   "cell_type": "markdown",
   "metadata": {
    "id": "9fz9sFZzivt2"
   },
   "source": [
    "**Question 2.6**<br/>\n",
    "What was the name of that movie? Use python to show the answer."
   ]
  },
  {
   "cell_type": "code",
   "execution_count": null,
   "metadata": {
    "id": "2zpYpVaTivt3",
    "outputId": "0fee625d-2362-472d-b593-6f3d19416348"
   },
   "outputs": [
    {
     "data": {
      "text/plain": [
       "190    The Greatest Show on Earth\n",
       "Name: Title, dtype: object"
      ]
     },
     "execution_count": 62,
     "metadata": {
      "tags": []
     },
     "output_type": "execute_result"
    }
   ],
   "source": [
    "..."
   ]
  },
  {
   "cell_type": "markdown",
   "metadata": {
    "id": "hIpwtVNyivt5"
   },
   "source": [
    "**Question 2.7.** <br/>\n",
    "What was the average Adjusted Gross for all the Paramount movies (in this top movies list)? Use numpy."
   ]
  },
  {
   "cell_type": "code",
   "execution_count": null,
   "metadata": {
    "id": "IzLnLtQpivt5",
    "outputId": "b54df959-ebec-4b74-a4d9-66ec5f8931d3"
   },
   "outputs": [
    {
     "data": {
      "text/plain": [
       "520560232.0"
      ]
     },
     "execution_count": 63,
     "metadata": {
      "tags": []
     },
     "output_type": "execute_result"
    }
   ],
   "source": [
    "..."
   ]
  }
 ],
 "metadata": {
  "anaconda-cloud": {},
  "colab": {
   "provenance": []
  },
  "kernelspec": {
   "display_name": "Python 3 (ipykernel)",
   "language": "python",
   "name": "python3"
  },
  "language_info": {
   "codemirror_mode": {
    "name": "ipython",
    "version": 3
   },
   "file_extension": ".py",
   "mimetype": "text/x-python",
   "name": "python",
   "nbconvert_exporter": "python",
   "pygments_lexer": "ipython3",
   "version": "3.9.12"
  },
  "vscode": {
   "interpreter": {
    "hash": "0d5e8c01b0961bedf72973fceaa88545b051ee967d4cfa53d0fd94de790d1f19"
   }
  }
 },
 "nbformat": 4,
 "nbformat_minor": 1
}
